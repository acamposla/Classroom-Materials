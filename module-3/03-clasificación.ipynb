{
 "cells": [
  {
   "cell_type": "markdown",
   "id": "comparable-lancaster",
   "metadata": {},
   "source": [
    "# Machine Learning - Supervised learning - Clasificación"
   ]
  },
  {
   "cell_type": "markdown",
   "id": "premium-violation",
   "metadata": {},
   "source": [
    "![imagen](images/tit.jpeg)"
   ]
  },
  {
   "cell_type": "markdown",
   "id": "satellite-baseline",
   "metadata": {
    "toc": true
   },
   "source": [
    "<h1>Table of Contents<span class=\"tocSkip\"></span></h1>\n",
    "<div class=\"toc\"><ul class=\"toc-item\"><li><span><a href=\"#Exploración-de-los-datos\" data-toc-modified-id=\"Exploración-de-los-datos-1\"><span class=\"toc-item-num\">1&nbsp;&nbsp;</span>Exploración de los datos</a></span></li><li><span><a href=\"#Regresión-logística\" data-toc-modified-id=\"Regresión-logística-2\"><span class=\"toc-item-num\">2&nbsp;&nbsp;</span>Regresión logística</a></span></li><li><span><a href=\"#Manos-a-la-obra\" data-toc-modified-id=\"Manos-a-la-obra-3\"><span class=\"toc-item-num\">3&nbsp;&nbsp;</span>Manos a la obra</a></span><ul class=\"toc-item\"><li><span><a href=\"#Vamos-a-entrenar-un-modelo\" data-toc-modified-id=\"Vamos-a-entrenar-un-modelo-3.1\"><span class=\"toc-item-num\">3.1&nbsp;&nbsp;</span>Vamos a entrenar un modelo</a></span></li><li><span><a href=\"#Vamos-a-crear-una-columna-de-predicción-para-todo-el-dataframe\" data-toc-modified-id=\"Vamos-a-crear-una-columna-de-predicción-para-todo-el-dataframe-3.2\"><span class=\"toc-item-num\">3.2&nbsp;&nbsp;</span>Vamos a crear una columna de predicción para todo el dataframe</a></span></li></ul></li><li><span><a href=\"#Métricas!\" data-toc-modified-id=\"Métricas!-4\"><span class=\"toc-item-num\">4&nbsp;&nbsp;</span>Métricas!</a></span><ul class=\"toc-item\"><li><span><a href=\"#Matriz-de-confusión\" data-toc-modified-id=\"Matriz-de-confusión-4.1\"><span class=\"toc-item-num\">4.1&nbsp;&nbsp;</span>Matriz de confusión</a></span></li><li><span><a href=\"#Matriz-de-confusión-con-nuestros-datos\" data-toc-modified-id=\"Matriz-de-confusión-con-nuestros-datos-4.2\"><span class=\"toc-item-num\">4.2&nbsp;&nbsp;</span>Matriz de confusión con nuestros datos</a></span></li><li><span><a href=\"#Accuracy\" data-toc-modified-id=\"Accuracy-4.3\"><span class=\"toc-item-num\">4.3&nbsp;&nbsp;</span>Accuracy</a></span></li><li><span><a href=\"#Precision-(Precisión)\" data-toc-modified-id=\"Precision-(Precisión)-4.4\"><span class=\"toc-item-num\">4.4&nbsp;&nbsp;</span>Precision (Precisión)</a></span></li><li><span><a href=\"#Recall-(Exhaustividad)\" data-toc-modified-id=\"Recall-(Exhaustividad)-4.5\"><span class=\"toc-item-num\">4.5&nbsp;&nbsp;</span>Recall (Exhaustividad)</a></span></li><li><span><a href=\"#Diferenciando-precision-y-recall\" data-toc-modified-id=\"Diferenciando-precision-y-recall-4.6\"><span class=\"toc-item-num\">4.6&nbsp;&nbsp;</span>Diferenciando precision y recall</a></span></li><li><span><a href=\"#F1-Score\" data-toc-modified-id=\"F1-Score-4.7\"><span class=\"toc-item-num\">4.7&nbsp;&nbsp;</span>F1 Score</a></span></li></ul></li><li><span><a href=\"#Repaso-de-Train-Test-Split-/-DIVISIÓN-EN-TRAIN-TEST\" data-toc-modified-id=\"Repaso-de-Train-Test-Split-/-DIVISIÓN-EN-TRAIN-TEST-5\"><span class=\"toc-item-num\">5&nbsp;&nbsp;</span>Repaso de Train Test Split / DIVISIÓN EN TRAIN TEST</a></span></li><li><span><a href=\"#Entrenemos-el-modelo\" data-toc-modified-id=\"Entrenemos-el-modelo-6\"><span class=\"toc-item-num\">6&nbsp;&nbsp;</span>Entrenemos el modelo</a></span></li><li><span><a href=\"#Hacemos-predicciones\" data-toc-modified-id=\"Hacemos-predicciones-7\"><span class=\"toc-item-num\">7&nbsp;&nbsp;</span>Hacemos predicciones</a></span></li><li><span><a href=\"#Sacamos-todas-las-métricas\" data-toc-modified-id=\"Sacamos-todas-las-métricas-8\"><span class=\"toc-item-num\">8&nbsp;&nbsp;</span>Sacamos todas las métricas</a></span></li><li><span><a href=\"#Resumen\" data-toc-modified-id=\"Resumen-9\"><span class=\"toc-item-num\">9&nbsp;&nbsp;</span>Resumen</a></span></li></ul></div>"
   ]
  },
  {
   "cell_type": "code",
   "execution_count": 1,
   "id": "computational-efficiency",
   "metadata": {},
   "outputs": [],
   "source": [
    "import pandas as pd\n",
    "import seaborn as sns"
   ]
  },
  {
   "cell_type": "markdown",
   "id": "above-schedule",
   "metadata": {},
   "source": [
    " * Los modelos de regresión se utilizan cuando la variable objetivo es **cuantitativa**: \n",
    "  - salarios\n",
    "  - emisiones de gases\n",
    "  - edad de la persona en una foto\n",
    "  - ...\n",
    " * Los modelos de clasificación se utilizan cuando la variable objetivo es cualitativa: \n",
    "  - sobrevivir (o no) al Titanic\n",
    "  - devolver (o no) un préstamo\n",
    "  - identificar un perro (o no) en una foto\n",
    "  - decidir cuál de 3 especies de plantas es ésta\n",
    "  - ..."
   ]
  },
  {
   "cell_type": "markdown",
   "id": "julian-proposition",
   "metadata": {},
   "source": [
    "## Exploración de los datos"
   ]
  },
  {
   "cell_type": "code",
   "execution_count": 7,
   "id": "boolean-biotechnology",
   "metadata": {},
   "outputs": [],
   "source": [
    "df = pd.read_csv(\"data/breast_cancer.csv\")"
   ]
  },
  {
   "cell_type": "code",
   "execution_count": 8,
   "id": "korean-indie",
   "metadata": {},
   "outputs": [
    {
     "data": {
      "text/plain": [
       "(569, 31)"
      ]
     },
     "execution_count": 8,
     "metadata": {},
     "output_type": "execute_result"
    }
   ],
   "source": [
    "df.shape"
   ]
  },
  {
   "cell_type": "code",
   "execution_count": 9,
   "id": "forward-encyclopedia",
   "metadata": {},
   "outputs": [
    {
     "data": {
      "text/plain": [
       "Index(['mean_radius', 'mean_texture', 'mean_perimeter', 'mean_area',\n",
       "       'mean_smoothness', 'mean_compactness', 'mean_concavity',\n",
       "       'mean_concave_points', 'mean_symmetry', 'mean_fractal_dimension',\n",
       "       'radius_error', 'texture_error', 'perimeter_error', 'area_error',\n",
       "       'smoothness_error', 'compactness_error', 'concavity_error',\n",
       "       'concave_points_error', 'symmetry_error', 'fractal_dimension_error',\n",
       "       'worst_radius', 'worst_texture', 'worst_perimeter', 'worst_area',\n",
       "       'worst_smoothness', 'worst_compactness', 'worst_concavity',\n",
       "       'worst_concave_points', 'worst_symmetry', 'worst_fractal_dimension',\n",
       "       'is_cancer'],\n",
       "      dtype='object')"
      ]
     },
     "execution_count": 9,
     "metadata": {},
     "output_type": "execute_result"
    }
   ],
   "source": [
    "df.columns"
   ]
  },
  {
   "cell_type": "code",
   "execution_count": 5,
   "id": "political-sleeping",
   "metadata": {},
   "outputs": [
    {
     "data": {
      "text/html": [
       "<div>\n",
       "<style scoped>\n",
       "    .dataframe tbody tr th:only-of-type {\n",
       "        vertical-align: middle;\n",
       "    }\n",
       "\n",
       "    .dataframe tbody tr th {\n",
       "        vertical-align: top;\n",
       "    }\n",
       "\n",
       "    .dataframe thead th {\n",
       "        text-align: right;\n",
       "    }\n",
       "</style>\n",
       "<table border=\"1\" class=\"dataframe\">\n",
       "  <thead>\n",
       "    <tr style=\"text-align: right;\">\n",
       "      <th></th>\n",
       "      <th>mean_radius</th>\n",
       "      <th>mean_texture</th>\n",
       "      <th>mean_perimeter</th>\n",
       "      <th>mean_area</th>\n",
       "      <th>mean_smoothness</th>\n",
       "      <th>mean_compactness</th>\n",
       "      <th>mean_concavity</th>\n",
       "      <th>mean_concave_points</th>\n",
       "      <th>mean_symmetry</th>\n",
       "      <th>mean_fractal_dimension</th>\n",
       "      <th>...</th>\n",
       "      <th>worst_texture</th>\n",
       "      <th>worst_perimeter</th>\n",
       "      <th>worst_area</th>\n",
       "      <th>worst_smoothness</th>\n",
       "      <th>worst_compactness</th>\n",
       "      <th>worst_concavity</th>\n",
       "      <th>worst_concave_points</th>\n",
       "      <th>worst_symmetry</th>\n",
       "      <th>worst_fractal_dimension</th>\n",
       "      <th>is_cancer</th>\n",
       "    </tr>\n",
       "  </thead>\n",
       "  <tbody>\n",
       "    <tr>\n",
       "      <th>0</th>\n",
       "      <td>17.99</td>\n",
       "      <td>10.38</td>\n",
       "      <td>122.80</td>\n",
       "      <td>1001.0</td>\n",
       "      <td>0.11840</td>\n",
       "      <td>0.27760</td>\n",
       "      <td>0.3001</td>\n",
       "      <td>0.14710</td>\n",
       "      <td>0.2419</td>\n",
       "      <td>0.07871</td>\n",
       "      <td>...</td>\n",
       "      <td>17.33</td>\n",
       "      <td>184.60</td>\n",
       "      <td>2019.0</td>\n",
       "      <td>0.1622</td>\n",
       "      <td>0.6656</td>\n",
       "      <td>0.7119</td>\n",
       "      <td>0.2654</td>\n",
       "      <td>0.4601</td>\n",
       "      <td>0.11890</td>\n",
       "      <td>1</td>\n",
       "    </tr>\n",
       "    <tr>\n",
       "      <th>1</th>\n",
       "      <td>20.57</td>\n",
       "      <td>17.77</td>\n",
       "      <td>132.90</td>\n",
       "      <td>1326.0</td>\n",
       "      <td>0.08474</td>\n",
       "      <td>0.07864</td>\n",
       "      <td>0.0869</td>\n",
       "      <td>0.07017</td>\n",
       "      <td>0.1812</td>\n",
       "      <td>0.05667</td>\n",
       "      <td>...</td>\n",
       "      <td>23.41</td>\n",
       "      <td>158.80</td>\n",
       "      <td>1956.0</td>\n",
       "      <td>0.1238</td>\n",
       "      <td>0.1866</td>\n",
       "      <td>0.2416</td>\n",
       "      <td>0.1860</td>\n",
       "      <td>0.2750</td>\n",
       "      <td>0.08902</td>\n",
       "      <td>1</td>\n",
       "    </tr>\n",
       "    <tr>\n",
       "      <th>2</th>\n",
       "      <td>19.69</td>\n",
       "      <td>21.25</td>\n",
       "      <td>130.00</td>\n",
       "      <td>1203.0</td>\n",
       "      <td>0.10960</td>\n",
       "      <td>0.15990</td>\n",
       "      <td>0.1974</td>\n",
       "      <td>0.12790</td>\n",
       "      <td>0.2069</td>\n",
       "      <td>0.05999</td>\n",
       "      <td>...</td>\n",
       "      <td>25.53</td>\n",
       "      <td>152.50</td>\n",
       "      <td>1709.0</td>\n",
       "      <td>0.1444</td>\n",
       "      <td>0.4245</td>\n",
       "      <td>0.4504</td>\n",
       "      <td>0.2430</td>\n",
       "      <td>0.3613</td>\n",
       "      <td>0.08758</td>\n",
       "      <td>1</td>\n",
       "    </tr>\n",
       "    <tr>\n",
       "      <th>3</th>\n",
       "      <td>11.42</td>\n",
       "      <td>20.38</td>\n",
       "      <td>77.58</td>\n",
       "      <td>386.1</td>\n",
       "      <td>0.14250</td>\n",
       "      <td>0.28390</td>\n",
       "      <td>0.2414</td>\n",
       "      <td>0.10520</td>\n",
       "      <td>0.2597</td>\n",
       "      <td>0.09744</td>\n",
       "      <td>...</td>\n",
       "      <td>26.50</td>\n",
       "      <td>98.87</td>\n",
       "      <td>567.7</td>\n",
       "      <td>0.2098</td>\n",
       "      <td>0.8663</td>\n",
       "      <td>0.6869</td>\n",
       "      <td>0.2575</td>\n",
       "      <td>0.6638</td>\n",
       "      <td>0.17300</td>\n",
       "      <td>1</td>\n",
       "    </tr>\n",
       "    <tr>\n",
       "      <th>4</th>\n",
       "      <td>20.29</td>\n",
       "      <td>14.34</td>\n",
       "      <td>135.10</td>\n",
       "      <td>1297.0</td>\n",
       "      <td>0.10030</td>\n",
       "      <td>0.13280</td>\n",
       "      <td>0.1980</td>\n",
       "      <td>0.10430</td>\n",
       "      <td>0.1809</td>\n",
       "      <td>0.05883</td>\n",
       "      <td>...</td>\n",
       "      <td>16.67</td>\n",
       "      <td>152.20</td>\n",
       "      <td>1575.0</td>\n",
       "      <td>0.1374</td>\n",
       "      <td>0.2050</td>\n",
       "      <td>0.4000</td>\n",
       "      <td>0.1625</td>\n",
       "      <td>0.2364</td>\n",
       "      <td>0.07678</td>\n",
       "      <td>1</td>\n",
       "    </tr>\n",
       "  </tbody>\n",
       "</table>\n",
       "<p>5 rows × 31 columns</p>\n",
       "</div>"
      ],
      "text/plain": [
       "   mean_radius  mean_texture  mean_perimeter  mean_area  mean_smoothness  \\\n",
       "0        17.99         10.38          122.80     1001.0          0.11840   \n",
       "1        20.57         17.77          132.90     1326.0          0.08474   \n",
       "2        19.69         21.25          130.00     1203.0          0.10960   \n",
       "3        11.42         20.38           77.58      386.1          0.14250   \n",
       "4        20.29         14.34          135.10     1297.0          0.10030   \n",
       "\n",
       "   mean_compactness  mean_concavity  mean_concave_points  mean_symmetry  \\\n",
       "0           0.27760          0.3001              0.14710         0.2419   \n",
       "1           0.07864          0.0869              0.07017         0.1812   \n",
       "2           0.15990          0.1974              0.12790         0.2069   \n",
       "3           0.28390          0.2414              0.10520         0.2597   \n",
       "4           0.13280          0.1980              0.10430         0.1809   \n",
       "\n",
       "   mean_fractal_dimension  ...  worst_texture  worst_perimeter  worst_area  \\\n",
       "0                 0.07871  ...          17.33           184.60      2019.0   \n",
       "1                 0.05667  ...          23.41           158.80      1956.0   \n",
       "2                 0.05999  ...          25.53           152.50      1709.0   \n",
       "3                 0.09744  ...          26.50            98.87       567.7   \n",
       "4                 0.05883  ...          16.67           152.20      1575.0   \n",
       "\n",
       "   worst_smoothness  worst_compactness  worst_concavity  worst_concave_points  \\\n",
       "0            0.1622             0.6656           0.7119                0.2654   \n",
       "1            0.1238             0.1866           0.2416                0.1860   \n",
       "2            0.1444             0.4245           0.4504                0.2430   \n",
       "3            0.2098             0.8663           0.6869                0.2575   \n",
       "4            0.1374             0.2050           0.4000                0.1625   \n",
       "\n",
       "   worst_symmetry  worst_fractal_dimension  is_cancer  \n",
       "0          0.4601                  0.11890          1  \n",
       "1          0.2750                  0.08902          1  \n",
       "2          0.3613                  0.08758          1  \n",
       "3          0.6638                  0.17300          1  \n",
       "4          0.2364                  0.07678          1  \n",
       "\n",
       "[5 rows x 31 columns]"
      ]
     },
     "execution_count": 5,
     "metadata": {},
     "output_type": "execute_result"
    }
   ],
   "source": [
    "df.head()"
   ]
  },
  {
   "cell_type": "markdown",
   "id": "central-applicant",
   "metadata": {},
   "source": [
    "Documentation:  \n",
    "a) radius (mean of distances from center to points on the perimeter)  \n",
    "b) texture (standard deviation of gray-scale values)  \n",
    "c) perimeter  \n",
    "d) area  \n",
    "e) smoothness (local variation in radius lengths)  \n",
    "f) compactness (perimeter^2 / area - 1.0)  \n",
    "g) concavity (severity of concave portions of the contour)  \n",
    "h) concave points (number of concave portions of the contour)  \n",
    "i) symmetry  \n",
    "j) fractal dimension (\"coastline approximation\" - 1)  "
   ]
  },
  {
   "cell_type": "markdown",
   "id": "superior-cinema",
   "metadata": {},
   "source": [
    "La variable objetivo es `es_cáncer`.\n",
    "\n",
    "Es una variable categórica, que toma los valores posibles $0$ y $1$º"
   ]
  },
  {
   "cell_type": "code",
   "execution_count": 10,
   "id": "athletic-imperial",
   "metadata": {},
   "outputs": [
    {
     "data": {
      "text/plain": [
       "<AxesSubplot:xlabel='is_cancer', ylabel='count'>"
      ]
     },
     "execution_count": 10,
     "metadata": {},
     "output_type": "execute_result"
    },
    {
     "data": {
      "image/png": "[encoded data removed]",
      "text/plain": [
       "<Figure size 432x288 with 1 Axes>"
      ]
     },
     "metadata": {
      "needs_background": "light"
     },
     "output_type": "display_data"
    }
   ],
   "source": [
    "# Vamos a visualizar de forma rápida el balanceo de variables categóricas\n",
    "sns.countplot(x=df.is_cancer)"
   ]
  },
  {
   "cell_type": "markdown",
   "id": "conceptual-alignment",
   "metadata": {},
   "source": [
    "## Regresión logística\n",
    "La regresión logística es uno de los algoritmos más populares y utilizados para los problemas de clasificación. Como además es relativamente poco complejo y fácil de implementar, se suele utilizar como modelo de partida, aunque también puede producir resultados de muy alto rendimiento utilizado en producción. Aquí vamos a hablar de la Regresión Logística Binomial, que se utiliza para resultados binarios. La Regresión Logística Multinomial existe y puede utilizarse para problemas de clasificación multiclase, pero se utiliza con menos frecuencia. No la trataremos en esta lección. \n",
    "\n",
    "La regresión logística es en realidad una función de regresión lineal transformada. Podemos ver en la imagen de abajo que si intentáramos ajustar una regresión lineal a unos datos con un resultado binario, ajustaríamos una línea que no predice muy bien para ningún valor que no esté en los valores extremos: en el medio hay mucha zona en la que la línea está muy lejos de los puntos. Para acercar nuestra función a los datos, tenemos que transformar la función que estamos utilizando. En este caso, es útil utilizar una función sigmoidea, que estima una forma de \"S\". Ahora podemos ver que nuestra línea se ajusta a los datos mucho mejor. "
   ]
  },
  {
   "cell_type": "markdown",
   "id": "great-supervision",
   "metadata": {},
   "source": [
    "![regresiónlogística](http://res.cloudinary.com/dyd911kmh/image/upload/f_auto,q_auto:best/v1534281070/linear_vs_logistic_regression_edxw03.png)"
   ]
  },
  {
   "cell_type": "markdown",
   "id": "appreciated-people",
   "metadata": {},
   "source": [
    "Refs:\n",
    "\n",
    "https://scikit-learn.org/stable/modules/generated/sklearn.linear_model.LogisticRegression.html     \n",
    "https://techdifferences.com/difference-between-linear-and-logistic-regression.html    \n",
    "https://stackoverflow.com/questions/12146914/what-is-the-difference-between-linear-regression-and-logistic-regression"
   ]
  },
  {
   "cell_type": "markdown",
   "id": "addressed-struggle",
   "metadata": {},
   "source": [
    "## Manos a la obra"
   ]
  },
  {
   "cell_type": "markdown",
   "id": "centered-ability",
   "metadata": {},
   "source": [
    "Intentemos predecir `es_cáncer` usando sólo como predictor `radio_medio`."
   ]
  },
  {
   "cell_type": "code",
   "execution_count": 11,
   "id": "subject-rings",
   "metadata": {},
   "outputs": [],
   "source": [
    "df = df[[\"mean_radius\", \"is_cancer\"]]"
   ]
  },
  {
   "cell_type": "code",
   "execution_count": 13,
   "id": "exceptional-resident",
   "metadata": {},
   "outputs": [
    {
     "data": {
      "text/html": [
       "<div>\n",
       "<style scoped>\n",
       "    .dataframe tbody tr th:only-of-type {\n",
       "        vertical-align: middle;\n",
       "    }\n",
       "\n",
       "    .dataframe tbody tr th {\n",
       "        vertical-align: top;\n",
       "    }\n",
       "\n",
       "    .dataframe thead th {\n",
       "        text-align: right;\n",
       "    }\n",
       "</style>\n",
       "<table border=\"1\" class=\"dataframe\">\n",
       "  <thead>\n",
       "    <tr style=\"text-align: right;\">\n",
       "      <th></th>\n",
       "      <th>mean_radius</th>\n",
       "      <th>is_cancer</th>\n",
       "    </tr>\n",
       "  </thead>\n",
       "  <tbody>\n",
       "    <tr>\n",
       "      <th>467</th>\n",
       "      <td>9.668</td>\n",
       "      <td>0</td>\n",
       "    </tr>\n",
       "    <tr>\n",
       "      <th>103</th>\n",
       "      <td>9.876</td>\n",
       "      <td>0</td>\n",
       "    </tr>\n",
       "    <tr>\n",
       "      <th>426</th>\n",
       "      <td>10.480</td>\n",
       "      <td>0</td>\n",
       "    </tr>\n",
       "    <tr>\n",
       "      <th>332</th>\n",
       "      <td>11.220</td>\n",
       "      <td>0</td>\n",
       "    </tr>\n",
       "    <tr>\n",
       "      <th>397</th>\n",
       "      <td>12.800</td>\n",
       "      <td>0</td>\n",
       "    </tr>\n",
       "    <tr>\n",
       "      <th>199</th>\n",
       "      <td>14.450</td>\n",
       "      <td>1</td>\n",
       "    </tr>\n",
       "    <tr>\n",
       "      <th>448</th>\n",
       "      <td>14.530</td>\n",
       "      <td>0</td>\n",
       "    </tr>\n",
       "    <tr>\n",
       "      <th>343</th>\n",
       "      <td>19.680</td>\n",
       "      <td>1</td>\n",
       "    </tr>\n",
       "    <tr>\n",
       "      <th>260</th>\n",
       "      <td>20.310</td>\n",
       "      <td>1</td>\n",
       "    </tr>\n",
       "    <tr>\n",
       "      <th>272</th>\n",
       "      <td>21.750</td>\n",
       "      <td>1</td>\n",
       "    </tr>\n",
       "  </tbody>\n",
       "</table>\n",
       "</div>"
      ],
      "text/plain": [
       "     mean_radius  is_cancer\n",
       "467        9.668          0\n",
       "103        9.876          0\n",
       "426       10.480          0\n",
       "332       11.220          0\n",
       "397       12.800          0\n",
       "199       14.450          1\n",
       "448       14.530          0\n",
       "343       19.680          1\n",
       "260       20.310          1\n",
       "272       21.750          1"
      ]
     },
     "execution_count": 13,
     "metadata": {},
     "output_type": "execute_result"
    }
   ],
   "source": [
    "df.sample(10).sort_values(\"mean_radius\")"
   ]
  },
  {
   "cell_type": "markdown",
   "id": "collected-international",
   "metadata": {},
   "source": [
    "### Vamos a entrenar un modelo"
   ]
  },
  {
   "cell_type": "code",
   "execution_count": 14,
   "id": "binding-interview",
   "metadata": {},
   "outputs": [],
   "source": [
    "from sklearn.linear_model import LogisticRegression"
   ]
  },
  {
   "cell_type": "code",
   "execution_count": 15,
   "id": "historical-suggestion",
   "metadata": {},
   "outputs": [],
   "source": [
    "log = LogisticRegression()"
   ]
  },
  {
   "cell_type": "code",
   "execution_count": 17,
   "id": "atomic-actress",
   "metadata": {},
   "outputs": [],
   "source": [
    "X = df[\"mean_radius\"].to_frame()\n",
    "y = df[\"is_cancer\"]"
   ]
  },
  {
   "cell_type": "code",
   "execution_count": 18,
   "id": "moral-graduation",
   "metadata": {},
   "outputs": [
    {
     "data": {
      "text/plain": [
       "LogisticRegression()"
      ]
     },
     "execution_count": 18,
     "metadata": {},
     "output_type": "execute_result"
    }
   ],
   "source": [
    "log.fit(X,y)"
   ]
  },
  {
   "cell_type": "code",
   "execution_count": null,
   "id": "civilian-citizen",
   "metadata": {},
   "outputs": [],
   "source": [
    "# Vamos a ver cómo funcionarcía con los primeroos 5 pacientes"
   ]
  },
  {
   "cell_type": "code",
   "execution_count": null,
   "id": "intense-recognition",
   "metadata": {},
   "outputs": [],
   "source": [
    "#Un modelo entrenado es una \"máquina de predicción\""
   ]
  },
  {
   "cell_type": "code",
   "execution_count": 19,
   "id": "further-transaction",
   "metadata": {},
   "outputs": [],
   "source": [
    "df_reducido = df[:5]"
   ]
  },
  {
   "cell_type": "code",
   "execution_count": 20,
   "id": "endless-pennsylvania",
   "metadata": {},
   "outputs": [
    {
     "data": {
      "text/html": [
       "<div>\n",
       "<style scoped>\n",
       "    .dataframe tbody tr th:only-of-type {\n",
       "        vertical-align: middle;\n",
       "    }\n",
       "\n",
       "    .dataframe tbody tr th {\n",
       "        vertical-align: top;\n",
       "    }\n",
       "\n",
       "    .dataframe thead th {\n",
       "        text-align: right;\n",
       "    }\n",
       "</style>\n",
       "<table border=\"1\" class=\"dataframe\">\n",
       "  <thead>\n",
       "    <tr style=\"text-align: right;\">\n",
       "      <th></th>\n",
       "      <th>mean_radius</th>\n",
       "      <th>is_cancer</th>\n",
       "    </tr>\n",
       "  </thead>\n",
       "  <tbody>\n",
       "    <tr>\n",
       "      <th>0</th>\n",
       "      <td>17.99</td>\n",
       "      <td>1</td>\n",
       "    </tr>\n",
       "    <tr>\n",
       "      <th>1</th>\n",
       "      <td>20.57</td>\n",
       "      <td>1</td>\n",
       "    </tr>\n",
       "    <tr>\n",
       "      <th>2</th>\n",
       "      <td>19.69</td>\n",
       "      <td>1</td>\n",
       "    </tr>\n",
       "    <tr>\n",
       "      <th>3</th>\n",
       "      <td>11.42</td>\n",
       "      <td>1</td>\n",
       "    </tr>\n",
       "    <tr>\n",
       "      <th>4</th>\n",
       "      <td>20.29</td>\n",
       "      <td>1</td>\n",
       "    </tr>\n",
       "  </tbody>\n",
       "</table>\n",
       "</div>"
      ],
      "text/plain": [
       "   mean_radius  is_cancer\n",
       "0        17.99          1\n",
       "1        20.57          1\n",
       "2        19.69          1\n",
       "3        11.42          1\n",
       "4        20.29          1"
      ]
     },
     "metadata": {},
     "output_type": "display_data"
    }
   ],
   "source": [
    "display(df_reducido)"
   ]
  },
  {
   "cell_type": "code",
   "execution_count": 22,
   "id": "exact-audio",
   "metadata": {},
   "outputs": [
    {
     "name": "stderr",
     "output_type": "stream",
     "text": [
      "<ipython-input-22-64346dbb9ce0>:1: SettingWithCopyWarning: \n",
      "A value is trying to be set on a copy of a slice from a DataFrame.\n",
      "Try using .loc[row_indexer,col_indexer] = value instead\n",
      "\n",
      "See the caveats in the documentation: https://pandas.pydata.org/pandas-docs/stable/user_guide/indexing.html#returning-a-view-versus-a-copy\n",
      "  df_reducido[\"predicción\"] = log.predict(df_reducido[[\"mean_radius\"]])\n"
     ]
    }
   ],
   "source": [
    "df_reducido[\"predicción\"] = log.predict(df_reducido[[\"mean_radius\"]])"
   ]
  },
  {
   "cell_type": "code",
   "execution_count": 23,
   "id": "accompanied-volunteer",
   "metadata": {},
   "outputs": [
    {
     "data": {
      "text/html": [
       "<div>\n",
       "<style scoped>\n",
       "    .dataframe tbody tr th:only-of-type {\n",
       "        vertical-align: middle;\n",
       "    }\n",
       "\n",
       "    .dataframe tbody tr th {\n",
       "        vertical-align: top;\n",
       "    }\n",
       "\n",
       "    .dataframe thead th {\n",
       "        text-align: right;\n",
       "    }\n",
       "</style>\n",
       "<table border=\"1\" class=\"dataframe\">\n",
       "  <thead>\n",
       "    <tr style=\"text-align: right;\">\n",
       "      <th></th>\n",
       "      <th>mean_radius</th>\n",
       "      <th>is_cancer</th>\n",
       "      <th>predicción</th>\n",
       "    </tr>\n",
       "  </thead>\n",
       "  <tbody>\n",
       "    <tr>\n",
       "      <th>0</th>\n",
       "      <td>17.99</td>\n",
       "      <td>1</td>\n",
       "      <td>1</td>\n",
       "    </tr>\n",
       "    <tr>\n",
       "      <th>1</th>\n",
       "      <td>20.57</td>\n",
       "      <td>1</td>\n",
       "      <td>1</td>\n",
       "    </tr>\n",
       "    <tr>\n",
       "      <th>2</th>\n",
       "      <td>19.69</td>\n",
       "      <td>1</td>\n",
       "      <td>1</td>\n",
       "    </tr>\n",
       "    <tr>\n",
       "      <th>3</th>\n",
       "      <td>11.42</td>\n",
       "      <td>1</td>\n",
       "      <td>0</td>\n",
       "    </tr>\n",
       "    <tr>\n",
       "      <th>4</th>\n",
       "      <td>20.29</td>\n",
       "      <td>1</td>\n",
       "      <td>1</td>\n",
       "    </tr>\n",
       "  </tbody>\n",
       "</table>\n",
       "</div>"
      ],
      "text/plain": [
       "   mean_radius  is_cancer  predicción\n",
       "0        17.99          1           1\n",
       "1        20.57          1           1\n",
       "2        19.69          1           1\n",
       "3        11.42          1           0\n",
       "4        20.29          1           1"
      ]
     },
     "execution_count": 23,
     "metadata": {},
     "output_type": "execute_result"
    }
   ],
   "source": [
    "df_reducido.head()"
   ]
  },
  {
   "cell_type": "markdown",
   "id": "electoral-heather",
   "metadata": {},
   "source": [
    "### Vamos a crear una columna de predicción para todo el dataframe"
   ]
  },
  {
   "cell_type": "code",
   "execution_count": 25,
   "id": "permanent-mirror",
   "metadata": {},
   "outputs": [],
   "source": [
    "df[\"prediction_cancer\"] = log.predict(df[[\"mean_radius\"]])"
   ]
  },
  {
   "cell_type": "code",
   "execution_count": 26,
   "id": "competitive-battlefield",
   "metadata": {},
   "outputs": [
    {
     "data": {
      "text/html": [
       "<div>\n",
       "<style scoped>\n",
       "    .dataframe tbody tr th:only-of-type {\n",
       "        vertical-align: middle;\n",
       "    }\n",
       "\n",
       "    .dataframe tbody tr th {\n",
       "        vertical-align: top;\n",
       "    }\n",
       "\n",
       "    .dataframe thead th {\n",
       "        text-align: right;\n",
       "    }\n",
       "</style>\n",
       "<table border=\"1\" class=\"dataframe\">\n",
       "  <thead>\n",
       "    <tr style=\"text-align: right;\">\n",
       "      <th></th>\n",
       "      <th>mean_radius</th>\n",
       "      <th>is_cancer</th>\n",
       "      <th>prediction_cancer</th>\n",
       "    </tr>\n",
       "  </thead>\n",
       "  <tbody>\n",
       "    <tr>\n",
       "      <th>0</th>\n",
       "      <td>17.99</td>\n",
       "      <td>1</td>\n",
       "      <td>1</td>\n",
       "    </tr>\n",
       "    <tr>\n",
       "      <th>1</th>\n",
       "      <td>20.57</td>\n",
       "      <td>1</td>\n",
       "      <td>1</td>\n",
       "    </tr>\n",
       "    <tr>\n",
       "      <th>2</th>\n",
       "      <td>19.69</td>\n",
       "      <td>1</td>\n",
       "      <td>1</td>\n",
       "    </tr>\n",
       "    <tr>\n",
       "      <th>3</th>\n",
       "      <td>11.42</td>\n",
       "      <td>1</td>\n",
       "      <td>0</td>\n",
       "    </tr>\n",
       "    <tr>\n",
       "      <th>4</th>\n",
       "      <td>20.29</td>\n",
       "      <td>1</td>\n",
       "      <td>1</td>\n",
       "    </tr>\n",
       "    <tr>\n",
       "      <th>...</th>\n",
       "      <td>...</td>\n",
       "      <td>...</td>\n",
       "      <td>...</td>\n",
       "    </tr>\n",
       "    <tr>\n",
       "      <th>564</th>\n",
       "      <td>21.56</td>\n",
       "      <td>1</td>\n",
       "      <td>1</td>\n",
       "    </tr>\n",
       "    <tr>\n",
       "      <th>565</th>\n",
       "      <td>20.13</td>\n",
       "      <td>1</td>\n",
       "      <td>1</td>\n",
       "    </tr>\n",
       "    <tr>\n",
       "      <th>566</th>\n",
       "      <td>16.60</td>\n",
       "      <td>1</td>\n",
       "      <td>1</td>\n",
       "    </tr>\n",
       "    <tr>\n",
       "      <th>567</th>\n",
       "      <td>20.60</td>\n",
       "      <td>1</td>\n",
       "      <td>1</td>\n",
       "    </tr>\n",
       "    <tr>\n",
       "      <th>568</th>\n",
       "      <td>7.76</td>\n",
       "      <td>0</td>\n",
       "      <td>0</td>\n",
       "    </tr>\n",
       "  </tbody>\n",
       "</table>\n",
       "<p>569 rows × 3 columns</p>\n",
       "</div>"
      ],
      "text/plain": [
       "     mean_radius  is_cancer  prediction_cancer\n",
       "0          17.99          1                  1\n",
       "1          20.57          1                  1\n",
       "2          19.69          1                  1\n",
       "3          11.42          1                  0\n",
       "4          20.29          1                  1\n",
       "..           ...        ...                ...\n",
       "564        21.56          1                  1\n",
       "565        20.13          1                  1\n",
       "566        16.60          1                  1\n",
       "567        20.60          1                  1\n",
       "568         7.76          0                  0\n",
       "\n",
       "[569 rows x 3 columns]"
      ]
     },
     "execution_count": 26,
     "metadata": {},
     "output_type": "execute_result"
    }
   ],
   "source": [
    "df"
   ]
  },
  {
   "cell_type": "markdown",
   "id": "designed-publication",
   "metadata": {},
   "source": [
    "## Métricas!"
   ]
  },
  {
   "cell_type": "code",
   "execution_count": 27,
   "id": "caroline-reply",
   "metadata": {},
   "outputs": [],
   "source": [
    "from sklearn.metrics import accuracy_score, precision_score, recall_score, f1_score, fbeta_score, confusion_matrix"
   ]
  },
  {
   "cell_type": "markdown",
   "id": "literary-picking",
   "metadata": {},
   "source": [
    "### Matriz de confusión"
   ]
  },
  {
   "cell_type": "markdown",
   "id": "abandoned-swift",
   "metadata": {},
   "source": [
    "Confusion Matrix (Matriz de Confusión)\n",
    "Vamos a explicar como funciona la matriz de confusión con un ejemplo hipotético de marketing. En este ejemplo, contactamos a 100 clientes y 80 de ellos nos dicen que no están interesados y 20 de ellos que sí.\n",
    "\n",
    "Nuestro modelo (en el ejemplo) no es muy bueno, aunque dependiendo de qué métrica usemos podría parecer que es mejor de lo que es.\n",
    "\n",
    "Hemos utilizado como valores de la clasificación binaria:\n",
    "\n",
    "- 0: no está interesado    \n",
    "- 1: sí está interesado"
   ]
  },
  {
   "cell_type": "markdown",
   "id": "exotic-mountain",
   "metadata": {},
   "source": [
    "![matrizdeconfusión](https://www.iartificial.net/wp-content/uploads/2019/11/Matriz-Confusion-Ejemplo.webp)"
   ]
  },
  {
   "cell_type": "markdown",
   "id": "miniature-privacy",
   "metadata": {},
   "source": [
    "En la matriz de confusión de la izquierda podéis ver los valores para este ejemplo. En la matriz de confusión de la derecha, los nombres genéricos cuando usamos la nomenclatura inglesa: True Negative [TN], True Positive [TP], False Positive [FP], False Negative [FN].\n",
    "\n",
    "Truco: para recordar fácilmente la matriz de confusión:\n",
    "\n",
    "Positivo (Positive) o Negativo (Negative): se refiere a la predicción. Si el modelo predice 1 entonces será positivo, y se predice 0 será negativo.\n",
    "Verdadero (True) o Falso (False): se refiere si la predicción es correcta o no."
   ]
  },
  {
   "cell_type": "markdown",
   "id": "deluxe-thompson",
   "metadata": {},
   "source": [
    "<img src=\"https://github.com/andrewwlong/classification_metrics_sklearn/raw/541a0d065ffb8b3ff705161f6d16088d434b2ea7/img/conf_matrix.png\">"
   ]
  },
  {
   "cell_type": "markdown",
   "id": "weighted-creation",
   "metadata": {},
   "source": [
    "### Matriz de confusión con nuestros datos"
   ]
  },
  {
   "cell_type": "code",
   "execution_count": 28,
   "id": "ambient-entertainment",
   "metadata": {},
   "outputs": [
    {
     "data": {
      "text/html": [
       "<div>\n",
       "<style scoped>\n",
       "    .dataframe tbody tr th:only-of-type {\n",
       "        vertical-align: middle;\n",
       "    }\n",
       "\n",
       "    .dataframe tbody tr th {\n",
       "        vertical-align: top;\n",
       "    }\n",
       "\n",
       "    .dataframe thead th {\n",
       "        text-align: right;\n",
       "    }\n",
       "</style>\n",
       "<table border=\"1\" class=\"dataframe\">\n",
       "  <thead>\n",
       "    <tr style=\"text-align: right;\">\n",
       "      <th>prediction_cancer</th>\n",
       "      <th>0</th>\n",
       "      <th>1</th>\n",
       "    </tr>\n",
       "    <tr>\n",
       "      <th>is_cancer</th>\n",
       "      <th></th>\n",
       "      <th></th>\n",
       "    </tr>\n",
       "  </thead>\n",
       "  <tbody>\n",
       "    <tr>\n",
       "      <th>0</th>\n",
       "      <td>333</td>\n",
       "      <td>24</td>\n",
       "    </tr>\n",
       "    <tr>\n",
       "      <th>1</th>\n",
       "      <td>45</td>\n",
       "      <td>167</td>\n",
       "    </tr>\n",
       "  </tbody>\n",
       "</table>\n",
       "</div>"
      ],
      "text/plain": [
       "prediction_cancer    0    1\n",
       "is_cancer                  \n",
       "0                  333   24\n",
       "1                   45  167"
      ]
     },
     "execution_count": 28,
     "metadata": {},
     "output_type": "execute_result"
    }
   ],
   "source": [
    "pd.crosstab(\n",
    "df.is_cancer,\n",
    "df.prediction_cancer)"
   ]
  },
  {
   "cell_type": "markdown",
   "id": "atomic-belgium",
   "metadata": {},
   "source": [
    "Equivalente con sklearn"
   ]
  },
  {
   "cell_type": "code",
   "execution_count": 29,
   "id": "focused-clearance",
   "metadata": {},
   "outputs": [],
   "source": [
    "from sklearn.metrics import confusion_matrix"
   ]
  },
  {
   "cell_type": "code",
   "execution_count": 31,
   "id": "auburn-freeware",
   "metadata": {},
   "outputs": [
    {
     "data": {
      "text/plain": [
       "array([[333,  24],\n",
       "       [ 45, 167]])"
      ]
     },
     "execution_count": 31,
     "metadata": {},
     "output_type": "execute_result"
    }
   ],
   "source": [
    "confusion_matrix(\n",
    "df.is_cancer,\n",
    "df.prediction_cancer)"
   ]
  },
  {
   "cell_type": "markdown",
   "id": "brave-scottish",
   "metadata": {},
   "source": [
    "### Accuracy"
   ]
  },
  {
   "cell_type": "markdown",
   "id": "subtle-guide",
   "metadata": {},
   "source": [
    "La exactitud (accuracy) mide el porcentaje de casos que el modelo ha acertado. Esta es una de las métricas más usadas y favoritas … que te recomiendo evitar! El problema con la exactitud es que nos puede llevar al engaño, es decir, puede hacer que un modelo malo parezca que es mucho mejor de lo que es.\n",
    "Representa la proporción de muestras predichas correctamente\n",
    " * La métrica más común para la clasificación\n",
    " * Es útil cuando\n",
    "  - el conjunto de datos tiene clases equilibradas (proporción similar de Verdadero y Falso)\n",
    "  - hay simetría entre Verdadero y Falso (por ejemplo, predicción de \"hombre\" o \"mujer\")\n",
    " * **¡A menudo se utiliza mal!** ya que:\n",
    "  - muchos problemas no son simétricos (por ejemplo, cáncer frente a no cáncer)\n",
    "\n",
    "El accuracy (exactitud) se calcula con la siguiente fórmula:\n",
    "\n",
    "$$accuracy = \\frac{TP + TN}{TP + TN + FP + FN}$$\n"
   ]
  },
  {
   "cell_type": "code",
   "execution_count": 32,
   "id": "dimensional-olympus",
   "metadata": {},
   "outputs": [
    {
     "data": {
      "text/plain": [
       "0.8787346221441125"
      ]
     },
     "execution_count": 32,
     "metadata": {},
     "output_type": "execute_result"
    }
   ],
   "source": [
    "accuracy_score(\n",
    "df.is_cancer,\n",
    "df.prediction_cancer)"
   ]
  },
  {
   "cell_type": "markdown",
   "id": "acceptable-fundamentals",
   "metadata": {},
   "source": [
    "Interpretando esta métrica, vemos que el modelo ha acertado el 87% de los diagnósticos, esto es, se equivocará el 13% de las veces que prediga."
   ]
  },
  {
   "cell_type": "markdown",
   "id": "lesser-bailey",
   "metadata": {},
   "source": [
    "### Precision (Precisión)"
   ]
  },
  {
   "cell_type": "markdown",
   "id": "historic-sunglasses",
   "metadata": {},
   "source": [
    "Con la métrica de precisión podemos medir la calidad del modelo de machine learning en tareas de clasificación. En el ejemplo, se refiere a que la precisión es la respuesta a la pregunta ¿qué porcentaje de los clientes que contactemos estarán interesados?\n",
    "\n",
    "Para calcular la precisión usaremos la siguiente fórmula:\n",
    "\n",
    "$$precision = \\frac{TP}{TP + FP}$$    \n",
    "\n",
    "Es la fracción de eventos positivos predichos que son realmente positivos como se muestra a continuación"
   ]
  },
  {
   "cell_type": "markdown",
   "id": "finnish-difficulty",
   "metadata": {},
   "source": [
    "<img src=\"https://www.iartificial.net/wp-content/uploads/2019/11/precision.webp\">"
   ]
  },
  {
   "cell_type": "markdown",
   "id": "assisted-mineral",
   "metadata": {},
   "source": [
    "Precisión = Porcentaje de predicciones POSITIVAS fueron correctas.    \n",
    "¿Qué proporción de los Positivos predichos es realmente Positiva?         \n",
    "Tenemos que mirar el número total de Positivos predichos (los Verdaderos Positivos más los Falsos Positivos, TP+FP), y ver cuántos de ellos son Verdaderos Positivos (TP)."
   ]
  },
  {
   "cell_type": "code",
   "execution_count": 33,
   "id": "hairy-atmosphere",
   "metadata": {},
   "outputs": [
    {
     "data": {
      "text/plain": [
       "0.8743455497382199"
      ]
     },
     "execution_count": 33,
     "metadata": {},
     "output_type": "execute_result"
    }
   ],
   "source": [
    "precision_score(\n",
    "df.is_cancer,\n",
    "df.prediction_cancer)"
   ]
  },
  {
   "cell_type": "markdown",
   "id": "visible-radius",
   "metadata": {},
   "source": [
    "### Recall (Exhaustividad)"
   ]
  },
  {
   "cell_type": "markdown",
   "id": "logical-court",
   "metadata": {},
   "source": [
    "La métrica de exhaustividad nos va a informar sobre la cantidad que el modelo de machine learning es capaz de identificar. En el ejemplo, se refiere a que la exhaustividad (recall) es la respuesta a la pregunta ¿qué porcentaje de los clientes están interesados somos capaces de identificar?\n",
    "\n",
    "Para calcular la exhaustividad (recall) usaremos la siguiente fórmula:\n",
    "\n",
    "$$recall = \\frac{TP}{TP + FN}$$\n"
   ]
  },
  {
   "cell_type": "markdown",
   "id": "conceptual-tamil",
   "metadata": {},
   "source": [
    "<img src=\"https://www.iartificial.net/wp-content/uploads/2019/11/recall-exhaustividad.webp\">"
   ]
  },
  {
   "cell_type": "markdown",
   "id": "aerial-handy",
   "metadata": {},
   "source": [
    "Responde a una pregunta diferente: ¿qué proporción de positivos reales se clasifica correctamente?      \n",
    "Porcentaje de casos positivos que he capturado."
   ]
  },
  {
   "cell_type": "code",
   "execution_count": 34,
   "id": "former-pendant",
   "metadata": {},
   "outputs": [
    {
     "data": {
      "text/plain": [
       "0.7877358490566038"
      ]
     },
     "execution_count": 34,
     "metadata": {},
     "output_type": "execute_result"
    }
   ],
   "source": [
    "recall_score(\n",
    "df.is_cancer,\n",
    "df.prediction_cancer)"
   ]
  },
  {
   "cell_type": "markdown",
   "id": "unnecessary-membrane",
   "metadata": {},
   "source": [
    "### Diferenciando precision y recall\n",
    "A pesar de ser similares, poseen distinciones sutiles.\n",
    "\n",
    "- Precision: ¿Cuántas veces lo que mi modelo dice es realmente cierto?\n",
    "- Recall: ¿Cuántas veces mi modelo es capaz de identificar la verdad?     \n",
    "Precision se centra en lo que modelo dice y luego lo compara con la realidad. Por otro lado, recall parte de la realidad, y después evalúa que tan bueno es el modelo para reconocerla."
   ]
  },
  {
   "cell_type": "markdown",
   "id": "psychological-parish",
   "metadata": {},
   "source": [
    "### F1 Score"
   ]
  },
  {
   "cell_type": "markdown",
   "id": "mexican-horse",
   "metadata": {},
   "source": [
    "El valor F1 se utiliza para combinar las medidas de precision y recall en un sólo valor. Esto es práctico porque hace más fácil el poder comparar el rendimiento combinado de la precisión y la exhaustividad entre varias soluciones.\n",
    "\n",
    "F1 se calcula haciendo la media armónica entre la precisión y la exhaustividad:\n",
    "\n",
    "$$F1 = 2 \\cdot \\frac{precision \\cdot recall}{precision + recall}$$"
   ]
  },
  {
   "cell_type": "code",
   "execution_count": 35,
   "id": "domestic-loading",
   "metadata": {},
   "outputs": [
    {
     "data": {
      "text/plain": [
       "0.8287841191066998"
      ]
     },
     "execution_count": 35,
     "metadata": {},
     "output_type": "execute_result"
    }
   ],
   "source": [
    "f1_score(df.is_cancer,df.prediction_cancer)"
   ]
  },
  {
   "cell_type": "markdown",
   "id": "coordinate-viking",
   "metadata": {},
   "source": [
    "He extraído documentación de las métricas de [este](https://www.iartificial.net/precision-recall-f1-accuracy-en-clasificacion/) artículo excepcionalmente explicado.\n",
    "Pero aquí os dejo más:\n",
    "- https://towardsdatascience.com/accuracy-precision-recall-or-f1-331fb37c5cb9\n",
    "- https://blog.exsilio.com/all/accuracy-precision-recall-f1-score-interpretation-of-performance-measures/\n",
    "- https://wiki.pathmind.com/accuracy-precision-recall-f1\n",
    "- https://datasmarts.net/es/mas-alla-del-accuracy-precision-recall-y-f1/"
   ]
  },
  {
   "cell_type": "markdown",
   "id": "material-retailer",
   "metadata": {},
   "source": [
    "## Repaso de Train Test Split / DIVISIÓN EN TRAIN TEST"
   ]
  },
  {
   "cell_type": "code",
   "execution_count": null,
   "id": "broadband-calcium",
   "metadata": {},
   "outputs": [],
   "source": [
    "# Dibujo train test split"
   ]
  },
  {
   "cell_type": "markdown",
   "id": "dedicated-participation",
   "metadata": {},
   "source": [
    "![divisióntraintest](images/traintest.png)"
   ]
  },
  {
   "cell_type": "markdown",
   "id": "average-tissue",
   "metadata": {},
   "source": [
    "https://scikit-learn.org/stable/modules/generated/sklearn.model_selection.train_test_split.html"
   ]
  },
  {
   "cell_type": "code",
   "execution_count": 39,
   "id": "similar-promise",
   "metadata": {},
   "outputs": [],
   "source": [
    "from sklearn.model_selection import train_test_split"
   ]
  },
  {
   "cell_type": "code",
   "execution_count": 40,
   "id": "insured-patent",
   "metadata": {},
   "outputs": [],
   "source": [
    "X_train, X_test, y_train, y_test = train_test_split(X,y, test_size = 0.2)"
   ]
  },
  {
   "cell_type": "code",
   "execution_count": 41,
   "id": "strange-organ",
   "metadata": {},
   "outputs": [
    {
     "data": {
      "text/plain": [
       "(455, 1)"
      ]
     },
     "execution_count": 41,
     "metadata": {},
     "output_type": "execute_result"
    }
   ],
   "source": [
    "X_train.shape"
   ]
  },
  {
   "cell_type": "code",
   "execution_count": 42,
   "id": "according-wayne",
   "metadata": {},
   "outputs": [
    {
     "data": {
      "text/plain": [
       "(455,)"
      ]
     },
     "execution_count": 42,
     "metadata": {},
     "output_type": "execute_result"
    }
   ],
   "source": [
    "y_train.shape"
   ]
  },
  {
   "cell_type": "code",
   "execution_count": 43,
   "id": "contained-squad",
   "metadata": {},
   "outputs": [
    {
     "data": {
      "text/plain": [
       "(114, 1)"
      ]
     },
     "execution_count": 43,
     "metadata": {},
     "output_type": "execute_result"
    }
   ],
   "source": [
    "X_test.shape"
   ]
  },
  {
   "cell_type": "code",
   "execution_count": 44,
   "id": "confused-afghanistan",
   "metadata": {},
   "outputs": [
    {
     "data": {
      "text/plain": [
       "(114,)"
      ]
     },
     "execution_count": 44,
     "metadata": {},
     "output_type": "execute_result"
    }
   ],
   "source": [
    "y_test.shape"
   ]
  },
  {
   "cell_type": "markdown",
   "id": "simplified-borough",
   "metadata": {},
   "source": [
    "## Entrenemos el modelo"
   ]
  },
  {
   "cell_type": "code",
   "execution_count": 45,
   "id": "previous-publication",
   "metadata": {},
   "outputs": [],
   "source": [
    "log = LogisticRegression()"
   ]
  },
  {
   "cell_type": "code",
   "execution_count": 46,
   "id": "forward-blond",
   "metadata": {},
   "outputs": [
    {
     "data": {
      "text/plain": [
       "LogisticRegression()"
      ]
     },
     "execution_count": 46,
     "metadata": {},
     "output_type": "execute_result"
    }
   ],
   "source": [
    "log.fit(X_train,y_train)"
   ]
  },
  {
   "cell_type": "markdown",
   "id": "preceding-raising",
   "metadata": {},
   "source": [
    "## Hacemos predicciones"
   ]
  },
  {
   "cell_type": "code",
   "execution_count": 47,
   "id": "applied-cleveland",
   "metadata": {},
   "outputs": [],
   "source": [
    "y_pred = log.predict(X_test)"
   ]
  },
  {
   "cell_type": "markdown",
   "id": "particular-drunk",
   "metadata": {},
   "source": [
    "## Sacamos todas las métricas"
   ]
  },
  {
   "cell_type": "code",
   "execution_count": 49,
   "id": "included-liverpool",
   "metadata": {},
   "outputs": [
    {
     "name": "stdout",
     "output_type": "stream",
     "text": [
      "Accuracy 0.877\n",
      "Precission 0.946\n",
      "Recall 0.745\n",
      "F1_score 0.833\n"
     ]
    }
   ],
   "source": [
    "print(\"Accuracy\", round(accuracy_score(y_test, y_pred), 3))\n",
    "print(\"Precission\", round(precision_score(y_test, y_pred), 3))\n",
    "print(\"Recall\", round(recall_score(y_test, y_pred), 3))\n",
    "print(\"F1_score\", round(f1_score(y_test, y_pred), 3))"
   ]
  },
  {
   "cell_type": "markdown",
   "id": "average-quantum",
   "metadata": {},
   "source": [
    "## Resumen\n",
    "PIPELINE de cosas que tenemos que hacer sería:\n",
    "- Cargo los datos\n",
    "- Exploro los datos\n",
    "- Limpio los datos\n",
    "- Divido los datos en train y test\n",
    "- Entreno el modelo con la parte de train\n",
    "- Hago una predicción con la parte de X_test\n",
    "- Saco métricas comparando la y_pred con la y_test\n",
    "- Fin\n",
    "- Clasificación variables cualitativas\n",
    "- Regresión son variables cuantitativas\n",
    "- Hemos visto diferentes métricas de la clasificación.\n",
    "- La matriz de confusión\n",
    "- La verdad y la verdad"
   ]
  }
 ],
 "metadata": {
  "kernelspec": {
   "display_name": "ironhack",
   "language": "python",
   "name": "ironhack"
  },
  "language_info": {
   "codemirror_mode": {
    "name": "ipython",
    "version": 3
   },
   "file_extension": ".py",
   "mimetype": "text/x-python",
   "name": "python",
   "nbconvert_exporter": "python",
   "pygments_lexer": "ipython3",
   "version": "3.8.5"
  },
  "toc": {
   "base_numbering": 1,
   "nav_menu": {},
   "number_sections": true,
   "sideBar": true,
   "skip_h1_title": true,
   "title_cell": "Table of Contents",
   "title_sidebar": "Contents",
   "toc_cell": true,
   "toc_position": {},
   "toc_section_display": true,
   "toc_window_display": false
  }
 },
 "nbformat": 4,
 "nbformat_minor": 5
}
