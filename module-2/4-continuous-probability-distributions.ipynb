{
 "cells": [
  {
   "cell_type": "markdown",
   "metadata": {},
   "source": [
    "# Probability distributions II"
   ]
  },
  {
   "cell_type": "markdown",
   "metadata": {
    "toc": true
   },
   "source": [
    "<h1>Table of Contents<span class=\"tocSkip\"></span></h1>\n",
    "<div class=\"toc\"><ul class=\"toc-item\"><li><span><a href=\"#Continuous-probability-distributions\" data-toc-modified-id=\"Continuous-probability-distributions-1\"><span class=\"toc-item-num\">1&nbsp;&nbsp;</span>Continuous probability distributions</a></span><ul class=\"toc-item\"><li><span><a href=\"#Uniform-distribution-on-interval-[0,-1]\" data-toc-modified-id=\"Uniform-distribution-on-interval-[0,-1]-1.1\"><span class=\"toc-item-num\">1.1&nbsp;&nbsp;</span>Uniform distribution on interval [0, 1]</a></span></li><li><span><a href=\"#Uniform-distribution-on-interval-[a,-b]\" data-toc-modified-id=\"Uniform-distribution-on-interval-[a,-b]-1.2\"><span class=\"toc-item-num\">1.2&nbsp;&nbsp;</span>Uniform distribution on interval [a, b]</a></span></li><li><span><a href=\"#Exponential-distribution\" data-toc-modified-id=\"Exponential-distribution-1.3\"><span class=\"toc-item-num\">1.3&nbsp;&nbsp;</span>Exponential distribution</a></span></li><li><span><a href=\"#Normal-distribution\" data-toc-modified-id=\"Normal-distribution-1.4\"><span class=\"toc-item-num\">1.4&nbsp;&nbsp;</span>Normal distribution</a></span><ul class=\"toc-item\"><li><span><a href=\"#Intro\" data-toc-modified-id=\"Intro-1.4.1\"><span class=\"toc-item-num\">1.4.1&nbsp;&nbsp;</span>Intro</a></span></li><li><span><a href=\"#scipy's-norm\" data-toc-modified-id=\"scipy's-norm-1.4.2\"><span class=\"toc-item-num\">1.4.2&nbsp;&nbsp;</span>scipy's <code>norm</code></a></span></li><li><span><a href=\"#Sampling-from-a-normal\" data-toc-modified-id=\"Sampling-from-a-normal-1.4.3\"><span class=\"toc-item-num\">1.4.3&nbsp;&nbsp;</span>Sampling from a normal</a></span></li><li><span><a href=\"#Point-distribution-function-(density-function)\" data-toc-modified-id=\"Point-distribution-function-(density-function)-1.4.4\"><span class=\"toc-item-num\">1.4.4&nbsp;&nbsp;</span>Point distribution function (density function)</a></span></li><li><span><a href=\"#Cumulative-distribution-function\" data-toc-modified-id=\"Cumulative-distribution-function-1.4.5\"><span class=\"toc-item-num\">1.4.5&nbsp;&nbsp;</span>Cumulative distribution function</a></span></li><li><span><a href=\"#Percent-point-function\" data-toc-modified-id=\"Percent-point-function-1.4.6\"><span class=\"toc-item-num\">1.4.6&nbsp;&nbsp;</span>Percent point function</a></span></li></ul></li><li><span><a href=\"#Other-continuous-probability-distributions\" data-toc-modified-id=\"Other-continuous-probability-distributions-1.5\"><span class=\"toc-item-num\">1.5&nbsp;&nbsp;</span>Other continuous probability distributions</a></span></li></ul></li><li><span><a href=\"#Summary\" data-toc-modified-id=\"Summary-2\"><span class=\"toc-item-num\">2&nbsp;&nbsp;</span>Summary</a></span></li></ul></div>"
   ]
  },
  {
   "cell_type": "code",
   "execution_count": 1,
   "metadata": {},
   "outputs": [],
   "source": [
    "import numpy as np\n",
    "\n",
    "import seaborn as sns\n",
    "import matplotlib.pyplot as plt"
   ]
  },
  {
   "cell_type": "markdown",
   "metadata": {},
   "source": [
    "## Discrete probability distributions: Poisson\n",
    "\n",
    "The Poisson distribution is used to describe _how many times something might happen in a specific timeframe_.\n",
    "\n",
    "Examples:\n",
    "\n",
    "- The number of meteorites greater than 1 meter diameter that strike Earth in a year\n",
    "- The number of patients arriving in an emergency room between 10 and 11 pm\n",
    "- The number of laser photons hitting a detector in a particular time interval"
   ]
  },
  {
   "cell_type": "markdown",
   "metadata": {},
   "source": [
    "# Exercise!\n",
    "\n",
    "You now work for Zara as a Business Intelligence area. \n",
    "You are in charge of helping the marketing department set up an event. \n",
    "They want to know how many people will go to a certain store where the event will be. If there very few people (less than 22), they won't organize it.\n",
    "\n",
    "You know that, on average, the number of people going to that store is 15 people/day. You also know that the distribution of people going to a store follows a Poisson distribution.\n",
    "\n",
    "## Question to answer\n",
    "\n",
    "What's the probability of having 22 or more people in that shop?"
   ]
  },
  {
   "cell_type": "code",
   "execution_count": null,
   "metadata": {},
   "outputs": [],
   "source": []
  },
  {
   "cell_type": "code",
   "execution_count": null,
   "metadata": {},
   "outputs": [],
   "source": []
  },
  {
   "cell_type": "code",
   "execution_count": null,
   "metadata": {},
   "outputs": [],
   "source": []
  },
  {
   "cell_type": "code",
   "execution_count": null,
   "metadata": {},
   "outputs": [],
   "source": []
  },
  {
   "cell_type": "code",
   "execution_count": null,
   "metadata": {},
   "outputs": [],
   "source": []
  },
  {
   "cell_type": "markdown",
   "metadata": {},
   "source": [
    "# Continuous probability distributions"
   ]
  },
  {
   "cell_type": "markdown",
   "metadata": {},
   "source": [
    "**Continuous probability** distributions are those which can take an infinite number of values\n",
    "\n",
    "X is a continuous random variable.  \n",
    "X follows a continuous probability distribution."
   ]
  },
  {
   "cell_type": "markdown",
   "metadata": {
    "colab_type": "text",
    "id": "xsScdABy_6rm"
   },
   "source": [
    "# Uniform distribution on interval [0, 1]"
   ]
  },
  {
   "cell_type": "markdown",
   "metadata": {},
   "source": [
    "All numbers in the inteval [0, 1] are equally probable."
   ]
  },
  {
   "cell_type": "markdown",
   "metadata": {},
   "source": [
    "$X \\sim U(0, 1)$"
   ]
  },
  {
   "cell_type": "markdown",
   "metadata": {},
   "source": [
    "<img src=\"https://upload.wikimedia.org/wikipedia/commons/thumb/2/28/Unit-interval.svg/1200px-Unit-interval.svg.png\" width=500>"
   ]
  },
  {
   "cell_type": "markdown",
   "metadata": {},
   "source": [
    "$P(x \\leq 0.4)=0.4$"
   ]
  },
  {
   "cell_type": "markdown",
   "metadata": {},
   "source": [
    "$P(x \\geq 0.7)=0.3$"
   ]
  },
  {
   "cell_type": "markdown",
   "metadata": {},
   "source": [
    "$P(x \\leq 1)= 1$"
   ]
  },
  {
   "cell_type": "markdown",
   "metadata": {},
   "source": [
    "$P(x \\geq 0)=1$"
   ]
  },
  {
   "cell_type": "markdown",
   "metadata": {},
   "source": [
    "$P(0.1 \\leq x \\leq 0.4)=$"
   ]
  },
  {
   "cell_type": "markdown",
   "metadata": {
    "colab_type": "text",
    "id": "5dn6JLn8GhnC"
   },
   "source": [
    "For all $c, d \\in [0, 1]$ we have "
   ]
  },
  {
   "cell_type": "markdown",
   "metadata": {
    "colab_type": "text",
    "id": "5dn6JLn8GhnC"
   },
   "source": [
    "$$P(c < x <= d) = d-c$$"
   ]
  },
  {
   "cell_type": "markdown",
   "metadata": {},
   "source": [
    "Lets use Python distribution instantiation to generate samples from a $U(0, 1)$ distribution"
   ]
  },
  {
   "cell_type": "code",
   "execution_count": null,
   "metadata": {},
   "outputs": [],
   "source": []
  },
  {
   "cell_type": "code",
   "execution_count": null,
   "metadata": {},
   "outputs": [],
   "source": []
  },
  {
   "cell_type": "code",
   "execution_count": null,
   "metadata": {},
   "outputs": [],
   "source": []
  },
  {
   "cell_type": "code",
   "execution_count": null,
   "metadata": {},
   "outputs": [],
   "source": []
  },
  {
   "cell_type": "markdown",
   "metadata": {},
   "source": [
    "# Exercise!\n",
    "\n",
    "With the uniform distribution you have created:\n",
    "1. sample 100 values and store them in a variable,\n",
    "2. plot a histogram with them.\n",
    "\n",
    "3. Do the same but with 10.000 values!"
   ]
  },
  {
   "cell_type": "code",
   "execution_count": null,
   "metadata": {},
   "outputs": [],
   "source": []
  },
  {
   "cell_type": "code",
   "execution_count": null,
   "metadata": {},
   "outputs": [],
   "source": []
  },
  {
   "cell_type": "code",
   "execution_count": null,
   "metadata": {},
   "outputs": [],
   "source": []
  },
  {
   "cell_type": "code",
   "execution_count": null,
   "metadata": {},
   "outputs": [],
   "source": []
  },
  {
   "cell_type": "markdown",
   "metadata": {},
   "source": [
    "# Exercise!\n",
    "For a Uniform(0,1), the mean value is 0.5. Can you check it?"
   ]
  },
  {
   "cell_type": "code",
   "execution_count": null,
   "metadata": {},
   "outputs": [],
   "source": []
  },
  {
   "cell_type": "code",
   "execution_count": null,
   "metadata": {},
   "outputs": [],
   "source": []
  },
  {
   "cell_type": "markdown",
   "metadata": {},
   "source": [
    "`.cdf` is the cumulative distribution function  \n",
    "`.cdf(x)` tells us the probability of $X<x$"
   ]
  },
  {
   "cell_type": "code",
   "execution_count": null,
   "metadata": {},
   "outputs": [],
   "source": []
  },
  {
   "cell_type": "markdown",
   "metadata": {},
   "source": [
    "# Exercise!\n",
    "\n",
    "Following a similar approach as before, plot the _cummulative density function_ for your uniform distribution."
   ]
  },
  {
   "cell_type": "code",
   "execution_count": null,
   "metadata": {},
   "outputs": [],
   "source": []
  },
  {
   "cell_type": "markdown",
   "metadata": {},
   "source": [
    "# Exercise!\n",
    "\n",
    "What is the probability of sampling a value less than 0.7?"
   ]
  },
  {
   "cell_type": "code",
   "execution_count": null,
   "metadata": {},
   "outputs": [],
   "source": []
  },
  {
   "cell_type": "markdown",
   "metadata": {
    "colab_type": "text",
    "id": "xsScdABy_6rm"
   },
   "source": [
    "# Uniform distribution on interval [a, b]"
   ]
  },
  {
   "cell_type": "markdown",
   "metadata": {},
   "source": [
    "All numbers in the inteval [a, b] are equally probable.\n",
    "\n",
    "Examples of real-life events following a Uniform distribution:\n",
    "\n",
    "- Position of a particular air molecule in a room\n",
    "- Point on a car tyre where the next puncture will occur\n",
    "- Time that one may have to wait for a train\n",
    "- In oil exploration, the position of the oil-water contact in a potential prospect\n",
    "\n",
    "Do lottery numbers follow a uniform distribution?"
   ]
  },
  {
   "cell_type": "markdown",
   "metadata": {},
   "source": [
    "$X \\sim U(a, b)$"
   ]
  },
  {
   "cell_type": "markdown",
   "metadata": {},
   "source": [
    "<img src=\"data:image/png;base64,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\" width=500>"
   ]
  },
  {
   "cell_type": "markdown",
   "metadata": {},
   "source": [
    "$P(x \\leq b)=1$"
   ]
  },
  {
   "cell_type": "markdown",
   "metadata": {},
   "source": [
    "$P(x \\geq a)=1$"
   ]
  },
  {
   "cell_type": "markdown",
   "metadata": {},
   "source": [
    "$\\frac{a+b}{2}$ is the mean between $a$ and $b$"
   ]
  },
  {
   "cell_type": "markdown",
   "metadata": {},
   "source": [
    "$P(x \\leq \\frac{a+b}{2})=0.5$"
   ]
  },
  {
   "cell_type": "markdown",
   "metadata": {},
   "source": [
    "Lets use Python distribution instantiation to generate samples from a $U(a, b)$ distribution"
   ]
  },
  {
   "cell_type": "code",
   "execution_count": null,
   "metadata": {},
   "outputs": [],
   "source": []
  },
  {
   "cell_type": "code",
   "execution_count": null,
   "metadata": {},
   "outputs": [],
   "source": []
  },
  {
   "cell_type": "code",
   "execution_count": null,
   "metadata": {},
   "outputs": [],
   "source": []
  },
  {
   "cell_type": "code",
   "execution_count": null,
   "metadata": {},
   "outputs": [],
   "source": []
  },
  {
   "cell_type": "markdown",
   "metadata": {},
   "source": [
    "# Exercise!\n",
    "\n",
    "To create a (continuous) uniform distribution between 11 and 23, complete these steps:\n",
    "\n",
    "0. Create vars `a`, `b` and `h` and create the uniform distribution.\n",
    "1. Sample 10.000 values and store them in a variable\n",
    "2. Using Seaborn, plot a histogram with those values\n",
    "3. Plot the _probability density function_\n",
    "4. Plot the _cumulative density function_\n",
    "5. What are the means of your sample and your distribution?"
   ]
  },
  {
   "cell_type": "code",
   "execution_count": null,
   "metadata": {},
   "outputs": [],
   "source": []
  },
  {
   "cell_type": "code",
   "execution_count": null,
   "metadata": {},
   "outputs": [],
   "source": []
  },
  {
   "cell_type": "code",
   "execution_count": null,
   "metadata": {},
   "outputs": [],
   "source": []
  },
  {
   "cell_type": "code",
   "execution_count": null,
   "metadata": {},
   "outputs": [],
   "source": []
  },
  {
   "cell_type": "code",
   "execution_count": null,
   "metadata": {},
   "outputs": [],
   "source": []
  },
  {
   "cell_type": "code",
   "execution_count": null,
   "metadata": {},
   "outputs": [],
   "source": []
  },
  {
   "cell_type": "markdown",
   "metadata": {
    "colab_type": "text",
    "id": "5dn6JLn8GhnC"
   },
   "source": [
    "# Exponential distribution"
   ]
  },
  {
   "cell_type": "markdown",
   "metadata": {},
   "source": [
    "Models the time it takes for a random event (with a constant rate) to occur:\n",
    " * Next person in a queue to appear\n",
    " * Call at call center to happen\n",
    " * Radioactive particles to decay\n",
    " * DNA item to mutate on."
   ]
  },
  {
   "cell_type": "markdown",
   "metadata": {},
   "source": [
    "\"The average time for a new patient to appear from 8pm to 9pm is 5 minutes\"  \n",
    "\"The average time for a new patient to appear from 8pm to 9pm follows an Exponential distribution with mean $5$\""
   ]
  },
  {
   "cell_type": "markdown",
   "metadata": {},
   "source": [
    "The exponential is the reciprocal distribution of the Poisson distribution: the exponential distribution models the time between events, while the Poisson is used to represent the number of events within a unit of time."
   ]
  },
  {
   "cell_type": "code",
   "execution_count": 59,
   "metadata": {},
   "outputs": [],
   "source": [
    "from scipy.stats import expon"
   ]
  },
  {
   "cell_type": "markdown",
   "metadata": {},
   "source": [
    "The exponential, like the Poisson, is a $1$-parameter distribution function"
   ]
  },
  {
   "cell_type": "markdown",
   "metadata": {},
   "source": [
    "$X \\sim Exp(\\mu)$"
   ]
  },
  {
   "cell_type": "markdown",
   "metadata": {},
   "source": [
    "This parameter is the mean, called `mu`, $\\mu$"
   ]
  },
  {
   "cell_type": "markdown",
   "metadata": {},
   "source": [
    "`scipy` calls it `scale`"
   ]
  },
  {
   "cell_type": "markdown",
   "metadata": {},
   "source": [
    "Let's suppose you work for a hospital and want to model model patients who arrive on average every $5$ minutes"
   ]
  },
  {
   "cell_type": "code",
   "execution_count": null,
   "metadata": {},
   "outputs": [],
   "source": []
  },
  {
   "cell_type": "code",
   "execution_count": null,
   "metadata": {},
   "outputs": [],
   "source": []
  },
  {
   "cell_type": "code",
   "execution_count": null,
   "metadata": {},
   "outputs": [],
   "source": []
  },
  {
   "cell_type": "code",
   "execution_count": null,
   "metadata": {},
   "outputs": [],
   "source": []
  },
  {
   "cell_type": "code",
   "execution_count": null,
   "metadata": {},
   "outputs": [],
   "source": []
  },
  {
   "cell_type": "code",
   "execution_count": null,
   "metadata": {},
   "outputs": [],
   "source": []
  },
  {
   "cell_type": "code",
   "execution_count": null,
   "metadata": {},
   "outputs": [],
   "source": []
  },
  {
   "cell_type": "markdown",
   "metadata": {
    "colab_type": "text",
    "id": "5dn6JLn8GhnC"
   },
   "source": [
    "### Normal distribution"
   ]
  },
  {
   "cell_type": "markdown",
   "metadata": {},
   "source": [
    "Normal distributions are important in statistics and are often used in the natural and social sciences "
   ]
  },
  {
   "cell_type": "markdown",
   "metadata": {},
   "source": [
    "The normal distribution is the most important probability distribution in statistics, because it fits many natural and social phenomena :\n",
    " * heights\n",
    " * blood pressure\n",
    " * IQ scores\n",
    " "
   ]
  },
  {
   "cell_type": "markdown",
   "metadata": {},
   "source": [
    "It is also known as the Gaussian distribution or the bell curve"
   ]
  },
  {
   "cell_type": "markdown",
   "metadata": {},
   "source": [
    "#### scipy's `norm`"
   ]
  },
  {
   "cell_type": "code",
   "execution_count": 53,
   "metadata": {},
   "outputs": [],
   "source": [
    "from scipy.stats import norm"
   ]
  },
  {
   "cell_type": "markdown",
   "metadata": {},
   "source": [
    "The normal, unilike the exponential, is a $2$-parameter distribution function"
   ]
  },
  {
   "cell_type": "markdown",
   "metadata": {},
   "source": [
    "$X \\sim N(\\mu, \\sigma)$"
   ]
  },
  {
   "cell_type": "markdown",
   "metadata": {},
   "source": [
    "These parameters are:\n",
    " * the mean, called $\\mu$\n",
    " * the standard deviation, $\\sigma$"
   ]
  },
  {
   "cell_type": "markdown",
   "metadata": {},
   "source": [
    "<img src=\"data:image/jpeg;base64,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\" width=500>"
   ]
  },
  {
   "cell_type": "markdown",
   "metadata": {},
   "source": [
    "`scipy` calls them `loc` and `scale`"
   ]
  },
  {
   "cell_type": "markdown",
   "metadata": {},
   "source": [
    "Lets model Spain's height population:\n",
    " * a mean of $?$\n",
    " * a std of $?$"
   ]
  },
  {
   "cell_type": "code",
   "execution_count": null,
   "metadata": {},
   "outputs": [],
   "source": []
  },
  {
   "cell_type": "code",
   "execution_count": null,
   "metadata": {},
   "outputs": [],
   "source": []
  },
  {
   "cell_type": "code",
   "execution_count": null,
   "metadata": {},
   "outputs": [],
   "source": []
  },
  {
   "cell_type": "markdown",
   "metadata": {},
   "source": [
    "# Exercise!\n",
    "\n",
    "Sample 1.000 people from your spanish distribution and plot them."
   ]
  },
  {
   "cell_type": "code",
   "execution_count": null,
   "metadata": {},
   "outputs": [],
   "source": []
  },
  {
   "cell_type": "code",
   "execution_count": null,
   "metadata": {},
   "outputs": [],
   "source": []
  },
  {
   "cell_type": "markdown",
   "metadata": {},
   "source": [
    "#### Plot the probability density function"
   ]
  },
  {
   "cell_type": "code",
   "execution_count": null,
   "metadata": {},
   "outputs": [],
   "source": []
  },
  {
   "cell_type": "markdown",
   "metadata": {},
   "source": [
    "#### What's the probability of being shorter than 140cm? And 190cm? And your height?"
   ]
  },
  {
   "cell_type": "markdown",
   "metadata": {},
   "source": [
    "`.cdf` is the cumulative distribution function  \n",
    "`.cdf(x)` tells us the probability of $X<x$"
   ]
  },
  {
   "cell_type": "code",
   "execution_count": null,
   "metadata": {},
   "outputs": [],
   "source": []
  },
  {
   "cell_type": "code",
   "execution_count": null,
   "metadata": {},
   "outputs": [],
   "source": []
  },
  {
   "cell_type": "code",
   "execution_count": null,
   "metadata": {},
   "outputs": [],
   "source": []
  },
  {
   "cell_type": "markdown",
   "metadata": {},
   "source": [
    "#### Plot the cumulative distribution function"
   ]
  },
  {
   "cell_type": "code",
   "execution_count": null,
   "metadata": {},
   "outputs": [],
   "source": []
  },
  {
   "cell_type": "markdown",
   "metadata": {},
   "source": [
    "What is the proportion of people in the interval ($\\mu - \\sigma, \\mu + \\sigma)$?"
   ]
  },
  {
   "cell_type": "code",
   "execution_count": null,
   "metadata": {},
   "outputs": [],
   "source": []
  },
  {
   "cell_type": "code",
   "execution_count": null,
   "metadata": {},
   "outputs": [],
   "source": []
  },
  {
   "cell_type": "markdown",
   "metadata": {},
   "source": [
    "# Exercises!"
   ]
  },
  {
   "cell_type": "markdown",
   "metadata": {},
   "source": [
    "What is the proportion of people in the interval ($\\mu - 2\\sigma, \\mu + 2\\sigma)$?"
   ]
  },
  {
   "cell_type": "markdown",
   "metadata": {},
   "source": [
    "What is the proportion of people in the interval ($\\mu - 3\\sigma, \\mu + 3\\sigma)$?"
   ]
  },
  {
   "cell_type": "code",
   "execution_count": null,
   "metadata": {},
   "outputs": [],
   "source": []
  },
  {
   "cell_type": "code",
   "execution_count": null,
   "metadata": {},
   "outputs": [],
   "source": []
  },
  {
   "cell_type": "code",
   "execution_count": null,
   "metadata": {},
   "outputs": [],
   "source": []
  },
  {
   "cell_type": "code",
   "execution_count": null,
   "metadata": {},
   "outputs": [],
   "source": []
  },
  {
   "cell_type": "code",
   "execution_count": null,
   "metadata": {},
   "outputs": [],
   "source": []
  },
  {
   "cell_type": "markdown",
   "metadata": {},
   "source": [
    "<img src=\"https://miro.medium.com/max/700/1*IZ2II2HYKeoMrdLU5jW6Dw.png\" width=500>"
   ]
  },
  {
   "cell_type": "markdown",
   "metadata": {},
   "source": [
    "# Percent probability function"
   ]
  },
  {
   "cell_type": "markdown",
   "metadata": {},
   "source": [
    "Is the _inverse_ of the Cumulative Distribution function"
   ]
  },
  {
   "cell_type": "markdown",
   "metadata": {},
   "source": [
    "What height is such that 80% of people are lower than it?"
   ]
  },
  {
   "cell_type": "code",
   "execution_count": 140,
   "metadata": {},
   "outputs": [
    {
     "data": {
      "text/plain": [
       "178.41621233572914"
      ]
     },
     "execution_count": 140,
     "metadata": {},
     "output_type": "execute_result"
    }
   ],
   "source": [
    "my_normal.ppf(0.80)"
   ]
  },
  {
   "cell_type": "markdown",
   "metadata": {},
   "source": [
    "# Exercise!\n",
    "\n",
    "Can we visualize that value in the probability density function curve (`pdf`)?\n",
    "\n",
    "Steps:\n",
    "1. Create variables `x` and `y` to store the `linspace` and the `pdf` function\n",
    "2. Create a figure with one axis with `plt.subplots()`\n",
    "3. Create a linspace of the values you want to fill between 120 and 178\n",
    "4. Use `plt.fill_between` to color that area.\n",
    "5. Optional: Place a text in the colored area."
   ]
  },
  {
   "cell_type": "code",
   "execution_count": null,
   "metadata": {},
   "outputs": [],
   "source": []
  },
  {
   "cell_type": "markdown",
   "metadata": {},
   "source": [
    "### Other continuous probability distributions"
   ]
  },
  {
   "cell_type": "markdown",
   "metadata": {},
   "source": [
    " * Student's $t$ distribution (Student is a person)\n",
    " * Snedecor's $F$ distribution\n",
    " * Chi squared distribution"
   ]
  },
  {
   "cell_type": "markdown",
   "metadata": {},
   "source": [
    "## Summary"
   ]
  },
  {
   "cell_type": "markdown",
   "metadata": {},
   "source": [
    " * Random variables model random experiments\n",
    " * We only need a sample space and probabilities to define a random experiment"
   ]
  },
  {
   "cell_type": "markdown",
   "metadata": {},
   "source": [
    " * Discrete random variables only have a finite (or countable) number of outcomes\n",
    " * Continuous random variables take an infinite number of outcomes"
   ]
  },
  {
   "cell_type": "markdown",
   "metadata": {},
   "source": [
    " * `.rvs` returns a sample\n",
    " * `.pmf` returns the probability mass function (for discrete distributions)\n",
    " * `.pdf` returns the probability distribution function (for continuous distributions)\n",
    " * `.cdf` returns the cumulative mass/distribution function (for both discrete and continuous distributions)\n",
    " * `.ppf` return inverse cumulative distribution function (for continuous distribution)"
   ]
  }
 ],
 "metadata": {
  "colab": {
   "collapsed_sections": [],
   "name": "ProbabilityDistribution (1).ipynb",
   "provenance": []
  },
  "kernelspec": {
   "display_name": "Python 3",
   "language": "python",
   "name": "python3"
  },
  "language_info": {
   "codemirror_mode": {
    "name": "ipython",
    "version": 3
   },
   "file_extension": ".py",
   "mimetype": "text/x-python",
   "name": "python",
   "nbconvert_exporter": "python",
   "pygments_lexer": "ipython3",
   "version": "3.9.2"
  },
  "toc": {
   "base_numbering": 1,
   "nav_menu": {},
   "number_sections": true,
   "sideBar": true,
   "skip_h1_title": true,
   "title_cell": "Table of Contents",
   "title_sidebar": "Contents",
   "toc_cell": true,
   "toc_position": {},
   "toc_section_display": true,
   "toc_window_display": true
  },
  "varInspector": {
   "cols": {
    "lenName": 16,
    "lenType": 16,
    "lenVar": 40
   },
   "kernels_config": {
    "python": {
     "delete_cmd_postfix": "",
     "delete_cmd_prefix": "del ",
     "library": "var_list.py",
     "varRefreshCmd": "print(var_dic_list())"
    },
    "r": {
     "delete_cmd_postfix": ") ",
     "delete_cmd_prefix": "rm(",
     "library": "var_list.r",
     "varRefreshCmd": "cat(var_dic_list()) "
    }
   },
   "types_to_exclude": [
    "module",
    "function",
    "builtin_function_or_method",
    "instance",
    "_Feature"
   ],
   "window_display": false
  }
 },
 "nbformat": 4,
 "nbformat_minor": 1
}
