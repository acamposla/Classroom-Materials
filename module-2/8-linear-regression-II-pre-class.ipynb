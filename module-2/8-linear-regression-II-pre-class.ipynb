{
 "cells": [
  {
   "cell_type": "code",
   "execution_count": null,
   "metadata": {},
   "outputs": [],
   "source": [
    "import pandas as pd\n",
    "import numpy as np\n",
    "\n",
    "import matplotlib.pyplot as plt\n",
    "import seaborn as sns"
   ]
  },
  {
   "cell_type": "code",
   "execution_count": null,
   "metadata": {},
   "outputs": [],
   "source": [
    "import numpy as np\n",
    "from matplotlib import pyplot as plt\n",
    "from mpl_toolkits.mplot3d import axes3d\n",
    "from matplotlib import cm\n",
    "%matplotlib inline\n",
    "%config Inlinebackend.figure_format = 'retina'\n",
    "\n",
    "import seaborn as sns\n",
    "sns.set_context('poster')\n",
    "sns.set(rc={'figure.figsize': (16., 9.)})\n",
    "sns.set_style('whitegrid')\n",
    "\n",
    "# Modeling libraries\n",
    "import statsmodels.formula.api as smf # welcome!!\n",
    "from sklearn.linear_model import LinearRegression\n",
    "\n",
    "import pandas as pd\n",
    "np.random.seed(123)"
   ]
  },
  {
   "cell_type": "markdown",
   "metadata": {},
   "source": [
    "# Take-home exercises\n",
    "\n",
    "Using a dataset, try this hands-on exercise:\n",
    "\n",
    "0. First, review what we've seen!\n",
    "\n",
    "1. Load the data using pandas: `pd.read_csv('../datasets/Advertising.csv')`\n",
    "\n",
    "2. Do a pairplot to investigate any correlations\n",
    "\n",
    "3. Check your intuitions with the `.corr()` function of your dataset\n",
    "\n",
    "4. Create a simple linear model using `scikit`'s `LinearRegression`\n",
    "\n",
    "5. Create the same model using the library `statsmodels.formula.api` or the "
   ]
  },
  {
   "cell_type": "markdown",
   "metadata": {},
   "source": [
    "### Hands on exercise!\n",
    "\n",
    "Remember to correctly load the data in your notebook!"
   ]
  },
  {
   "cell_type": "code",
   "execution_count": null,
   "metadata": {},
   "outputs": [],
   "source": [
    "df_adv = pd.read_csv('../data/Advertising.csv')"
   ]
  },
  {
   "cell_type": "code",
   "execution_count": null,
   "metadata": {},
   "outputs": [],
   "source": []
  },
  {
   "cell_type": "code",
   "execution_count": null,
   "metadata": {},
   "outputs": [],
   "source": []
  },
  {
   "cell_type": "markdown",
   "metadata": {},
   "source": [
    "* Create three independent simple linear regression models\n",
    "    * Interpret the results\n",
    "**Note** pay special attention to the significance of the `Newspaper variable`."
   ]
  },
  {
   "cell_type": "code",
   "execution_count": null,
   "metadata": {},
   "outputs": [],
   "source": []
  },
  {
   "cell_type": "code",
   "execution_count": null,
   "metadata": {},
   "outputs": [],
   "source": []
  },
  {
   "cell_type": "code",
   "execution_count": null,
   "metadata": {},
   "outputs": [],
   "source": []
  },
  {
   "cell_type": "markdown",
   "metadata": {},
   "source": [
    "## Multiple linear regression\n",
    "\n",
    "Of course, the hours one studies is not the only important factor to get good grades. We can think of IQ, for example, as another determining factor. In fact, we can generalize a linear model to have as many variables as we want:\n",
    "\n",
    " $$ Y = \\beta_0 +  \\beta_1 X_1 + \\beta_2 X_2 + \\dots + \\beta_2 X_m   + \\epsilon$$\n"
   ]
  },
  {
   "cell_type": "code",
   "execution_count": null,
   "metadata": {},
   "outputs": [],
   "source": [
    "# We generate data following the linear population model\n",
    "# but now we have more than one X!\n",
    "\n",
    "# Why do we do this? Because we assume relationships in the data are linear,\n",
    "# and this is a way of obtaining data with that assumption.\n",
    "\n",
    "# In real life, we won't know the true relationships in the data,\n",
    "# but plotting the variables can show us that there might be some\n",
    "# linear relationships that we can exploit.\n",
    "\n",
    "num_points = 100\n",
    "\n",
    "beta_0 = 11.75\n",
    "beta_1 = 0.08     # hours of study\n",
    "beta_2 = -0.03    # party hours\n",
    "\n",
    "X_1 = np.random.normal(500, 200, num_points)\n",
    "X_2 = np.random.normal(500, 200, num_points)\n",
    "\n",
    "y = (beta_0) + (beta_1 * X_1) + (beta_2 * X_2)  + (np.random.normal(loc=0,scale=5,size=num_points))"
   ]
  },
  {
   "cell_type": "code",
   "execution_count": null,
   "metadata": {},
   "outputs": [],
   "source": [
    "data = pd.DataFrame({'grades': y, \n",
    "                     'study_hours': X_1,\n",
    "                     'party_hours': X_2})"
   ]
  },
  {
   "cell_type": "code",
   "execution_count": null,
   "metadata": {},
   "outputs": [],
   "source": []
  },
  {
   "cell_type": "code",
   "execution_count": null,
   "metadata": {},
   "outputs": [],
   "source": []
  },
  {
   "cell_type": "code",
   "execution_count": null,
   "metadata": {},
   "outputs": [],
   "source": []
  },
  {
   "cell_type": "code",
   "execution_count": null,
   "metadata": {},
   "outputs": [],
   "source": []
  },
  {
   "cell_type": "code",
   "execution_count": null,
   "metadata": {},
   "outputs": [],
   "source": []
  },
  {
   "cell_type": "markdown",
   "metadata": {},
   "source": [
    "The coefficients of the multiple linear regression are computed similarly to the simple linear regression case. They minimize:\n",
    "\n",
    "$$RSS = \\Sigma(y_i - \\hat{y_i})^2$$\n",
    "\n",
    "\n",
    "where:\n",
    "\n",
    " $$ \\hat{y} = \\hat{\\beta_0} +  \\hat{\\beta_1} X_1 + \\hat{\\beta_2} X_2 + \\dots + \\hat{\\beta_2} X_m$$\n"
   ]
  },
  {
   "cell_type": "code",
   "execution_count": null,
   "metadata": {
    "scrolled": false
   },
   "outputs": [],
   "source": [
    "# Create plot\n",
    "study_hours = np.arange(0,1000)  # limits of my plot (~ variables)\n",
    "party_hours = np.arange(0,1000)  # limits of my plot (~ variables)\n",
    "\n",
    "B1, B2 = np.meshgrid(study_hours, party_hours, indexing='xy')\n",
    "Z = np.zeros((study_hours.size, party_hours.size))\n",
    "\n",
    "for (i,j),v in np.ndenumerate(Z):\n",
    "    Z[i,j] =(beta_0 + B1[i,j]*beta_1 + B2[i,j]*beta_2)\n",
    "\n",
    "fig = plt.figure()\n",
    "fig.suptitle('Regression: grade ~ study_hours + party_hours', fontsize=20)\n",
    "\n",
    "ax = axes3d.Axes3D(fig)\n",
    "\n",
    "ax.plot_surface(B1, B2, Z, cmap='rainbow', alpha=1)\n",
    "ax.scatter3D(X_1, X_2, y , c='r', s=50)\n",
    "\n",
    "ax.set_xlabel('study_hours')\n",
    "ax.set_xlim(0, 1000)\n",
    "ax.set_ylabel('party_hours')\n",
    "ax.set_ylim(0, 1000)\n",
    "ax.set_zlabel('grades');"
   ]
  },
  {
   "cell_type": "code",
   "execution_count": null,
   "metadata": {},
   "outputs": [],
   "source": []
  },
  {
   "cell_type": "markdown",
   "metadata": {},
   "source": [
    "# Advertising example"
   ]
  },
  {
   "cell_type": "code",
   "execution_count": null,
   "metadata": {},
   "outputs": [],
   "source": []
  },
  {
   "cell_type": "markdown",
   "metadata": {},
   "source": [
    "See * [Introduction to Statistical Learning (Chapter 3)](http://faculty.marshall.usc.edu/gareth-james/ISL/ISLR%20Seventh%20Printing.pdf) section 3.2.1 to make sense of this result!"
   ]
  },
  {
   "cell_type": "markdown",
   "metadata": {},
   "source": [
    "## Categorical variables\n",
    "\n",
    "Very often we face situations in which the predictors are *qualitative* in nature. A good example could be the sex of  a person, which can take the vales $M$ or $F$. "
   ]
  },
  {
   "cell_type": "code",
   "execution_count": null,
   "metadata": {},
   "outputs": [],
   "source": []
  },
  {
   "cell_type": "code",
   "execution_count": null,
   "metadata": {},
   "outputs": [],
   "source": []
  },
  {
   "cell_type": "markdown",
   "metadata": {},
   "source": [
    "We include this information in the model via a *dummy* variable:\n",
    "$$\n",
    "x_i= \\left\\{\n",
    "\\begin{array}{ll}\n",
    "      0  \\quad \\text{if person is female} \\\\\n",
    "      1  \\quad \\text{if person is male} \\\\\n",
    "\\end{array} \n",
    "\\right. \n",
    "$$\n",
    "\n",
    "If this is our only variable, this results in a model:\n",
    "\n",
    "$$y_i = \\beta_0 + \\beta_1 x_i +\\epsilon_i = \\left\\{\n",
    "\\begin{array}{ll}\n",
    "      \\beta_0 + \\beta_1 +\\epsilon_i  \\quad \\text{if i-th person is male} \\\\\n",
    "      \\beta_0 + \\epsilon_i  \\quad \\text{if i-th person is female} \\\\\n",
    "\\end{array} \n",
    "\\right.  $$\n",
    "\n",
    "In this setting $\\beta_0$ represents the average grade among females, and $\\beta_0 + \\beta_1$ the average grade for males."
   ]
  },
  {
   "cell_type": "code",
   "execution_count": null,
   "metadata": {},
   "outputs": [],
   "source": []
  },
  {
   "cell_type": "code",
   "execution_count": null,
   "metadata": {},
   "outputs": [],
   "source": []
  },
  {
   "cell_type": "markdown",
   "metadata": {},
   "source": [
    "# Extensions to the linear model\n",
    "\n",
    "There are several assumptions that are used when fitting a linear model. Two of them are:\n",
    "* **Additive assumption** The effect of changes in a predictor $X_j$ on the response $Y$ is independent of the values of the other predictors.\n",
    "* **Linear assumption** The change in response for a one unit increase in $X_j$ is the same no matter what is the value of $X_j$.\n"
   ]
  },
  {
   "cell_type": "markdown",
   "metadata": {},
   "source": [
    "# Challenging the additive assumption: synergy\n",
    "\n",
    "Sometimes our variables will have natural interactions. For example, we might think that the more our ads are listened in the radio, the more effective our TV ads are. That is, the effect of both is *greater* (or *lesser*) than the sum of the parts.\n",
    "\n",
    "[This is a commonly studied topic in marketing](https://smallbusiness.chron.com/definition-synergy-marketing-21786.html)"
   ]
  },
  {
   "cell_type": "code",
   "execution_count": null,
   "metadata": {},
   "outputs": [],
   "source": []
  },
  {
   "cell_type": "markdown",
   "metadata": {},
   "source": [
    "Remember the **Hierarchical principle:**\n",
    "\n",
    "\"*If we include an interaction in a model, we should also include the main effects, even if the p-values associated with their coefficients are not significant*\""
   ]
  },
  {
   "cell_type": "code",
   "execution_count": null,
   "metadata": {},
   "outputs": [],
   "source": []
  },
  {
   "cell_type": "markdown",
   "metadata": {},
   "source": [
    "**Exercise** [FAKE!]\n",
    "\n",
    "Imagine there is a theory that states that partying out has more negative effect on males compared to females in terms of grades in the exams. That is, that there is a (negative) *synergetic* effect between both variables. Use the (mock) data to refute of validate this hypothesis."
   ]
  },
  {
   "cell_type": "code",
   "execution_count": null,
   "metadata": {},
   "outputs": [],
   "source": []
  },
  {
   "cell_type": "markdown",
   "metadata": {},
   "source": [
    "# Challenging the linear assumption: polynomial regression"
   ]
  },
  {
   "cell_type": "code",
   "execution_count": null,
   "metadata": {},
   "outputs": [],
   "source": []
  },
  {
   "cell_type": "code",
   "execution_count": null,
   "metadata": {},
   "outputs": [],
   "source": []
  },
  {
   "cell_type": "code",
   "execution_count": null,
   "metadata": {},
   "outputs": [],
   "source": []
  },
  {
   "cell_type": "code",
   "execution_count": null,
   "metadata": {},
   "outputs": [],
   "source": []
  },
  {
   "cell_type": "code",
   "execution_count": null,
   "metadata": {},
   "outputs": [],
   "source": []
  },
  {
   "cell_type": "code",
   "execution_count": null,
   "metadata": {},
   "outputs": [],
   "source": []
  },
  {
   "cell_type": "code",
   "execution_count": null,
   "metadata": {},
   "outputs": [],
   "source": []
  },
  {
   "cell_type": "markdown",
   "metadata": {},
   "source": [
    "# Model selection"
   ]
  },
  {
   "cell_type": "markdown",
   "metadata": {},
   "source": [
    "### Adjusted $R^2$"
   ]
  },
  {
   "cell_type": "markdown",
   "metadata": {},
   "source": [
    "There is a funny thing with $R^2$. Look at what happens when we include *Random* variables!!"
   ]
  },
  {
   "cell_type": "code",
   "execution_count": null,
   "metadata": {},
   "outputs": [],
   "source": [
    "df_adv"
   ]
  },
  {
   "cell_type": "code",
   "execution_count": null,
   "metadata": {},
   "outputs": [],
   "source": [
    "df_adv['rand_1'] = np.random.normal(size=200)\n",
    "df_adv['rand_2'] = np.random.normal(size=200)\n",
    "df_adv['rand_3'] = np.random.normal(size=200)\n",
    "df_adv['rand_4'] = np.random.normal(size=200)\n",
    "df_adv['rand_5'] = np.random.normal(size=200)\n",
    "df_adv['rand_6'] = np.random.normal(size=200)\n",
    "df_adv['rand_7'] = np.random.normal(size=200)\n",
    "df_adv['rand_8'] = np.random.normal(size=200)"
   ]
  },
  {
   "cell_type": "code",
   "execution_count": null,
   "metadata": {
    "scrolled": false
   },
   "outputs": [],
   "source": [
    "results = smf.ols('Sales ~ TV + Radio + Newspaper + rand_1 + rand_2 + rand_3 + rand_4 + rand_5 + rand_6 + rand_7 + rand_8', \n",
    "                  data=df_adv).fit()\n",
    "results.summary()"
   ]
  },
  {
   "cell_type": "markdown",
   "metadata": {},
   "source": [
    "The `Adj. R-squared` coefficient is meant to penalize the $R^2$ of a model when including *too many* variables. \n",
    "$$\\bar R^2 = 1-(1-R^2){n-1 \\over n-p-1}$$\n",
    "\n",
    "There are other statistics to reflect the quality of a model auch as `AIC` ([Akaike Information Criterion](https://en.wikipedia.org/wiki/Akaike_information_criterion)) and the `BIC` ([Bayesian Information Criterion](https://en.wikipedia.org/wiki/Bayesian_information_criterion)) --- did you noticed these names in the results from statsmodels? In both cases, the lowest the better.\n",
    "\n"
   ]
  },
  {
   "cell_type": "markdown",
   "metadata": {},
   "source": [
    "## Stepwise selection\n",
    "\n",
    "One should always aim to have a model as simple as possible! We will study other ways of doing this using **regularization**, but so far the methods we describe here are rather useful!\n",
    "\n",
    "#### Best subset selection\n",
    "\n",
    "1. Start with a model with no predictors (just the intercept). This model is $\\mathcal{M_0}$ \n",
    "2. for $k = 0,1,..., p-1$\n",
    "    * consider all ${p \\choose k}$ models that contain exactly one predictor\n",
    "    * choose the *best* among these ${p \\choose k}$ models, and call it $\\mathcal{M_{k+1}}$. Here best is defined as having the smallest $RSS$ of highest $R^2$.\n",
    "3. Select the single best model among $\\mathcal{M_0}, \\dots, \\mathcal{M_p}$ using either $R_{adj}^2$, $BIC$, or $AIC$.\n",
    "\n",
    "#### Forward stepwise selection\n",
    "\n",
    "1. Start with a model with no predictors (just the intercept). This model is $\\mathcal{M_0}$ \n",
    "2. For $k = 0,1,..., p-1$\n",
    "    * consider all $p-k$ models that augment the predictors in $\\mathcal{M_k}$  with one additional predictor.\n",
    "    * choose the *best* among these $p-k$ models, and call it $\\mathcal{M_{k+1}}$. Here best is defined as having the smallest $RSS$ of highest $R^2$.\n",
    "3. Select the single best model among $\\mathcal{M_0}, \\dots, \\mathcal{M_p}$ using either $R_{adj}^2$, $BIC$, or $AIC$."
   ]
  },
  {
   "cell_type": "markdown",
   "metadata": {},
   "source": [
    "## Potential problems in Linear Regression\n",
    "\n",
    "The main assumptions of a linear model are:\n",
    "\n",
    "* Data is linear \n",
    "* Errors are not correlated\n",
    "* Variance of error terms is constant\n",
    "\n",
    "What if these assumptions are not met? Can we apply a linear regression model and expect to predict good results?\n",
    "\n",
    "Additionally, our models may suffer from other issues such as:\n",
    "* Outliers\n",
    "* High Leverage points\n",
    "* Collinearity\n",
    "* Missing values\n",
    "\n",
    "Watch this [video](https://www.youtube.com/watch?v=hVe2F9krrWk) for an introduction to the topic.\n",
    "Read section 3.3.3 of the book [Introduction to Statistical Learning](http://faculty.marshall.usc.edu/gareth-james/ISL/ISLR%20Seventh%20Printing.pdf)."
   ]
  },
  {
   "attachments": {
    "image.png": {
     "image/png": "[encoded data removed]"
    }
   },
   "cell_type": "markdown",
   "metadata": {},
   "source": [
    "![image.png](attachment:image.png)\n",
    "\n",
    "See [Wikipedia](https://en.wikipedia.org/wiki/Anscombe%27s_quartet)"
   ]
  },
  {
   "cell_type": "markdown",
   "metadata": {},
   "source": [
    "# Mini-project\n",
    "\n",
    "You will be conducting a project next week to predict the prices in the [Boston Houses dataset](https://www.cs.toronto.edu/~delve/data/boston/bostonDetail.html), using everything you have learnt so far about linear regression!\n",
    "\n",
    "See [repo](https://github.com/agalvezcorell/linear-regression-boston-housing/blob/main/mini-project.ipynb)."
   ]
  },
  {
   "cell_type": "markdown",
   "metadata": {},
   "source": [
    "# References: \n",
    "\n",
    "* [Introduction to Statistical Learning (Chapter 3)](http://faculty.marshall.usc.edu/gareth-james/ISL/ISLR%20Seventh%20Printing.pdf)\n",
    "* One example of [linear regression with the Boston data set](https://towardsdatascience.com/linear-regression-on-boston-housing-dataset-f409b7e4a155)"
   ]
  }
 ],
 "metadata": {
  "kernelspec": {
   "display_name": "Python 3",
   "language": "python",
   "name": "python3"
  },
  "language_info": {
   "codemirror_mode": {
    "name": "ipython",
    "version": 3
   },
   "file_extension": ".py",
   "mimetype": "text/x-python",
   "name": "python",
   "nbconvert_exporter": "python",
   "pygments_lexer": "ipython3",
   "version": "3.7.4"
  },
  "toc": {
   "base_numbering": 1,
   "nav_menu": {
    "height": "20px",
    "width": "281px"
   },
   "number_sections": true,
   "sideBar": true,
   "skip_h1_title": true,
   "title_cell": "Table of Contents",
   "title_sidebar": "Contents",
   "toc_cell": false,
   "toc_position": {
    "height": "calc(100% - 180px)",
    "left": "10px",
    "top": "150px",
    "width": "350px"
   },
   "toc_section_display": true,
   "toc_window_display": true
  },
  "varInspector": {
   "cols": {
    "lenName": 16,
    "lenType": 16,
    "lenVar": 40
   },
   "kernels_config": {
    "python": {
     "delete_cmd_postfix": "",
     "delete_cmd_prefix": "del ",
     "library": "var_list.py",
     "varRefreshCmd": "print(var_dic_list())"
    },
    "r": {
     "delete_cmd_postfix": ") ",
     "delete_cmd_prefix": "rm(",
     "library": "var_list.r",
     "varRefreshCmd": "cat(var_dic_list()) "
    }
   },
   "types_to_exclude": [
    "module",
    "function",
    "builtin_function_or_method",
    "instance",
    "_Feature"
   ],
   "window_display": false
  }
 },
 "nbformat": 4,
 "nbformat_minor": 4
}
