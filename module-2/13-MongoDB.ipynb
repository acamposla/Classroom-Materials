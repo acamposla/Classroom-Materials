{
 "cells": [
  {
   "cell_type": "markdown",
   "id": "mighty-crowd",
   "metadata": {},
   "source": [
    "# MongoDB"
   ]
  },
  {
   "cell_type": "markdown",
   "id": "incoming-mortgage",
   "metadata": {},
   "source": [
    "![memesmongo](images/mongo.png)"
   ]
  },
  {
   "cell_type": "markdown",
   "id": "greatest-neighborhood",
   "metadata": {
    "toc": true
   },
   "source": [
    "<h1>Table of Contents<span class=\"tocSkip\"></span></h1>\n",
    "<div class=\"toc\"><ul class=\"toc-item\"><li><span><a href=\"#¿Qué-es-MongoDB?\" data-toc-modified-id=\"¿Qué-es-MongoDB?-1\"><span class=\"toc-item-num\">1&nbsp;&nbsp;</span>¿Qué es MongoDB?</a></span></li><li><span><a href=\"#¿Qué-es-la-base-de-datos-MongoDB?\" data-toc-modified-id=\"¿Qué-es-la-base-de-datos-MongoDB?-2\"><span class=\"toc-item-num\">2&nbsp;&nbsp;</span>¿Qué es la base de datos MongoDB?</a></span><ul class=\"toc-item\"><li><span><a href=\"#Pequeña-explicación-animada-🤔\" data-toc-modified-id=\"Pequeña-explicación-animada-🤔-2.1\"><span class=\"toc-item-num\">2.1&nbsp;&nbsp;</span>Pequeña explicación animada 🤔</a></span></li></ul></li><li><span><a href=\"#Instalaciones\" data-toc-modified-id=\"Instalaciones-3\"><span class=\"toc-item-num\">3&nbsp;&nbsp;</span>Instalaciones</a></span></li><li><span><a href=\"#Creación-de-bases-de-datos\" data-toc-modified-id=\"Creación-de-bases-de-datos-4\"><span class=\"toc-item-num\">4&nbsp;&nbsp;</span>Creación de bases de datos</a></span></li><li><span><a href=\"#Conexión-con-Python\" data-toc-modified-id=\"Conexión-con-Python-5\"><span class=\"toc-item-num\">5&nbsp;&nbsp;</span>Conexión con Python</a></span><ul class=\"toc-item\"><li><span><a href=\"#Nos-conectamos-al-servidor\" data-toc-modified-id=\"Nos-conectamos-al-servidor-5.1\"><span class=\"toc-item-num\">5.1&nbsp;&nbsp;</span>Nos conectamos al servidor</a></span></li><li><span><a href=\"#Nos-conectamos-con-la-base-de-datos\" data-toc-modified-id=\"Nos-conectamos-con-la-base-de-datos-5.2\"><span class=\"toc-item-num\">5.2&nbsp;&nbsp;</span>Nos conectamos con la base de datos</a></span></li></ul></li><li><span><a href=\"#Operaciones-básicas-de-gestión-de-bases-de-datos\" data-toc-modified-id=\"Operaciones-básicas-de-gestión-de-bases-de-datos-6\"><span class=\"toc-item-num\">6&nbsp;&nbsp;</span>Operaciones básicas de gestión de bases de datos</a></span><ul class=\"toc-item\"><li><span><a href=\"#Creamos-y-borramos-colecciones-desde-python\" data-toc-modified-id=\"Creamos-y-borramos-colecciones-desde-python-6.1\"><span class=\"toc-item-num\">6.1&nbsp;&nbsp;</span>Creamos y borramos colecciones desde python</a></span></li><li><span><a href=\"#Nos-conectamos-a-una-colección-en-concreto-para-hacer-las-consultas\" data-toc-modified-id=\"Nos-conectamos-a-una-colección-en-concreto-para-hacer-las-consultas-6.2\"><span class=\"toc-item-num\">6.2&nbsp;&nbsp;</span>Nos conectamos a una colección en concreto para hacer las consultas</a></span></li></ul></li><li><span><a href=\"#Consultas-en-Mongo\" data-toc-modified-id=\"Consultas-en-Mongo-7\"><span class=\"toc-item-num\">7&nbsp;&nbsp;</span>Consultas en Mongo</a></span><ul class=\"toc-item\"><li><span><a href=\"#Método-find_one\" data-toc-modified-id=\"Método-find_one-7.1\"><span class=\"toc-item-num\">7.1&nbsp;&nbsp;</span>Método <code>find_one</code></a></span></li><li><span><a href=\"#Método-find\" data-toc-modified-id=\"Método-find-7.2\"><span class=\"toc-item-num\">7.2&nbsp;&nbsp;</span>Método <code>find</code></a></span></li></ul></li><li><span><a href=\"#Proyección\" data-toc-modified-id=\"Proyección-8\"><span class=\"toc-item-num\">8&nbsp;&nbsp;</span>Proyección</a></span></li><li><span><a href=\"#Otros-métodos\" data-toc-modified-id=\"Otros-métodos-9\"><span class=\"toc-item-num\">9&nbsp;&nbsp;</span>Otros métodos</a></span><ul class=\"toc-item\"><li><span><a href=\"#distinct\" data-toc-modified-id=\"distinct-9.1\"><span class=\"toc-item-num\">9.1&nbsp;&nbsp;</span><code>distinct</code></a></span></li><li><span><a href=\"#count\" data-toc-modified-id=\"count-9.2\"><span class=\"toc-item-num\">9.2&nbsp;&nbsp;</span><code>count</code></a></span></li><li><span><a href=\"#sort\" data-toc-modified-id=\"sort-9.3\"><span class=\"toc-item-num\">9.3&nbsp;&nbsp;</span><code>sort</code></a></span></li><li><span><a href=\"#limit\" data-toc-modified-id=\"limit-9.4\"><span class=\"toc-item-num\">9.4&nbsp;&nbsp;</span><code>limit</code></a></span></li><li><span><a href=\"#skip\" data-toc-modified-id=\"skip-9.5\"><span class=\"toc-item-num\">9.5&nbsp;&nbsp;</span><code>skip</code></a></span></li></ul></li><li><span><a href=\"#Operadores-de-consulta-típicos\" data-toc-modified-id=\"Operadores-de-consulta-típicos-10\"><span class=\"toc-item-num\">10&nbsp;&nbsp;</span>Operadores de consulta típicos</a></span><ul class=\"toc-item\"><li><span><a href=\"#Mayor-que-/-Menor-que\" data-toc-modified-id=\"Mayor-que-/-Menor-que-10.1\"><span class=\"toc-item-num\">10.1&nbsp;&nbsp;</span>Mayor que / Menor que</a></span></li><li><span><a href=\"#exists\" data-toc-modified-id=\"exists-10.2\"><span class=\"toc-item-num\">10.2&nbsp;&nbsp;</span><code>exists</code></a></span></li><li><span><a href=\"#regex\" data-toc-modified-id=\"regex-10.3\"><span class=\"toc-item-num\">10.3&nbsp;&nbsp;</span><code>regex</code></a></span></li></ul></li><li><span><a href=\"#Resumen-Hasta-aquí\" data-toc-modified-id=\"Resumen-Hasta-aquí-11\"><span class=\"toc-item-num\">11&nbsp;&nbsp;</span>Resumen Hasta aquí</a></span><ul class=\"toc-item\"><li><span><a href=\"#and\" data-toc-modified-id=\"and-11.1\"><span class=\"toc-item-num\">11.1&nbsp;&nbsp;</span><code>and</code></a></span></li><li><span><a href=\"#or\" data-toc-modified-id=\"or-11.2\"><span class=\"toc-item-num\">11.2&nbsp;&nbsp;</span><code>or</code></a></span></li><li><span><a href=\"#ne\" data-toc-modified-id=\"ne-11.3\"><span class=\"toc-item-num\">11.3&nbsp;&nbsp;</span><code>ne</code></a></span></li><li><span><a href=\"#in\" data-toc-modified-id=\"in-11.4\"><span class=\"toc-item-num\">11.4&nbsp;&nbsp;</span><code>in</code></a></span></li><li><span><a href=\"#nin\" data-toc-modified-id=\"nin-11.5\"><span class=\"toc-item-num\">11.5&nbsp;&nbsp;</span><code>nin</code></a></span></li></ul></li><li><span><a href=\"#Update\" data-toc-modified-id=\"Update-12\"><span class=\"toc-item-num\">12&nbsp;&nbsp;</span>Update</a></span></li><li><span><a href=\"#Delete\" data-toc-modified-id=\"Delete-13\"><span class=\"toc-item-num\">13&nbsp;&nbsp;</span>Delete</a></span></li><li><span><a href=\"#Info-extra\" data-toc-modified-id=\"Info-extra-14\"><span class=\"toc-item-num\">14&nbsp;&nbsp;</span>Info extra</a></span></li><li><span><a href=\"#Summary\" data-toc-modified-id=\"Summary-15\"><span class=\"toc-item-num\">15&nbsp;&nbsp;</span>Summary</a></span></li><li><span><a href=\"#Further-Materials\" data-toc-modified-id=\"Further-Materials-16\"><span class=\"toc-item-num\">16&nbsp;&nbsp;</span>Further Materials</a></span></li></ul></div>"
   ]
  },
  {
   "cell_type": "markdown",
   "id": "logical-pattern",
   "metadata": {},
   "source": [
    "## ¿Qué es MongoDB?    \n",
    "   \n",
    "MongoDB (del inglés humongous, \"enorme\") es un sistema de base de datos NoSQL, orientado a documentos y de código abierto.\n",
    "En lugar de guardar los datos en tablas, tal y como se hace en las bases de datos relacionales, MongoDB guarda estructuras de datos BSON (una especificación similar a JSON) con un esquema dinámico, haciendo que la integración de los datos en ciertas aplicaciones sea más fácil y rápida.\n",
    "MongoDB es una base de datos adecuada para su uso en producción y con múltiples funcionalidades. Esta base de datos se utiliza mucho en la industria, contando con implantaciones en empresas como MTV Network,  Craiglist, Foursquare.       \n",
    "El código fuente está disponible para los sistemas operativos --> Windows, GNU/Linux, OS X y Solaris."
   ]
  },
  {
   "cell_type": "markdown",
   "id": "classified-answer",
   "metadata": {},
   "source": [
    "## ¿Qué es la base de datos MongoDB?\n",
    "\n",
    "Una base de datos, es decir, una forma estructurada de almacenar y acceder a los datos, más específicamente, es una base de datos NoSQL.\n",
    "NoSQL es un término muy genérico que se utiliza para describir cualquier almacén de datos que no utiliza el enfoque heredado de tablas de datos relacionadas.\n",
    "Esto significa que está almacenando sus datos de una manera organizada, pero no en filas y columnas Un ejemplo de bases de datos NoSQL puede ser cualquier cosa, desde un catálogo de tarjetas de biblioteca, a un almacén de datos más sofisticado como MongoDB.\n",
    "Dado que el rango de lo que significa NoSQL es tan amplio, debemos acotar más nuestra definición.\n",
    "MongoDB es una base de datos de documentos NoSQL.\n",
    "Esto significa que los datos en MongoDB se almacenan como documentos, estos documentos se almacenan a su vez en lo que llamamos colecciones de documentos, Por eso MongoDB se clasifica como una base de datos de documentos NoSQL.\n",
    "\n",
    "En conclusión, la base de datos MongoDB es una base de datos de documentos NoSQL."
   ]
  },
  {
   "cell_type": "markdown",
   "id": "checked-sigma",
   "metadata": {},
   "source": [
    "### Pequeña explicación animada 🤔\n",
    "Veamos juntas [este](https://www.youtube.com/watch?v=DM4gD6Z5zFU) vídeo"
   ]
  },
  {
   "cell_type": "markdown",
   "id": "dominican-proposal",
   "metadata": {},
   "source": [
    "## Instalaciones\n",
    "Encontrarás todo lo referente a las instalaciones [AQUÍ](https://github.com/Ironhack-Data-Madrid-Marzo-2021/Classroom-Materials-FT/blob/main/week_04/00-mongoDB-installation.ipynb)"
   ]
  },
  {
   "cell_type": "markdown",
   "id": "surgical-graduation",
   "metadata": {},
   "source": [
    "## Creación de bases de datos\n",
    "Hemos visto que a través de MongoDB compass podíamos crear una base de datos, una colección e importar los datos en formato JSON de manera sencilla. \n",
    "También podemos hacerlo mediante la interfaz de comandos o CLI de mongo."
   ]
  },
  {
   "cell_type": "code",
   "execution_count": null,
   "id": "emotional-pharmacy",
   "metadata": {},
   "outputs": [],
   "source": [
    "#$ mongoimport --db ironhack --collection companies --file companies.json"
   ]
  },
  {
   "cell_type": "markdown",
   "id": "electronic-inclusion",
   "metadata": {},
   "source": [
    "Nos ubicamos en la terminal en la carpeta donde hayamos descargado el json de \"companies\". El comando lo que hace es importar a la base de daatos de ironhack, dentro de la colección companies, ese json. Si introducimos un nombre de base de datos que no existe o de colección que no existe, MongoDB lo crea por nosotras automáticamente. "
   ]
  },
  {
   "cell_type": "markdown",
   "id": "another-neutral",
   "metadata": {},
   "source": [
    "## Conexión con Python"
   ]
  },
  {
   "cell_type": "markdown",
   "id": "tired-portal",
   "metadata": {},
   "source": [
    "Lo primero que vamos a necesitar para conectar python con el servidor de bases de datos de MongoDB es instalar la siguiente librería\n",
    "```python\n",
    "#!pip install pymongo\n",
    "```\n",
    "Y recuerda: Tienes que [leer la documentación](https://pymongo.readthedocs.io/en/stable/)"
   ]
  },
  {
   "cell_type": "code",
   "execution_count": 144,
   "id": "medieval-venue",
   "metadata": {},
   "outputs": [],
   "source": [
    "from pymongo import MongoClient"
   ]
  },
  {
   "cell_type": "markdown",
   "id": "solved-crisis",
   "metadata": {},
   "source": [
    "### Nos conectamos al servidor\n",
    "El servidor de Mongo tiene que estar activo y normalmente está corriendo en el puerto 27017, siempre se conecta a este puerto por defecto"
   ]
  },
  {
   "cell_type": "code",
   "execution_count": 145,
   "id": "material-mexican",
   "metadata": {},
   "outputs": [],
   "source": [
    "# Con el comando MongoClient establecemos conexión con el servidor\n",
    "client = MongoClient(\"localhost:27017\")"
   ]
  },
  {
   "cell_type": "code",
   "execution_count": 146,
   "id": "electrical-shopper",
   "metadata": {},
   "outputs": [
    {
     "data": {
      "text/plain": [
       "MongoClient(host=['localhost:27017'], document_class=dict, tz_aware=False, connect=True)"
      ]
     },
     "execution_count": 146,
     "metadata": {},
     "output_type": "execute_result"
    }
   ],
   "source": [
    "client"
   ]
  },
  {
   "cell_type": "code",
   "execution_count": 147,
   "id": "equivalent-privacy",
   "metadata": {},
   "outputs": [],
   "source": [
    "#client.*list*?"
   ]
  },
  {
   "cell_type": "code",
   "execution_count": 148,
   "id": "linear-latin",
   "metadata": {},
   "outputs": [
    {
     "data": {
      "text/plain": [
       "['admin', 'config', 'ironhack', 'ironhack_2', 'local', 'otra']"
      ]
     },
     "execution_count": 148,
     "metadata": {},
     "output_type": "execute_result"
    }
   ],
   "source": [
    "# Mostrar los nombres de las bases de datos existentes\n",
    "client.list_database_names()"
   ]
  },
  {
   "cell_type": "markdown",
   "id": "exterior-ecuador",
   "metadata": {},
   "source": [
    "### Nos conectamos con la base de datos"
   ]
  },
  {
   "cell_type": "code",
   "execution_count": 149,
   "id": "civilian-bankruptcy",
   "metadata": {},
   "outputs": [],
   "source": [
    "# Para crear una conexión con la base de datos en la que vayamos a trabajar\n",
    "db = client.get_database(\"ironhack_2\")"
   ]
  },
  {
   "cell_type": "code",
   "execution_count": 150,
   "id": "level-fantasy",
   "metadata": {},
   "outputs": [
    {
     "data": {
      "text/plain": [
       "Database(MongoClient(host=['localhost:27017'], document_class=dict, tz_aware=False, connect=True), 'ironhack_2')"
      ]
     },
     "execution_count": 150,
     "metadata": {},
     "output_type": "execute_result"
    }
   ],
   "source": [
    "db"
   ]
  },
  {
   "cell_type": "markdown",
   "id": "primary-vertical",
   "metadata": {},
   "source": [
    "## Operaciones básicas de gestión de bases de datos"
   ]
  },
  {
   "cell_type": "code",
   "execution_count": 151,
   "id": "thousand-subsection",
   "metadata": {},
   "outputs": [
    {
     "data": {
      "text/plain": [
       "['restaurants2', 'restaurants']"
      ]
     },
     "execution_count": 151,
     "metadata": {},
     "output_type": "execute_result"
    }
   ],
   "source": [
    "db.list_collection_names()"
   ]
  },
  {
   "cell_type": "markdown",
   "id": "monetary-patch",
   "metadata": {},
   "source": [
    "### Creamos y borramos colecciones desde python"
   ]
  },
  {
   "cell_type": "code",
   "execution_count": 152,
   "id": "artificial-allen",
   "metadata": {},
   "outputs": [],
   "source": [
    "# Podemos crear colecciones como hemos visto antes con la GUI de MongoDB (Mongo Compass) o desde aquí mismo"
   ]
  },
  {
   "cell_type": "code",
   "execution_count": 12,
   "id": "temporal-arcade",
   "metadata": {},
   "outputs": [
    {
     "data": {
      "text/plain": [
       "Collection(Database(MongoClient(host=['localhost:27017'], document_class=dict, tz_aware=False, connect=True), 'ironhack_2'), 'prueba')"
      ]
     },
     "execution_count": 12,
     "metadata": {},
     "output_type": "execute_result"
    }
   ],
   "source": [
    "# Creamos la colección\n",
    "db.create_collection(\"prueba\")"
   ]
  },
  {
   "cell_type": "code",
   "execution_count": 13,
   "id": "proud-undergraduate",
   "metadata": {},
   "outputs": [
    {
     "data": {
      "text/plain": [
       "['restaurants2', 'restaurants', 'prueba']"
      ]
     },
     "execution_count": 13,
     "metadata": {},
     "output_type": "execute_result"
    }
   ],
   "source": [
    "# Listamos las colecciones y vemos si se ha creado la colección\n",
    "db.list_collection_names()"
   ]
  },
  {
   "cell_type": "code",
   "execution_count": 14,
   "id": "superb-harassment",
   "metadata": {},
   "outputs": [
    {
     "data": {
      "text/plain": [
       "{'nIndexesWas': 1, 'ns': 'ironhack_2.prueba', 'ok': 1.0}"
      ]
     },
     "execution_count": 14,
     "metadata": {},
     "output_type": "execute_result"
    }
   ],
   "source": [
    "# Borramos la colección que acabamos de crear\n",
    "db.drop_collection(\"prueba\")"
   ]
  },
  {
   "cell_type": "code",
   "execution_count": 15,
   "id": "critical-fruit",
   "metadata": {},
   "outputs": [
    {
     "data": {
      "text/plain": [
       "['restaurants2', 'restaurants']"
      ]
     },
     "execution_count": 15,
     "metadata": {},
     "output_type": "execute_result"
    }
   ],
   "source": [
    "# Comprobamos de nuevo\n",
    "db.list_collection_names()"
   ]
  },
  {
   "cell_type": "markdown",
   "id": "beginning-mechanics",
   "metadata": {},
   "source": [
    "### Nos conectamos a una colección en concreto para hacer las consultas"
   ]
  },
  {
   "cell_type": "code",
   "execution_count": 16,
   "id": "turkish-advantage",
   "metadata": {},
   "outputs": [],
   "source": [
    "# Elegimos la colección con la que vamos a trabajar\n",
    "collection = db.get_collection(\"restaurants\")"
   ]
  },
  {
   "cell_type": "markdown",
   "id": "deadly-aurora",
   "metadata": {},
   "source": [
    "## Consultas en Mongo"
   ]
  },
  {
   "cell_type": "markdown",
   "id": "generous-being",
   "metadata": {},
   "source": [
    "Para explorar cómo son los documentos en mi colección, qué forma y qué campos tienen, puedo irme a Mongo Compass y explorar la colección, o puedo elegir un documento sin filtrar. "
   ]
  },
  {
   "cell_type": "markdown",
   "id": "metric-information",
   "metadata": {},
   "source": [
    "![undocumento](images/compass1.png)"
   ]
  },
  {
   "cell_type": "code",
   "execution_count": null,
   "id": "satisfied-syntax",
   "metadata": {},
   "outputs": [],
   "source": [
    "## Hagámoslo en Mongo"
   ]
  },
  {
   "cell_type": "markdown",
   "id": "dietary-musician",
   "metadata": {},
   "source": [
    "### Método `find_one` \n",
    "`collection.find_one(filter)`"
   ]
  },
  {
   "cell_type": "code",
   "execution_count": 17,
   "id": "double-gabriel",
   "metadata": {},
   "outputs": [
    {
     "data": {
      "text/plain": [
       "{'_id': ObjectId('55f14312c7447c3da7051b26'),\n",
       " 'URL': 'http://www.just-eat.co.uk/restaurants-cn-chinese-cardiff/menu',\n",
       " 'address': '228 City Road',\n",
       " 'address line 2': 'Cardiff',\n",
       " 'name': '.CN Chinese',\n",
       " 'outcode': 'CF24',\n",
       " 'postcode': '3JH',\n",
       " 'rating': 5,\n",
       " 'type_of_food': 'Chinese'}"
      ]
     },
     "execution_count": 17,
     "metadata": {},
     "output_type": "execute_result"
    }
   ],
   "source": [
    "# Si no pongo ningún filtro, me dará el primer documento\n",
    "collection.find_one()"
   ]
  },
  {
   "cell_type": "code",
   "execution_count": 19,
   "id": "usual-slovenia",
   "metadata": {},
   "outputs": [],
   "source": [
    "un_doc = collection.find_one()"
   ]
  },
  {
   "cell_type": "code",
   "execution_count": 20,
   "id": "embedded-prime",
   "metadata": {},
   "outputs": [
    {
     "data": {
      "text/plain": [
       "dict"
      ]
     },
     "execution_count": 20,
     "metadata": {},
     "output_type": "execute_result"
    }
   ],
   "source": [
    "type(un_doc)"
   ]
  },
  {
   "cell_type": "code",
   "execution_count": 18,
   "id": "worldwide-spectacular",
   "metadata": {},
   "outputs": [
    {
     "data": {
      "text/plain": [
       "dict_keys(['_id', 'URL', 'address', 'address line 2', 'name', 'outcode', 'postcode', 'rating', 'type_of_food'])"
      ]
     },
     "execution_count": 18,
     "metadata": {},
     "output_type": "execute_result"
    }
   ],
   "source": [
    "# Ojo, porque no todos los documentos tienen por qué tener las mismas keys, Mongo es flexible para esto\n",
    "collection.find_one().keys()"
   ]
  },
  {
   "cell_type": "code",
   "execution_count": 21,
   "id": "every-jurisdiction",
   "metadata": {},
   "outputs": [
    {
     "data": {
      "text/plain": [
       "{'_id': ObjectId('55f14312c7447c3da7051b26'),\n",
       " 'URL': 'http://www.just-eat.co.uk/restaurants-cn-chinese-cardiff/menu',\n",
       " 'address': '228 City Road',\n",
       " 'address line 2': 'Cardiff',\n",
       " 'name': '.CN Chinese',\n",
       " 'outcode': 'CF24',\n",
       " 'postcode': '3JH',\n",
       " 'rating': 5,\n",
       " 'type_of_food': 'Chinese'}"
      ]
     },
     "execution_count": 21,
     "metadata": {},
     "output_type": "execute_result"
    }
   ],
   "source": [
    "collection.find_one({\"rating\":5})"
   ]
  },
  {
   "cell_type": "markdown",
   "id": "forty-challenge",
   "metadata": {},
   "source": [
    "### Método `find` \n",
    "`collection.find(filter)`"
   ]
  },
  {
   "cell_type": "code",
   "execution_count": 22,
   "id": "adolescent-pricing",
   "metadata": {},
   "outputs": [],
   "source": [
    "documentos = collection.find()"
   ]
  },
  {
   "cell_type": "code",
   "execution_count": 23,
   "id": "gentle-pantyhose",
   "metadata": {},
   "outputs": [
    {
     "data": {
      "text/plain": [
       "<pymongo.cursor.Cursor at 0x7ff5fb97f790>"
      ]
     },
     "execution_count": 23,
     "metadata": {},
     "output_type": "execute_result"
    }
   ],
   "source": [
    "documentos"
   ]
  },
  {
   "cell_type": "code",
   "execution_count": 24,
   "id": "creative-setting",
   "metadata": {},
   "outputs": [
    {
     "data": {
      "text/plain": [
       "pymongo.cursor.Cursor"
      ]
     },
     "execution_count": 24,
     "metadata": {},
     "output_type": "execute_result"
    }
   ],
   "source": [
    "type(documentos)"
   ]
  },
  {
   "cell_type": "markdown",
   "id": "animated-surfing",
   "metadata": {},
   "source": [
    "El método de colección `pymongo` devuelve un Cursor:\n",
    " * un Cursor es un iterador\n",
    " * un Cursor tiene el método `__next__` (la función `next` devuelve el siguiente elemento en el flujo)\n",
    " * `pymongo` no trae información a la memoria hasta que se necesita\n",
    " * un Cursor no tiene `len`."
   ]
  },
  {
   "cell_type": "code",
   "execution_count": 25,
   "id": "global-gathering",
   "metadata": {},
   "outputs": [
    {
     "ename": "TypeError",
     "evalue": "object of type 'Cursor' has no len()",
     "output_type": "error",
     "traceback": [
      "\u001b[0;31m---------------------------------------------------------------------------\u001b[0m",
      "\u001b[0;31mTypeError\u001b[0m                                 Traceback (most recent call last)",
      "\u001b[0;32m<ipython-input-25-a31fe995dc8c>\u001b[0m in \u001b[0;36m<module>\u001b[0;34m\u001b[0m\n\u001b[0;32m----> 1\u001b[0;31m \u001b[0mlen\u001b[0m\u001b[0;34m(\u001b[0m\u001b[0mdocumentos\u001b[0m\u001b[0;34m)\u001b[0m\u001b[0;34m\u001b[0m\u001b[0;34m\u001b[0m\u001b[0m\n\u001b[0m",
      "\u001b[0;31mTypeError\u001b[0m: object of type 'Cursor' has no len()"
     ]
    }
   ],
   "source": [
    "len(documentos)"
   ]
  },
  {
   "cell_type": "code",
   "execution_count": 28,
   "id": "assigned-passenger",
   "metadata": {},
   "outputs": [
    {
     "data": {
      "text/plain": [
       "{'_id': ObjectId('55f14312c7447c3da7051b27'),\n",
       " 'URL': 'http://www.just-eat.co.uk/restaurants-atthai-ss9/menu',\n",
       " 'address': '376 Rayleigh Road',\n",
       " 'address line 2': 'Essex',\n",
       " 'name': '@ Thai',\n",
       " 'outcode': 'SS9',\n",
       " 'postcode': '5PT',\n",
       " 'rating': 5.5,\n",
       " 'type_of_food': 'Thai'}"
      ]
     },
     "execution_count": 28,
     "metadata": {},
     "output_type": "execute_result"
    }
   ],
   "source": [
    "documentos.next()"
   ]
  },
  {
   "cell_type": "code",
   "execution_count": 36,
   "id": "extended-duncan",
   "metadata": {},
   "outputs": [
    {
     "data": {
      "text/plain": [
       "1107"
      ]
     },
     "execution_count": 36,
     "metadata": {},
     "output_type": "execute_result"
    }
   ],
   "source": [
    "# Cinco estrellas rating\n",
    "cinco = list(collection.find({\"rating\":5}))\n",
    "len(cinco)"
   ]
  },
  {
   "cell_type": "code",
   "execution_count": null,
   "id": "concerned-copyright",
   "metadata": {},
   "outputs": [],
   "source": [
    "#cincoestrellas"
   ]
  },
  {
   "cell_type": "code",
   "execution_count": 38,
   "id": "extended-cologne",
   "metadata": {},
   "outputs": [],
   "source": [
    "import pandas as pd"
   ]
  },
  {
   "cell_type": "code",
   "execution_count": 39,
   "id": "israeli-hydrogen",
   "metadata": {},
   "outputs": [
    {
     "data": {
      "text/html": [
       "<div>\n",
       "<style scoped>\n",
       "    .dataframe tbody tr th:only-of-type {\n",
       "        vertical-align: middle;\n",
       "    }\n",
       "\n",
       "    .dataframe tbody tr th {\n",
       "        vertical-align: top;\n",
       "    }\n",
       "\n",
       "    .dataframe thead th {\n",
       "        text-align: right;\n",
       "    }\n",
       "</style>\n",
       "<table border=\"1\" class=\"dataframe\">\n",
       "  <thead>\n",
       "    <tr style=\"text-align: right;\">\n",
       "      <th></th>\n",
       "      <th>_id</th>\n",
       "      <th>URL</th>\n",
       "      <th>address</th>\n",
       "      <th>address line 2</th>\n",
       "      <th>name</th>\n",
       "      <th>outcode</th>\n",
       "      <th>postcode</th>\n",
       "      <th>rating</th>\n",
       "      <th>type_of_food</th>\n",
       "    </tr>\n",
       "  </thead>\n",
       "  <tbody>\n",
       "    <tr>\n",
       "      <th>0</th>\n",
       "      <td>55f14312c7447c3da7051b26</td>\n",
       "      <td>http://www.just-eat.co.uk/restaurants-cn-chine...</td>\n",
       "      <td>228 City Road</td>\n",
       "      <td>Cardiff</td>\n",
       "      <td>.CN Chinese</td>\n",
       "      <td>CF24</td>\n",
       "      <td>3JH</td>\n",
       "      <td>5</td>\n",
       "      <td>Chinese</td>\n",
       "    </tr>\n",
       "    <tr>\n",
       "      <th>1</th>\n",
       "      <td>55f14312c7447c3da7051b31</td>\n",
       "      <td>http://www.just-eat.co.uk/restaurants-100-degr...</td>\n",
       "      <td>67 Park Street</td>\n",
       "      <td>Treforest</td>\n",
       "      <td>100 Degrees Chinese Restaurant</td>\n",
       "      <td>CF37</td>\n",
       "      <td>1SN</td>\n",
       "      <td>5</td>\n",
       "      <td>Chinese</td>\n",
       "    </tr>\n",
       "    <tr>\n",
       "      <th>2</th>\n",
       "      <td>55f14312c7447c3da7051b32</td>\n",
       "      <td>http://www.just-eat.co.uk/restaurants-100menu-...</td>\n",
       "      <td>50 Wallgate</td>\n",
       "      <td>Wigan</td>\n",
       "      <td>100 Menu</td>\n",
       "      <td>WN1</td>\n",
       "      <td>1JU</td>\n",
       "      <td>5</td>\n",
       "      <td>Chinese</td>\n",
       "    </tr>\n",
       "    <tr>\n",
       "      <th>3</th>\n",
       "      <td>55f14312c7447c3da7051b33</td>\n",
       "      <td>http://www.just-eat.co.uk/restaurants-104-turk...</td>\n",
       "      <td>104 Tanners Lane</td>\n",
       "      <td>Essex</td>\n",
       "      <td>104 Turkish BBQ</td>\n",
       "      <td>IG6</td>\n",
       "      <td>1QE</td>\n",
       "      <td>5</td>\n",
       "      <td>Turkish</td>\n",
       "    </tr>\n",
       "    <tr>\n",
       "      <th>4</th>\n",
       "      <td>55f14312c7447c3da7051b34</td>\n",
       "      <td>http://www.just-eat.co.uk/restaurants-109resta...</td>\n",
       "      <td>109 Westbourne Park Road</td>\n",
       "      <td>London</td>\n",
       "      <td>109 Ristorante</td>\n",
       "      <td>W2</td>\n",
       "      <td>5QL</td>\n",
       "      <td>5</td>\n",
       "      <td>Pizza</td>\n",
       "    </tr>\n",
       "  </tbody>\n",
       "</table>\n",
       "</div>"
      ],
      "text/plain": [
       "                        _id  \\\n",
       "0  55f14312c7447c3da7051b26   \n",
       "1  55f14312c7447c3da7051b31   \n",
       "2  55f14312c7447c3da7051b32   \n",
       "3  55f14312c7447c3da7051b33   \n",
       "4  55f14312c7447c3da7051b34   \n",
       "\n",
       "                                                 URL  \\\n",
       "0  http://www.just-eat.co.uk/restaurants-cn-chine...   \n",
       "1  http://www.just-eat.co.uk/restaurants-100-degr...   \n",
       "2  http://www.just-eat.co.uk/restaurants-100menu-...   \n",
       "3  http://www.just-eat.co.uk/restaurants-104-turk...   \n",
       "4  http://www.just-eat.co.uk/restaurants-109resta...   \n",
       "\n",
       "                    address address line 2                            name  \\\n",
       "0             228 City Road        Cardiff                     .CN Chinese   \n",
       "1            67 Park Street      Treforest  100 Degrees Chinese Restaurant   \n",
       "2               50 Wallgate          Wigan                        100 Menu   \n",
       "3          104 Tanners Lane          Essex                 104 Turkish BBQ   \n",
       "4  109 Westbourne Park Road         London                  109 Ristorante   \n",
       "\n",
       "  outcode postcode  rating type_of_food  \n",
       "0    CF24      3JH       5      Chinese  \n",
       "1    CF37      1SN       5      Chinese  \n",
       "2     WN1      1JU       5      Chinese  \n",
       "3     IG6      1QE       5      Turkish  \n",
       "4      W2      5QL       5        Pizza  "
      ]
     },
     "execution_count": 39,
     "metadata": {},
     "output_type": "execute_result"
    }
   ],
   "source": [
    "df = pd.DataFrame(cinco)\n",
    "df.head()"
   ]
  },
  {
   "cell_type": "markdown",
   "id": "determined-premiere",
   "metadata": {},
   "source": [
    "## Proyección\n",
    "Cuando se realiza una consulta en MongoDB usando .find() lo que retorna dicha consulta es el conjunto de documentos correspondientes a la consulta. Se devolverán por defecto los documentos completos con todos sus campos. Aunque podemos seleccionar los campos de un documento que queremos devuelva la consulta, o lo que es lo mismo hacer una MongoDB Projection.    \n",
    "Si queremos seleccionar varios campos, simplemente tenemos que indicar el nombre del campo seguido de un 1. O bien usar un 0 para eliminar los campos a mostrar:\n",
    "\n",
    "El campo `_id` se devuelve por defecto\n",
    "\n",
    "Sintaxis:    \n",
    "`collection.find(filtro, proyección)`"
   ]
  },
  {
   "cell_type": "code",
   "execution_count": 41,
   "id": "postal-burning",
   "metadata": {},
   "outputs": [],
   "source": [
    "proj = {\"rating\": 1, \"name\": 1}"
   ]
  },
  {
   "cell_type": "code",
   "execution_count": 44,
   "id": "conditional-syria",
   "metadata": {},
   "outputs": [
    {
     "data": {
      "text/plain": [
       "{'_id': ObjectId('55f14312c7447c3da7051b26'),\n",
       " 'name': '.CN Chinese',\n",
       " 'rating': 5}"
      ]
     },
     "execution_count": 44,
     "metadata": {},
     "output_type": "execute_result"
    }
   ],
   "source": [
    "# sintaxis poco amigable / poco ordenada\n",
    "list(collection.find({\"rating\":5}, {\"rating\": 1, \"name\": 1}))[0]"
   ]
  },
  {
   "cell_type": "code",
   "execution_count": 61,
   "id": "several-floor",
   "metadata": {},
   "outputs": [],
   "source": [
    "# Si queremos que no nos muesrtre el ObjectId\n",
    "filtro = {\"rating\":5}\n",
    "proj = {\"_id\": 0, \"rating\": 1, \"name\": 1}"
   ]
  },
  {
   "cell_type": "code",
   "execution_count": 60,
   "id": "frank-recording",
   "metadata": {},
   "outputs": [
    {
     "data": {
      "text/plain": [
       "{'name': '.CN Chinese', 'rating': 5}"
      ]
     },
     "execution_count": 60,
     "metadata": {},
     "output_type": "execute_result"
    }
   ],
   "source": [
    "list(collection.find(filtro,proj))[0]"
   ]
  },
  {
   "cell_type": "code",
   "execution_count": null,
   "id": "working-sunrise",
   "metadata": {},
   "outputs": [],
   "source": [
    "#list(collection.find(filtro,proj))"
   ]
  },
  {
   "cell_type": "markdown",
   "id": "arbitrary-opening",
   "metadata": {},
   "source": [
    "## Otros métodos "
   ]
  },
  {
   "cell_type": "markdown",
   "id": "structural-competition",
   "metadata": {},
   "source": [
    "### `distinct`\n",
    "¿Cuántos valores distintos tiene un campo en toda la colección?"
   ]
  },
  {
   "cell_type": "code",
   "execution_count": 62,
   "id": "scenic-characteristic",
   "metadata": {},
   "outputs": [
    {
     "data": {
      "text/plain": [
       "[1, 1.5, 2, 2.5, 3, 3.5, 4, 4.5, 5, 5.5, 6, 'Not yet rated']"
      ]
     },
     "execution_count": 62,
     "metadata": {},
     "output_type": "execute_result"
    }
   ],
   "source": [
    "collection.distinct(\"rating\")"
   ]
  },
  {
   "cell_type": "code",
   "execution_count": 63,
   "id": "bulgarian-doctor",
   "metadata": {},
   "outputs": [
    {
     "data": {
      "text/plain": [
       "['*NEW*',\n",
       " 'Afghan',\n",
       " 'African',\n",
       " 'American',\n",
       " 'Arabic',\n",
       " 'Azerbaijan',\n",
       " 'Bagels',\n",
       " 'Bangladeshi',\n",
       " 'Breakfast',\n",
       " 'Burgers',\n",
       " 'Cakes',\n",
       " 'Caribbean',\n",
       " 'Chicken',\n",
       " 'Chinese',\n",
       " 'Curry',\n",
       " 'Desserts',\n",
       " 'English',\n",
       " 'Ethiopian',\n",
       " 'Fish & Chips',\n",
       " 'Greek',\n",
       " 'Grill',\n",
       " 'Healthy',\n",
       " 'Ice Cream',\n",
       " 'Japanese',\n",
       " 'Kebab',\n",
       " 'Korean',\n",
       " 'Lebanese',\n",
       " 'Mediterranean',\n",
       " 'Mexican',\n",
       " 'Middle Eastern',\n",
       " 'Milkshakes',\n",
       " 'Moroccan',\n",
       " 'Nigerian',\n",
       " 'Pakistani',\n",
       " 'Pasta',\n",
       " 'Peri Peri',\n",
       " 'Persian',\n",
       " 'Pick n Mix',\n",
       " 'Pizza',\n",
       " 'Polish',\n",
       " 'Portuguese',\n",
       " 'Punjabi',\n",
       " 'Russian',\n",
       " 'Sandwiches',\n",
       " 'South Curry',\n",
       " 'Spanish',\n",
       " 'Sri-lankan',\n",
       " 'Sushi',\n",
       " 'Thai',\n",
       " 'Turkish',\n",
       " 'Vegetarian',\n",
       " 'Vietnamese']"
      ]
     },
     "execution_count": 63,
     "metadata": {},
     "output_type": "execute_result"
    }
   ],
   "source": [
    "collection.distinct(\"type_of_food\")"
   ]
  },
  {
   "cell_type": "markdown",
   "id": "fatty-province",
   "metadata": {},
   "source": [
    "### `count`\n",
    "Devuelve el recuento de documentos que coincidirían con una consulta find() para la colección o vista. El método db.collection.count() no realiza la operación find() sino que cuenta y devuelve el número de resultados que coinciden con una consulta.\n",
    "Sintaxis:    \n",
    "     \n",
    "`collection.count_documents(filtro)`"
   ]
  },
  {
   "cell_type": "code",
   "execution_count": 64,
   "id": "handy-desert",
   "metadata": {},
   "outputs": [
    {
     "data": {
      "text/plain": [
       "2548"
      ]
     },
     "execution_count": 64,
     "metadata": {},
     "output_type": "execute_result"
    }
   ],
   "source": [
    "collection.count_documents({})"
   ]
  },
  {
   "cell_type": "code",
   "execution_count": 65,
   "id": "consistent-kennedy",
   "metadata": {},
   "outputs": [
    {
     "data": {
      "text/plain": [
       "1107"
      ]
     },
     "execution_count": 65,
     "metadata": {},
     "output_type": "execute_result"
    }
   ],
   "source": [
    "collection.count_documents({\"rating\":5})"
   ]
  },
  {
   "cell_type": "code",
   "execution_count": 66,
   "id": "bronze-senator",
   "metadata": {},
   "outputs": [],
   "source": [
    "import time"
   ]
  },
  {
   "cell_type": "code",
   "execution_count": 79,
   "id": "rocky-confidence",
   "metadata": {},
   "outputs": [
    {
     "name": "stdout",
     "output_type": "stream",
     "text": [
      "CPU times: user 2 µs, sys: 1 µs, total: 3 µs\n",
      "Wall time: 5.25 µs\n"
     ]
    },
    {
     "data": {
      "text/plain": [
       "49"
      ]
     },
     "execution_count": 79,
     "metadata": {},
     "output_type": "execute_result"
    }
   ],
   "source": [
    "# Directamente me cuenta los documentos en mongo que cumplen con el filtro y no necesito traerlos \n",
    "%time\n",
    "len(list(collection.find({\"rating\":6})))"
   ]
  },
  {
   "cell_type": "code",
   "execution_count": 78,
   "id": "micro-proposition",
   "metadata": {},
   "outputs": [
    {
     "name": "stdout",
     "output_type": "stream",
     "text": [
      "CPU times: user 4 µs, sys: 0 ns, total: 4 µs\n",
      "Wall time: 6.91 µs\n"
     ]
    },
    {
     "data": {
      "text/plain": [
       "49"
      ]
     },
     "execution_count": 78,
     "metadata": {},
     "output_type": "execute_result"
    }
   ],
   "source": [
    "#Equivalente pero cargando todo en memoria al extraer con list la información del cursor\n",
    "%time\n",
    "collection.count_documents({\"rating\":6})"
   ]
  },
  {
   "cell_type": "markdown",
   "id": "neural-speaker",
   "metadata": {},
   "source": [
    "### `sort`\n",
    "Podemos `ordenar` el resultado de un `find`\n",
    "\n",
    "`1` --> Orden ascendente     \n",
    "`-1` --> Orden desdendente"
   ]
  },
  {
   "cell_type": "code",
   "execution_count": 80,
   "id": "average-symbol",
   "metadata": {},
   "outputs": [],
   "source": [
    "proj =  {\"_id\": 0,\"rating\": 1, \"name\": 1, \"type_of_food\": 1}"
   ]
  },
  {
   "cell_type": "code",
   "execution_count": 91,
   "id": "sudden-ending",
   "metadata": {},
   "outputs": [],
   "source": [
    "# Ordenamos por orden ascendente \n",
    "chinos_asc = list(collection.find({\"type_of_food\": \"Chinese\"}, proj).sort(\"rating\",1))"
   ]
  },
  {
   "cell_type": "code",
   "execution_count": 101,
   "id": "outer-radio",
   "metadata": {},
   "outputs": [
    {
     "data": {
      "text/plain": [
       "[{'name': 'Asia Asia', 'rating': 3.5, 'type_of_food': 'Chinese'},\n",
       " {'name': 'Bamboo Garden Chinese Takeaway',\n",
       "  'rating': 3.5,\n",
       "  'type_of_food': 'Chinese'},\n",
       " {'name': '88 Noodle Bar', 'rating': 4, 'type_of_food': 'Chinese'},\n",
       " {'name': 'Amazing', 'rating': 4, 'type_of_food': 'Chinese'}]"
      ]
     },
     "execution_count": 101,
     "metadata": {},
     "output_type": "execute_result"
    }
   ],
   "source": [
    "chinos_asc[0:4]"
   ]
  },
  {
   "cell_type": "code",
   "execution_count": 93,
   "id": "involved-arrangement",
   "metadata": {},
   "outputs": [],
   "source": [
    "chinos_des = list(collection.find({\"type_of_food\": \"Chinese\"}, proj).sort(\"rating\",-1))"
   ]
  },
  {
   "cell_type": "code",
   "execution_count": 94,
   "id": "inappropriate-malta",
   "metadata": {},
   "outputs": [
    {
     "data": {
      "text/plain": [
       "[{'name': '113 Fish Bar', 'rating': 5.5, 'type_of_food': 'Chinese'},\n",
       " {'name': '168 Chinese & Cantonese Takeaway',\n",
       "  'rating': 5.5,\n",
       "  'type_of_food': 'Chinese'},\n",
       " {'name': '350 Wok', 'rating': 5.5, 'type_of_food': 'Chinese'},\n",
       " {'name': '350 Wok', 'rating': 5.5, 'type_of_food': 'Chinese'}]"
      ]
     },
     "execution_count": 94,
     "metadata": {},
     "output_type": "execute_result"
    }
   ],
   "source": [
    "chinos_des[0:4]"
   ]
  },
  {
   "cell_type": "code",
   "execution_count": 95,
   "id": "placed-calibration",
   "metadata": {},
   "outputs": [],
   "source": [
    "filtro_chino = {\"type_of_food\": \"Chinese\"}"
   ]
  },
  {
   "cell_type": "code",
   "execution_count": 99,
   "id": "brazilian-manufacturer",
   "metadata": {},
   "outputs": [
    {
     "data": {
      "text/plain": [
       "[{'name': '113 Fish Bar', 'rating': 5.5, 'type_of_food': 'Chinese'},\n",
       " {'name': '168 Chinese & Cantonese Takeaway',\n",
       "  'rating': 5.5,\n",
       "  'type_of_food': 'Chinese'},\n",
       " {'name': '350 Wok', 'rating': 5.5, 'type_of_food': 'Chinese'},\n",
       " {'name': '350 Wok', 'rating': 5.5, 'type_of_food': 'Chinese'}]"
      ]
     },
     "execution_count": 99,
     "metadata": {},
     "output_type": "execute_result"
    }
   ],
   "source": [
    "chinos = list(collection.find(filtro_chino,proj).sort(\"rating\",-1))\n",
    "chinos[0:4]"
   ]
  },
  {
   "cell_type": "markdown",
   "id": "subject-rates",
   "metadata": {},
   "source": [
    "### `limit`\n",
    "\n",
    "Podemos `limitar` el resultado de un `find`"
   ]
  },
  {
   "cell_type": "code",
   "execution_count": 124,
   "id": "behavioral-saying",
   "metadata": {},
   "outputs": [
    {
     "data": {
      "text/plain": [
       "[{'name': '113 Fish Bar', 'rating': 5.5, 'type_of_food': 'Chinese'},\n",
       " {'name': '4 in Love', 'rating': 5.5, 'type_of_food': 'Chinese'},\n",
       " {'name': \"Andy's Takeaway\", 'rating': 5.5, 'type_of_food': 'Chinese'},\n",
       " {'name': '168 Chinese & Cantonese Takeaway',\n",
       "  'rating': 5.5,\n",
       "  'type_of_food': 'Chinese'},\n",
       " {'name': '350 Wok', 'rating': 5.5, 'type_of_food': 'Chinese'},\n",
       " {'name': 'Arden Oak', 'rating': 5.5, 'type_of_food': 'Chinese'},\n",
       " {'name': 'Anise', 'rating': 5.5, 'type_of_food': 'Chinese'},\n",
       " {'name': '7 & One', 'rating': 5.5, 'type_of_food': 'Chinese'},\n",
       " {'name': '350 Wok', 'rating': 5.5, 'type_of_food': 'Chinese'},\n",
       " {'name': '350 Wok', 'rating': 5.5, 'type_of_food': 'Chinese'}]"
      ]
     },
     "execution_count": 124,
     "metadata": {},
     "output_type": "execute_result"
    }
   ],
   "source": [
    "list(collection.find(filtro_chino,proj).sort(\"rating\",-1).limit(10))"
   ]
  },
  {
   "cell_type": "markdown",
   "id": "welsh-uncertainty",
   "metadata": {},
   "source": [
    "### `skip`\n",
    "Podemos `omitir` algunos resultados de un `find`    \n",
    "Llame al método skip() en un cursor para controlar dónde empieza MongoDB a devolver resultados. Este enfoque puede ser útil para implementar resultados paginados."
   ]
  },
  {
   "cell_type": "code",
   "execution_count": 125,
   "id": "empirical-mongolia",
   "metadata": {},
   "outputs": [
    {
     "data": {
      "text/plain": [
       "[{'name': 'Arden Oak', 'rating': 5.5, 'type_of_food': 'Chinese'},\n",
       " {'name': 'Anise', 'rating': 5.5, 'type_of_food': 'Chinese'},\n",
       " {'name': 'Asian Fusion', 'rating': 5.5, 'type_of_food': 'Chinese'},\n",
       " {'name': '350 Wok', 'rating': 5.5, 'type_of_food': 'Chinese'},\n",
       " {'name': 'Asia Bagus', 'rating': 5.5, 'type_of_food': 'Chinese'},\n",
       " {'name': 'Asian Station', 'rating': 5.5, 'type_of_food': 'Chinese'},\n",
       " {'name': 'Asian Kitchen', 'rating': 5.5, 'type_of_food': 'Chinese'},\n",
       " {'name': 'Aroma House', 'rating': 5.5, 'type_of_food': 'Chinese'},\n",
       " {'name': '7 & One', 'rating': 5.5, 'type_of_food': 'Chinese'},\n",
       " {'name': '350 Wok', 'rating': 5.5, 'type_of_food': 'Chinese'}]"
      ]
     },
     "execution_count": 125,
     "metadata": {},
     "output_type": "execute_result"
    }
   ],
   "source": [
    "list(collection.find(filtro_chino,proj).sort(\"rating\",-1).skip(5).limit(10))"
   ]
  },
  {
   "cell_type": "markdown",
   "id": "north-mining",
   "metadata": {},
   "source": [
    "## Operadores de consulta típicos\n",
    "Los operadores de consulta van precedidos del signo de dólar `$`."
   ]
  },
  {
   "cell_type": "code",
   "execution_count": 158,
   "id": "capable-seeking",
   "metadata": {},
   "outputs": [],
   "source": [
    "c = collection"
   ]
  },
  {
   "cell_type": "markdown",
   "id": "literary-manitoba",
   "metadata": {},
   "source": [
    "### Mayor que / Menor que\n",
    "Es un campo numérico mayor o menor que un valor determinado"
   ]
  },
  {
   "cell_type": "code",
   "execution_count": 159,
   "id": "false-analysis",
   "metadata": {},
   "outputs": [
    {
     "data": {
      "text/plain": [
       "<pymongo.cursor.Cursor at 0x7ff5f976ab50>"
      ]
     },
     "execution_count": 159,
     "metadata": {},
     "output_type": "execute_result"
    }
   ],
   "source": [
    "# Menor que: less than\n",
    "c.find({\"rating\": {\"$lt\": 2}})"
   ]
  },
  {
   "cell_type": "code",
   "execution_count": 160,
   "id": "extra-extreme",
   "metadata": {},
   "outputs": [
    {
     "data": {
      "text/plain": [
       "[{'name': 'Al Dixi Fried Chicken & Grill House'},\n",
       " {'name': 'Al Dixi Fried Chicken & Grill House'}]"
      ]
     },
     "execution_count": 160,
     "metadata": {},
     "output_type": "execute_result"
    }
   ],
   "source": [
    "list(c.find({\"rating\": {\"$lt\": 2}},proj).limit(2))"
   ]
  },
  {
   "cell_type": "code",
   "execution_count": 132,
   "id": "treated-effectiveness",
   "metadata": {},
   "outputs": [
    {
     "data": {
      "text/plain": [
       "<pymongo.cursor.Cursor at 0x7ff5fd9627c0>"
      ]
     },
     "execution_count": 132,
     "metadata": {},
     "output_type": "execute_result"
    }
   ],
   "source": [
    "# Mayor que: greater than\n",
    "c.find({\"rating\": {\"$gt\": 2}})"
   ]
  },
  {
   "cell_type": "code",
   "execution_count": 134,
   "id": "exempt-comedy",
   "metadata": {},
   "outputs": [
    {
     "data": {
      "text/plain": [
       "[{'name': '.CN Chinese', 'rating': 5, 'type_of_food': 'Chinese'},\n",
       " {'name': '@ Thai', 'rating': 5.5, 'type_of_food': 'Thai'}]"
      ]
     },
     "execution_count": 134,
     "metadata": {},
     "output_type": "execute_result"
    }
   ],
   "source": [
    "list(c.find({\"rating\": {\"$gt\": 2}},proj).limit(2))"
   ]
  },
  {
   "cell_type": "code",
   "execution_count": 135,
   "id": "finite-colors",
   "metadata": {},
   "outputs": [
    {
     "data": {
      "text/plain": [
       "<pymongo.cursor.Cursor at 0x7ff5fd545790>"
      ]
     },
     "execution_count": 135,
     "metadata": {},
     "output_type": "execute_result"
    }
   ],
   "source": [
    "# Mayor o igual / Menor o igual añadimos la e\n",
    "c.find({\"rating\":{\"$lte\": 2}})"
   ]
  },
  {
   "cell_type": "code",
   "execution_count": 137,
   "id": "floppy-formation",
   "metadata": {},
   "outputs": [
    {
     "data": {
      "text/plain": [
       "[{'_id': ObjectId('55f14312c7447c3da7051ceb'),\n",
       "  'URL': 'http://www.just-eat.co.uk/restaurants-aldixifriedchicken-b21/menu',\n",
       "  'address': '343 Soho Road',\n",
       "  'address line 2': 'Birmingham',\n",
       "  'name': 'Al Dixi Fried Chicken & Grill House',\n",
       "  'outcode': 'B21',\n",
       "  'postcode': '9SE',\n",
       "  'rating': 1,\n",
       "  'type_of_food': 'Chicken'},\n",
       " {'_id': ObjectId('55f14312c7447c3da7051cec'),\n",
       "  'URL': 'http://www.just-eat.co.uk/restaurants-aldixifriedchicken-b21/menu',\n",
       "  'address': '343 Soho Road',\n",
       "  'address line 2': 'Birmingham',\n",
       "  'name': 'Al Dixi Fried Chicken & Grill House',\n",
       "  'outcode': 'B21',\n",
       "  'postcode': '9SE',\n",
       "  'rating': 1,\n",
       "  'type_of_food': 'Chicken'}]"
      ]
     },
     "execution_count": 137,
     "metadata": {},
     "output_type": "execute_result"
    }
   ],
   "source": [
    "list(c.find({\"rating\": {\"$lte\": 2}}).limit(2))"
   ]
  },
  {
   "cell_type": "markdown",
   "id": "nonprofit-operator",
   "metadata": {},
   "source": [
    "### `exists`    \n",
    "Cuando <boolean> es verdadero, $exists coincide con los documentos que contienen el campo, incluidos los documentos en los que el valor del campo es nulo. Si <boolean> es falso, la consulta devuelve sólo los documentos que no contienen el campo\n"
   ]
  },
  {
   "cell_type": "code",
   "execution_count": 141,
   "id": "breathing-county",
   "metadata": {},
   "outputs": [
    {
     "data": {
      "text/plain": [
       "[]"
      ]
     },
     "execution_count": 141,
     "metadata": {},
     "output_type": "execute_result"
    }
   ],
   "source": [
    "list(c.find({\"address line 2\": {\"$exists\": False}}))"
   ]
  },
  {
   "cell_type": "code",
   "execution_count": null,
   "id": "consolidated-sensitivity",
   "metadata": {},
   "outputs": [],
   "source": [
    "# No hay ningún documento  que no tenga el campo \"address line 2\"\n",
    "# Comprobamos los registros a los que les falta un campo con false"
   ]
  },
  {
   "cell_type": "markdown",
   "id": "pointed-agreement",
   "metadata": {},
   "source": [
    "### `regex`     \n",
    "Ofrece la posibilidad de utilizar expresiones regulares para la búsqueda de patrones en las consultas."
   ]
  },
  {
   "cell_type": "code",
   "execution_count": 153,
   "id": "tested-liberal",
   "metadata": {},
   "outputs": [],
   "source": [
    "query = {\"name\": {\"$regex\": \".*Halal.*\"}}\n",
    "proj = {\"_id\": 0, \"name\": 1}"
   ]
  },
  {
   "cell_type": "code",
   "execution_count": 154,
   "id": "occupied-resort",
   "metadata": {},
   "outputs": [
    {
     "data": {
      "text/plain": [
       "[{'name': 'Acha Halal Chinese Cuisine'},\n",
       " {'name': 'Beirut Lebanese Halal Restaurant'},\n",
       " {'name': 'Beirut Lebanese Halal Restaurant'}]"
      ]
     },
     "execution_count": 154,
     "metadata": {},
     "output_type": "execute_result"
    }
   ],
   "source": [
    "list(c.find(query,proj))"
   ]
  },
  {
   "cell_type": "code",
   "execution_count": 156,
   "id": "recorded-vehicle",
   "metadata": {},
   "outputs": [
    {
     "data": {
      "text/html": [
       "<div>\n",
       "<style scoped>\n",
       "    .dataframe tbody tr th:only-of-type {\n",
       "        vertical-align: middle;\n",
       "    }\n",
       "\n",
       "    .dataframe tbody tr th {\n",
       "        vertical-align: top;\n",
       "    }\n",
       "\n",
       "    .dataframe thead th {\n",
       "        text-align: right;\n",
       "    }\n",
       "</style>\n",
       "<table border=\"1\" class=\"dataframe\">\n",
       "  <thead>\n",
       "    <tr style=\"text-align: right;\">\n",
       "      <th></th>\n",
       "      <th>_id</th>\n",
       "      <th>URL</th>\n",
       "      <th>address</th>\n",
       "      <th>address line 2</th>\n",
       "      <th>name</th>\n",
       "      <th>outcode</th>\n",
       "      <th>postcode</th>\n",
       "      <th>rating</th>\n",
       "      <th>type_of_food</th>\n",
       "    </tr>\n",
       "  </thead>\n",
       "  <tbody>\n",
       "    <tr>\n",
       "      <th>0</th>\n",
       "      <td>55f14312c7447c3da7051c0c</td>\n",
       "      <td>http://www.just-eat.co.uk/restaurants-acha-hal...</td>\n",
       "      <td>7 Heybarnes Road</td>\n",
       "      <td>Birmingham</td>\n",
       "      <td>Acha Halal Chinese Cuisine</td>\n",
       "      <td>B10</td>\n",
       "      <td>9HR</td>\n",
       "      <td>5.0</td>\n",
       "      <td>Chinese</td>\n",
       "    </tr>\n",
       "    <tr>\n",
       "      <th>1</th>\n",
       "      <td>55f14313c7447c3da70522e9</td>\n",
       "      <td>http://www.just-eat.co.uk/restaurants-beirut-e...</td>\n",
       "      <td>24 Nicholson Square</td>\n",
       "      <td>Edinburgh</td>\n",
       "      <td>Beirut Lebanese Halal Restaurant</td>\n",
       "      <td>EH8</td>\n",
       "      <td>9BX</td>\n",
       "      <td>4.5</td>\n",
       "      <td>Lebanese</td>\n",
       "    </tr>\n",
       "    <tr>\n",
       "      <th>2</th>\n",
       "      <td>55f14313c7447c3da70522ea</td>\n",
       "      <td>http://www.just-eat.co.uk/restaurants-beirut-e...</td>\n",
       "      <td>24 Nicholson Square</td>\n",
       "      <td>Edinburgh</td>\n",
       "      <td>Beirut Lebanese Halal Restaurant</td>\n",
       "      <td>EH8</td>\n",
       "      <td>9BX</td>\n",
       "      <td>4.5</td>\n",
       "      <td>Lebanese</td>\n",
       "    </tr>\n",
       "  </tbody>\n",
       "</table>\n",
       "</div>"
      ],
      "text/plain": [
       "                        _id  \\\n",
       "0  55f14312c7447c3da7051c0c   \n",
       "1  55f14313c7447c3da70522e9   \n",
       "2  55f14313c7447c3da70522ea   \n",
       "\n",
       "                                                 URL              address  \\\n",
       "0  http://www.just-eat.co.uk/restaurants-acha-hal...     7 Heybarnes Road   \n",
       "1  http://www.just-eat.co.uk/restaurants-beirut-e...  24 Nicholson Square   \n",
       "2  http://www.just-eat.co.uk/restaurants-beirut-e...  24 Nicholson Square   \n",
       "\n",
       "  address line 2                              name outcode postcode  rating  \\\n",
       "0     Birmingham        Acha Halal Chinese Cuisine     B10      9HR     5.0   \n",
       "1      Edinburgh  Beirut Lebanese Halal Restaurant     EH8      9BX     4.5   \n",
       "2      Edinburgh  Beirut Lebanese Halal Restaurant     EH8      9BX     4.5   \n",
       "\n",
       "  type_of_food  \n",
       "0      Chinese  \n",
       "1     Lebanese  \n",
       "2     Lebanese  "
      ]
     },
     "execution_count": 156,
     "metadata": {},
     "output_type": "execute_result"
    }
   ],
   "source": [
    "df = pd.DataFrame(list(c.find(query)))\n",
    "df.head()"
   ]
  },
  {
   "cell_type": "code",
   "execution_count": 157,
   "id": "measured-mounting",
   "metadata": {},
   "outputs": [
    {
     "data": {
      "text/html": [
       "<div>\n",
       "<style scoped>\n",
       "    .dataframe tbody tr th:only-of-type {\n",
       "        vertical-align: middle;\n",
       "    }\n",
       "\n",
       "    .dataframe tbody tr th {\n",
       "        vertical-align: top;\n",
       "    }\n",
       "\n",
       "    .dataframe thead th {\n",
       "        text-align: right;\n",
       "    }\n",
       "</style>\n",
       "<table border=\"1\" class=\"dataframe\">\n",
       "  <thead>\n",
       "    <tr style=\"text-align: right;\">\n",
       "      <th></th>\n",
       "      <th>name</th>\n",
       "    </tr>\n",
       "  </thead>\n",
       "  <tbody>\n",
       "    <tr>\n",
       "      <th>0</th>\n",
       "      <td>Acha Halal Chinese Cuisine</td>\n",
       "    </tr>\n",
       "    <tr>\n",
       "      <th>1</th>\n",
       "      <td>Beirut Lebanese Halal Restaurant</td>\n",
       "    </tr>\n",
       "    <tr>\n",
       "      <th>2</th>\n",
       "      <td>Beirut Lebanese Halal Restaurant</td>\n",
       "    </tr>\n",
       "  </tbody>\n",
       "</table>\n",
       "</div>"
      ],
      "text/plain": [
       "                               name\n",
       "0        Acha Halal Chinese Cuisine\n",
       "1  Beirut Lebanese Halal Restaurant\n",
       "2  Beirut Lebanese Halal Restaurant"
      ]
     },
     "execution_count": 157,
     "metadata": {},
     "output_type": "execute_result"
    }
   ],
   "source": [
    "df = pd.DataFrame(list(c.find(query,proj)))\n",
    "df.head()"
   ]
  },
  {
   "cell_type": "markdown",
   "id": "formal-frame",
   "metadata": {},
   "source": [
    "## Resumen Hasta aquí "
   ]
  },
  {
   "cell_type": "markdown",
   "id": "superb-macro",
   "metadata": {},
   "source": [
    "- Mongo es un gestor de bases de datos no relacional\n",
    "- Formato json (aunque también csv)\n",
    "- Nos gustan los diccionarios :) \n",
    "- Se puede usar con python y además la sintaxis es parecida\n",
    "- Tenemos bases de datos, colecciones y documentos\n",
    "- Cada elemento/registro es un documento\n",
    "- Las keys se llaman campos\n",
    "- Podemos utilizar proyecciones para definir los campos que queremos que nos devuelvan las consultas\n",
    "- El comando find nos devuelve un cursor que es un iterador que tenemos que convertir a lista\n",
    "- Podemos crear dataframes súper fácil pero nos gustan los diccionarios porque Ras es muy pesada con eso\n",
    "- Tiene un pograma (mongo db compass es la GUI amigable) \n",
    "- No hay policíaaaa (cuidado con la info que metemos)"
   ]
  },
  {
   "cell_type": "markdown",
   "id": "widespread-incident",
   "metadata": {},
   "source": [
    "### `and`      \n",
    "Realiza una operación lógica AND en una matriz de una o más expresiones (por ejemplo, <expresión1>, <expresión2>, etc.) y selecciona los documentos que satisfacen todas las expresiones de la matriz. El operador $and utiliza la evaluación en circuito corto. Si la primera expresión (por ejemplo, <expresión1>) se evalúa como falsa, MongoDB no evaluará las expresiones restantes."
   ]
  },
  {
   "cell_type": "markdown",
   "id": "developing-possession",
   "metadata": {},
   "source": [
    "Sintaxis alternativa del AND  "
   ]
  },
  {
   "cell_type": "code",
   "execution_count": 181,
   "id": "freelance-reduction",
   "metadata": {},
   "outputs": [
    {
     "data": {
      "text/plain": [
       "[{'name': '.CN Chinese', 'rating': 5},\n",
       " {'name': '100 Degrees Chinese Restaurant', 'rating': 5},\n",
       " {'name': '100 Menu', 'rating': 5},\n",
       " {'name': '1A Wok', 'rating': 5},\n",
       " {'name': '328 Chinese Online', 'rating': 5}]"
      ]
     },
     "execution_count": 181,
     "metadata": {},
     "output_type": "execute_result"
    }
   ],
   "source": [
    "list(c.find({\"type_of_food\": \"Chinese\",\"rating\":5}, proj).limit(5))"
   ]
  },
  {
   "cell_type": "code",
   "execution_count": 171,
   "id": "bizarre-valley",
   "metadata": {},
   "outputs": [],
   "source": [
    "proj = {\"_id\": 0, \"name\": 1, \"rating\": 1}"
   ]
  },
  {
   "cell_type": "markdown",
   "id": "restricted-glass",
   "metadata": {},
   "source": [
    "`find({\"$and\": [cond1, cond2]})`"
   ]
  },
  {
   "cell_type": "code",
   "execution_count": 172,
   "id": "automated-gates",
   "metadata": {},
   "outputs": [],
   "source": [
    "# Esta es la mejor forma para escribir el AND con AND y la lista de condiciones\n",
    "query = {\"$and\": [{\"type_of_food\": \"Chinese\"},{\"rating\":5}]}"
   ]
  },
  {
   "cell_type": "code",
   "execution_count": 183,
   "id": "ignored-visitor",
   "metadata": {},
   "outputs": [
    {
     "data": {
      "text/plain": [
       "[{'address': '228 City Road', 'name': '.CN Chinese'},\n",
       " {'address': '67 Park Street', 'name': '100 Degrees Chinese Restaurant'}]"
      ]
     },
     "execution_count": 183,
     "metadata": {},
     "output_type": "execute_result"
    }
   ],
   "source": [
    "#Esta celda y la de abajo son lo mismo\n",
    "list(c.find({\"$and\": [{\"type_of_food\": \"Chinese\"},{\"rating\":5}]},{\"_id\": 0, \"name\": 1, \"address\": 1}).limit(2))"
   ]
  },
  {
   "cell_type": "code",
   "execution_count": 182,
   "id": "certain-wiring",
   "metadata": {},
   "outputs": [
    {
     "data": {
      "text/plain": [
       "[{'_id': ObjectId('55f14312c7447c3da7051b26'),\n",
       "  'URL': 'http://www.just-eat.co.uk/restaurants-cn-chinese-cardiff/menu',\n",
       "  'address': '228 City Road',\n",
       "  'address line 2': 'Cardiff',\n",
       "  'name': '.CN Chinese',\n",
       "  'outcode': 'CF24',\n",
       "  'postcode': '3JH',\n",
       "  'rating': 5,\n",
       "  'type_of_food': 'Chinese'},\n",
       " {'_id': ObjectId('55f14312c7447c3da7051b31'),\n",
       "  'URL': 'http://www.just-eat.co.uk/restaurants-100-degrees-chinese-restaurant-pontypridd/menu',\n",
       "  'address': '67 Park Street',\n",
       "  'address line 2': 'Treforest',\n",
       "  'name': '100 Degrees Chinese Restaurant',\n",
       "  'outcode': 'CF37',\n",
       "  'postcode': '1SN',\n",
       "  'rating': 5,\n",
       "  'type_of_food': 'Chinese'}]"
      ]
     },
     "execution_count": 182,
     "metadata": {},
     "output_type": "execute_result"
    }
   ],
   "source": [
    "#Yo siempre guardo las queries o filtros en una variable para que sea más amigable la sintaxis\n",
    "list(c.find(query).limit(2))"
   ]
  },
  {
   "cell_type": "code",
   "execution_count": null,
   "id": "focused-feature",
   "metadata": {},
   "outputs": [],
   "source": [
    "# LAS CONDICIONES SON ILIMITADAS Y GRATUITAS :) "
   ]
  },
  {
   "cell_type": "code",
   "execution_count": 200,
   "id": "comprehensive-amber",
   "metadata": {},
   "outputs": [],
   "source": [
    "query = {\"$and\": [{\"type_of_food\": \"Ice Cream\"},{\"rating\": {\"$gt\":2}}]}"
   ]
  },
  {
   "cell_type": "code",
   "execution_count": 201,
   "id": "numerical-cleanup",
   "metadata": {},
   "outputs": [
    {
     "data": {
      "text/plain": [
       "[{'_id': ObjectId('55f14313c7447c3da7052220'),\n",
       "  'URL': 'http://www.just-eat.co.uk/restaurants-baskin-robbins-finchley-central/menu',\n",
       "  'address': '5 Ballards Lane',\n",
       "  'address line 2': 'London',\n",
       "  'name': 'Baskin Robbins',\n",
       "  'outcode': 'N3',\n",
       "  'postcode': '1UX',\n",
       "  'rating': 5.5,\n",
       "  'type_of_food': 'Ice Cream'},\n",
       " {'_id': ObjectId('55f14313c7447c3da7052221'),\n",
       "  'URL': 'http://www.just-eat.co.uk/restaurants-baskin-robbins-finchley-central/menu',\n",
       "  'address': '5 Ballards Lane',\n",
       "  'address line 2': 'London',\n",
       "  'name': 'Baskin Robbins',\n",
       "  'outcode': 'N3',\n",
       "  'postcode': '1UX',\n",
       "  'rating': 5.5,\n",
       "  'type_of_food': 'Ice Cream'}]"
      ]
     },
     "execution_count": 201,
     "metadata": {},
     "output_type": "execute_result"
    }
   ],
   "source": [
    "list(c.find(query))"
   ]
  },
  {
   "cell_type": "markdown",
   "id": "hundred-messenger",
   "metadata": {},
   "source": [
    "### `or`     \n",
    "El operador or realiza una operación lógica OR en una matriz de dos o más <expresiones> y selecciona los documentos que satisfacen al menos una de las <expresiones>. El operador $or tiene la siguiente sintaxis:"
   ]
  },
  {
   "cell_type": "code",
   "execution_count": 202,
   "id": "another-theorem",
   "metadata": {},
   "outputs": [],
   "source": [
    "query = {\"$or\": [{\"type_of_foood\": \"Chinese\"},{\"rating\":6}]}"
   ]
  },
  {
   "cell_type": "code",
   "execution_count": 204,
   "id": "special-daniel",
   "metadata": {},
   "outputs": [
    {
     "data": {
      "text/plain": [
       "[{'_id': ObjectId('55f14312c7447c3da7051b2a'),\n",
       "  'URL': 'http://www.just-eat.co.uk/restaurants-indiancom-ch4/menu',\n",
       "  'address': '9 Broughton Hall Road',\n",
       "  'address line 2': 'Broughton',\n",
       "  'name': '@Indian.com',\n",
       "  'outcode': 'CH4',\n",
       "  'postcode': '0QR',\n",
       "  'rating': 6,\n",
       "  'type_of_food': 'Curry'},\n",
       " {'_id': ObjectId('55f14312c7447c3da7051b2b'),\n",
       "  'URL': 'http://www.just-eat.co.uk/restaurants-007takeaway-s65/menu',\n",
       "  'address': '6 Drummond Street',\n",
       "  'address line 2': 'Rotherham',\n",
       "  'name': '007 Takeaway',\n",
       "  'outcode': 'S65',\n",
       "  'postcode': '1HY',\n",
       "  'rating': 6,\n",
       "  'type_of_food': 'Pizza'}]"
      ]
     },
     "execution_count": 204,
     "metadata": {},
     "output_type": "execute_result"
    }
   ],
   "source": [
    "list(c.find(query).limit(2))"
   ]
  },
  {
   "cell_type": "code",
   "execution_count": 205,
   "id": "american-courtesy",
   "metadata": {},
   "outputs": [],
   "source": [
    "condiciones = [{\"type_of_foood\": \"Chinese\"}, {\"type_of_foood\": \"Pizza\"}]"
   ]
  },
  {
   "cell_type": "code",
   "execution_count": null,
   "id": "intelligent-darwin",
   "metadata": {},
   "outputs": [],
   "source": [
    "# Dame todo lo que sea rating 6 bien sea chino o pizza"
   ]
  },
  {
   "cell_type": "code",
   "execution_count": 231,
   "id": "phantom-preference",
   "metadata": {},
   "outputs": [],
   "source": [
    "query_or = {\"$or\": [{\"type_of_foood\": \"Chinese\"},{\"type_of_food\": \"Pizza\"}]}\n",
    "rating = {\"rating\":6}"
   ]
  },
  {
   "cell_type": "code",
   "execution_count": 232,
   "id": "sunrise-latest",
   "metadata": {},
   "outputs": [],
   "source": [
    "query = {\"$and\": [rating, query_or]}"
   ]
  },
  {
   "cell_type": "code",
   "execution_count": 234,
   "id": "appointed-colony",
   "metadata": {},
   "outputs": [
    {
     "data": {
      "text/plain": [
       "[{'_id': ObjectId('55f14312c7447c3da7051b2b'),\n",
       "  'URL': 'http://www.just-eat.co.uk/restaurants-007takeaway-s65/menu',\n",
       "  'address': '6 Drummond Street',\n",
       "  'address line 2': 'Rotherham',\n",
       "  'name': '007 Takeaway',\n",
       "  'outcode': 'S65',\n",
       "  'postcode': '1HY',\n",
       "  'rating': 6,\n",
       "  'type_of_food': 'Pizza'},\n",
       " {'_id': ObjectId('55f14312c7447c3da7051d4c'),\n",
       "  'URL': 'http://www.just-eat.co.uk/restaurants-alcatraz-caffe-bournemouth-bournemouth/menu',\n",
       "  'address': '127 Christchurch Road',\n",
       "  'address line 2': 'Bournemouth',\n",
       "  'name': 'Alcatraz Caffe Bournemouth',\n",
       "  'outcode': 'BH1',\n",
       "  'postcode': '1EP',\n",
       "  'rating': 6,\n",
       "  'type_of_food': 'Pizza'},\n",
       " {'_id': ObjectId('55f14312c7447c3da7052029'),\n",
       "  'URL': 'http://www.just-eat.co.uk/restaurants-aspendos-tn29/menu',\n",
       "  'address': '67 High Street',\n",
       "  'address line 2': 'Dymchurch',\n",
       "  'name': 'Aspendos',\n",
       "  'outcode': 'TN29',\n",
       "  'postcode': '0NH',\n",
       "  'rating': 6,\n",
       "  'type_of_food': 'Pizza'}]"
      ]
     },
     "execution_count": 234,
     "metadata": {},
     "output_type": "execute_result"
    }
   ],
   "source": [
    "list(c.find(query).limit(3))"
   ]
  },
  {
   "cell_type": "code",
   "execution_count": null,
   "id": "incorporate-commitment",
   "metadata": {},
   "outputs": [],
   "source": [
    "# Si es chino que tenga rating 6 y si es hamburguesa que sea rating 5"
   ]
  },
  {
   "cell_type": "code",
   "execution_count": 235,
   "id": "noble-terrain",
   "metadata": {},
   "outputs": [],
   "source": [
    "chinos = {\"$and\": [{\"type_of_food\": \"Chinese\"},{\"rating\":6}]}\n",
    "burger = {\"$and\": [{\"type_of_food\": \"Burgers\"},{\"rating\":5}]}"
   ]
  },
  {
   "cell_type": "code",
   "execution_count": 239,
   "id": "seven-project",
   "metadata": {},
   "outputs": [
    {
     "data": {
      "text/plain": [
       "[{'_id': ObjectId('55f14312c7447c3da7051c9a'),\n",
       "  'URL': 'http://www.just-eat.co.uk/restaurants-aimees-deeside/menu',\n",
       "  'address': '9 Station Road',\n",
       "  'address line 2': 'Queensferry',\n",
       "  'name': 'Aimees',\n",
       "  'outcode': 'CH5',\n",
       "  'postcode': '1SU',\n",
       "  'rating': 5,\n",
       "  'type_of_food': 'Burgers'},\n",
       " {'_id': ObjectId('55f14312c7447c3da7051c9b'),\n",
       "  'URL': 'http://www.just-eat.co.uk/restaurants-aimees-deeside/menu',\n",
       "  'address': '9 Station Road',\n",
       "  'address line 2': 'Queensferry',\n",
       "  'name': 'Aimees',\n",
       "  'outcode': 'CH5',\n",
       "  'postcode': '1SU',\n",
       "  'rating': 5,\n",
       "  'type_of_food': 'Burgers'}]"
      ]
     },
     "execution_count": 239,
     "metadata": {},
     "output_type": "execute_result"
    }
   ],
   "source": [
    "list(c.find({\"$or\": [chinos, burger]}).limit(2))"
   ]
  },
  {
   "cell_type": "markdown",
   "id": "announced-italic",
   "metadata": {},
   "source": [
    "### `ne`    \n",
    "Not equal  \n",
    "Selecciona los documentos en los que el valor del campo no es igual al valor especificado. Esto incluye los documentos que no contienen el campo."
   ]
  },
  {
   "cell_type": "code",
   "execution_count": 210,
   "id": "interim-operations",
   "metadata": {},
   "outputs": [
    {
     "data": {
      "text/plain": [
       "[{'_id': ObjectId('55f14312c7447c3da7051b2a'),\n",
       "  'URL': 'http://www.just-eat.co.uk/restaurants-indiancom-ch4/menu',\n",
       "  'address': '9 Broughton Hall Road',\n",
       "  'address line 2': 'Broughton',\n",
       "  'name': '@Indian.com',\n",
       "  'outcode': 'CH4',\n",
       "  'postcode': '0QR',\n",
       "  'rating': 6,\n",
       "  'type_of_food': 'Curry'},\n",
       " {'_id': ObjectId('55f14312c7447c3da7051b2b'),\n",
       "  'URL': 'http://www.just-eat.co.uk/restaurants-007takeaway-s65/menu',\n",
       "  'address': '6 Drummond Street',\n",
       "  'address line 2': 'Rotherham',\n",
       "  'name': '007 Takeaway',\n",
       "  'outcode': 'S65',\n",
       "  'postcode': '1HY',\n",
       "  'rating': 6,\n",
       "  'type_of_food': 'Pizza'}]"
      ]
     },
     "execution_count": 210,
     "metadata": {},
     "output_type": "execute_result"
    }
   ],
   "source": [
    "# Dame todo lo que no sea type of food chino y además tenga rating 6\n",
    "list(c.find({\"type_of_food\": {\"$ne\": \"Chinese\"}, \"rating\": 6}).limit(2))"
   ]
  },
  {
   "cell_type": "markdown",
   "id": "buried-despite",
   "metadata": {},
   "source": [
    "### `in`     \n",
    "El operador in selecciona los documentos en los que el valor de un campo es igual a cualquier valor de la matriz especificada. Para especificar una expresión $in, utilice el siguiente prototipo:     \n",
    "```python\n",
    "{ field: { $in: [<value1>, <value2>, ... <valueN> ] } }\n",
    " ```"
   ]
  },
  {
   "cell_type": "code",
   "execution_count": 240,
   "id": "dietary-office",
   "metadata": {},
   "outputs": [
    {
     "data": {
      "text/plain": [
       "[{'_id': ObjectId('55f14312c7447c3da7051b2c'),\n",
       "  'URL': 'http://www.just-eat.co.uk/restaurants-042-restaurant-e11/menu',\n",
       "  'address': '885 High Road Leytonstone',\n",
       "  'address line 2': 'London',\n",
       "  'name': '042 Restaurant & Bar',\n",
       "  'outcode': 'E11',\n",
       "  'postcode': '1HR',\n",
       "  'rating': 3,\n",
       "  'type_of_food': 'African'},\n",
       " {'_id': ObjectId('55f14312c7447c3da7051b2d'),\n",
       "  'URL': 'http://www.just-eat.co.uk/restaurants-042-restaurant-e11/menu',\n",
       "  'address': '885 High Road Leytonstone',\n",
       "  'address line 2': 'London',\n",
       "  'name': '042 Restaurant & Bar',\n",
       "  'outcode': 'E11',\n",
       "  'postcode': '1HR',\n",
       "  'rating': 3,\n",
       "  'type_of_food': 'African'}]"
      ]
     },
     "execution_count": 240,
     "metadata": {},
     "output_type": "execute_result"
    }
   ],
   "source": [
    "list(c.find({\"rating\": {\"$in\": [1,2,3]}}).limit(2))"
   ]
  },
  {
   "cell_type": "code",
   "execution_count": 224,
   "id": "early-regard",
   "metadata": {},
   "outputs": [],
   "source": [
    "lista = [\"Burgers\", \"Pizza\", \"Ice Cream\"]"
   ]
  },
  {
   "cell_type": "code",
   "execution_count": 226,
   "id": "swiss-sunday",
   "metadata": {},
   "outputs": [
    {
     "data": {
      "text/plain": [
       "[{'_id': ObjectId('55f14312c7447c3da7051b2b'),\n",
       "  'URL': 'http://www.just-eat.co.uk/restaurants-007takeaway-s65/menu',\n",
       "  'address': '6 Drummond Street',\n",
       "  'address line 2': 'Rotherham',\n",
       "  'name': '007 Takeaway',\n",
       "  'outcode': 'S65',\n",
       "  'postcode': '1HY',\n",
       "  'rating': 6,\n",
       "  'type_of_food': 'Pizza'},\n",
       " {'_id': ObjectId('55f14312c7447c3da7051b34'),\n",
       "  'URL': 'http://www.just-eat.co.uk/restaurants-109restaurant-w2/menu',\n",
       "  'address': '109 Westbourne Park Road',\n",
       "  'address line 2': 'London',\n",
       "  'name': '109 Ristorante',\n",
       "  'outcode': 'W2',\n",
       "  'postcode': '5QL',\n",
       "  'rating': 5,\n",
       "  'type_of_food': 'Pizza'}]"
      ]
     },
     "execution_count": 226,
     "metadata": {},
     "output_type": "execute_result"
    }
   ],
   "source": [
    "list(c.find({\"type_of_food\": {\"$in\": lista}}).limit(2))"
   ]
  },
  {
   "cell_type": "markdown",
   "id": "general-baseball",
   "metadata": {},
   "source": [
    "### `nin`     \n",
    "\n",
    "Sintaxis: \n",
    "```python\n",
    "{ campo: { $nin: [ <valor1>, <valor2> ... <valorN> ]} }\n",
    "```\n",
    "\n",
    "not in selecciona los documentos en los que\n",
    "\n",
    "- el valor del campo no está en la matriz especificada \n",
    "- el campo no existe."
   ]
  },
  {
   "cell_type": "code",
   "execution_count": 243,
   "id": "supposed-synthetic",
   "metadata": {},
   "outputs": [
    {
     "data": {
      "text/plain": [
       "[{'_id': ObjectId('55f14312c7447c3da7051b27'),\n",
       "  'URL': 'http://www.just-eat.co.uk/restaurants-atthai-ss9/menu',\n",
       "  'address': '376 Rayleigh Road',\n",
       "  'address line 2': 'Essex',\n",
       "  'name': '@ Thai',\n",
       "  'outcode': 'SS9',\n",
       "  'postcode': '5PT',\n",
       "  'rating': 5.5,\n",
       "  'type_of_food': 'Thai'},\n",
       " {'_id': ObjectId('55f14312c7447c3da7051b28'),\n",
       "  'URL': 'http://www.just-eat.co.uk/restaurants-atthairestaurant/menu',\n",
       "  'address': '30 Greyhound Road Hammersmith',\n",
       "  'address line 2': 'London',\n",
       "  'name': '@ Thai Restaurant',\n",
       "  'outcode': 'W6',\n",
       "  'postcode': '8NX',\n",
       "  'rating': 4.5,\n",
       "  'type_of_food': 'Thai'},\n",
       " {'_id': ObjectId('55f14312c7447c3da7051b29'),\n",
       "  'URL': 'http://www.just-eat.co.uk/restaurants-atthairestaurant/menu',\n",
       "  'address': '30 Greyhound Road Hammersmith',\n",
       "  'address line 2': 'London',\n",
       "  'name': '@ Thai Restaurant',\n",
       "  'outcode': 'W6',\n",
       "  'postcode': '8NX',\n",
       "  'rating': 4.5,\n",
       "  'type_of_food': 'Thai'}]"
      ]
     },
     "execution_count": 243,
     "metadata": {},
     "output_type": "execute_result"
    }
   ],
   "source": [
    "list(c.find({\"rating\": {\"$nin\": [1,2,3,4,5,6]}}).limit(3))"
   ]
  },
  {
   "cell_type": "code",
   "execution_count": 245,
   "id": "hazardous-utilization",
   "metadata": {},
   "outputs": [
    {
     "data": {
      "text/plain": [
       "[{'_id': ObjectId('55f14312c7447c3da7051b26'),\n",
       "  'URL': 'http://www.just-eat.co.uk/restaurants-cn-chinese-cardiff/menu',\n",
       "  'address': '228 City Road',\n",
       "  'address line 2': 'Cardiff',\n",
       "  'name': '.CN Chinese',\n",
       "  'outcode': 'CF24',\n",
       "  'postcode': '3JH',\n",
       "  'rating': 5,\n",
       "  'type_of_food': 'Chinese'},\n",
       " {'_id': ObjectId('55f14312c7447c3da7051b27'),\n",
       "  'URL': 'http://www.just-eat.co.uk/restaurants-atthai-ss9/menu',\n",
       "  'address': '376 Rayleigh Road',\n",
       "  'address line 2': 'Essex',\n",
       "  'name': '@ Thai',\n",
       "  'outcode': 'SS9',\n",
       "  'postcode': '5PT',\n",
       "  'rating': 5.5,\n",
       "  'type_of_food': 'Thai'},\n",
       " {'_id': ObjectId('55f14312c7447c3da7051b28'),\n",
       "  'URL': 'http://www.just-eat.co.uk/restaurants-atthairestaurant/menu',\n",
       "  'address': '30 Greyhound Road Hammersmith',\n",
       "  'address line 2': 'London',\n",
       "  'name': '@ Thai Restaurant',\n",
       "  'outcode': 'W6',\n",
       "  'postcode': '8NX',\n",
       "  'rating': 4.5,\n",
       "  'type_of_food': 'Thai'}]"
      ]
     },
     "execution_count": 245,
     "metadata": {},
     "output_type": "execute_result"
    }
   ],
   "source": [
    "# Dame todo lo que el valor del campo type of food NO ESTÉ en esta lista y puedo pasar una lista ya guardada :) \n",
    "lista = [\"Burgers\", \"Pizza\", \"Ice Cream\"]\n",
    "list(c.find({\"type_of_food\": {\"$nin\": lista}}).limit(3))"
   ]
  },
  {
   "cell_type": "markdown",
   "id": "greater-thumb",
   "metadata": {},
   "source": [
    "## Update    \n",
    "Modifica un documento o documentos existentes en una colección. El método puede modificar campos específicos de un documento o documentos existentes o reemplazar un documento existente por completo, dependiendo del parámetro de actualización.   \n",
    "Cuidado, esta acción no se puede deshacer.     \n",
    "Sintaxis:\n",
    "```python\n",
    "colección.update_many(condición/filtro, actualización)\n",
    "```\n",
    "\n",
    "Podemos actualizar un campo con `$set` y con `$unset` lo borramos"
   ]
  },
  {
   "cell_type": "code",
   "execution_count": 246,
   "id": "homeless-tucson",
   "metadata": {},
   "outputs": [
    {
     "data": {
      "text/plain": [
       "[{'_id': ObjectId('55f14312c7447c3da7051ceb'),\n",
       "  'URL': 'http://www.just-eat.co.uk/restaurants-aldixifriedchicken-b21/menu',\n",
       "  'address': '343 Soho Road',\n",
       "  'address line 2': 'Birmingham',\n",
       "  'name': 'Al Dixi Fried Chicken & Grill House',\n",
       "  'outcode': 'B21',\n",
       "  'postcode': '9SE',\n",
       "  'rating': 1,\n",
       "  'type_of_food': 'Chicken'},\n",
       " {'_id': ObjectId('55f14312c7447c3da7051cec'),\n",
       "  'URL': 'http://www.just-eat.co.uk/restaurants-aldixifriedchicken-b21/menu',\n",
       "  'address': '343 Soho Road',\n",
       "  'address line 2': 'Birmingham',\n",
       "  'name': 'Al Dixi Fried Chicken & Grill House',\n",
       "  'outcode': 'B21',\n",
       "  'postcode': '9SE',\n",
       "  'rating': 1,\n",
       "  'type_of_food': 'Chicken'}]"
      ]
     },
     "execution_count": 246,
     "metadata": {},
     "output_type": "execute_result"
    }
   ],
   "source": [
    "list(c.find({\"rating\":1}).limit(2))"
   ]
  },
  {
   "cell_type": "code",
   "execution_count": 247,
   "id": "detailed-philadelphia",
   "metadata": {},
   "outputs": [
    {
     "data": {
      "text/plain": [
       "<pymongo.results.UpdateResult at 0x7ff5fed135c0>"
      ]
     },
     "execution_count": 247,
     "metadata": {},
     "output_type": "execute_result"
    }
   ],
   "source": [
    "c.update_many(\n",
    "    {\"rating\":5.5}, # Elijo todos los que tienen rating 5.5\n",
    "    {\"$set\": {\"rating\": 6}} # Les pongo el rating a 6\n",
    ")"
   ]
  },
  {
   "cell_type": "code",
   "execution_count": null,
   "id": "seeing-draft",
   "metadata": {},
   "outputs": [],
   "source": [
    "c.update_many(\n",
    "    {\"type_of_food\": \"Chinese\"}, # Elijo todos los que tienen tipo comida china\n",
    "    {\"$set\": {\"rating\": 6}} # Les pongo el rating a 6\n",
    ")"
   ]
  },
  {
   "cell_type": "code",
   "execution_count": 252,
   "id": "wound-commitment",
   "metadata": {},
   "outputs": [
    {
     "data": {
      "text/plain": [
       "<pymongo.results.UpdateResult at 0x7ff5fed18200>"
      ]
     },
     "execution_count": 252,
     "metadata": {},
     "output_type": "execute_result"
    }
   ],
   "source": [
    "c.update_many(\n",
    "    {\"rating\":1}, # cojo todos los que tienen el rating a 1.5\n",
    "    {\"$unset\": {\"type_of_food\": \"\"}} # BORRO EL CAMPO RATING (ya no tienen rating de ningún tipo)\n",
    ")"
   ]
  },
  {
   "cell_type": "code",
   "execution_count": 256,
   "id": "circular-brake",
   "metadata": {},
   "outputs": [
    {
     "data": {
      "text/plain": [
       "[{'_id': ObjectId('55f14312c7447c3da7051ceb'),\n",
       "  'URL': 'http://www.just-eat.co.uk/restaurants-aldixifriedchicken-b21/menu',\n",
       "  'address': '343 Soho Road',\n",
       "  'address line 2': 'Birmingham',\n",
       "  'name': 'Al Dixi Fried Chicken & Grill House',\n",
       "  'outcode': 'B21',\n",
       "  'postcode': '9SE',\n",
       "  'rating': 1},\n",
       " {'_id': ObjectId('55f14312c7447c3da7051cec'),\n",
       "  'URL': 'http://www.just-eat.co.uk/restaurants-aldixifriedchicken-b21/menu',\n",
       "  'address': '343 Soho Road',\n",
       "  'address line 2': 'Birmingham',\n",
       "  'name': 'Al Dixi Fried Chicken & Grill House',\n",
       "  'outcode': 'B21',\n",
       "  'postcode': '9SE',\n",
       "  'rating': 1}]"
      ]
     },
     "execution_count": 256,
     "metadata": {},
     "output_type": "execute_result"
    }
   ],
   "source": [
    "list(c.find({\"rating\":1}).limit(2))"
   ]
  },
  {
   "cell_type": "markdown",
   "id": "processed-toronto",
   "metadata": {},
   "source": [
    "## Delete     \n",
    "Elimina de una colección todos los documentos que coinciden con el filtro.\n",
    "Sintaxis:\n",
    "```python\n",
    "c.delete_many(condition/filtro)\n",
    "```"
   ]
  },
  {
   "cell_type": "code",
   "execution_count": 254,
   "id": "regular-milton",
   "metadata": {},
   "outputs": [
    {
     "data": {
      "text/plain": [
       "<pymongo.results.DeleteResult at 0x7ff5f97cde40>"
      ]
     },
     "execution_count": 254,
     "metadata": {},
     "output_type": "execute_result"
    }
   ],
   "source": [
    "c.delete_many({\"rating\":0})"
   ]
  },
  {
   "cell_type": "code",
   "execution_count": 255,
   "id": "hydraulic-acoustic",
   "metadata": {},
   "outputs": [
    {
     "data": {
      "text/plain": [
       "[]"
      ]
     },
     "execution_count": 255,
     "metadata": {},
     "output_type": "execute_result"
    }
   ],
   "source": [
    "list(c.find({\"rating\":0}))"
   ]
  },
  {
   "cell_type": "markdown",
   "id": "confirmed-concrete",
   "metadata": {},
   "source": [
    "## Info extra \n",
    "Campos de consulta anidados"
   ]
  },
  {
   "cell_type": "code",
   "execution_count": 261,
   "id": "precise-aquatic",
   "metadata": {},
   "outputs": [],
   "source": [
    "db2 = client.get_database(\"ironhack\")"
   ]
  },
  {
   "cell_type": "code",
   "execution_count": 266,
   "id": "pending-learning",
   "metadata": {},
   "outputs": [],
   "source": [
    "companies = db2.get_collection(\"companies\")"
   ]
  },
  {
   "cell_type": "code",
   "execution_count": 267,
   "id": "choice-particular",
   "metadata": {},
   "outputs": [],
   "source": [
    "filtro = {\"acquisition.acquired_month\": {\"$lte\": 5}}"
   ]
  },
  {
   "cell_type": "code",
   "execution_count": 268,
   "id": "wanted-simulation",
   "metadata": {},
   "outputs": [
    {
     "data": {
      "text/plain": [
       "[{'_id': ObjectId('52cdef7c4bab8bd675297d92'),\n",
       "  'name': 'Flektor',\n",
       "  'permalink': 'flektor',\n",
       "  'crunchbase_url': 'http://www.crunchbase.com/company/flektor',\n",
       "  'homepage_url': 'http://www.flektor.com',\n",
       "  'blog_url': 'http://www.flektor-blog.com',\n",
       "  'blog_feed_url': 'http://www.flektor-blog.com/video_editing_software/index.rdf',\n",
       "  'twitter_username': None,\n",
       "  'category_code': 'games_video',\n",
       "  'number_of_employees': None,\n",
       "  'founded_year': None,\n",
       "  'founded_month': None,\n",
       "  'founded_day': None,\n",
       "  'deadpooled_year': None,\n",
       "  'deadpooled_month': None,\n",
       "  'deadpooled_day': None,\n",
       "  'deadpooled_url': None,\n",
       "  'tag_list': 'flektor, photo, video',\n",
       "  'alias_list': None,\n",
       "  'email_address': None,\n",
       "  'phone_number': None,\n",
       "  'description': None,\n",
       "  'created_at': 'Thu May 31 21:11:51 UTC 2007',\n",
       "  'updated_at': 'Sat Nov 05 08:42:23 UTC 2011',\n",
       "  'overview': '<p>Flektor is a rich-media mash-up platform that enables consumers to create, remix and share photos and videos on the internet without the need for advanced video-editing skills or software.</p>\\n\\n<p>Fox Interactive Media, a division of News Corporation, announced that it had completed the purchase of Flektor on May 30, 2007.  The estimated puchase price is $15-20 million.</p>',\n",
       "  'image': {'available_sizes': [[[150, 68],\n",
       "     'assets/images/resized/0000/2398/2398v4-max-150x150.png'],\n",
       "    [[186, 85], 'assets/images/resized/0000/2398/2398v4-max-250x250.png'],\n",
       "    [[186, 85], 'assets/images/resized/0000/2398/2398v4-max-450x450.png']],\n",
       "   'attribution': None},\n",
       "  'products': [{'name': 'Flektor', 'permalink': 'flektor'}],\n",
       "  'relationships': [{'is_past': True,\n",
       "    'title': 'COO, Co-Founder',\n",
       "    'person': {'first_name': 'Jason',\n",
       "     'last_name': 'Kay',\n",
       "     'permalink': 'jason-kay'}},\n",
       "   {'is_past': True,\n",
       "    'title': 'Co-founder and CEO',\n",
       "    'person': {'first_name': 'Jason',\n",
       "     'last_name': 'Rubin',\n",
       "     'permalink': 'jason-rubin'}},\n",
       "   {'is_past': True,\n",
       "    'title': 'Co-founder and CTO',\n",
       "    'person': {'first_name': 'Andy',\n",
       "     'last_name': 'Gavin',\n",
       "     'permalink': 'andy-gavin'}},\n",
       "   {'is_past': True,\n",
       "    'title': 'VP of Technology',\n",
       "    'person': {'first_name': 'Scott',\n",
       "     'last_name': 'Shumaker',\n",
       "     'permalink': 'scott-shumaker'}},\n",
       "   {'is_past': True,\n",
       "    'title': 'VP of Product',\n",
       "    'person': {'first_name': 'Ryan',\n",
       "     'last_name': 'Evans',\n",
       "     'permalink': 'ryan-evans'}},\n",
       "   {'is_past': True,\n",
       "    'title': 'Technical Art Director | Flash Developer',\n",
       "    'person': {'first_name': 'Edvard',\n",
       "     'last_name': 'Toth',\n",
       "     'permalink': 'edvard-toth'}}],\n",
       "  'competitions': [{'competitor': {'name': 'RockYou', 'permalink': 'rockyou'}},\n",
       "   {'competitor': {'name': 'Slide', 'permalink': 'slide'}},\n",
       "   {'competitor': {'name': 'Mixercast', 'permalink': 'mixercast'}},\n",
       "   {'competitor': {'name': 'Toufee', 'permalink': 'toufee'}},\n",
       "   {'competitor': {'name': 'Capzles', 'permalink': 'capzles'}}],\n",
       "  'providerships': [],\n",
       "  'total_money_raised': '$0',\n",
       "  'funding_rounds': [],\n",
       "  'investments': [],\n",
       "  'acquisition': {'price_amount': 20000000,\n",
       "   'price_currency_code': 'USD',\n",
       "   'term_code': None,\n",
       "   'source_url': 'http://venturebeat.com/2007/05/30/fox-interactive-confirms-purchase-of-photobucket-and-flektor/',\n",
       "   'source_description': 'Fox Interactive confirms purchase of Photobucket and Flektor',\n",
       "   'acquired_year': 2007,\n",
       "   'acquired_month': 5,\n",
       "   'acquired_day': 30,\n",
       "   'acquiring_company': {'name': 'Fox Interactive Media',\n",
       "    'permalink': 'fox-interactive-media'}},\n",
       "  'acquisitions': [],\n",
       "  'offices': [{'description': None,\n",
       "    'address1': '8536 National Blvd, Suite A',\n",
       "    'address2': None,\n",
       "    'zip_code': '90232',\n",
       "    'city': 'Culver City',\n",
       "    'state_code': 'CA',\n",
       "    'country_code': 'USA',\n",
       "    'latitude': 34.025958,\n",
       "    'longitude': -118.379768}],\n",
       "  'milestones': [],\n",
       "  'ipo': None,\n",
       "  'video_embeds': [],\n",
       "  'screenshots': [],\n",
       "  'external_links': [],\n",
       "  'partners': []},\n",
       " {'_id': ObjectId('52cdef7c4bab8bd675297d95'),\n",
       "  'name': 'StumbleUpon',\n",
       "  'permalink': 'stumbleupon',\n",
       "  'crunchbase_url': 'http://www.crunchbase.com/company/stumbleupon',\n",
       "  'homepage_url': 'http://www.stumbleupon.com',\n",
       "  'blog_url': 'http://www.stumbleupon.com/blog',\n",
       "  'blog_feed_url': '',\n",
       "  'twitter_username': 'stumbleupon',\n",
       "  'category_code': 'web',\n",
       "  'number_of_employees': None,\n",
       "  'founded_year': 2002,\n",
       "  'founded_month': 2,\n",
       "  'founded_day': 1,\n",
       "  'deadpooled_year': None,\n",
       "  'deadpooled_month': None,\n",
       "  'deadpooled_day': None,\n",
       "  'deadpooled_url': None,\n",
       "  'tag_list': 'content-discovery, find, content, stumble, toolbar',\n",
       "  'alias_list': '',\n",
       "  'email_address': '',\n",
       "  'phone_number': '',\n",
       "  'description': 'Content discovery service',\n",
       "  'created_at': datetime.datetime(2007, 6, 1, 9, 28, 13),\n",
       "  'updated_at': 'Wed Mar 20 04:14:12 UTC 2013',\n",
       "  'overview': '<p>StumbleUpon is the easiest way to discover new and interesting things from across the Web. More than 25 million people turn to StumbleUpon to be informed, entertained and surprised by content and information recommended just for them. In addition, more than 80,000 brands, publishers and other marketers have used StumbleUpon’s Paid Discovery platform to tell their stories and promote their products and services. Explore more at www.stumbleupon.com.</p>',\n",
       "  'image': {'available_sizes': [[[150, 38],\n",
       "     'assets/images/resized/0004/1614/41614v6-max-150x150.png'],\n",
       "    [[250, 64], 'assets/images/resized/0004/1614/41614v6-max-250x250.png'],\n",
       "    [[302, 78], 'assets/images/resized/0004/1614/41614v6-max-450x450.png']],\n",
       "   'attribution': None},\n",
       "  'products': [],\n",
       "  'relationships': [{'is_past': False,\n",
       "    'title': 'Co-Founder/CTO',\n",
       "    'person': {'first_name': 'Geoff',\n",
       "     'last_name': 'Smith',\n",
       "     'permalink': 'geoff-smith-3'}},\n",
       "   {'is_past': False,\n",
       "    'title': 'Co-Founder & Chairman',\n",
       "    'person': {'first_name': 'Garrett',\n",
       "     'last_name': 'Camp',\n",
       "     'permalink': 'garrett-camp'}},\n",
       "   {'is_past': False,\n",
       "    'title': 'CEO',\n",
       "    'person': {'first_name': 'Mark',\n",
       "     'last_name': 'Bartels',\n",
       "     'permalink': 'mark-bartels'}},\n",
       "   {'is_past': False,\n",
       "    'title': 'VP Product',\n",
       "    'person': {'first_name': 'David',\n",
       "     'last_name': 'Marks',\n",
       "     'permalink': 'david-marks'}},\n",
       "   {'is_past': False,\n",
       "    'title': 'Vice President of Sales',\n",
       "    'person': {'first_name': 'Teal',\n",
       "     'last_name': 'Newland',\n",
       "     'permalink': 'teal-newland'}},\n",
       "   {'is_past': False,\n",
       "    'title': 'Board of Directors',\n",
       "    'person': {'first_name': 'David',\n",
       "     'last_name': 'Hornik',\n",
       "     'permalink': 'david-hornik'}},\n",
       "   {'is_past': False,\n",
       "    'title': 'Advisor',\n",
       "    'person': {'first_name': 'Josh',\n",
       "     'last_name': 'Spear',\n",
       "     'permalink': 'josh-spear'}},\n",
       "   {'is_past': False,\n",
       "    'title': 'Advisor',\n",
       "    'person': {'first_name': 'Timothy',\n",
       "     'last_name': 'Ferriss',\n",
       "     'permalink': 'tim-ferriss'}},\n",
       "   {'is_past': False,\n",
       "    'title': 'Member, Board of Advisors',\n",
       "    'person': {'first_name': 'Bob',\n",
       "     'last_name': 'Bahramipour',\n",
       "     'permalink': 'bob-bahramipour'}},\n",
       "   {'is_past': False,\n",
       "    'title': 'Advisory Board Member',\n",
       "    'person': {'first_name': 'Steve',\n",
       "     'last_name': 'Jang',\n",
       "     'permalink': 'steve-jang'}},\n",
       "   {'is_past': False,\n",
       "    'title': 'Board of Directors',\n",
       "    'person': {'first_name': 'Ram',\n",
       "     'last_name': 'Shriram',\n",
       "     'permalink': 'ram-shriram'}},\n",
       "   {'is_past': False,\n",
       "    'title': 'Legal Counsel',\n",
       "    'person': {'first_name': 'Dina',\n",
       "     'last_name': 'Hellerstein',\n",
       "     'permalink': 'dina-hellerstein'}},\n",
       "   {'is_past': False,\n",
       "    'title': 'Revenue & Sales Analytics Manager',\n",
       "    'person': {'first_name': 'Stephen',\n",
       "     'last_name': 'Cheung',\n",
       "     'permalink': 'stephen-cheung'}},\n",
       "   {'is_past': True,\n",
       "    'title': 'CEO, co-founder',\n",
       "    'person': {'first_name': 'Garrett',\n",
       "     'last_name': 'Camp',\n",
       "     'permalink': 'garrett-camp'}},\n",
       "   {'is_past': True,\n",
       "    'title': 'Chief Product Officer',\n",
       "    'person': {'first_name': 'Cody',\n",
       "     'last_name': 'Simms',\n",
       "     'permalink': 'cody-simms'}},\n",
       "   {'is_past': True,\n",
       "    'title': 'VP',\n",
       "    'person': {'first_name': 'Marc',\n",
       "     'last_name': 'Leibowitz',\n",
       "     'permalink': 'marc-leibowitz'}},\n",
       "   {'is_past': True,\n",
       "    'title': 'VP, Marketing & Business Operations',\n",
       "    'person': {'first_name': 'David',\n",
       "     'last_name': 'Feller',\n",
       "     'permalink': 'david-feller'}},\n",
       "   {'is_past': True,\n",
       "    'title': 'Businessman',\n",
       "    'person': {'first_name': 'David',\n",
       "     'last_name': 'Lee',\n",
       "     'permalink': 'david-lee'}},\n",
       "   {'is_past': True,\n",
       "    'title': 'Engineering Manager',\n",
       "    'person': {'first_name': 'Jeff',\n",
       "     'last_name': 'Sheldon',\n",
       "     'permalink': 'jeff-sheldon'}},\n",
       "   {'is_past': True,\n",
       "    'title': 'Systems Architect',\n",
       "    'person': {'first_name': 'Ryan',\n",
       "     'last_name': 'Rawson',\n",
       "     'permalink': 'ryan-rawson'}},\n",
       "   {'is_past': True,\n",
       "    'title': 'Head of Business Development',\n",
       "    'person': {'first_name': 'David',\n",
       "     'last_name': 'Lee',\n",
       "     'permalink': 'david-lee'}},\n",
       "   {'is_past': True,\n",
       "    'title': 'Founding Investor, Advisor, Board Observer',\n",
       "    'person': {'first_name': 'Brad',\n",
       "     'last_name': \"O'Neill\",\n",
       "     'permalink': 'brad-oneill'}},\n",
       "   {'is_past': True,\n",
       "    'title': 'Executive Director, Brand Experience',\n",
       "    'person': {'first_name': 'David',\n",
       "     'last_name': 'Gómez-Rosado',\n",
       "     'permalink': 'david-gmez-rosado'}},\n",
       "   {'is_past': True,\n",
       "    'title': 'Advertising Account Manager',\n",
       "    'person': {'first_name': 'Mariko',\n",
       "     'last_name': 'Fritz-Krockow',\n",
       "     'permalink': 'mariko-fritz-krockow'}},\n",
       "   {'is_past': True,\n",
       "    'title': 'Research Engineer',\n",
       "    'person': {'first_name': 'Jacqueline',\n",
       "     'last_name': 'Chang',\n",
       "     'permalink': 'jacky-chang'}},\n",
       "   {'is_past': True,\n",
       "    'title': 'Investor',\n",
       "    'person': {'first_name': 'Mitchell',\n",
       "     'last_name': 'Kapor',\n",
       "     'permalink': 'mitchell-kapor'}},\n",
       "   {'is_past': True,\n",
       "    'title': 'Senior Systems Architect',\n",
       "    'person': {'first_name': 'Ken',\n",
       "     'last_name': 'MacInnis',\n",
       "     'permalink': 'ken-macinnis'}}],\n",
       "  'competitions': [{'competitor': {'name': 'MatchMine',\n",
       "     'permalink': 'matchmine'}},\n",
       "   {'competitor': {'name': 'Faves', 'permalink': 'faves'}},\n",
       "   {'competitor': {'name': 'SpinSnap', 'permalink': 'spinsnap'}},\n",
       "   {'competitor': {'name': 'ZapNat', 'permalink': 'zapnat'}},\n",
       "   {'competitor': {'name': 'Digg', 'permalink': 'digg'}},\n",
       "   {'competitor': {'name': 'Mixx', 'permalink': 'mixx'}},\n",
       "   {'competitor': {'name': 'Reddit', 'permalink': 'reddit'}},\n",
       "   {'competitor': {'name': 'Qwiji', 'permalink': 'qwiji'}},\n",
       "   {'competitor': {'name': 'Boxnutt', 'permalink': 'boxnutt'}},\n",
       "   {'competitor': {'name': 'Twiddle', 'permalink': 'twiddle'}}],\n",
       "  'providerships': [{'title': '',\n",
       "    'is_past': True,\n",
       "    'provider': {'name': 'The OutCast Agency',\n",
       "     'permalink': 'outcast-communications'}},\n",
       "   {'title': 'Marketing',\n",
       "    'is_past': True,\n",
       "    'provider': {'name': 'Rassak Experience',\n",
       "     'permalink': 'rassak-experience'}},\n",
       "   {'title': 'Video Production',\n",
       "    'is_past': False,\n",
       "    'provider': {'name': 'Transvideo Studios',\n",
       "     'permalink': 'transvideo-studios'}}],\n",
       "  'total_money_raised': '$18.5M',\n",
       "  'funding_rounds': [{'id': 8,\n",
       "    'round_code': 'seed',\n",
       "    'source_url': 'http://www.techcrunch.com/2006/11/14/stumbleupon-may-be-for-sale-50m/',\n",
       "    'source_description': 'StumbleUpon May Be For Sale: 50M',\n",
       "    'raised_amount': 1500000,\n",
       "    'raised_currency_code': 'USD',\n",
       "    'funded_year': 2005,\n",
       "    'funded_month': 12,\n",
       "    'funded_day': 1,\n",
       "    'investments': [{'company': None,\n",
       "      'financial_org': {'name': 'First Round Capital',\n",
       "       'permalink': 'first-round-capital'},\n",
       "      'person': None},\n",
       "     {'company': None,\n",
       "      'financial_org': None,\n",
       "      'person': {'first_name': 'Ram',\n",
       "       'last_name': 'Shriram',\n",
       "       'permalink': 'ram-shriram'}},\n",
       "     {'company': None,\n",
       "      'financial_org': None,\n",
       "      'person': {'first_name': 'Mitch',\n",
       "       'last_name': 'Kapor',\n",
       "       'permalink': 'mitch-kapor'}},\n",
       "     {'company': None,\n",
       "      'financial_org': None,\n",
       "      'person': {'first_name': 'Ron',\n",
       "       'last_name': 'Conway',\n",
       "       'permalink': 'ron-conway'}}]},\n",
       "   {'id': 5678,\n",
       "    'round_code': 'a',\n",
       "    'source_url': 'http://www.google.com/hostednews/ap/article/ALeqM5gNv3w4LZDJhkPrS_VJ7rIa5l1MWwD97HSSH00',\n",
       "    'source_description': \"StumbleUpon's founders buy service back from eBay\",\n",
       "    'raised_amount': None,\n",
       "    'raised_currency_code': None,\n",
       "    'funded_year': 2009,\n",
       "    'funded_month': 4,\n",
       "    'funded_day': 13,\n",
       "    'investments': [{'company': None,\n",
       "      'financial_org': {'name': 'Accel Partners',\n",
       "       'permalink': 'accel-partners'},\n",
       "      'person': None},\n",
       "     {'company': None,\n",
       "      'financial_org': {'name': 'Sherpalo Ventures',\n",
       "       'permalink': 'sherpalo-ventures'},\n",
       "      'person': None},\n",
       "     {'company': None,\n",
       "      'financial_org': {'name': 'August Capital',\n",
       "       'permalink': 'august-capital'},\n",
       "      'person': None},\n",
       "     {'company': None,\n",
       "      'financial_org': {'name': 'First Round Capital',\n",
       "       'permalink': 'first-round-capital'},\n",
       "      'person': None},\n",
       "     {'company': None,\n",
       "      'financial_org': None,\n",
       "      'person': {'first_name': 'Garrett',\n",
       "       'last_name': 'Camp',\n",
       "       'permalink': 'garrett-camp'}},\n",
       "     {'company': None,\n",
       "      'financial_org': {'name': 'SV Angel', 'permalink': 'sv-angel'},\n",
       "      'person': None}]},\n",
       "   {'id': 21851,\n",
       "    'round_code': 'b',\n",
       "    'source_url': 'http://techcrunch.com/2011/03/09/stumbleupon-stumbles-onto-17m-from-accel-and-others/',\n",
       "    'source_description': 'Recommendation Engine StumbleUpon Stumbles Onto $17M From Accel, August Capital And Others',\n",
       "    'raised_amount': 17000000,\n",
       "    'raised_currency_code': 'USD',\n",
       "    'funded_year': 2011,\n",
       "    'funded_month': 3,\n",
       "    'funded_day': 9,\n",
       "    'investments': [{'company': None,\n",
       "      'financial_org': {'name': 'Accel Partners',\n",
       "       'permalink': 'accel-partners'},\n",
       "      'person': None},\n",
       "     {'company': None,\n",
       "      'financial_org': {'name': 'August Capital',\n",
       "       'permalink': 'august-capital'},\n",
       "      'person': None},\n",
       "     {'company': None,\n",
       "      'financial_org': {'name': 'DAG Ventures', 'permalink': 'dag-ventures'},\n",
       "      'person': None},\n",
       "     {'company': None,\n",
       "      'financial_org': {'name': 'First Round Capital',\n",
       "       'permalink': 'first-round-capital'},\n",
       "      'person': None},\n",
       "     {'company': None,\n",
       "      'financial_org': {'name': 'Sherpalo Ventures',\n",
       "       'permalink': 'sherpalo-ventures'},\n",
       "      'person': None},\n",
       "     {'company': None,\n",
       "      'financial_org': None,\n",
       "      'person': {'first_name': 'Garrett',\n",
       "       'last_name': 'Camp',\n",
       "       'permalink': 'garrett-camp'}}]},\n",
       "   {'id': 24677,\n",
       "    'round_code': 'angel',\n",
       "    'source_url': '',\n",
       "    'source_description': '',\n",
       "    'raised_amount': None,\n",
       "    'raised_currency_code': None,\n",
       "    'funded_year': 2001,\n",
       "    'funded_month': 1,\n",
       "    'funded_day': 1,\n",
       "    'investments': [{'company': None,\n",
       "      'financial_org': None,\n",
       "      'person': {'first_name': 'Brad',\n",
       "       'last_name': \"O'Neill\",\n",
       "       'permalink': 'brad-oneill'}}]}],\n",
       "  'investments': [],\n",
       "  'acquisition': {'price_amount': 29000000,\n",
       "   'price_currency_code': 'USD',\n",
       "   'term_code': None,\n",
       "   'source_url': 'http://techcrunch.com/2009/04/13/ebay-unacquires-stumbleupon/',\n",
       "   'source_description': \"StumbleUpon Beats Skype In Escaping EBay's Clutches\",\n",
       "   'acquired_year': 2009,\n",
       "   'acquired_month': 4,\n",
       "   'acquired_day': None,\n",
       "   'acquiring_company': {'name': 'StumbleUpon', 'permalink': 'stumbleupon'}},\n",
       "  'acquisitions': [{'price_amount': 29000000,\n",
       "    'price_currency_code': 'USD',\n",
       "    'term_code': None,\n",
       "    'source_url': 'http://techcrunch.com/2009/04/13/ebay-unacquires-stumbleupon/',\n",
       "    'source_description': \"StumbleUpon Beats Skype In Escaping EBay's Clutches\",\n",
       "    'acquired_year': 2009,\n",
       "    'acquired_month': 4,\n",
       "    'acquired_day': None,\n",
       "    'company': {'name': 'StumbleUpon', 'permalink': 'stumbleupon'}},\n",
       "   {'price_amount': None,\n",
       "    'price_currency_code': 'USD',\n",
       "    'term_code': None,\n",
       "    'source_url': 'http://techcrunch.com/2013/09/24/stumbleupon-acquires-5by/',\n",
       "    'source_description': 'In Its First Acquisition, StumbleUpon Buys Video Recommendation Startup 5by',\n",
       "    'acquired_year': 2013,\n",
       "    'acquired_month': 9,\n",
       "    'acquired_day': 24,\n",
       "    'company': {'name': '5by', 'permalink': '5by'}}],\n",
       "  'offices': [{'description': '',\n",
       "    'address1': '',\n",
       "    'address2': '',\n",
       "    'zip_code': '',\n",
       "    'city': 'San Francisco',\n",
       "    'state_code': 'CA',\n",
       "    'country_code': 'USA',\n",
       "    'latitude': 37.775196,\n",
       "    'longitude': -122.419204},\n",
       "   {'description': '',\n",
       "    'address1': '',\n",
       "    'address2': '',\n",
       "    'zip_code': '',\n",
       "    'city': 'New York City',\n",
       "    'state_code': 'NY',\n",
       "    'country_code': 'USA',\n",
       "    'latitude': None,\n",
       "    'longitude': None}],\n",
       "  'milestones': [{'id': 3103,\n",
       "    'description': 'Spin-out from Ebay, repurchase by founders & new investors.',\n",
       "    'stoned_year': 2009,\n",
       "    'stoned_month': 4,\n",
       "    'stoned_day': 13,\n",
       "    'source_url': 'http://www.pcworld.com/businesscenter/article/163043/investors_buy_back_stumbleupon_from_ebay.html',\n",
       "    'source_text': None,\n",
       "    'source_description': '',\n",
       "    'stoneable_type': 'Company',\n",
       "    'stoned_value': None,\n",
       "    'stoned_value_type': None,\n",
       "    'stoned_acquirer': None,\n",
       "    'stoneable': {'name': 'StumbleUpon', 'permalink': 'stumbleupon'}},\n",
       "   {'id': 9742,\n",
       "    'description': 'StumbleUpon Stumbles Past 12 Million Members',\n",
       "    'stoned_year': 2010,\n",
       "    'stoned_month': 11,\n",
       "    'stoned_day': 1,\n",
       "    'source_url': 'http://news.yahoo.com/s/mashable/20101101/tc_mashable/stumbleupon_stumbles_past_12_million_members',\n",
       "    'source_text': '',\n",
       "    'source_description': 'StumbleUpon Stumbles Past 12 Million Members',\n",
       "    'stoneable_type': 'Company',\n",
       "    'stoned_value': None,\n",
       "    'stoned_value_type': None,\n",
       "    'stoned_acquirer': None,\n",
       "    'stoneable': {'name': 'StumbleUpon', 'permalink': 'stumbleupon'}},\n",
       "   {'id': 12454,\n",
       "    'description': 'StumbleUpon Hits 500 Million Pageviews A Month',\n",
       "    'stoned_year': 2011,\n",
       "    'stoned_month': 2,\n",
       "    'stoned_day': 12,\n",
       "    'source_url': 'http://www.businessinsider.com/stumbleupon-hits-500-million-pageviews-a-month-2011-2',\n",
       "    'source_text': '',\n",
       "    'source_description': 'StumbleUpon Hits 500 Million Pageviews A Month',\n",
       "    'stoneable_type': 'Company',\n",
       "    'stoned_value': None,\n",
       "    'stoned_value_type': None,\n",
       "    'stoned_acquirer': None,\n",
       "    'stoneable': {'name': 'StumbleUpon', 'permalink': 'stumbleupon'}},\n",
       "   {'id': 13971,\n",
       "    'description': 'StumbleUpon Hits 800 Million \"Stumbles\" A Month',\n",
       "    'stoned_year': 2011,\n",
       "    'stoned_month': 4,\n",
       "    'stoned_day': 4,\n",
       "    'source_url': 'http://www.businessinsider.com/stumbleupon-2011-4',\n",
       "    'source_text': '',\n",
       "    'source_description': 'StumbleUpon Hits 800 Million \"Stumbles\" A Month',\n",
       "    'stoneable_type': 'Company',\n",
       "    'stoned_value': None,\n",
       "    'stoned_value_type': None,\n",
       "    'stoned_acquirer': None,\n",
       "    'stoneable': {'name': 'StumbleUpon', 'permalink': 'stumbleupon'}}],\n",
       "  'ipo': None,\n",
       "  'video_embeds': [{'embed_code': '<embed src=\"http://blip.tv/play/hRa8_hEA\" type=\"application/x-shockwave-flash\" width=\"370\" height=\"308\" allowscriptaccess=\"always\" allowfullscreen=\"true\"></embed>',\n",
       "    'description': '<p>This video was originally published on <a href=\"http://www.beet.tv/2008/06/ebays-stumbleup.html\" title=\"Beet.TV\" rel=\"nofollow\">Beet.TV</a></p>'},\n",
       "   {'embed_code': '<embed src=\"http://blip.tv/play/hRaZ2AcA\" type=\"application/x-shockwave-flash\" width=\"370\" height=\"308\" allowscriptaccess=\"always\" allowfullscreen=\"true\"></embed>',\n",
       "    'description': '<p>This video was originally published on <a href=\"http://www.beet.tv/2007/12/stumbleupon-rea.html\" title=\"Beet.TV\" rel=\"nofollow\">Beet.TV</a></p>'},\n",
       "   {'embed_code': '<embed src=\"http://blip.tv/play/goRrgo29TgI%2Em4v\" type=\"application/x-shockwave-flash\" width=\"370\" height=\"308\" allowscriptaccess=\"always\" allowfullscreen=\"true\"></embed>',\n",
       "    'description': '<p>This video was originally published on <a href=\"http://www.beet.tv/2010/11/stumbleupon-wants-to-be-the-pandora-of-web-video-with-new-video-strategy.html\" title=\"Beet.TV\" rel=\"nofollow\">Beet.TV</a></p>'},\n",
       "   {'embed_code': '<iframe title=\"YouTube video player\" width=\"370\" height=\"308\" src=\"http://www.youtube.com/embed/4D_a-h4XFMo\" frameborder=\"0\" allowfullscreen></iframe>',\n",
       "    'description': '<p>What is StumbleUpon?</p>'}],\n",
       "  'screenshots': [{'available_sizes': [[[150, 72],\n",
       "      'assets/images/resized/0014/8633/148633v1-max-150x150.jpg'],\n",
       "     [[250, 120], 'assets/images/resized/0014/8633/148633v1-max-250x250.jpg'],\n",
       "     [[450, 216], 'assets/images/resized/0014/8633/148633v1-max-450x450.jpg']],\n",
       "    'attribution': None}],\n",
       "  'external_links': [{'external_url': 'http://www.facebook.com/StumbleUpon',\n",
       "    'title': 'Facebook'},\n",
       "   {'external_url': 'http://itunes.apple.com/us/app/stumbleupon!/id386244833?mt=8',\n",
       "    'title': 'iTunes App Store'},\n",
       "   {'external_url': 'https://addons.mozilla.org/en-US/firefox/addon/stumbleupon/',\n",
       "    'title': 'Mozilla Firefox Add-Ons'},\n",
       "   {'external_url': 'https://chrome.google.com/webstore/detail/kcahibnffhnnjcedflmchmokndkjnhpg',\n",
       "    'title': 'Chrome Web Store'}],\n",
       "  'partners': []}]"
      ]
     },
     "execution_count": 268,
     "metadata": {},
     "output_type": "execute_result"
    }
   ],
   "source": [
    "list(companies.find(filtro).limit(2))"
   ]
  },
  {
   "cell_type": "code",
   "execution_count": 271,
   "id": "cheap-toddler",
   "metadata": {},
   "outputs": [],
   "source": [
    "filtro2 = {\"providerships.title\": \"Public Relations\"}"
   ]
  },
  {
   "cell_type": "code",
   "execution_count": 273,
   "id": "industrial-optics",
   "metadata": {},
   "outputs": [
    {
     "data": {
      "text/plain": [
       "[{'_id': ObjectId('52cdef7c4bab8bd675297d8d'),\n",
       "  'name': 'Digg',\n",
       "  'permalink': 'digg',\n",
       "  'crunchbase_url': 'http://www.crunchbase.com/company/digg',\n",
       "  'homepage_url': 'http://www.digg.com',\n",
       "  'blog_url': 'http://blog.digg.com/',\n",
       "  'blog_feed_url': 'http://blog.digg.com/?feed=rss2',\n",
       "  'twitter_username': 'digg',\n",
       "  'category_code': 'news',\n",
       "  'number_of_employees': 60,\n",
       "  'founded_year': 2004,\n",
       "  'founded_month': 10,\n",
       "  'founded_day': 11,\n",
       "  'deadpooled_year': None,\n",
       "  'deadpooled_month': None,\n",
       "  'deadpooled_day': None,\n",
       "  'deadpooled_url': None,\n",
       "  'tag_list': 'community, social, news, bookmark, digg, technology, design',\n",
       "  'alias_list': '',\n",
       "  'email_address': 'feedback@digg.com',\n",
       "  'phone_number': '(415) 436-9638',\n",
       "  'description': 'user driven social content website',\n",
       "  'created_at': 'Fri May 25 20:03:23 UTC 2007',\n",
       "  'updated_at': 'Tue Nov 05 21:35:47 UTC 2013',\n",
       "  'overview': '<p>Digg is a user driven social content website. Everything on Digg is user-submitted. After you submit content, other people read your submission and &#8220;Digg&#8221; what they like best. If your story receives enough Diggs, it&#8217;s promoted to the front page for other visitors to see.</p>\\n\\n<p><a href=\"http://www.crunchbase.com/person/kevin-rose\" title=\"Kevin Rose\">Kevin Rose</a> came up with the idea for Digg in the fall of 2004.  He found programmer <a href=\"http://www.crunchbase.com/person/owen-byrne\" title=\"Owen Byrne\">Owen Byrne</a> through <a href=\"http://www.crunchbase.com/company/elance\" title=\"eLance\">eLance</a> and paid him $10/hour to develop the idea. In addition, Rose paid $99 per month for hosting and $1,200 for the Digg.com domain. In December of 2004, Kevin launched his creation to the world through a post on his blog.</p>\\n\\n<p>In February of 2005, Paris Hilton&#8217;s cell phone was hacked.  Images and phone numbers from the phone were posted online and it didn&#8217;t take long for a user to post the link on Digg. The rapidshare downloads site started to receive an enormous amount of traffic and it was then, Rose says, he saw &#8220;the power of breaking stories before anyone else.&#8221;</p>\\n\\n<p>Digg has been a force ever since.  Acquisition offers have been made, Rose was on the cover of <a href=\"/company/businessweek\" title=\"BusinessWeek\" rel=\"nofollow\">BusinessWeek</a> and according to <a href=\"/company/alexa\" title=\"Alexa\" rel=\"nofollow\">Alexa</a>, Digg is in the top 100 most trafficked sites on the internet. The success hasn&#8217;t come without its share of problems though.  The site has had to face <a href=\"http://www.techcrunch.com/2007/04/02/subvert-and-profit-next-service-to-try-gaming-digg/\" title=\"services aimed at gaming\">services aimed at gaming</a> the way stories hit the front page, as well as a <a href=\"http://www.techcrunch.com/2007/05/01/digg-surrenders-to-mob/\" title=\"user revolt\">user revolt</a>.  Digg has however been able to get over these hurdles as it continues to be one of the social news leaders. </p>',\n",
       "  'image': {'available_sizes': [[[150, 150],\n",
       "     'assets/images/resized/0000/4138/4138v5-max-150x150.jpg'],\n",
       "    [[250, 250], 'assets/images/resized/0000/4138/4138v5-max-250x250.jpg'],\n",
       "    [[280, 280], 'assets/images/resized/0000/4138/4138v5-max-450x450.jpg']],\n",
       "   'attribution': None},\n",
       "  'products': [{'name': 'Digg', 'permalink': 'digg'}],\n",
       "  'relationships': [{'is_past': False,\n",
       "    'title': 'CEO',\n",
       "    'person': {'first_name': 'Andrew',\n",
       "     'last_name': 'McLaughlin',\n",
       "     'permalink': 'andrew-mclaughlin'}},\n",
       "   {'is_past': False,\n",
       "    'title': 'CEO',\n",
       "    'person': {'first_name': 'Matt',\n",
       "     'last_name': 'Williams',\n",
       "     'permalink': 'matt-williams-2'}},\n",
       "   {'is_past': False,\n",
       "    'title': 'CFO',\n",
       "    'person': {'first_name': 'Bennett',\n",
       "     'last_name': 'Thuener',\n",
       "     'permalink': 'bennett-thuener'}},\n",
       "   {'is_past': False,\n",
       "    'title': 'VP of Engineering',\n",
       "    'person': {'first_name': 'Ben',\n",
       "     'last_name': 'Folk-Williams',\n",
       "     'permalink': 'ben-folk-williams'}},\n",
       "   {'is_past': False,\n",
       "    'title': 'Designer',\n",
       "    'person': {'first_name': 'Tyson',\n",
       "     'last_name': 'Rosage',\n",
       "     'permalink': 'tyson-rosage'}},\n",
       "   {'is_past': False,\n",
       "    'title': 'NetSystem',\n",
       "    'person': {'first_name': 'Elad',\n",
       "     'last_name': 'Gilo',\n",
       "     'permalink': 'elad-gilo'}},\n",
       "   {'is_past': True,\n",
       "    'title': 'Founder & CEO',\n",
       "    'person': {'first_name': 'Kevin',\n",
       "     'last_name': 'Rose',\n",
       "     'permalink': 'kevin-rose'}},\n",
       "   {'is_past': True,\n",
       "    'title': 'CFO',\n",
       "    'person': {'first_name': 'John',\n",
       "     'last_name': 'Moffett',\n",
       "     'permalink': 'john-moffett'}},\n",
       "   {'is_past': True,\n",
       "    'title': 'Chief Strategy Officer',\n",
       "    'person': {'first_name': 'Mike',\n",
       "     'last_name': 'Maser',\n",
       "     'permalink': 'mike-maser'}},\n",
       "   {'is_past': True,\n",
       "    'title': 'Chief Executive Officer',\n",
       "    'person': {'first_name': 'Jay',\n",
       "     'last_name': 'Adelson',\n",
       "     'permalink': 'jay-adelson'}},\n",
       "   {'is_past': True,\n",
       "    'title': 'VP Ads Development',\n",
       "    'person': {'first_name': 'Alan',\n",
       "     'last_name': 'Lippman',\n",
       "     'permalink': 'alan-lippman'}},\n",
       "   {'is_past': True,\n",
       "    'title': 'VP of Engineering',\n",
       "    'person': {'first_name': 'Brian',\n",
       "     'last_name': 'Link',\n",
       "     'permalink': 'brian-link'}},\n",
       "   {'is_past': True,\n",
       "    'title': 'VP Engineering',\n",
       "    'person': {'first_name': 'John',\n",
       "     'last_name': 'Quinn',\n",
       "     'permalink': 'john-quinn-2'}},\n",
       "   {'is_past': True,\n",
       "    'title': 'VP of Product',\n",
       "    'person': {'first_name': 'Keval',\n",
       "     'last_name': 'Desai',\n",
       "     'permalink': 'keval-desai'}},\n",
       "   {'is_past': True,\n",
       "    'title': 'VP Business Development',\n",
       "    'person': {'first_name': 'Bob',\n",
       "     'last_name': 'Buch',\n",
       "     'permalink': 'bob-buch'}},\n",
       "   {'is_past': True,\n",
       "    'title': 'Vice President, Operations',\n",
       "    'person': {'first_name': 'Scott',\n",
       "     'last_name': 'Baker',\n",
       "     'permalink': 'scott-baker'}},\n",
       "   {'is_past': True,\n",
       "    'title': 'VP of Research and Development',\n",
       "    'person': {'first_name': 'Anton',\n",
       "     'last_name': 'Kast',\n",
       "     'permalink': 'anton-kast'}},\n",
       "   {'is_past': True,\n",
       "    'title': 'Senior Software Engineer',\n",
       "    'person': {'first_name': 'Owen',\n",
       "     'last_name': 'Byrne',\n",
       "     'permalink': 'owen-byrne'}},\n",
       "   {'is_past': True,\n",
       "    'title': 'Lead Architect',\n",
       "    'person': {'first_name': 'Joe',\n",
       "     'last_name': 'Stump',\n",
       "     'permalink': 'joe-stump'}},\n",
       "   {'is_past': True,\n",
       "    'title': 'Business Development',\n",
       "    'person': {'first_name': 'Matt',\n",
       "     'last_name': 'Van Horn',\n",
       "     'permalink': 'matt-van-horn'}},\n",
       "   {'is_past': True,\n",
       "    'title': 'Creative Director',\n",
       "    'person': {'first_name': 'Daniel',\n",
       "     'last_name': 'Burka',\n",
       "     'permalink': 'daniel-burka'}},\n",
       "   {'is_past': True,\n",
       "    'title': 'Board of Directors',\n",
       "    'person': {'first_name': 'Richard',\n",
       "     'last_name': 'de Silva',\n",
       "     'permalink': 'richard-de-silva'}},\n",
       "   {'is_past': True,\n",
       "    'title': 'User Experience',\n",
       "    'person': {'first_name': 'Mark',\n",
       "     'last_name': 'Trammell',\n",
       "     'permalink': 'mark-trammell'}},\n",
       "   {'is_past': True,\n",
       "    'title': 'UI Designer',\n",
       "    'person': {'first_name': 'Addison',\n",
       "     'last_name': 'Kowalski',\n",
       "     'permalink': 'addison-kowalski'}},\n",
       "   {'is_past': True,\n",
       "    'title': 'Team Lead, Core Infrastructure',\n",
       "    'person': {'first_name': 'Arin',\n",
       "     'last_name': 'Sarkissian',\n",
       "     'permalink': 'arin-sarkissian'}},\n",
       "   {'is_past': True,\n",
       "    'title': 'R&D Analyst, Operations Engineer',\n",
       "    'person': {'first_name': 'Ben',\n",
       "     'last_name': 'Standefer',\n",
       "     'permalink': 'ben-standefer'}},\n",
       "   {'is_past': True,\n",
       "    'title': 'UI Developer',\n",
       "    'person': {'first_name': 'Jamie',\n",
       "     'last_name': 'Lottering',\n",
       "     'permalink': 'jamie-lottering'}},\n",
       "   {'is_past': True,\n",
       "    'title': 'Director of Engineering, News Platform',\n",
       "    'person': {'first_name': 'Bill',\n",
       "     'last_name': 'Shupp',\n",
       "     'permalink': 'bill-shupp'}},\n",
       "   {'is_past': True,\n",
       "    'title': 'Senior Software Engineer',\n",
       "    'person': {'first_name': 'Kurt',\n",
       "     'last_name': 'Wilms',\n",
       "     'permalink': 'kurt-wilms'}},\n",
       "   {'is_past': True,\n",
       "    'title': 'Principal R&D Engineer',\n",
       "    'person': {'first_name': 'Wes',\n",
       "     'last_name': 'Augur',\n",
       "     'permalink': 'wes-augur'}},\n",
       "   {'is_past': True,\n",
       "    'title': 'Product Manager',\n",
       "    'person': {'first_name': 'Mike',\n",
       "     'last_name': 'Cieri',\n",
       "     'permalink': 'mike-cieri'}},\n",
       "   {'is_past': True,\n",
       "    'title': 'Sr. Systems Engineer',\n",
       "    'person': {'first_name': 'Paul',\n",
       "     'last_name': 'Lathrop',\n",
       "     'permalink': 'paul-lathrop'}},\n",
       "   {'is_past': True,\n",
       "    'title': 'Software engineer & UIX designer',\n",
       "    'person': {'first_name': 'Baldvin Mar',\n",
       "     'last_name': 'Smarason',\n",
       "     'permalink': 'baldvin-smarason-2'}},\n",
       "   {'is_past': True,\n",
       "    'title': 'Developer',\n",
       "    'person': {'first_name': 'Can',\n",
       "     'last_name': 'Duruk',\n",
       "     'permalink': 'can-duruk'}},\n",
       "   {'is_past': True,\n",
       "    'title': 'Director of Ad Ops',\n",
       "    'person': {'first_name': 'Veronica',\n",
       "     'last_name': 'Tegen',\n",
       "     'permalink': 'veronica-tegen'}},\n",
       "   {'is_past': True,\n",
       "    'title': 'Business Development',\n",
       "    'person': {'first_name': 'Brian',\n",
       "     'last_name': 'Wong',\n",
       "     'permalink': 'brian-wong'}},\n",
       "   {'is_past': True,\n",
       "    'title': 'Senior Community Manager',\n",
       "    'person': {'first_name': 'Jen',\n",
       "     'last_name': 'Burton',\n",
       "     'permalink': 'jen-burton'}},\n",
       "   {'is_past': True,\n",
       "    'title': 'Sr. Director of Marketing & Communications',\n",
       "    'person': {'first_name': 'Beth',\n",
       "     'last_name': 'Murphy',\n",
       "     'permalink': 'beth-murphy'}},\n",
       "   {'is_past': True,\n",
       "    'title': 'Systems Engineering Manager',\n",
       "    'person': {'first_name': 'Ron',\n",
       "     'last_name': 'Gorodetzky',\n",
       "     'permalink': 'ron-gorodetzky'}},\n",
       "   {'is_past': True,\n",
       "    'title': 'Director of Communications',\n",
       "    'person': {'first_name': 'Kiersten',\n",
       "     'last_name': 'Hollars',\n",
       "     'permalink': 'kiersten-hollars'}},\n",
       "   {'is_past': True,\n",
       "    'title': 'Head of Sales & Sales Operations',\n",
       "    'person': {'first_name': 'Thomas',\n",
       "     'last_name': 'Shin',\n",
       "     'permalink': 'thomas-shin'}},\n",
       "   {'is_past': True,\n",
       "    'title': 'Publisher & Chief Revenue Officer',\n",
       "    'person': {'first_name': 'Chas',\n",
       "     'last_name': 'Edwards',\n",
       "     'permalink': 'chas-edwards'}},\n",
       "   {'is_past': True,\n",
       "    'title': 'Director of Design and User Experience',\n",
       "    'person': {'first_name': 'Jeffrey',\n",
       "     'last_name': 'Kalmikoff',\n",
       "     'permalink': 'jeffrey-kalmikoff'}},\n",
       "   {'is_past': True,\n",
       "    'title': 'Software Engineer',\n",
       "    'person': {'first_name': 'Jeff',\n",
       "     'last_name': 'Hodsdon',\n",
       "     'permalink': 'jeff-hodsdon'}},\n",
       "   {'is_past': True,\n",
       "    'title': 'Director, PR',\n",
       "    'person': {'first_name': 'Michele',\n",
       "     'last_name': 'Husak',\n",
       "     'permalink': 'michele-husak'}},\n",
       "   {'is_past': True,\n",
       "    'title': 'Business Development',\n",
       "    'person': {'first_name': 'Vishwas',\n",
       "     'last_name': 'Prabhakara',\n",
       "     'permalink': 'vishwas-prabhakara'}},\n",
       "   {'is_past': True,\n",
       "    'title': 'Board of Directors',\n",
       "    'person': {'first_name': 'David',\n",
       "     'last_name': 'Sze',\n",
       "     'permalink': 'david-sze'}},\n",
       "   {'is_past': True,\n",
       "    'title': 'Software Engineer',\n",
       "    'person': {'first_name': 'Vipul',\n",
       "     'last_name': 'Sharma',\n",
       "     'permalink': 'vipul-sharma'}},\n",
       "   {'is_past': True,\n",
       "    'title': 'Head of Search & User Analytics',\n",
       "    'person': {'first_name': 'Marshall',\n",
       "     'last_name': 'Clark',\n",
       "     'permalink': 'marshall-clark'}},\n",
       "   {'is_past': True,\n",
       "    'title': 'Design and User Experience Lead',\n",
       "    'person': {'first_name': 'Marc',\n",
       "     'last_name': 'Hemeon',\n",
       "     'permalink': 'marc-hemeon'}},\n",
       "   {'is_past': True,\n",
       "    'title': 'Director of News Applications',\n",
       "    'person': {'first_name': 'Arsenio',\n",
       "     'last_name': 'Santos',\n",
       "     'permalink': 'arsenio-santos'}},\n",
       "   {'is_past': True,\n",
       "    'title': 'Senior Core Infrastructure Engineer',\n",
       "    'person': {'first_name': 'Ian',\n",
       "     'last_name': 'Eure',\n",
       "     'permalink': 'ian-eure'}},\n",
       "   {'is_past': True,\n",
       "    'title': 'Sr. Developer',\n",
       "    'person': {'first_name': 'Ryan',\n",
       "     'last_name': 'Marshall',\n",
       "     'permalink': 'ryan-marshall'}},\n",
       "   {'is_past': True,\n",
       "    'title': 'PHP Hacker',\n",
       "    'person': {'first_name': 'Eli',\n",
       "     'last_name': 'White',\n",
       "     'permalink': 'eli-white'}},\n",
       "   {'is_past': True,\n",
       "    'title': 'Account Director',\n",
       "    'person': {'first_name': 'Tommy',\n",
       "     'last_name': 'Lee',\n",
       "     'permalink': 'tommy-lee'}},\n",
       "   {'is_past': True,\n",
       "    'title': 'Head of Consumer Product',\n",
       "    'person': {'first_name': 'Dash',\n",
       "     'last_name': 'Gopinath',\n",
       "     'permalink': 'dash-gopinath'}},\n",
       "   {'is_past': True,\n",
       "    'title': 'Software Engineer',\n",
       "    'person': {'first_name': 'Baldvin Mar',\n",
       "     'last_name': 'Smarason',\n",
       "     'permalink': 'baldvin-smarason-2'}},\n",
       "   {'is_past': True,\n",
       "    'title': 'Senior Software Engineer',\n",
       "    'person': {'first_name': 'Sammy',\n",
       "     'last_name': 'Yu',\n",
       "     'permalink': 'sammy-yu'}}],\n",
       "  'competitions': [{'competitor': {'name': 'Reddit', 'permalink': 'reddit'}},\n",
       "   {'competitor': {'name': 'Twitter', 'permalink': 'twitter'}},\n",
       "   {'competitor': {'name': 'Newsvine', 'permalink': 'newsvine'}},\n",
       "   {'competitor': {'name': 'Truemors', 'permalink': 'truemors'}},\n",
       "   {'competitor': {'name': 'fav.or.it', 'permalink': 'favorit'}},\n",
       "   {'competitor': {'name': 'Spotplex', 'permalink': 'spotplex'}},\n",
       "   {'competitor': {'name': 'Mixx', 'permalink': 'mixx'}},\n",
       "   {'competitor': {'name': 'Pligg LLC', 'permalink': 'pligg'}},\n",
       "   {'competitor': {'name': 'Silobreaker', 'permalink': 'silobreaker'}},\n",
       "   {'competitor': {'name': 'Newspond', 'permalink': 'newspond'}},\n",
       "   {'competitor': {'name': 'Popularo', 'permalink': 'popularo'}},\n",
       "   {'competitor': {'name': 'ZapNat', 'permalink': 'zapnat'}},\n",
       "   {'competitor': {'name': 'ShoutWire', 'permalink': 'shoutwire'}},\n",
       "   {'competitor': {'name': 'nobosh', 'permalink': 'nobosh'}},\n",
       "   {'competitor': {'name': 'YiGG', 'permalink': 'yigg'}},\n",
       "   {'competitor': {'name': 'Publish2', 'permalink': 'publish2'}},\n",
       "   {'competitor': {'name': 'Naubo', 'permalink': 'naubo'}},\n",
       "   {'competitor': {'name': 'Skewz', 'permalink': 'skewz'}},\n",
       "   {'competitor': {'name': 'eVIPlist', 'permalink': 'eviplist'}},\n",
       "   {'competitor': {'name': 'slinkset', 'permalink': 'slinkset'}},\n",
       "   {'competitor': {'name': 'Subbmitt', 'permalink': 'subbmitt'}},\n",
       "   {'competitor': {'name': 'Link Spank', 'permalink': 'linkspank'}},\n",
       "   {'competitor': {'name': 'EIOBA', 'permalink': 'eioba'}},\n",
       "   {'competitor': {'name': 'buzznewzz', 'permalink': 'buzznewzz'}},\n",
       "   {'competitor': {'name': 'RatherGather', 'permalink': 'rathergather'}},\n",
       "   {'competitor': {'name': 'StumbleUpon', 'permalink': 'stumbleupon'}},\n",
       "   {'competitor': {'name': 'GRAZEit', 'permalink': 'grazeit'}},\n",
       "   {'competitor': {'name': 'Newser', 'permalink': 'newser'}}],\n",
       "  'providerships': [{'title': 'Public Relations',\n",
       "    'is_past': True,\n",
       "    'provider': {'name': 'K/F Communications',\n",
       "     'permalink': 'k-f-communications'}}],\n",
       "  'total_money_raised': '$45M',\n",
       "  'funding_rounds': [{'id': 1,\n",
       "    'round_code': 'b',\n",
       "    'source_url': 'http://www.marketingvox.com/archives/2006/12/29/digg-gets-85mm-in-funding/',\n",
       "    'source_description': '',\n",
       "    'raised_amount': 8500000,\n",
       "    'raised_currency_code': 'USD',\n",
       "    'funded_year': 2006,\n",
       "    'funded_month': 12,\n",
       "    'funded_day': 1,\n",
       "    'investments': [{'company': None,\n",
       "      'financial_org': {'name': 'Greylock Partners', 'permalink': 'greylock'},\n",
       "      'person': None},\n",
       "     {'company': None,\n",
       "      'financial_org': {'name': 'Omidyar Network',\n",
       "       'permalink': 'omidyar-network'},\n",
       "      'person': None}]},\n",
       "   {'id': 85,\n",
       "    'round_code': 'a',\n",
       "    'source_url': 'http://goliath.ecnext.com/coms2/gi_0199-4857782/Social-Content-Web-Site-Digg.html',\n",
       "    'source_description': '',\n",
       "    'raised_amount': 2800000,\n",
       "    'raised_currency_code': 'USD',\n",
       "    'funded_year': 2005,\n",
       "    'funded_month': 10,\n",
       "    'funded_day': 1,\n",
       "    'investments': [{'company': None,\n",
       "      'financial_org': {'name': 'Greylock Partners', 'permalink': 'greylock'},\n",
       "      'person': None},\n",
       "     {'company': None,\n",
       "      'financial_org': {'name': 'Omidyar Network',\n",
       "       'permalink': 'omidyar-network'},\n",
       "      'person': None},\n",
       "     {'company': None,\n",
       "      'financial_org': None,\n",
       "      'person': {'first_name': 'Marc',\n",
       "       'last_name': 'Andreessen',\n",
       "       'permalink': 'marc-andreessen'}},\n",
       "     {'company': None,\n",
       "      'financial_org': None,\n",
       "      'person': {'first_name': 'Reid',\n",
       "       'last_name': 'Hoffman',\n",
       "       'permalink': 'reid-hoffman'}},\n",
       "     {'company': None,\n",
       "      'financial_org': None,\n",
       "      'person': {'first_name': 'Ron',\n",
       "       'last_name': 'Conway',\n",
       "       'permalink': 'ron-conway'}},\n",
       "     {'company': None,\n",
       "      'financial_org': None,\n",
       "      'person': {'first_name': 'Al',\n",
       "       'last_name': 'Avery',\n",
       "       'permalink': 'al-avery'}},\n",
       "     {'company': None,\n",
       "      'financial_org': {'name': 'FLOODGATE', 'permalink': 'floodgate'},\n",
       "      'person': None},\n",
       "     {'company': None,\n",
       "      'financial_org': {'name': 'SV Angel', 'permalink': 'sv-angel'},\n",
       "      'person': None}]},\n",
       "   {'id': 3503,\n",
       "    'round_code': 'c',\n",
       "    'source_url': 'http://www.techcrunch.com/2008/09/24/spurned-by-google-digg-taps-vcs-for-29-million-c-round/',\n",
       "    'source_description': 'press release',\n",
       "    'raised_amount': 28700000,\n",
       "    'raised_currency_code': 'USD',\n",
       "    'funded_year': 2008,\n",
       "    'funded_month': 9,\n",
       "    'funded_day': 24,\n",
       "    'investments': [{'company': None,\n",
       "      'financial_org': {'name': 'Highland Capital Partners',\n",
       "       'permalink': 'highland-capital-partners'},\n",
       "      'person': None},\n",
       "     {'company': None,\n",
       "      'financial_org': {'name': 'Greylock Partners', 'permalink': 'greylock'},\n",
       "      'person': None},\n",
       "     {'company': None,\n",
       "      'financial_org': {'name': 'Omidyar Network',\n",
       "       'permalink': 'omidyar-network'},\n",
       "      'person': None},\n",
       "     {'company': None,\n",
       "      'financial_org': {'name': 'SVB Financial Group',\n",
       "       'permalink': 'svb-financial-group'},\n",
       "      'person': None}]},\n",
       "   {'id': 24136,\n",
       "    'round_code': 'd',\n",
       "    'source_url': 'http://techcrunch.com/2011/07/12/digg-raises-an-inside-venture-round/',\n",
       "    'source_description': 'Digg Raises An Inside Venture Round',\n",
       "    'raised_amount': 5000000,\n",
       "    'raised_currency_code': 'USD',\n",
       "    'funded_year': 2011,\n",
       "    'funded_month': 7,\n",
       "    'funded_day': 12,\n",
       "    'investments': []}],\n",
       "  'investments': [],\n",
       "  'acquisition': {'price_amount': 500000,\n",
       "   'price_currency_code': 'USD',\n",
       "   'term_code': None,\n",
       "   'source_url': 'http://techcrunch.com/2012/07/12/betaworks-acquires-digg/',\n",
       "   'source_description': 'Betaworks Acquires Digg (TechCrunch)',\n",
       "   'acquired_year': 2012,\n",
       "   'acquired_month': 7,\n",
       "   'acquired_day': 12,\n",
       "   'acquiring_company': {'name': 'betaworks', 'permalink': 'betaworks'}},\n",
       "  'acquisitions': [{'price_amount': None,\n",
       "    'price_currency_code': 'USD',\n",
       "    'term_code': None,\n",
       "    'source_url': '',\n",
       "    'source_description': '',\n",
       "    'acquired_year': 2009,\n",
       "    'acquired_month': 10,\n",
       "    'acquired_day': 15,\n",
       "    'company': {'name': 'Wefollow', 'permalink': 'wefollow'}}],\n",
       "  'offices': [{'description': None,\n",
       "    'address1': '135 Mississippi St',\n",
       "    'address2': '',\n",
       "    'zip_code': '94107',\n",
       "    'city': 'San Francisco',\n",
       "    'state_code': 'CA',\n",
       "    'country_code': 'USA',\n",
       "    'latitude': 37.764726,\n",
       "    'longitude': -122.394523}],\n",
       "  'milestones': [{'id': 9588,\n",
       "    'description': 'Another Digg Exec Is Out: Longtime CFO John Moffett Leaves',\n",
       "    'stoned_year': 2010,\n",
       "    'stoned_month': 10,\n",
       "    'stoned_day': 25,\n",
       "    'source_url': 'http://techcrunch.com/2010/10/25/another-digg-exec-is-out-longtime-cfo-john-moffett-leaves/',\n",
       "    'source_text': '',\n",
       "    'source_description': 'Another Digg Exec Is Out: Longtime CFO John Moffett Leaves',\n",
       "    'stoneable_type': 'Company',\n",
       "    'stoned_value': None,\n",
       "    'stoned_value_type': None,\n",
       "    'stoned_acquirer': None,\n",
       "    'stoneable': {'name': 'Digg', 'permalink': 'digg'}},\n",
       "   {'id': 24912,\n",
       "    'description': 'Digg Sold To LinkedIn AND The Washington Post And Betaworks',\n",
       "    'stoned_year': 2012,\n",
       "    'stoned_month': 7,\n",
       "    'stoned_day': 13,\n",
       "    'source_url': 'http://techcrunch.com/2012/07/12/digg-sold-to-linkedin-and-the-washington-post-and-betaworks/',\n",
       "    'source_text': '',\n",
       "    'source_description': 'Digg Sold To LinkedIn AND The Washington Post And Betaworks',\n",
       "    'stoneable_type': 'Company',\n",
       "    'stoned_value': None,\n",
       "    'stoned_value_type': None,\n",
       "    'stoned_acquirer': None,\n",
       "    'stoneable': {'name': 'Digg', 'permalink': 'digg'}},\n",
       "   {'id': 42148,\n",
       "    'description': 'Digg Video launches.',\n",
       "    'stoned_year': 2013,\n",
       "    'stoned_month': 11,\n",
       "    'stoned_day': 5,\n",
       "    'source_url': 'http://techcrunch.com/2013/11/05/digg-gives-videos-prime-placement-with-new-digg-video-site/',\n",
       "    'source_text': '',\n",
       "    'source_description': 'Digg Gives Videos Prime Placement With New Digg Video Site',\n",
       "    'stoneable_type': 'Company',\n",
       "    'stoned_value': None,\n",
       "    'stoned_value_type': None,\n",
       "    'stoned_acquirer': None,\n",
       "    'stoneable': {'name': 'Digg', 'permalink': 'digg'}}],\n",
       "  'ipo': None,\n",
       "  'video_embeds': [{'embed_code': '<embed src=\"http://blip.tv/play/hRaY4zgA\" type=\"application/x-shockwave-flash\" width=\"370\" height=\"308\" allowscriptaccess=\"always\" allowfullscreen=\"true\"></embed>',\n",
       "    'description': '<p>This video was originally published on <a href=\"http://www.beet.tv/2008/09/digg-raises-287.html\" title=\"Beet.TV\" rel=\"nofollow\">Beet.TV</a></p>'},\n",
       "   {'embed_code': '<iframe width=\"430\" height=\"242\" src=\"http://www.youtube.com/embed/7J1T3Y70IW4\" frameborder=\"0\" allowfullscreen></iframe>',\n",
       "    'description': '<p>TechCrunch interview with Kevin Rose, April 2009</p>'}],\n",
       "  'screenshots': [{'available_sizes': [[[117, 150],\n",
       "      'assets/images/resized/0020/0633/200633v1-max-150x150.png'],\n",
       "     [[196, 250], 'assets/images/resized/0020/0633/200633v1-max-250x250.png'],\n",
       "     [[353, 450], 'assets/images/resized/0020/0633/200633v1-max-450x450.png']],\n",
       "    'attribution': None}],\n",
       "  'external_links': [{'external_url': 'http://www.sociableblog.com/2008/09/25/digg-closed-287-million-in-series-c/',\n",
       "    'title': 'Digg Closed $28.7 Million in Series C round led by Highland Capital Partners'}],\n",
       "  'partners': []}]"
      ]
     },
     "execution_count": 273,
     "metadata": {},
     "output_type": "execute_result"
    }
   ],
   "source": [
    "list(companies.find(filtro2).limit(1))"
   ]
  },
  {
   "cell_type": "markdown",
   "id": "eight-conference",
   "metadata": {},
   "source": [
    "## Summary"
   ]
  },
  {
   "cell_type": "markdown",
   "id": "naval-benefit",
   "metadata": {},
   "source": [
    "- And: se tienen que cumplirse las dos (o las que sean) condiciones\n",
    "- Or: Una o la otra (o una de todas las que sean)\n",
    "- Podemos combinar condiciones and y or\n",
    "- Seamos ordenadas con la sintaxis\n",
    "- In y not in pábamos una lista\n",
    "- Update y delete son IRREVERSIBLES\n",
    "- Count, sort, limit\n",
    "- Regex es bien\n",
    "- Set (modifico varios campos a la vez)\n",
    "- Unset BORRO EL CAMPO\n",
    "- DELETE borro todos los documentos con una condición\n",
    "- Si tengo campos anidados paso de unos a otros con el . (de key a key)\n",
    "- ¡¡Equipazooooo 🚀!!"
   ]
  },
  {
   "cell_type": "markdown",
   "id": "incomplete-scotland",
   "metadata": {},
   "source": [
    "## Further Materials\n",
    "- Cursos de mongo desarrollados directamente por MongoDB (gratis y MUY COMPLETOS) [AQUÍ](https://university.mongodb.com/)\n",
    "- Artículo tutorial [primeros pasos](https://www.ionos.es/digitalguide/paginas-web/desarrollo-web/tutorial-de-mongodb-primeros-pasos/)\n",
    "\n",
    "- Qué es mongo: [conceptos interesantes avanzados no vistos en clase](https://openwebinars.net/blog/que-es-mongodb/) \n",
    "- Beginner`s guide mongo con [python](https://www.analyticsvidhya.com/blog/2020/02/mongodb-in-python-tutorial-for-beginners-using-pymongo/) "
   ]
  }
 ],
 "metadata": {
  "kernelspec": {
   "display_name": "ironhack",
   "language": "python",
   "name": "ironhack"
  },
  "language_info": {
   "codemirror_mode": {
    "name": "ipython",
    "version": 3
   },
   "file_extension": ".py",
   "mimetype": "text/x-python",
   "name": "python",
   "nbconvert_exporter": "python",
   "pygments_lexer": "ipython3",
   "version": "3.8.5"
  },
  "toc": {
   "base_numbering": 1,
   "nav_menu": {},
   "number_sections": true,
   "sideBar": true,
   "skip_h1_title": true,
   "title_cell": "Table of Contents",
   "title_sidebar": "Contents",
   "toc_cell": true,
   "toc_position": {
    "height": "calc(100% - 180px)",
    "left": "10px",
    "top": "150px",
    "width": "307px"
   },
   "toc_section_display": true,
   "toc_window_display": false
  }
 },
 "nbformat": 4,
 "nbformat_minor": 5
}
