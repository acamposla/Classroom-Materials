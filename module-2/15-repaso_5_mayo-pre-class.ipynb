{
 "cells": [
  {
   "cell_type": "code",
   "execution_count": 35,
   "id": "d26e4b2a",
   "metadata": {},
   "outputs": [],
   "source": [
    "import numpy as np\n",
    "import matplotlib.pyplot as plt\n",
    "\n",
    "# Let us welcome SciPy!\n",
    "from scipy.stats import (trim_mean, mode, skew, \n",
    "gaussian_kde, pearsonr, spearmanr, beta)\n",
    "\n",
    "import seaborn as sns\n",
    "sns.set_context('poster')\n",
    "sns.set(rc={'figure.figsize': (16., 9.)})\n",
    "sns.set_style('whitegrid')\n",
    "\n",
    "import pandas as pd\n",
    "import scipy.stats.distributions as dist\n",
    "\n",
    "import matplotlib as mpl\n",
    "from dateutil.parser import parse\n",
    "from statsmodels.tsa.seasonal import seasonal_decompose"
   ]
  },
  {
   "cell_type": "markdown",
   "id": "2855b02e",
   "metadata": {},
   "source": [
    "# Intro to probability"
   ]
  },
  {
   "cell_type": "code",
   "execution_count": null,
   "id": "6c440da7",
   "metadata": {},
   "outputs": [],
   "source": []
  },
  {
   "cell_type": "code",
   "execution_count": null,
   "id": "4159755c",
   "metadata": {},
   "outputs": [],
   "source": []
  },
  {
   "cell_type": "code",
   "execution_count": null,
   "id": "24ec9769",
   "metadata": {},
   "outputs": [],
   "source": []
  },
  {
   "cell_type": "code",
   "execution_count": null,
   "id": "18b18222",
   "metadata": {},
   "outputs": [],
   "source": []
  },
  {
   "cell_type": "code",
   "execution_count": null,
   "id": "78d487dc",
   "metadata": {},
   "outputs": [],
   "source": []
  },
  {
   "cell_type": "code",
   "execution_count": null,
   "id": "2d12db08",
   "metadata": {},
   "outputs": [],
   "source": []
  },
  {
   "cell_type": "code",
   "execution_count": null,
   "id": "29ef570c",
   "metadata": {},
   "outputs": [],
   "source": []
  },
  {
   "cell_type": "markdown",
   "id": "77763c4a",
   "metadata": {},
   "source": [
    "## Rules\n",
    "\n",
    "Laplace: $$ P(\\text{event})=\\frac{\\text{favorable events}}{\\text{total events}} $$\n",
    "\n",
    "Union of events: $$ P(A \\cup B)=P(A)+P(B)-P(A \\cap B) $$\n",
    "\n",
    "Intersection of events: $$ P(A \\cap B)=P(A) \\cdot P(B|A) $$\n",
    "\n",
    "[Monty Hall problem](https://en.wikipedia.org/wiki/Monty_Hall_problem)?"
   ]
  },
  {
   "cell_type": "markdown",
   "id": "bc242c6c",
   "metadata": {},
   "source": [
    "## Questions\n",
    "* 3 coins are tossed: what is the probability of 3 heads in a row?\n",
    "* 3 coins are tossed: what is the probability of 2 heads in total?"
   ]
  },
  {
   "cell_type": "code",
   "execution_count": null,
   "id": "40ff274c",
   "metadata": {},
   "outputs": [],
   "source": []
  },
  {
   "cell_type": "code",
   "execution_count": null,
   "id": "9049dbd4",
   "metadata": {},
   "outputs": [],
   "source": []
  },
  {
   "cell_type": "markdown",
   "id": "85135c4a",
   "metadata": {},
   "source": [
    "# Discrete probability distributions"
   ]
  },
  {
   "cell_type": "markdown",
   "id": "63735a2e",
   "metadata": {},
   "source": [
    "## Bernoulli distribution\n",
    "\n",
    "[Wikipedia](https://en.wikipedia.org/wiki/Bernoulli_distribution)\n",
    "\n",
    "Keys: 2 possible outcomes $\\Omega=\\{0,1\\}$ with probability $1-p$ and $p$. Example: biased coin."
   ]
  },
  {
   "cell_type": "code",
   "execution_count": null,
   "id": "3170b5ae",
   "metadata": {},
   "outputs": [],
   "source": []
  },
  {
   "cell_type": "code",
   "execution_count": null,
   "id": "c508afdf",
   "metadata": {},
   "outputs": [],
   "source": []
  },
  {
   "cell_type": "markdown",
   "id": "5ad1341c",
   "metadata": {},
   "source": [
    "## Binomial Distribution\n",
    "\n",
    "[Wikipedia](https://en.wikipedia.org/wiki/Binomial_distribution)\n",
    "\n",
    "The Binomial distribution generalizes Bernouilli to the case were we do more than 1 \"trial\". \n",
    "It gives us the probability of having $k$ successes in $N$ total trials of Bernulli with probability $p$."
   ]
  },
  {
   "cell_type": "code",
   "execution_count": null,
   "id": "4cd8e80f",
   "metadata": {},
   "outputs": [],
   "source": []
  },
  {
   "cell_type": "code",
   "execution_count": null,
   "id": "ad0ed04d",
   "metadata": {},
   "outputs": [],
   "source": []
  },
  {
   "cell_type": "code",
   "execution_count": null,
   "id": "083916b3",
   "metadata": {},
   "outputs": [],
   "source": []
  },
  {
   "cell_type": "code",
   "execution_count": null,
   "id": "d7c99320",
   "metadata": {},
   "outputs": [],
   "source": []
  },
  {
   "cell_type": "code",
   "execution_count": null,
   "id": "51dbbdee",
   "metadata": {},
   "outputs": [],
   "source": []
  },
  {
   "cell_type": "code",
   "execution_count": null,
   "id": "7c463662",
   "metadata": {},
   "outputs": [],
   "source": []
  },
  {
   "cell_type": "code",
   "execution_count": null,
   "id": "64184695",
   "metadata": {},
   "outputs": [],
   "source": []
  },
  {
   "cell_type": "code",
   "execution_count": null,
   "id": "d2111d42",
   "metadata": {},
   "outputs": [],
   "source": []
  },
  {
   "cell_type": "markdown",
   "id": "7ee47c63",
   "metadata": {},
   "source": [
    "## Discrete probability distributions: Poisson\n",
    "\n",
    "The Poisson distribution is used to describe _how many times something might happen in a specific timeframe_."
   ]
  },
  {
   "cell_type": "code",
   "execution_count": null,
   "id": "bea53e36",
   "metadata": {},
   "outputs": [],
   "source": []
  },
  {
   "cell_type": "code",
   "execution_count": null,
   "id": "d1a853a2",
   "metadata": {},
   "outputs": [],
   "source": []
  },
  {
   "cell_type": "code",
   "execution_count": null,
   "id": "332e1b38",
   "metadata": {},
   "outputs": [],
   "source": []
  },
  {
   "cell_type": "code",
   "execution_count": null,
   "id": "e2363239",
   "metadata": {},
   "outputs": [],
   "source": []
  },
  {
   "cell_type": "code",
   "execution_count": null,
   "id": "40889389",
   "metadata": {},
   "outputs": [],
   "source": []
  },
  {
   "cell_type": "markdown",
   "id": "55d961ea",
   "metadata": {},
   "source": [
    "## Exponential distribution\n",
    "\n",
    "Models the time it takes for a random event (with a constant rate) to occur."
   ]
  },
  {
   "cell_type": "code",
   "execution_count": null,
   "id": "42304f4d",
   "metadata": {},
   "outputs": [],
   "source": []
  },
  {
   "cell_type": "code",
   "execution_count": null,
   "id": "c0362451",
   "metadata": {},
   "outputs": [],
   "source": []
  },
  {
   "cell_type": "code",
   "execution_count": null,
   "id": "b49c26b4",
   "metadata": {},
   "outputs": [],
   "source": []
  },
  {
   "cell_type": "code",
   "execution_count": null,
   "id": "c173c78d",
   "metadata": {},
   "outputs": [],
   "source": []
  },
  {
   "cell_type": "code",
   "execution_count": null,
   "id": "040d58ce",
   "metadata": {},
   "outputs": [],
   "source": []
  },
  {
   "cell_type": "markdown",
   "id": "d75de684",
   "metadata": {},
   "source": [
    "# Linear regression"
   ]
  },
  {
   "cell_type": "code",
   "execution_count": null,
   "id": "e9d7f89b",
   "metadata": {},
   "outputs": [],
   "source": []
  },
  {
   "cell_type": "code",
   "execution_count": null,
   "id": "c329ad70",
   "metadata": {},
   "outputs": [],
   "source": []
  },
  {
   "cell_type": "code",
   "execution_count": null,
   "id": "7e9e4dce",
   "metadata": {},
   "outputs": [],
   "source": []
  },
  {
   "cell_type": "code",
   "execution_count": null,
   "id": "6175d47a",
   "metadata": {},
   "outputs": [],
   "source": []
  },
  {
   "cell_type": "markdown",
   "id": "5358baeb",
   "metadata": {},
   "source": [
    "# Inferential statistics"
   ]
  },
  {
   "cell_type": "markdown",
   "id": "d5f874e5",
   "metadata": {},
   "source": [
    "In real life situations we only have access to samples of data, not to the entire population. Then, how can we draw conclussions about the underlying population as a whole? How confident can we be with this conclusions? The answer lies in the Inferential Statistics"
   ]
  },
  {
   "cell_type": "markdown",
   "id": "f67e9419",
   "metadata": {},
   "source": [
    "## The Bootstrap\n",
    "\n",
    "In real life we can not recreate the sampling distribution... we can infer the values of some statistics with tricks as the ones described above and the CTL. But: can we do something more general for any statistic?\n"
   ]
  },
  {
   "cell_type": "code",
   "execution_count": null,
   "id": "21771288",
   "metadata": {},
   "outputs": [],
   "source": []
  },
  {
   "cell_type": "code",
   "execution_count": null,
   "id": "956c9985",
   "metadata": {},
   "outputs": [],
   "source": []
  },
  {
   "cell_type": "code",
   "execution_count": null,
   "id": "9d9bc923",
   "metadata": {},
   "outputs": [],
   "source": []
  },
  {
   "cell_type": "code",
   "execution_count": null,
   "id": "0b11c20c",
   "metadata": {},
   "outputs": [],
   "source": []
  },
  {
   "cell_type": "code",
   "execution_count": null,
   "id": "b17bb9fa",
   "metadata": {},
   "outputs": [],
   "source": []
  },
  {
   "cell_type": "code",
   "execution_count": null,
   "id": "0ad43c65",
   "metadata": {},
   "outputs": [],
   "source": []
  },
  {
   "cell_type": "markdown",
   "id": "df3244ab",
   "metadata": {},
   "source": [
    "Using bootstrapping consits on recreating a fake sampling distribution by solely having one sample! Let's use this to calculate in a different way the above estimation for the mean and its CI."
   ]
  },
  {
   "cell_type": "markdown",
   "id": "36438ba4",
   "metadata": {},
   "source": [
    "1) First, sample from the sample you already have!"
   ]
  },
  {
   "cell_type": "code",
   "execution_count": null,
   "id": "50068ec7",
   "metadata": {},
   "outputs": [],
   "source": []
  },
  {
   "cell_type": "markdown",
   "id": "f3789435",
   "metadata": {},
   "source": [
    "2) Compute the mean of the bootstrapped sample."
   ]
  },
  {
   "cell_type": "code",
   "execution_count": null,
   "id": "85af81f6",
   "metadata": {},
   "outputs": [],
   "source": []
  },
  {
   "cell_type": "markdown",
   "id": "b55d1b0e",
   "metadata": {},
   "source": [
    "3) Repeat that process many times."
   ]
  },
  {
   "cell_type": "code",
   "execution_count": null,
   "id": "6626529f",
   "metadata": {},
   "outputs": [],
   "source": []
  },
  {
   "cell_type": "markdown",
   "id": "4f886a5a",
   "metadata": {},
   "source": [
    "4) Compute the mean for all the repetitions you have made."
   ]
  },
  {
   "cell_type": "code",
   "execution_count": null,
   "id": "17f5998e",
   "metadata": {},
   "outputs": [],
   "source": []
  },
  {
   "cell_type": "markdown",
   "id": "f5ae2d80",
   "metadata": {},
   "source": [
    "# Hypothesis testing\n",
    "\n",
    "The goal of classical hypothesis testing is to answer the question, “Given a sample and an apparent effect, what is the probability of seeing such an effect by chance?” Here’s how we answer that question:\n",
    "\n",
    "1. The first step is to quantify the size of the apparent effect by choosing a test statistic.\n",
    "\n",
    "2. The second step is to define a null hypothesis, which is a model of the system based on the assumption that the apparent effect is not real (i.e that it can be due to chance).\n",
    "\n",
    "3. The third step is to compute a p-value, which is the probability of seeing the apparent effect if the null hypothesis is true.\n",
    "\n",
    "4. The last step is to interpret the result. If the p-value is low, the effectis said to be statistically significant, which means that it is unlikely to have occurred by chance. In that case we infer that the effect is more likely to appear in the larger population.\n",
    "\n",
    "5. The logic of this process is similar to a proof by contradiction. To prove a mathematical statement, 𝐴, you assume temporarily that 𝐴 is false. If that assumption leads to a contradiction, you conclude that 𝐴 must actually be true. Similarly, to test a hypothesis like, “This effect is real,” we assume, temporarily, that it is not. That’s the null hypothesis."
   ]
  },
  {
   "cell_type": "code",
   "execution_count": null,
   "id": "e1cee47b",
   "metadata": {},
   "outputs": [],
   "source": []
  },
  {
   "cell_type": "code",
   "execution_count": null,
   "id": "f04124c4",
   "metadata": {},
   "outputs": [],
   "source": []
  },
  {
   "cell_type": "code",
   "execution_count": null,
   "id": "2d1b3df2",
   "metadata": {},
   "outputs": [],
   "source": []
  },
  {
   "cell_type": "code",
   "execution_count": 67,
   "id": "3d767fd7",
   "metadata": {},
   "outputs": [],
   "source": []
  },
  {
   "cell_type": "code",
   "execution_count": null,
   "id": "a3b81b70",
   "metadata": {},
   "outputs": [],
   "source": []
  },
  {
   "cell_type": "code",
   "execution_count": null,
   "id": "134fb81a",
   "metadata": {},
   "outputs": [],
   "source": []
  },
  {
   "cell_type": "markdown",
   "id": "0ea70746",
   "metadata": {},
   "source": [
    "The research question for this section is, “The population proportion of Ireland having heart disease is 42%. Are more people suffering from heart disease in the US”?\n",
    "\n",
    "Now, find the answer to this research question step by step.\n",
    "\n",
    "Step 1: define the null hypothesis and alternative hypothesis."
   ]
  },
  {
   "cell_type": "code",
   "execution_count": null,
   "id": "7e89a41e",
   "metadata": {},
   "outputs": [],
   "source": []
  },
  {
   "cell_type": "markdown",
   "id": "41dbca3c",
   "metadata": {},
   "source": [
    "Step 2: Assume that the dataset above is a representative sample from the population of the US. So, calculate the population proportion of the US having heart disease."
   ]
  },
  {
   "cell_type": "code",
   "execution_count": null,
   "id": "72a69094",
   "metadata": {},
   "outputs": [],
   "source": []
  },
  {
   "cell_type": "markdown",
   "id": "0946e9d6",
   "metadata": {},
   "source": [
    "Step 3: Calculate the Test Statistic"
   ]
  },
  {
   "cell_type": "code",
   "execution_count": null,
   "id": "2c29ad11",
   "metadata": {},
   "outputs": [],
   "source": []
  },
  {
   "cell_type": "markdown",
   "id": "d4aaeab0",
   "metadata": {},
   "source": [
    "Step 4: Compute the p-value"
   ]
  },
  {
   "cell_type": "code",
   "execution_count": null,
   "id": "4e490d35",
   "metadata": {},
   "outputs": [],
   "source": []
  },
  {
   "cell_type": "markdown",
   "id": "67306824",
   "metadata": {},
   "source": [
    "Step 5: Infer the conclusion from the p-value"
   ]
  },
  {
   "cell_type": "markdown",
   "id": "16a49664",
   "metadata": {},
   "source": [
    "# Time series"
   ]
  },
  {
   "cell_type": "code",
   "execution_count": 85,
   "id": "0bdb6eaa",
   "metadata": {},
   "outputs": [],
   "source": [
    "# import Australian drugs time series dataframe\n",
    "df = pd.read_csv(\n",
    "    'https://raw.githubusercontent.com/selva86/datasets/master/a10.csv', \n",
    "    parse_dates=['date'],\n",
    "    #index_col='date'\n",
    ")"
   ]
  },
  {
   "cell_type": "code",
   "execution_count": null,
   "id": "5f37a270",
   "metadata": {},
   "outputs": [],
   "source": []
  },
  {
   "cell_type": "code",
   "execution_count": null,
   "id": "8b2fea3d",
   "metadata": {},
   "outputs": [],
   "source": []
  },
  {
   "cell_type": "code",
   "execution_count": null,
   "id": "748aedec",
   "metadata": {},
   "outputs": [],
   "source": []
  },
  {
   "cell_type": "code",
   "execution_count": null,
   "id": "25a6f825",
   "metadata": {},
   "outputs": [],
   "source": []
  },
  {
   "cell_type": "code",
   "execution_count": null,
   "id": "8a306c0e",
   "metadata": {},
   "outputs": [],
   "source": []
  },
  {
   "cell_type": "code",
   "execution_count": null,
   "id": "7c7b44c7",
   "metadata": {},
   "outputs": [],
   "source": []
  },
  {
   "cell_type": "code",
   "execution_count": null,
   "id": "d37442e0",
   "metadata": {},
   "outputs": [],
   "source": []
  },
  {
   "cell_type": "code",
   "execution_count": 96,
   "id": "80bb7316",
   "metadata": {},
   "outputs": [],
   "source": []
  },
  {
   "cell_type": "code",
   "execution_count": 97,
   "id": "6e5b156d",
   "metadata": {},
   "outputs": [],
   "source": []
  },
  {
   "cell_type": "code",
   "execution_count": null,
   "id": "43018d6b",
   "metadata": {},
   "outputs": [],
   "source": []
  },
  {
   "cell_type": "code",
   "execution_count": null,
   "id": "a819e52b",
   "metadata": {},
   "outputs": [],
   "source": []
  }
 ],
 "metadata": {
  "kernelspec": {
   "display_name": "Python 3",
   "language": "python",
   "name": "python3"
  },
  "language_info": {
   "codemirror_mode": {
    "name": "ipython",
    "version": 3
   },
   "file_extension": ".py",
   "mimetype": "text/x-python",
   "name": "python",
   "nbconvert_exporter": "python",
   "pygments_lexer": "ipython3",
   "version": "3.8.8"
  }
 },
 "nbformat": 4,
 "nbformat_minor": 5
}
