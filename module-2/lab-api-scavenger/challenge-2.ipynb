{
 "cells": [
  {
   "cell_type": "markdown",
   "id": "threaded-asbestos",
   "metadata": {},
   "source": [
    "# Challenge 2: Count Commits\n",
    "\n",
    "Count how many commits were made in the past week.\n",
    "\n",
    "Obtain all the commits made in the past week via API, which is a JSON array that contains multiple commit objects.\n",
    "\n",
    "Count how many commit objects are contained in the array."
   ]
  },
  {
   "cell_type": "markdown",
   "id": "norwegian-praise",
   "metadata": {},
   "source": [
    "⚠️ **Remember to limit your output before submission**."
   ]
  },
  {
   "cell_type": "code",
   "execution_count": 1,
   "id": "developing-printing",
   "metadata": {},
   "outputs": [],
   "source": [
    "import json\n",
    "import requests\n",
    "import os\n",
    "from dotenv import load_dotenv"
   ]
  },
  {
   "cell_type": "code",
   "execution_count": 3,
   "id": "creative-stable",
   "metadata": {},
   "outputs": [
    {
     "data": {
      "text/plain": [
       "True"
      ]
     },
     "execution_count": 3,
     "metadata": {},
     "output_type": "execute_result"
    }
   ],
   "source": [
    "load_dotenv()"
   ]
  },
  {
   "cell_type": "code",
   "execution_count": 2,
   "id": "ongoing-taylor",
   "metadata": {},
   "outputs": [],
   "source": [
    "def requestGithub(url):\n",
    "    api_key = os.getenv(\"token\")\n",
    "    if not api_key:\n",
    "        raise ValueError (\"Necesitas un TOKEEEEN \")\n",
    "    print (f\"Estoy haciendo request a {url}\")\n",
    "    parametros = {\"Authorization\": f\"{api_key}\"}\n",
    "    response = requests.get(url = url, headers = parametros).json()\n",
    "    print(\"tamos redii\")\n",
    "    return response"
   ]
  },
  {
   "cell_type": "markdown",
   "id": "soviet-panama",
   "metadata": {},
   "source": [
    "documentación --> https://docs.github.com/es/github/searching-for-information-on-github/searching-commits#search-by-authored-or-committed-date"
   ]
  },
  {
   "cell_type": "code",
   "execution_count": 29,
   "id": "sunrise-indianapolis",
   "metadata": {},
   "outputs": [],
   "source": [
    "url = \"https://api.github.com/repos/\""
   ]
  },
  {
   "cell_type": "code",
   "execution_count": 30,
   "id": "chinese-warning",
   "metadata": {},
   "outputs": [],
   "source": [
    "endpoint = \"ironhack-datalabs/datamad1020-rev/commits\""
   ]
  },
  {
   "cell_type": "code",
   "execution_count": 34,
   "id": "cardiovascular-prediction",
   "metadata": {},
   "outputs": [],
   "source": [
    "params = \"?commiter-date:2021-01-01\""
   ]
  },
  {
   "cell_type": "code",
   "execution_count": 35,
   "id": "solar-discount",
   "metadata": {},
   "outputs": [
    {
     "name": "stdout",
     "output_type": "stream",
     "text": [
      "Estoy haciendo request a https://api.github.com/repos/ironhack-datalabs/datamad1020-rev/commits?commiter-date:2021-10-04\n",
      "tamos redii\n"
     ]
    }
   ],
   "source": [
    "response = requestGithub(url+endpoint+params)"
   ]
  },
  {
   "cell_type": "code",
   "execution_count": 36,
   "id": "helpful-flush",
   "metadata": {},
   "outputs": [
    {
     "data": {
      "text/plain": [
       "30"
      ]
     },
     "execution_count": 36,
     "metadata": {},
     "output_type": "execute_result"
    }
   ],
   "source": [
    "len(response)"
   ]
  },
  {
   "cell_type": "code",
   "execution_count": 10,
   "id": "social-relative",
   "metadata": {},
   "outputs": [
    {
     "data": {
      "text/plain": [
       "{'sha': '04bc51c0a75f3e6604fe7ac41da8b3c69919f7c3',\n",
       " 'node_id': 'MDY6Q29tbWl0MzA0MjQ4NTM5OjA0YmM1MWMwYTc1ZjNlNjYwNGZlN2FjNDFkYThiM2M2OTkxOWY3YzM=',\n",
       " 'commit': {'author': {'name': 'Ras Soyungalgo',\n",
       "   'email': 'agalvezcorell@gmail.com',\n",
       "   'date': '2021-03-24T18:55:39Z'},\n",
       "  'committer': {'name': 'Ras Soyungalgo',\n",
       "   'email': 'agalvezcorell@gmail.com',\n",
       "   'date': '2021-03-24T18:55:39Z'},\n",
       "  'message': 'Hola datamad Part Time ♥️',\n",
       "  'tree': {'sha': '872b8a740d18c3a9abe469f1df7a7c4b26016c48',\n",
       "   'url': 'https://api.github.com/repos/ironhack-datalabs/datamad1020-rev/git/trees/872b8a740d18c3a9abe469f1df7a7c4b26016c48'},\n",
       "  'url': 'https://api.github.com/repos/ironhack-datalabs/datamad1020-rev/git/commits/04bc51c0a75f3e6604fe7ac41da8b3c69919f7c3',\n",
       "  'comment_count': 0,\n",
       "  'verification': {'verified': False,\n",
       "   'reason': 'unsigned',\n",
       "   'signature': None,\n",
       "   'payload': None}},\n",
       " 'url': 'https://api.github.com/repos/ironhack-datalabs/datamad1020-rev/commits/04bc51c0a75f3e6604fe7ac41da8b3c69919f7c3',\n",
       " 'html_url': 'https://github.com/ironhack-datalabs/datamad1020-rev/commit/04bc51c0a75f3e6604fe7ac41da8b3c69919f7c3',\n",
       " 'comments_url': 'https://api.github.com/repos/ironhack-datalabs/datamad1020-rev/commits/04bc51c0a75f3e6604fe7ac41da8b3c69919f7c3/comments',\n",
       " 'author': {'login': 'agalvezcorell',\n",
       "  'id': 57899051,\n",
       "  'node_id': 'MDQ6VXNlcjU3ODk5MDUx',\n",
       "  'avatar_url': 'https://avatars.githubusercontent.com/u/57899051?v=4',\n",
       "  'gravatar_id': '',\n",
       "  'url': 'https://api.github.com/users/agalvezcorell',\n",
       "  'html_url': 'https://github.com/agalvezcorell',\n",
       "  'followers_url': 'https://api.github.com/users/agalvezcorell/followers',\n",
       "  'following_url': 'https://api.github.com/users/agalvezcorell/following{/other_user}',\n",
       "  'gists_url': 'https://api.github.com/users/agalvezcorell/gists{/gist_id}',\n",
       "  'starred_url': 'https://api.github.com/users/agalvezcorell/starred{/owner}{/repo}',\n",
       "  'subscriptions_url': 'https://api.github.com/users/agalvezcorell/subscriptions',\n",
       "  'organizations_url': 'https://api.github.com/users/agalvezcorell/orgs',\n",
       "  'repos_url': 'https://api.github.com/users/agalvezcorell/repos',\n",
       "  'events_url': 'https://api.github.com/users/agalvezcorell/events{/privacy}',\n",
       "  'received_events_url': 'https://api.github.com/users/agalvezcorell/received_events',\n",
       "  'type': 'User',\n",
       "  'site_admin': False},\n",
       " 'committer': {'login': 'agalvezcorell',\n",
       "  'id': 57899051,\n",
       "  'node_id': 'MDQ6VXNlcjU3ODk5MDUx',\n",
       "  'avatar_url': 'https://avatars.githubusercontent.com/u/57899051?v=4',\n",
       "  'gravatar_id': '',\n",
       "  'url': 'https://api.github.com/users/agalvezcorell',\n",
       "  'html_url': 'https://github.com/agalvezcorell',\n",
       "  'followers_url': 'https://api.github.com/users/agalvezcorell/followers',\n",
       "  'following_url': 'https://api.github.com/users/agalvezcorell/following{/other_user}',\n",
       "  'gists_url': 'https://api.github.com/users/agalvezcorell/gists{/gist_id}',\n",
       "  'starred_url': 'https://api.github.com/users/agalvezcorell/starred{/owner}{/repo}',\n",
       "  'subscriptions_url': 'https://api.github.com/users/agalvezcorell/subscriptions',\n",
       "  'organizations_url': 'https://api.github.com/users/agalvezcorell/orgs',\n",
       "  'repos_url': 'https://api.github.com/users/agalvezcorell/repos',\n",
       "  'events_url': 'https://api.github.com/users/agalvezcorell/events{/privacy}',\n",
       "  'received_events_url': 'https://api.github.com/users/agalvezcorell/received_events',\n",
       "  'type': 'User',\n",
       "  'site_admin': False},\n",
       " 'parents': [{'sha': '62ccb107c540872cb332b10768b890040fb50c1f',\n",
       "   'url': 'https://api.github.com/repos/ironhack-datalabs/datamad1020-rev/commits/62ccb107c540872cb332b10768b890040fb50c1f',\n",
       "   'html_url': 'https://github.com/ironhack-datalabs/datamad1020-rev/commit/62ccb107c540872cb332b10768b890040fb50c1f'}]}"
      ]
     },
     "execution_count": 10,
     "metadata": {},
     "output_type": "execute_result"
    }
   ],
   "source": [
    "response[0]"
   ]
  },
  {
   "cell_type": "code",
   "execution_count": 24,
   "id": "individual-arctic",
   "metadata": {},
   "outputs": [
    {
     "data": {
      "text/plain": [
       "{'agalvezcorell 0': 'Hola datamad Part Time ♥️',\n",
       " 'agalvezcorell 1': 'edito challenge1 sin cambios, solo comment',\n",
       " 'breogann 2': 'ignore checkpoints recursively',\n",
       " 'agalvezcorell 3': 'actualizo cambios',\n",
       " 'agalvezcorell 4': 'portada proyecto',\n",
       " 'sheriffff 5': 'rename',\n",
       " 'sheriffff 6': 'api project',\n",
       " 'breogann 7': 'typo',\n",
       " 'breogann 8': 'readme geoquerries project',\n",
       " 'sheriffff 9': 'geoproject',\n",
       " 'sheriffff 10': \"Merge branch 'master' of github.com:ironhack-datalabs/datamad1020-rev\",\n",
       " 'sheriffff 11': 'lab mongo',\n",
       " '1gnaci0 12': 'modified readme in module-2/lab-tableau-data-visualization/README.md',\n",
       " 'agalvezcorell 13': 'portadareadme',\n",
       " 'agalvezcorell 14': 'txt + portada',\n",
       " 'sheriffff 15': 'scraping lab',\n",
       " 'sheriffff 16': 'new scraping lab',\n",
       " 'sheriffff 17': 'project w3',\n",
       " 'sheriffff 18': 'readme scavengers fix',\n",
       " 'agalvezcorell 19': 'txt myproject',\n",
       " 'agalvezcorell 20': 'readme',\n",
       " 'agalvezcorell 21': 'readme pandas',\n",
       " 'agalvezcorell 22': 'fixing pandas-project',\n",
       " 'agalvezcorell 23': 'fixing pandas-project',\n",
       " 'agalvezcorell 24': 'readme pandas',\n",
       " 'agalvezcorell 25': 'fixing',\n",
       " 'agalvezcorell 26': 'fixing error readme',\n",
       " 'sheriffff 27': 'viz update',\n",
       " 'sheriffff 28': 'update challengue 1',\n",
       " 'agalvezcorell 29': 'organizing repo'}"
      ]
     },
     "execution_count": 24,
     "metadata": {},
     "output_type": "execute_result"
    }
   ],
   "source": [
    "commiters = {f\"{elemento['committer']['login']} {index}\": elemento[\"commit\"][\"message\"] for index,elemento in enumerate(response)}\n",
    "commiters"
   ]
  },
  {
   "cell_type": "code",
   "execution_count": 15,
   "id": "lasting-multimedia",
   "metadata": {},
   "outputs": [],
   "source": [
    "lista = [\"hola\", \"quétal\", \"nombre\"]"
   ]
  },
  {
   "cell_type": "code",
   "execution_count": 16,
   "id": "ethical-neutral",
   "metadata": {},
   "outputs": [
    {
     "name": "stdout",
     "output_type": "stream",
     "text": [
      "hola\n",
      "quétal\n",
      "nombre\n"
     ]
    }
   ],
   "source": [
    "for elemento in lista:\n",
    "    print(elemento)"
   ]
  },
  {
   "cell_type": "code",
   "execution_count": 17,
   "id": "rocky-debut",
   "metadata": {},
   "outputs": [
    {
     "name": "stdout",
     "output_type": "stream",
     "text": [
      "0 hola\n",
      "1 quétal\n",
      "2 nombre\n"
     ]
    }
   ],
   "source": [
    "for index,elemento in enumerate(lista):\n",
    "    print (index, elemento)"
   ]
  },
  {
   "cell_type": "code",
   "execution_count": 19,
   "id": "designed-hypothesis",
   "metadata": {},
   "outputs": [
    {
     "data": {
      "text/plain": [
       "[(0, 'hola'), (1, 'quétal'), (2, 'nombre')]"
      ]
     },
     "execution_count": 19,
     "metadata": {},
     "output_type": "execute_result"
    }
   ],
   "source": [
    "comp = [(index,elemento) for index,elemento in enumerate(lista)]\n",
    "comp"
   ]
  },
  {
   "cell_type": "code",
   "execution_count": 21,
   "id": "pressed-configuration",
   "metadata": {},
   "outputs": [
    {
     "data": {
      "text/plain": [
       "{0: 'hola', 1: 'quétal', 2: 'nombre'}"
      ]
     },
     "execution_count": 21,
     "metadata": {},
     "output_type": "execute_result"
    }
   ],
   "source": [
    "diccionario = {index: elemento for index,elemento in enumerate(lista)}\n",
    "diccionario"
   ]
  },
  {
   "cell_type": "code",
   "execution_count": 22,
   "id": "generic-scholarship",
   "metadata": {},
   "outputs": [],
   "source": [
    "diccionario = {}\n",
    "for index,elemento in enumerate(lista):\n",
    "    diccionario.update({index:elemento})"
   ]
  },
  {
   "cell_type": "code",
   "execution_count": 23,
   "id": "technical-boring",
   "metadata": {},
   "outputs": [
    {
     "data": {
      "text/plain": [
       "{0: 'hola', 1: 'quétal', 2: 'nombre'}"
      ]
     },
     "execution_count": 23,
     "metadata": {},
     "output_type": "execute_result"
    }
   ],
   "source": [
    "diccionario"
   ]
  }
 ],
 "metadata": {
  "kernelspec": {
   "display_name": "Python 3",
   "language": "python",
   "name": "python3"
  },
  "language_info": {
   "codemirror_mode": {
    "name": "ipython",
    "version": 3
   },
   "file_extension": ".py",
   "mimetype": "text/x-python",
   "name": "python",
   "nbconvert_exporter": "python",
   "pygments_lexer": "ipython3",
   "version": "3.8.5"
  },
  "toc": {
   "base_numbering": 1,
   "nav_menu": {},
   "number_sections": true,
   "sideBar": true,
   "skip_h1_title": true,
   "title_cell": "Table of Contents",
   "title_sidebar": "Contents",
   "toc_cell": false,
   "toc_position": {
    "height": "calc(100% - 180px)",
    "left": "10px",
    "top": "150px",
    "width": "288px"
   },
   "toc_section_display": true,
   "toc_window_display": true
  }
 },
 "nbformat": 4,
 "nbformat_minor": 5
}
