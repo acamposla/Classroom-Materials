{
 "cells": [
  {
   "cell_type": "markdown",
   "metadata": {},
   "source": [
    "# Numpy"
   ]
  },
  {
   "cell_type": "code",
   "execution_count": 1,
   "metadata": {},
   "outputs": [],
   "source": [
    "import numpy as np"
   ]
  },
  {
   "cell_type": "markdown",
   "metadata": {},
   "source": [
    "# Why choosing NumPy: The Benefits\n",
    "\n",
    "If you already know Python, do you need to learn NumPy to be a Data Scientist? Well, not necessarly, but yes if you want to be a good one.\n",
    "\n",
    "NumPy (**Num**erical **Py**thon) is used to do numerical computations ___efficiently___ in Python.\n",
    "\n",
    "1. More speed: Under the hood, NumPy uses algorithms written in C that complete in nanoseconds rather than seconds.\n",
    "2. Fewer loops: NumPy helps you to reduce loops and keep from getting tangled up in iteration indices --> Vectorization.\n",
    "3. Clearer code: Without loops, your code will look cleaner, more like the equations you’re trying to calculate.\n",
    "4. Better quality: Stand on the shoulders of giants. Better programmers than us keep NumPy fast, friendly, and bug free.\n",
    "\n",
    "NumPy is the de facto standard for multidimensional arrays in Python data science, and many of the most popular libraries are built on top of it. Great way to set down a solid foundation as you expand your knowledge into more specific areas of data science."
   ]
  },
  {
   "cell_type": "markdown",
   "metadata": {},
   "source": [
    "# Motivation\n",
    "\n",
    "## Vectorization"
   ]
  },
  {
   "cell_type": "markdown",
   "metadata": {},
   "source": [
    "## Simpler syntax"
   ]
  },
  {
   "cell_type": "markdown",
   "metadata": {},
   "source": [
    "## Faster"
   ]
  },
  {
   "cell_type": "markdown",
   "metadata": {},
   "source": [
    "# Let's start with NumPy: creating arrays"
   ]
  },
  {
   "cell_type": "markdown",
   "metadata": {},
   "source": [
    "#### 1 dimensional"
   ]
  },
  {
   "cell_type": "markdown",
   "metadata": {},
   "source": [
    "#### 2 dimensional"
   ]
  },
  {
   "cell_type": "markdown",
   "metadata": {},
   "source": [
    "#### 3 dimensional"
   ]
  },
  {
   "cell_type": "markdown",
   "metadata": {},
   "source": [
    "### Built-in functions for creating arrays"
   ]
  },
  {
   "cell_type": "markdown",
   "metadata": {},
   "source": [
    "__Ex__: Create a 2x2 matrix initially full of `10`s. Add `3.5` to every value, then divide every value by `7` and then substract `5` from them. Finally add the identity matrix."
   ]
  },
  {
   "cell_type": "markdown",
   "metadata": {},
   "source": [
    "### What about other numbers, like random values?"
   ]
  },
  {
   "cell_type": "code",
   "execution_count": null,
   "metadata": {},
   "outputs": [],
   "source": [
    "np.random"
   ]
  },
  {
   "cell_type": "code",
   "execution_count": null,
   "metadata": {},
   "outputs": [],
   "source": [
    "np.random.random"
   ]
  },
  {
   "cell_type": "code",
   "execution_count": null,
   "metadata": {},
   "outputs": [],
   "source": [
    "# uniform <-- documentation\n",
    "np.random.random()"
   ]
  },
  {
   "cell_type": "markdown",
   "metadata": {},
   "source": [
    "![Distribución uniforme](uniforme.png)"
   ]
  },
  {
   "cell_type": "markdown",
   "metadata": {},
   "source": [
    "__Ex__: A coworker wrote a function to test if the values from `np.random.random()` are correct. Some of the pieces she wrote went missing. Fill them.\n",
    "\n",
    "(The idea is to count how many values are below/above a certain threshold)"
   ]
  },
  {
   "cell_type": "code",
   "execution_count": null,
   "metadata": {},
   "outputs": [],
   "source": [
    "_____ = _\n",
    "\n",
    "for i in range(100000):\n",
    "    if ______________ <= ___:\n",
    "        ______ += 1\n",
    "        \n",
    "______ / _______"
   ]
  },
  {
   "cell_type": "markdown",
   "metadata": {},
   "source": [
    "## What properties do these objects have?"
   ]
  },
  {
   "cell_type": "markdown",
   "metadata": {},
   "source": [
    "## Slicing"
   ]
  },
  {
   "cell_type": "markdown",
   "metadata": {},
   "source": [
    "__Ex__: Create a 3x4 matrix with integer values from `0` to `100`."
   ]
  },
  {
   "cell_type": "markdown",
   "metadata": {},
   "source": [
    "### Conditional slicing"
   ]
  },
  {
   "cell_type": "markdown",
   "metadata": {},
   "source": [
    "__Ex__: construct condition for the values of `a` that are greater than 10 and are even numbers. Then store it in a variable. Select the values of `a` that fullfil the condition."
   ]
  },
  {
   "cell_type": "markdown",
   "metadata": {},
   "source": [
    "__Ex__: get the subarray of `a` of elements that start with the number `7`."
   ]
  },
  {
   "cell_type": "markdown",
   "metadata": {},
   "source": [
    "**Ex**: how many families have more than 2 children?\n",
    "\n",
    "Remember that booleans are a sub-type of integers in Python? You can sum `True`s and `False`s."
   ]
  },
  {
   "cell_type": "code",
   "execution_count": null,
   "metadata": {},
   "outputs": [],
   "source": [
    "childrens = np.random.randint(0, 5, 100)\n",
    "childrens"
   ]
  },
  {
   "cell_type": "markdown",
   "metadata": {},
   "source": [
    "Similar to conditional slicing we have...\n",
    "### Conditional assignation"
   ]
  },
  {
   "cell_type": "markdown",
   "metadata": {},
   "source": [
    "__Ex__: Set to 0 the values from `b` that are greater than 70 or less than 40:"
   ]
  },
  {
   "cell_type": "markdown",
   "metadata": {},
   "source": [
    "## Useful array methods"
   ]
  },
  {
   "cell_type": "markdown",
   "metadata": {},
   "source": [
    "__Ex__: Compute how many infected people there will be tomorrow."
   ]
  },
  {
   "cell_type": "code",
   "execution_count": null,
   "metadata": {},
   "outputs": [],
   "source": [
    "# Array with infected people in 5 cities\n",
    "infected_people = np.array([44, 55, 66, 155, 120])\n",
    "\n",
    "# How infections will change\n",
    "change = 1.20"
   ]
  },
  {
   "cell_type": "markdown",
   "metadata": {},
   "source": [
    "All the cities will have more than 50 infected?"
   ]
  },
  {
   "cell_type": "markdown",
   "metadata": {},
   "source": [
    "Does some cities have less than 200?"
   ]
  },
  {
   "cell_type": "markdown",
   "metadata": {},
   "source": [
    "__Ex__: Create two 5x5 arrays that contain random __integers__ from 0 to 10."
   ]
  },
  {
   "cell_type": "markdown",
   "metadata": {},
   "source": [
    "Check when do the values of the first arrays are less or equal to the ones in the second array. (You need to return just True/False values for this case.)"
   ]
  },
  {
   "cell_type": "markdown",
   "metadata": {},
   "source": [
    "Which values fullfil the previous condition?"
   ]
  },
  {
   "cell_type": "markdown",
   "metadata": {},
   "source": [
    "Compute the average of those values."
   ]
  },
  {
   "cell_type": "markdown",
   "metadata": {},
   "source": [
    "# Broadcasting\n",
    "\n",
    "Technique that allows numpy to work with arrays of different shapes when performing arithmetic operations. \n",
    "\n",
    "Frequently we have a smaller array and a larger array, and we want to use the smaller array multiple times to perform some operation on the larger array, like adding a constant vector to each row of a matrix."
   ]
  },
  {
   "cell_type": "code",
   "execution_count": null,
   "metadata": {},
   "outputs": [],
   "source": [
    "# Data: what a shop has as stock...\n",
    "# Rows: shirt, hats, trousers, and boots\n",
    "# Columns: Monday, Tuesday, Friday.\n",
    "\n",
    "stock = np.full((4,3), fill_value=100)\n",
    "\n",
    "# What it sells every week\n",
    "#                 M  T  F\n",
    "sell = np.array([[1, 2, 3],         # <-- shirts\n",
    "                 [4, 5, 6],         # <-- hats\n",
    "                 [7, 8, 9],         # <-- trousers\n",
    "                 [10, 11, 12]])     # <-- boots\n",
    "\n",
    "# Every Monday and Friday recovers\n",
    "shipment = np.array([2, 2, 1])"
   ]
  },
  {
   "cell_type": "markdown",
   "metadata": {},
   "source": [
    "__Ex__: How many products will you have in the shop after 7 weeks? "
   ]
  },
  {
   "cell_type": "markdown",
   "metadata": {},
   "source": [
    "**Ex**: After a week, what is the mean of stock per day? (Days are in the columns.)"
   ]
  },
  {
   "cell_type": "markdown",
   "metadata": {},
   "source": [
    "# Further materials\n",
    "\n",
    "Numpy's [website](https://numpy.org/)\n",
    "\n",
    "Numpy's [documentation](https://numpy.org/doc/stable/)\n",
    "\n",
    "NumPy [Cheatsheet](https://s3.amazonaws.com/assets.datacamp.com/blog_assets/Numpy_Python_Cheat_Sheet.pdf)\n",
    "\n",
    "Numpy [broadcasting](https://cs231n.github.io/python-numpy-tutorial/#broadcasting)"
   ]
  }
 ],
 "metadata": {
  "colab": {
   "name": "numpy-class.ipynb",
   "provenance": []
  },
  "kernelspec": {
   "display_name": "Python 3",
   "language": "python",
   "name": "python3"
  },
  "language_info": {
   "codemirror_mode": {
    "name": "ipython",
    "version": 3
   },
   "file_extension": ".py",
   "mimetype": "text/x-python",
   "name": "python",
   "nbconvert_exporter": "python",
   "pygments_lexer": "ipython3",
   "version": "3.8.5"
  },
  "toc": {
   "base_numbering": 1,
   "nav_menu": {},
   "number_sections": true,
   "sideBar": true,
   "skip_h1_title": true,
   "title_cell": "Table of Contents",
   "title_sidebar": "Contents",
   "toc_cell": true,
   "toc_position": {
    "height": "calc(100% - 180px)",
    "left": "10px",
    "top": "150px",
    "width": "245.909px"
   },
   "toc_section_display": true,
   "toc_window_display": true
  },
  "varInspector": {
   "cols": {
    "lenName": 16,
    "lenType": 16,
    "lenVar": 40
   },
   "kernels_config": {
    "python": {
     "delete_cmd_postfix": "",
     "delete_cmd_prefix": "del ",
     "library": "var_list.py",
     "varRefreshCmd": "print(var_dic_list())"
    },
    "r": {
     "delete_cmd_postfix": ") ",
     "delete_cmd_prefix": "rm(",
     "library": "var_list.r",
     "varRefreshCmd": "cat(var_dic_list()) "
    }
   },
   "types_to_exclude": [
    "module",
    "function",
    "builtin_function_or_method",
    "instance",
    "_Feature"
   ],
   "window_display": false
  }
 },
 "nbformat": 4,
 "nbformat_minor": 1
}
