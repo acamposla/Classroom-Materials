{
 "cells": [
  {
   "cell_type": "markdown",
   "metadata": {},
   "source": [
    "# What are modules and libraries\n",
    "\n",
    "As we advance on our coding skills and make more complex programs, instead of having all the code in a single file, which would make things a little chaotic, we should **modulate**, that is, separate different parts of our program in different blocks (modules), which usually mean they will be on different files and folders.\n",
    "\n",
    "It is essential for maintenance of a program, since it is a lot faster to locate bugs, errors and do improvements if we know where to look. Therefore, modules are usually separated by functionality.\n",
    "\n",
    "e.g.: If you car lights up the `check engine` sign, we should look at the engine, we don't have to look through all the car to find the error.\n",
    "\n",
    "Bringing elements from a different file is very easy, it is called importing."
   ]
  },
  {
   "cell_type": "code",
   "execution_count": 4,
   "metadata": {},
   "outputs": [],
   "source": [
    "# The box_text function is defined on the file `text_processing.py`.\n",
    "# On this jupyter, we simply have to import it and use it.\n",
    "# This allows us to abstract from the code of this function, we just need to know what\n",
    "# arguments it take and what to expect as output.\n",
    "from text_processing import box_text"
   ]
  },
  {
   "cell_type": "code",
   "execution_count": 2,
   "metadata": {},
   "outputs": [
    {
     "name": "stdout",
     "output_type": "stream",
     "text": [
      "|H||e||l||l||o||,|| ||W||o||r||l||d|\n"
     ]
    }
   ],
   "source": [
    "print(box_text(\"Hello, World\"))"
   ]
  },
  {
   "cell_type": "markdown",
   "metadata": {},
   "source": [
    "# Libraries\n",
    "\n",
    "There happens to be a lot of tools some programmers have written and made available for us to use within our programs. These tools are usually comprised of a lot of functions and classes, in many different modules that we can take advantage of. These plethora of tools in a toolbox is packed into what we call a `library`.\n",
    "\n",
    "For everytool we want to use, we must make sure that these are properly installed on our system so python can access them. \n",
    "\n",
    "We usually install the libraries with the pip install command."
   ]
  },
  {
   "cell_type": "code",
   "execution_count": 5,
   "metadata": {},
   "outputs": [],
   "source": [
    "# The three most basic tools for any data analyst\n",
    "import pandas as pd # Dataframes\n",
    "import numpy as np # Numerical python\n",
    "import matplotlib.pyplot as plt # Ploting graphs"
   ]
  },
  {
   "cell_type": "markdown",
   "metadata": {},
   "source": [
    "![](https://i.chzbgr.com/full/6064341504/hAF676D1A/the-utility-belt)"
   ]
  },
  {
   "cell_type": "code",
   "execution_count": null,
   "metadata": {},
   "outputs": [],
   "source": []
  }
 ],
 "metadata": {
  "kernelspec": {
   "display_name": "Python 3",
   "language": "python",
   "name": "python3"
  },
  "language_info": {
   "codemirror_mode": {
    "name": "ipython",
    "version": 3
   },
   "file_extension": ".py",
   "mimetype": "text/x-python",
   "name": "python",
   "nbconvert_exporter": "python",
   "pygments_lexer": "ipython3",
   "version": "3.8.5"
  },
  "toc": {
   "base_numbering": 1,
   "nav_menu": {},
   "number_sections": false,
   "sideBar": true,
   "skip_h1_title": false,
   "title_cell": "Table of Contents",
   "title_sidebar": "Contents",
   "toc_cell": false,
   "toc_position": {},
   "toc_section_display": true,
   "toc_window_display": false
  }
 },
 "nbformat": 4,
 "nbformat_minor": 4
}
