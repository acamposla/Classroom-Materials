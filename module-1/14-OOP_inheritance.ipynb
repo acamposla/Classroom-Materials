{
 "cells": [
  {
   "cell_type": "markdown",
   "metadata": {
    "toc": true
   },
   "source": [
    "<h1>Table of Contents<span class=\"tocSkip\"></span></h1>\n",
    "<div class=\"toc\"><ul class=\"toc-item\"><li><span><a href=\"#Inheriting-from-a-parent-class\" data-toc-modified-id=\"Inheriting-from-a-parent-class-1\"><span class=\"toc-item-num\">1&nbsp;&nbsp;</span>Inheriting from a parent class</a></span><ul class=\"toc-item\"><li><span><a href=\"#isinstance-example\" data-toc-modified-id=\"isinstance-example-1.1\"><span class=\"toc-item-num\">1.1&nbsp;&nbsp;</span><code>isinstance</code> example</a></span></li></ul></li><li><span><a href=\"#Adding-new-methods-to-a-class-that-inherits\" data-toc-modified-id=\"Adding-new-methods-to-a-class-that-inherits-2\"><span class=\"toc-item-num\">2&nbsp;&nbsp;</span>Adding new methods to a class that inherits</a></span><ul class=\"toc-item\"><li><span><a href=\"#Methods-are-functions,-even-the-constructor.\" data-toc-modified-id=\"Methods-are-functions,-even-the-constructor.-2.1\"><span class=\"toc-item-num\">2.1&nbsp;&nbsp;</span>Methods are functions, even the constructor.</a></span></li></ul></li><li><span><a href=\"#Overwriting-methods\" data-toc-modified-id=\"Overwriting-methods-3\"><span class=\"toc-item-num\">3&nbsp;&nbsp;</span>Overwriting methods</a></span></li><li><span><a href=\"#Calling-a-method-from-parent-class\" data-toc-modified-id=\"Calling-a-method-from-parent-class-4\"><span class=\"toc-item-num\">4&nbsp;&nbsp;</span>Calling a method from parent class</a></span></li><li><span><a href=\"#Using-super()-on-__init__\" data-toc-modified-id=\"Using-super()-on-__init__-5\"><span class=\"toc-item-num\">5&nbsp;&nbsp;</span>Using super() on __init__</a></span></li><li><span><a href=\"#BONUS:-dunder-methods\" data-toc-modified-id=\"BONUS:-dunder-methods-6\"><span class=\"toc-item-num\">6&nbsp;&nbsp;</span>BONUS: dunder methods</a></span></li><li><span><a href=\"#Further-resources\" data-toc-modified-id=\"Further-resources-7\"><span class=\"toc-item-num\">7&nbsp;&nbsp;</span>Further resources</a></span></li></ul></div>"
   ]
  },
  {
   "cell_type": "markdown",
   "metadata": {},
   "source": [
    "# Class Inheritance\n",
    "Inheritance allows us to define a class that inherits all the methods and properties from another class.\n",
    "\n",
    "**Parent class** is the class being inherited from, also called base class.\n",
    "\n",
    "**Child class** is the class that inherits from another class, also called derived class."
   ]
  },
  {
   "cell_type": "code",
   "execution_count": 41,
   "metadata": {},
   "outputs": [],
   "source": [
    "class Animal:\n",
    "    def __init__(self, name, age, sex=None):\n",
    "        self.name = name\n",
    "        self.age = age\n",
    "        self.sex = sex\n",
    "    def who_am_i(self):\n",
    "        return f\"I am {self.name}, I'm a {self.age} years old {self.sex}.\""
   ]
  },
  {
   "cell_type": "code",
   "execution_count": 2,
   "metadata": {},
   "outputs": [],
   "source": [
    "milu = Animal(\"Milu\", 2, \"male\")"
   ]
  },
  {
   "cell_type": "code",
   "execution_count": 3,
   "metadata": {},
   "outputs": [
    {
     "data": {
      "text/plain": [
       "'Milu'"
      ]
     },
     "execution_count": 3,
     "metadata": {},
     "output_type": "execute_result"
    }
   ],
   "source": [
    "# We can access attributes\n",
    "milu.name"
   ]
  },
  {
   "cell_type": "code",
   "execution_count": 4,
   "metadata": {},
   "outputs": [
    {
     "data": {
      "text/plain": [
       "\"I am Milu, I'm a 2 years old male.\""
      ]
     },
     "execution_count": 4,
     "metadata": {},
     "output_type": "execute_result"
    }
   ],
   "source": [
    "# We can call methods\n",
    "milu.who_am_i()"
   ]
  },
  {
   "cell_type": "code",
   "execution_count": 5,
   "metadata": {},
   "outputs": [
    {
     "data": {
      "text/plain": [
       "__main__.Animal"
      ]
     },
     "execution_count": 5,
     "metadata": {},
     "output_type": "execute_result"
    }
   ],
   "source": [
    "# An object is an instance of it's class\n",
    "type(milu)"
   ]
  },
  {
   "cell_type": "markdown",
   "metadata": {},
   "source": [
    "## Inheriting from a parent class"
   ]
  },
  {
   "cell_type": "code",
   "execution_count": 6,
   "metadata": {},
   "outputs": [],
   "source": [
    "# To inherit from a parent class, we put it between parenthesis after\n",
    "# the name of the child class on it's definition\n",
    "class Dog(Animal):\n",
    "    pass"
   ]
  },
  {
   "cell_type": "markdown",
   "metadata": {},
   "source": [
    "All the properties and methods of parent class will be inherited.\n",
    "\n",
    "For instance, on the cell below we try to create a dog with no arguments and receive an error message.\n",
    "\n",
    "This is because the constructor for dog was inherited from Animal and requires those parameters"
   ]
  },
  {
   "cell_type": "code",
   "execution_count": 7,
   "metadata": {},
   "outputs": [
    {
     "ename": "TypeError",
     "evalue": "__init__() missing 2 required positional arguments: 'name' and 'age'",
     "output_type": "error",
     "traceback": [
      "\u001b[0;31m---------------------------------------------------------------------------\u001b[0m",
      "\u001b[0;31mTypeError\u001b[0m                                 Traceback (most recent call last)",
      "\u001b[0;32m<ipython-input-7-b2e362523da8>\u001b[0m in \u001b[0;36m<module>\u001b[0;34m\u001b[0m\n\u001b[0;32m----> 1\u001b[0;31m \u001b[0mlassie\u001b[0m \u001b[0;34m=\u001b[0m \u001b[0mDog\u001b[0m\u001b[0;34m(\u001b[0m\u001b[0;34m)\u001b[0m\u001b[0;34m\u001b[0m\u001b[0;34m\u001b[0m\u001b[0m\n\u001b[0m",
      "\u001b[0;31mTypeError\u001b[0m: __init__() missing 2 required positional arguments: 'name' and 'age'"
     ]
    }
   ],
   "source": [
    "lassie = Dog()"
   ]
  },
  {
   "cell_type": "markdown",
   "metadata": {},
   "source": [
    "Once the object is properly  created, we can call on the methods it inherited."
   ]
  },
  {
   "cell_type": "code",
   "execution_count": 8,
   "metadata": {},
   "outputs": [],
   "source": [
    "lassie = Dog(\"Lassie\", 70, \"female\")"
   ]
  },
  {
   "cell_type": "code",
   "execution_count": 9,
   "metadata": {},
   "outputs": [
    {
     "data": {
      "text/plain": [
       "'Lassie'"
      ]
     },
     "execution_count": 9,
     "metadata": {},
     "output_type": "execute_result"
    }
   ],
   "source": [
    "lassie.name"
   ]
  },
  {
   "cell_type": "markdown",
   "metadata": {},
   "source": [
    "And the methods can be called even if not explicitly defined in the class, because it is **inherited**."
   ]
  },
  {
   "cell_type": "code",
   "execution_count": 10,
   "metadata": {},
   "outputs": [
    {
     "data": {
      "text/plain": [
       "\"I am Lassie, I'm a 70 years old female.\""
      ]
     },
     "execution_count": 10,
     "metadata": {},
     "output_type": "execute_result"
    }
   ],
   "source": [
    "lassie.who_am_i()"
   ]
  },
  {
   "cell_type": "markdown",
   "metadata": {},
   "source": [
    "**What kind of object is `lassie`?**"
   ]
  },
  {
   "cell_type": "code",
   "execution_count": 11,
   "metadata": {},
   "outputs": [
    {
     "data": {
      "text/plain": [
       "__main__.Dog"
      ]
     },
     "execution_count": 11,
     "metadata": {},
     "output_type": "execute_result"
    }
   ],
   "source": [
    "type(lassie)"
   ]
  },
  {
   "cell_type": "markdown",
   "metadata": {},
   "source": [
    "**Is `lassie` a `Dog`?**"
   ]
  },
  {
   "cell_type": "code",
   "execution_count": 12,
   "metadata": {},
   "outputs": [
    {
     "data": {
      "text/plain": [
       "True"
      ]
     },
     "execution_count": 12,
     "metadata": {},
     "output_type": "execute_result"
    }
   ],
   "source": [
    "isinstance(lassie, Dog)"
   ]
  },
  {
   "cell_type": "markdown",
   "metadata": {},
   "source": [
    "**Is `lassie` an `Animal`?**"
   ]
  },
  {
   "cell_type": "code",
   "execution_count": 13,
   "metadata": {},
   "outputs": [
    {
     "data": {
      "text/plain": [
       "True"
      ]
     },
     "execution_count": 13,
     "metadata": {},
     "output_type": "execute_result"
    }
   ],
   "source": [
    "isinstance(lassie, Animal)"
   ]
  },
  {
   "cell_type": "markdown",
   "metadata": {},
   "source": [
    "An object from a class that inherits is an **instance of both** parent and child classes."
   ]
  },
  {
   "cell_type": "markdown",
   "metadata": {},
   "source": [
    "### `isinstance` example\n",
    "We can see how to use the `isinstance` function to check if each element is an integer."
   ]
  },
  {
   "cell_type": "code",
   "execution_count": 14,
   "metadata": {},
   "outputs": [
    {
     "name": "stdout",
     "output_type": "stream",
     "text": [
      "1\n",
      "4\n",
      "9\n",
      "16\n",
      "Can't multiply 5 by itself\n",
      "Can't multiply hello by itself\n"
     ]
    }
   ],
   "source": [
    "lst = [1,2,3,4,\"5\",\"hello\"]\n",
    "for value in lst:\n",
    "    if isinstance(value, int):\n",
    "        print(value**2)\n",
    "    else:\n",
    "        print(f\"Can't multiply {value} by itself\")"
   ]
  },
  {
   "cell_type": "markdown",
   "metadata": {},
   "source": [
    "## Adding new methods to a class that inherits\n",
    "A child class is not limited by the methods of the parent class. We can define new methods.\n",
    "\n",
    "The methods defined on the **child** class will only be available for it, not for the parent.\n",
    "\n",
    "**Inheritance** is **one-way only**"
   ]
  },
  {
   "cell_type": "code",
   "execution_count": 98,
   "metadata": {},
   "outputs": [],
   "source": [
    "class Dog(Animal):\n",
    "    def speak(self):\n",
    "        return \"Woof Woof\""
   ]
  },
  {
   "cell_type": "code",
   "execution_count": 16,
   "metadata": {},
   "outputs": [],
   "source": [
    "milu = Animal(\"Milu\", 2, \"male\")\n",
    "lassie = Dog(\"Lassie\", 70, \"female\")"
   ]
  },
  {
   "cell_type": "code",
   "execution_count": 17,
   "metadata": {},
   "outputs": [
    {
     "ename": "AttributeError",
     "evalue": "'Animal' object has no attribute 'speak'",
     "output_type": "error",
     "traceback": [
      "\u001b[0;31m---------------------------------------------------------------------------\u001b[0m",
      "\u001b[0;31mAttributeError\u001b[0m                            Traceback (most recent call last)",
      "\u001b[0;32m<ipython-input-17-88782d5060dc>\u001b[0m in \u001b[0;36m<module>\u001b[0;34m\u001b[0m\n\u001b[0;32m----> 1\u001b[0;31m \u001b[0mmilu\u001b[0m\u001b[0;34m.\u001b[0m\u001b[0mspeak\u001b[0m\u001b[0;34m(\u001b[0m\u001b[0;34m)\u001b[0m\u001b[0;34m\u001b[0m\u001b[0;34m\u001b[0m\u001b[0m\n\u001b[0m",
      "\u001b[0;31mAttributeError\u001b[0m: 'Animal' object has no attribute 'speak'"
     ]
    }
   ],
   "source": [
    "# Since milu is an Animal, not a Dog, it does not have the method `speak`.\n",
    "milu.speak()"
   ]
  },
  {
   "cell_type": "code",
   "execution_count": 18,
   "metadata": {},
   "outputs": [
    {
     "data": {
      "text/plain": [
       "'Woof Woof'"
      ]
     },
     "execution_count": 18,
     "metadata": {},
     "output_type": "execute_result"
    }
   ],
   "source": [
    "lassie.speak()"
   ]
  },
  {
   "cell_type": "code",
   "execution_count": 19,
   "metadata": {},
   "outputs": [
    {
     "data": {
      "text/plain": [
       "\"I am Lassie, I'm a 70 years old female.\""
      ]
     },
     "execution_count": 19,
     "metadata": {},
     "output_type": "execute_result"
    }
   ],
   "source": [
    "# Lassie, however has both Dog and Animal methods.\n",
    "lassie.who_am_i()"
   ]
  },
  {
   "cell_type": "markdown",
   "metadata": {},
   "source": [
    "### Methods are functions, even the constructor.\n",
    "On this example, we see that even the \\_\\_init\\_\\_ method (constructor) can have default parameters on it's definition and arguments can be passed both positionally (in order) or as keyword (by their names)."
   ]
  },
  {
   "cell_type": "code",
   "execution_count": 40,
   "metadata": {},
   "outputs": [],
   "source": [
    "platelminto = Animal(age=2,name=\"Pepe\") #,sex=\"hemaphrodite\")"
   ]
  },
  {
   "cell_type": "code",
   "execution_count": 34,
   "metadata": {},
   "outputs": [
    {
     "name": "stdout",
     "output_type": "stream",
     "text": [
      "None\n"
     ]
    }
   ],
   "source": [
    "print(platelminto.sex)"
   ]
  },
  {
   "cell_type": "code",
   "execution_count": 35,
   "metadata": {},
   "outputs": [
    {
     "data": {
      "text/plain": [
       "\"I am Pepe, I'm a two years old None.\""
      ]
     },
     "execution_count": 35,
     "metadata": {},
     "output_type": "execute_result"
    }
   ],
   "source": [
    "platelminto.who_am_i()"
   ]
  },
  {
   "cell_type": "markdown",
   "metadata": {},
   "source": [
    "## Overwriting methods\n",
    "If we redefine a method that already existed on the parent class, it will be overwritten."
   ]
  },
  {
   "cell_type": "code",
   "execution_count": 156,
   "metadata": {},
   "outputs": [],
   "source": [
    "class Cat(Animal):\n",
    "    def speak(self):\n",
    "        return \"Meow\"\n",
    "    # Defining a new who_am_i function will make it so that the one defined in Animal\n",
    "    # no longer exists for cats. Only the new, defined on Cat class will be available\n",
    "    # for cat objects. \n",
    "    def who_am_i(self):\n",
    "        return \"I am a Cat. Present yourself, and bow to my glory\""
   ]
  },
  {
   "cell_type": "code",
   "execution_count": 157,
   "metadata": {},
   "outputs": [],
   "source": [
    "misifu = Cat(\"Misi\", 2, \"female\")"
   ]
  },
  {
   "cell_type": "code",
   "execution_count": 158,
   "metadata": {},
   "outputs": [
    {
     "data": {
      "text/plain": [
       "'Misi'"
      ]
     },
     "execution_count": 158,
     "metadata": {},
     "output_type": "execute_result"
    }
   ],
   "source": [
    "misifu.name"
   ]
  },
  {
   "cell_type": "code",
   "execution_count": 159,
   "metadata": {},
   "outputs": [
    {
     "data": {
      "text/plain": [
       "'Meow'"
      ]
     },
     "execution_count": 159,
     "metadata": {},
     "output_type": "execute_result"
    }
   ],
   "source": [
    "misifu.speak()"
   ]
  },
  {
   "cell_type": "code",
   "execution_count": 160,
   "metadata": {},
   "outputs": [
    {
     "data": {
      "text/plain": [
       "'I am a Cat. Present yourself, and bow to my glory'"
      ]
     },
     "execution_count": 160,
     "metadata": {},
     "output_type": "execute_result"
    }
   ],
   "source": [
    "misifu.who_am_i()"
   ]
  },
  {
   "cell_type": "markdown",
   "metadata": {},
   "source": [
    "**Other classes that inherited from Animal will not be affected!!**"
   ]
  },
  {
   "cell_type": "code",
   "execution_count": 161,
   "metadata": {
    "scrolled": true
   },
   "outputs": [
    {
     "data": {
      "text/plain": [
       "\"I am Lassie, I'm a 70 years old female.\""
      ]
     },
     "execution_count": 161,
     "metadata": {},
     "output_type": "execute_result"
    }
   ],
   "source": [
    "lassie.who_am_i()"
   ]
  },
  {
   "cell_type": "markdown",
   "metadata": {},
   "source": [
    "## Calling a method from parent class\n",
    "If we wish to call on a method from the parent class, we can! We just have to use `super()` to refer to the parent class."
   ]
  },
  {
   "cell_type": "code",
   "execution_count": 56,
   "metadata": {},
   "outputs": [],
   "source": [
    "class Chihuahua(Dog):\n",
    "    def speak(self):\n",
    "        # We can call methods from parent class with super()\n",
    "        # This will return the call for that function, even if\n",
    "        # we are overwriting the function for the child class\n",
    "        sound = super().speak()\n",
    "        return sound.upper() + \"! Chihuahua, m*******\"\n",
    "    \n",
    "    # It can also be done if not overwriting the original function\n",
    "    def docile_speak(self):\n",
    "        return super().speak()"
   ]
  },
  {
   "cell_type": "code",
   "execution_count": 57,
   "metadata": {},
   "outputs": [],
   "source": [
    "satanas = Chihuahua(\"Mr.S\",4,\"male\")"
   ]
  },
  {
   "cell_type": "code",
   "execution_count": 58,
   "metadata": {},
   "outputs": [
    {
     "data": {
      "text/plain": [
       "'WOOF WOOF! Chihuahua, m*******'"
      ]
     },
     "execution_count": 58,
     "metadata": {},
     "output_type": "execute_result"
    }
   ],
   "source": [
    "satanas.speak()"
   ]
  },
  {
   "cell_type": "code",
   "execution_count": 59,
   "metadata": {},
   "outputs": [
    {
     "data": {
      "text/plain": [
       "'Woof Woof'"
      ]
     },
     "execution_count": 59,
     "metadata": {},
     "output_type": "execute_result"
    }
   ],
   "source": [
    "satanas.docile_speak()"
   ]
  },
  {
   "cell_type": "markdown",
   "metadata": {},
   "source": [
    "## Using super() on \\_\\_init\\_\\_\n",
    "\n",
    "A great use of the `super()` is when creating a child class with more arguments on it's construction than the parent class. \n",
    "\n",
    "On the example below, we want to create unicorn objects with a superpower parameter. \n",
    "However, since the constructor is being inherited from Animal, it won't work, because we have a new parameter that the \\_\\_init\\_\\_ on Animal doesn't know."
   ]
  },
  {
   "cell_type": "code",
   "execution_count": 60,
   "metadata": {},
   "outputs": [],
   "source": [
    "class Unicorn(Animal):\n",
    "    pass"
   ]
  },
  {
   "cell_type": "code",
   "execution_count": 62,
   "metadata": {},
   "outputs": [
    {
     "ename": "TypeError",
     "evalue": "__init__() takes from 3 to 4 positional arguments but 5 were given",
     "output_type": "error",
     "traceback": [
      "\u001b[0;31m---------------------------------------------------------------------------\u001b[0m",
      "\u001b[0;31mTypeError\u001b[0m                                 Traceback (most recent call last)",
      "\u001b[0;32m<ipython-input-62-3f2f4c734cb0>\u001b[0m in \u001b[0;36m<module>\u001b[0;34m\u001b[0m\n\u001b[0;32m----> 1\u001b[0;31m \u001b[0muni\u001b[0m \u001b[0;34m=\u001b[0m \u001b[0mUnicorn\u001b[0m\u001b[0;34m(\u001b[0m\u001b[0;34m\"Uni\"\u001b[0m\u001b[0;34m,\u001b[0m \u001b[0;36m400\u001b[0m\u001b[0;34m,\u001b[0m \u001b[0;34m\"male\"\u001b[0m\u001b[0;34m,\u001b[0m \u001b[0;34m\"Rainbows\"\u001b[0m\u001b[0;34m)\u001b[0m\u001b[0;34m\u001b[0m\u001b[0;34m\u001b[0m\u001b[0m\n\u001b[0m",
      "\u001b[0;31mTypeError\u001b[0m: __init__() takes from 3 to 4 positional arguments but 5 were given"
     ]
    }
   ],
   "source": [
    "uni = Unicorn(\"Uni\", 400, \"male\", \"Rainbows\")"
   ]
  },
  {
   "cell_type": "code",
   "execution_count": 63,
   "metadata": {},
   "outputs": [
    {
     "ename": "TypeError",
     "evalue": "__init__() got an unexpected keyword argument 'superpower'",
     "output_type": "error",
     "traceback": [
      "\u001b[0;31m---------------------------------------------------------------------------\u001b[0m",
      "\u001b[0;31mTypeError\u001b[0m                                 Traceback (most recent call last)",
      "\u001b[0;32m<ipython-input-63-a8a678d38e2e>\u001b[0m in \u001b[0;36m<module>\u001b[0;34m\u001b[0m\n\u001b[0;32m----> 1\u001b[0;31m \u001b[0muni\u001b[0m \u001b[0;34m=\u001b[0m \u001b[0mUnicorn\u001b[0m\u001b[0;34m(\u001b[0m\u001b[0;34m\"Uni\"\u001b[0m\u001b[0;34m,\u001b[0m \u001b[0;36m400\u001b[0m\u001b[0;34m,\u001b[0m \u001b[0;34m\"male\"\u001b[0m\u001b[0;34m,\u001b[0m \u001b[0msuperpower\u001b[0m\u001b[0;34m=\u001b[0m\u001b[0;34m\"Rainbows\"\u001b[0m\u001b[0;34m)\u001b[0m\u001b[0;34m\u001b[0m\u001b[0;34m\u001b[0m\u001b[0m\n\u001b[0m",
      "\u001b[0;31mTypeError\u001b[0m: __init__() got an unexpected keyword argument 'superpower'"
     ]
    }
   ],
   "source": [
    "uni = Unicorn(\"Uni\", 400, \"male\", superpower=\"Rainbows\")"
   ]
  },
  {
   "cell_type": "markdown",
   "metadata": {},
   "source": [
    "We can, however, use the Animal constructor without having to write it all again, by calling with `super()` and after we just do the new thing we want the Unicorn constructor to do (that is, define `self.superpower`)"
   ]
  },
  {
   "cell_type": "code",
   "execution_count": 162,
   "metadata": {},
   "outputs": [],
   "source": [
    "class Unicorn(Animal):\n",
    "    def __init__(self, name, age, sex, power):\n",
    "        # When calling the Animal constructor, it will execute it\n",
    "        super().__init__(name, age, sex)\n",
    "        \n",
    "        # After that, we can write new code\n",
    "        self.superpower = power"
   ]
  },
  {
   "cell_type": "code",
   "execution_count": 163,
   "metadata": {},
   "outputs": [],
   "source": [
    "uni = Unicorn(\"Uni\", 400, \"male\", \"Rainbows and kittens\")"
   ]
  },
  {
   "cell_type": "code",
   "execution_count": 164,
   "metadata": {},
   "outputs": [
    {
     "data": {
      "text/plain": [
       "400"
      ]
     },
     "execution_count": 164,
     "metadata": {},
     "output_type": "execute_result"
    }
   ],
   "source": [
    "uni.age"
   ]
  },
  {
   "cell_type": "code",
   "execution_count": 165,
   "metadata": {},
   "outputs": [
    {
     "data": {
      "text/plain": [
       "'Rainbows and kittens'"
      ]
     },
     "execution_count": 165,
     "metadata": {},
     "output_type": "execute_result"
    }
   ],
   "source": [
    "uni.superpower"
   ]
  },
  {
   "cell_type": "markdown",
   "metadata": {},
   "source": [
    "## BONUS: dunder methods\n",
    "As we have seen with `__init__`, there are many methods on python objects that begin and end wirh double underscores. These are popularly called dunder methods.\n",
    "\n",
    "They are different from other methods because they are not called by the `object.method()` syntax we are used to. The dunder methods change the behavior of an object in response to **external** behaviours and calls, such as operators.\n",
    "\n",
    "- `__init__` : constructor\n",
    "\n",
    "We don't call the constructor by doing `Animal.__init__`. We simply call the class name as if it were a function and the constructor is called for us. `Animal(\"Garfield\", \"8\",\"male\")`\n",
    "\n",
    "**Operator dunder methods**\n",
    "\n",
    "Some dunder methods will alter how our objects will behave when used with some operators.\n",
    "\n",
    "- `__add__` : +\n",
    "- `__sub__` : -\n",
    "- `__div__` : /\n",
    "- `__mul__` : *\n",
    "- `__gt__` : >\n",
    "- `__lt__` : <\n",
    "- `__gte__` : >=\n",
    "- `__lte__` : <=\n",
    "- etc.\n",
    "\n",
    "This would allow us to take two instaces of our Animal class, for example and use these operators with them. `milu > garfield`\n",
    "\n",
    "What will happen when we use these operators is what we define on these special dunde functions.\n",
    "\n",
    "**Representational dunder methods**\n",
    "\n",
    "Some of the dunder methods are used to represent our objects in a different manner.\n",
    "\n",
    "- `__str__` : When printed or casted to string\n",
    "- `__repr__` : The hard representation of our object, for example when outputed.\n",
    "\n",
    "See the example below, we have the standard output for the Dog class and it's string representation. The default format for objects is with a direction to the memory address as seen. Compare it with the Rabbit example that follows."
   ]
  },
  {
   "cell_type": "code",
   "execution_count": 153,
   "metadata": {},
   "outputs": [
    {
     "data": {
      "text/plain": [
       "<__main__.Dog at 0x10868c5b0>"
      ]
     },
     "execution_count": 153,
     "metadata": {},
     "output_type": "execute_result"
    }
   ],
   "source": [
    "lassie"
   ]
  },
  {
   "cell_type": "code",
   "execution_count": 154,
   "metadata": {},
   "outputs": [
    {
     "name": "stdout",
     "output_type": "stream",
     "text": [
      "<__main__.Dog object at 0x10868c5b0>\n"
     ]
    }
   ],
   "source": [
    "print(lassie)"
   ]
  },
  {
   "cell_type": "code",
   "execution_count": 155,
   "metadata": {},
   "outputs": [
    {
     "data": {
      "text/plain": [
       "'<__main__.Dog object at 0x10868c5b0>'"
      ]
     },
     "execution_count": 155,
     "metadata": {},
     "output_type": "execute_result"
    }
   ],
   "source": [
    "str(lassie)"
   ]
  },
  {
   "cell_type": "code",
   "execution_count": 166,
   "metadata": {},
   "outputs": [],
   "source": [
    "class Rabbit(Animal):\n",
    "    # Constructor method\n",
    "    def __init__(self, name, age):\n",
    "        self.name = name\n",
    "        self.age = age\n",
    "        \n",
    "    # Greater than (>) method\n",
    "    def __gt__(self,other):\n",
    "        # In this case, we choose to use this method to compare the age of 2 rabbits\n",
    "        if self.age > other.age:\n",
    "            print(f\"Yes, {self.name} is older than {other.name}\")\n",
    "        else:\n",
    "            print(f\"No, {self.name} is NOT older than {other.name}\")\n",
    "    \n",
    "    # Multiplication (*) method\n",
    "    def __mul__(self,other):\n",
    "        print(\"Grow and multiply\")\n",
    "        # We choose to make the multiplication of 2 rabbits return a list of 14 new rabbit\n",
    "        # objects. All of them will have \"Unknown\" name and 0 age.\n",
    "        return [Rabbit(\"Unknown\",0) for _ in range(14)]\n",
    "    \n",
    "    ## Changing the representation of our object\n",
    "    # When converted to string or printed, it will output the following sentence\n",
    "    # with the rabbits name\n",
    "    def __str__(self):\n",
    "        return f\"A rabbit named {self.name}\"\n",
    "    \n",
    "    # When outputed, it will be just the word Rabbit with parenthesis and the name\n",
    "    def __repr__(self):\n",
    "        return f\"Rabbit({self.name})\""
   ]
  },
  {
   "cell_type": "code",
   "execution_count": 167,
   "metadata": {},
   "outputs": [],
   "source": [
    "rb1 = Rabbit(\"Tambor\", 5)"
   ]
  },
  {
   "cell_type": "markdown",
   "metadata": {},
   "source": [
    "**The output of the \\_\\_str\\_\\_ method**"
   ]
  },
  {
   "cell_type": "code",
   "execution_count": 147,
   "metadata": {},
   "outputs": [
    {
     "name": "stdout",
     "output_type": "stream",
     "text": [
      "A rabbit named Tambor\n"
     ]
    }
   ],
   "source": [
    "print(rb1)"
   ]
  },
  {
   "cell_type": "code",
   "execution_count": 148,
   "metadata": {},
   "outputs": [
    {
     "data": {
      "text/plain": [
       "'A rabbit named Tambor'"
      ]
     },
     "execution_count": 148,
     "metadata": {},
     "output_type": "execute_result"
    }
   ],
   "source": [
    "str(rb1)"
   ]
  },
  {
   "cell_type": "code",
   "execution_count": 149,
   "metadata": {},
   "outputs": [],
   "source": [
    "rb2 = Rabbit(\"Manuela\",4)"
   ]
  },
  {
   "cell_type": "markdown",
   "metadata": {},
   "source": [
    "**The output of the \\_\\_repr\\_\\_ method**"
   ]
  },
  {
   "cell_type": "code",
   "execution_count": 150,
   "metadata": {},
   "outputs": [
    {
     "data": {
      "text/plain": [
       "Rabbit(Manuela)"
      ]
     },
     "execution_count": 150,
     "metadata": {},
     "output_type": "execute_result"
    }
   ],
   "source": [
    "rb2"
   ]
  },
  {
   "cell_type": "markdown",
   "metadata": {},
   "source": [
    "Since ther is no `__add__` method implementeds, the `+` operator won't be available for our rabbits and will result in an error. "
   ]
  },
  {
   "cell_type": "code",
   "execution_count": 134,
   "metadata": {},
   "outputs": [
    {
     "ename": "TypeError",
     "evalue": "unsupported operand type(s) for +: 'Rabbit' and 'Rabbit'",
     "output_type": "error",
     "traceback": [
      "\u001b[0;31m---------------------------------------------------------------------------\u001b[0m",
      "\u001b[0;31mTypeError\u001b[0m                                 Traceback (most recent call last)",
      "\u001b[0;32m<ipython-input-134-c9820597c588>\u001b[0m in \u001b[0;36m<module>\u001b[0;34m\u001b[0m\n\u001b[0;32m----> 1\u001b[0;31m \u001b[0mrb1\u001b[0m \u001b[0;34m+\u001b[0m \u001b[0mrb2\u001b[0m\u001b[0;34m\u001b[0m\u001b[0;34m\u001b[0m\u001b[0m\n\u001b[0m",
      "\u001b[0;31mTypeError\u001b[0m: unsupported operand type(s) for +: 'Rabbit' and 'Rabbit'"
     ]
    }
   ],
   "source": [
    "rb1 + rb2"
   ]
  },
  {
   "cell_type": "markdown",
   "metadata": {},
   "source": [
    "But since we have implemented both the `__gt__` and `__mul__` method, the operations with `>` and `*` are permited."
   ]
  },
  {
   "cell_type": "code",
   "execution_count": 135,
   "metadata": {},
   "outputs": [
    {
     "name": "stdout",
     "output_type": "stream",
     "text": [
      "Yes, Tambor is older than Manuela\n"
     ]
    }
   ],
   "source": [
    "rb1 > rb2"
   ]
  },
  {
   "cell_type": "code",
   "execution_count": 136,
   "metadata": {},
   "outputs": [
    {
     "name": "stdout",
     "output_type": "stream",
     "text": [
      "No, Manuela is NOT older than Tambor\n"
     ]
    }
   ],
   "source": [
    "rb2 > rb1"
   ]
  },
  {
   "cell_type": "code",
   "execution_count": 152,
   "metadata": {},
   "outputs": [
    {
     "name": "stdout",
     "output_type": "stream",
     "text": [
      "Grow and multiply\n"
     ]
    },
    {
     "data": {
      "text/plain": [
       "[Rabbit(Uknown), Rabbit(Uknown), Rabbit(Uknown)]"
      ]
     },
     "execution_count": 152,
     "metadata": {},
     "output_type": "execute_result"
    }
   ],
   "source": [
    "rb1 * rb2"
   ]
  },
  {
   "cell_type": "markdown",
   "metadata": {},
   "source": [
    "## Further resources\n",
    "\n",
    "- [Corey Schafer's video on OOP](https://www.youtube.com/watch?v=ZDa-Z5JzLYM&ab_channel=CoreySchafer)\n",
    "- [A simple game of Blackjack written with python OOP](https://github.com/ferrero-felipe/blackjack)\n",
    "\n",
    "`NOTE:` Reading code written by someone else can be a big challenge. But it is a needed hability sometimes. \n",
    "\n",
    "- [More on dunder methods](https://levelup.gitconnected.com/python-dunder-methods-ea98ceabad15)"
   ]
  },
  {
   "cell_type": "code",
   "execution_count": null,
   "metadata": {},
   "outputs": [],
   "source": []
  }
 ],
 "metadata": {
  "kernelspec": {
   "display_name": "Python 3",
   "language": "python",
   "name": "python3"
  },
  "language_info": {
   "codemirror_mode": {
    "name": "ipython",
    "version": 3
   },
   "file_extension": ".py",
   "mimetype": "text/x-python",
   "name": "python",
   "nbconvert_exporter": "python",
   "pygments_lexer": "ipython3",
   "version": "3.8.5"
  },
  "toc": {
   "base_numbering": 1,
   "nav_menu": {},
   "number_sections": true,
   "sideBar": true,
   "skip_h1_title": true,
   "title_cell": "Table of Contents",
   "title_sidebar": "Contents",
   "toc_cell": true,
   "toc_position": {},
   "toc_section_display": true,
   "toc_window_display": false
  }
 },
 "nbformat": 4,
 "nbformat_minor": 4
}
