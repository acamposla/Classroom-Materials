{
 "cells": [
  {
   "cell_type": "markdown",
   "metadata": {},
   "source": [
    "# Regular expresions (RegEx)"
   ]
  },
  {
   "cell_type": "markdown",
   "metadata": {},
   "source": [
    "- Online regex tester: https://regex101.com\n",
    "- w3schools: https://www.w3schools.com/python/python_regex.asp\n",
    "- re module documentation: https://docs.python.org/3/library/re.html"
   ]
  },
  {
   "cell_type": "markdown",
   "metadata": {},
   "source": [
    "### Sintaxis"
   ]
  },
  {
   "cell_type": "markdown",
   "metadata": {},
   "source": [
    "- **Literals** `a` \n",
    "- **Alternation** `a|b`\n",
    "- **Character sets** `[ab]`, `[^ab]`\n",
    "- **Wildcards** `.`\n",
    "- **Escape special characters** `\\` (?,*,+,^,&)\n",
    "- **Ranges** `[a-d]`, `[1-9]`\n",
    "- **Character classes** `\\w`, `\\d`, `\\s`, `\\n`, `\\W`, `\\D`, `\\S`\n",
    "- **Quantifiers** `{2}`, `{2,}`, `{2,4}`, `?`, `*`, `+`\n",
    "- **Grouping** `()`\n",
    "- **Anchors** `^`, `$`"
   ]
  },
  {
   "cell_type": "markdown",
   "metadata": {},
   "source": [
    "### Methods"
   ]
  },
  {
   "cell_type": "markdown",
   "metadata": {},
   "source": [
    "- **re.findall()**\n",
    "- **re.sub()**\n",
    "- **re.search()**\n",
    "- **re.match()**\n",
    "- **re.split()**"
   ]
  },
  {
   "cell_type": "code",
   "execution_count": null,
   "metadata": {},
   "outputs": [],
   "source": [
    "import re"
   ]
  },
  {
   "cell_type": "code",
   "execution_count": null,
   "metadata": {},
   "outputs": [],
   "source": [
    "text = \"Pepe, Pepa and Luis are 22, 34, and 56 years old, respectively?\""
   ]
  },
  {
   "cell_type": "code",
   "execution_count": null,
   "metadata": {},
   "outputs": [],
   "source": [
    "# literals\n",
    "# re.sub"
   ]
  },
  {
   "cell_type": "code",
   "execution_count": null,
   "metadata": {},
   "outputs": [],
   "source": [
    "# alternation"
   ]
  },
  {
   "cell_type": "code",
   "execution_count": null,
   "metadata": {},
   "outputs": [],
   "source": [
    "# character sets"
   ]
  },
  {
   "cell_type": "code",
   "execution_count": null,
   "metadata": {},
   "outputs": [],
   "source": [
    "# wildcards"
   ]
  },
  {
   "cell_type": "code",
   "execution_count": null,
   "metadata": {},
   "outputs": [],
   "source": [
    "# escape special characters"
   ]
  },
  {
   "cell_type": "code",
   "execution_count": null,
   "metadata": {},
   "outputs": [],
   "source": [
    "# ranges\n",
    "# re.findall"
   ]
  },
  {
   "cell_type": "code",
   "execution_count": null,
   "metadata": {},
   "outputs": [],
   "source": [
    "# character classes"
   ]
  },
  {
   "cell_type": "code",
   "execution_count": null,
   "metadata": {},
   "outputs": [],
   "source": [
    "# quantifiers"
   ]
  },
  {
   "cell_type": "code",
   "execution_count": null,
   "metadata": {},
   "outputs": [],
   "source": [
    "# grouping\n",
    "# re.search"
   ]
  },
  {
   "cell_type": "code",
   "execution_count": null,
   "metadata": {},
   "outputs": [],
   "source": [
    "# anchors"
   ]
  },
  {
   "cell_type": "code",
   "execution_count": null,
   "metadata": {},
   "outputs": [],
   "source": [
    "# re.search\n",
    "# re.match"
   ]
  },
  {
   "cell_type": "code",
   "execution_count": null,
   "metadata": {
    "scrolled": true
   },
   "outputs": [],
   "source": [
    "# re.split"
   ]
  },
  {
   "cell_type": "markdown",
   "metadata": {},
   "source": [
    "### Let's practice"
   ]
  },
  {
   "cell_type": "markdown",
   "metadata": {},
   "source": [
    "You work for a very big company and you are assigned the task of verifying information from the 200 most important clients in Europe for a meeting with the board of directors in an hour. Execute the code below to see your dataframe."
   ]
  },
  {
   "cell_type": "code",
   "execution_count": null,
   "metadata": {},
   "outputs": [],
   "source": [
    "# loading dataframe\n",
    "import pandas as pd\n",
    "a = pd.read_csv('db.csv')\n",
    "display(a)"
   ]
  },
  {
   "cell_type": "markdown",
   "metadata": {},
   "source": [
    "Oh no! It seems that one of the interns has messed up the `.csv` file, there is no backup, and you are to blame. In order to keep your job, you must find a way to restore the original data. But wait! There is no time to go through all the data manually. Good thing you know how to use `regular expressions`."
   ]
  },
  {
   "cell_type": "markdown",
   "metadata": {},
   "source": [
    "First of all, lets import the `regex` library and load our text file to a variable.\n",
    "This is the data we must retrieve back:\n",
    "- name\n",
    "- phone\n",
    "- email\n",
    "- date\n",
    "- contract_value\n",
    "- creditcard\n",
    "- country\n",
    "- postalcode\n",
    "- address"
   ]
  },
  {
   "cell_type": "code",
   "execution_count": null,
   "metadata": {},
   "outputs": [],
   "source": [
    "import re"
   ]
  },
  {
   "cell_type": "code",
   "execution_count": null,
   "metadata": {},
   "outputs": [],
   "source": [
    "with open('db.csv') as file:\n",
    "    db = file.read()\n",
    "print(db)"
   ]
  },
  {
   "cell_type": "code",
   "execution_count": null,
   "metadata": {},
   "outputs": [],
   "source": [
    "#name\n"
   ]
  },
  {
   "cell_type": "code",
   "execution_count": null,
   "metadata": {},
   "outputs": [],
   "source": [
    "#phone\n"
   ]
  },
  {
   "cell_type": "code",
   "execution_count": null,
   "metadata": {},
   "outputs": [],
   "source": [
    "#email\n"
   ]
  },
  {
   "cell_type": "code",
   "execution_count": null,
   "metadata": {},
   "outputs": [],
   "source": [
    "#date\n"
   ]
  },
  {
   "cell_type": "code",
   "execution_count": null,
   "metadata": {
    "scrolled": true
   },
   "outputs": [],
   "source": [
    "#contract_value\n"
   ]
  },
  {
   "cell_type": "code",
   "execution_count": null,
   "metadata": {},
   "outputs": [],
   "source": [
    "#creditcard\n"
   ]
  },
  {
   "cell_type": "code",
   "execution_count": null,
   "metadata": {},
   "outputs": [],
   "source": [
    "#country\n"
   ]
  },
  {
   "cell_type": "code",
   "execution_count": null,
   "metadata": {},
   "outputs": [],
   "source": [
    "#postal code\n"
   ]
  },
  {
   "cell_type": "markdown",
   "metadata": {},
   "source": [
    "### Another case cleaning a csv"
   ]
  },
  {
   "cell_type": "code",
   "execution_count": null,
   "metadata": {},
   "outputs": [],
   "source": [
    "import re\n",
    "import pandas as pd"
   ]
  },
  {
   "cell_type": "code",
   "execution_count": null,
   "metadata": {},
   "outputs": [],
   "source": [
    "raw_table =  \"\"\"A Coruña 1973 413 1562 303 18.93 3.69\n",
    "Álava 2118 360 1670 259 18.31 4.49\n",
    "Albacete 1348 279 1051 171 18.34 4.15\n",
    "Alicante 1328 212 1063 177 18.01 4.59\n",
    "Almería 1242 323 974 245 18.80 3.60\n",
    "Asturias 1729 285 1386 215 18.68 3.53\n",
    "Ávila 1123 222 939 222 12.50 6.21\n",
    "Badajoz 1276 252 998 193 19.74 4.63\n",
    "Balears (Illes) 1963 239 1581 240 17.31 9.04\n",
    "Barcelona 2709 632 2272 497 14.11 6.00\n",
    "Burgos 1653 413 1311 318 18.52 3.30\n",
    "Cáceres 1351 286 1046 247 21.41 6.81\n",
    "Cádiz 1750 619 1409 478 17.39 4.27\n",
    "Cantabria 2014 411 1628 321 17.16 3.77\n",
    "Castellón 1174 309 889 197 20.46 5.13\n",
    "Ceuta 2258 242 1927 260 14.85 5.07\n",
    "Ciudad Real 1199 361 967 310 15.91 4.43\n",
    "Córdoba 1450 296 1169 202 16.63 4.54\n",
    "Cuenca 1267 447 1014 275 16.88 7.13\n",
    "Girona 1935 328 1502 228 20.67 5.68\n",
    "Granada 1592 344 1235 203 18.99 5.51\n",
    "Guadalajara 1368 387 1125 324 15.81 4.82\n",
    "Guipúzcoa 3855 861 3083 526 16.89 4.46\n",
    "Huelva 1194 220 964 178 17.03 4.91\n",
    "Huesca 1486 259 1136 122 22.26 6.10\n",
    "Jaén 1357 390 1026 286 20.31 3.88\n",
    "La Rioja 1415 346 1086 269 19.96 5.18\n",
    "Las Palmas 1643 277 1362 217 14.27 4.53\n",
    "León 1480 320 1100 218 22.78 4.67\n",
    "Lleida 1193 347 907 274 21.65 3.75\n",
    "Lugo 1554 325 1188 239 20.53 3.37\n",
    "Madrid 2605 542 2316 459 9.88 5.22\n",
    "Málaga 1714 205 1404 169 16.07 5.23\n",
    "Melilla 1776 127 1573 134 11.57 8.57\n",
    "Murcia 1338 421 969 254 23.07 5.33\n",
    "Navarra 1971 455 1587 302 16.22 4.98\n",
    "Ourense 1725 364 1203 182 25.44 5.06\n",
    "Palencia 1481 259 1108 182 22.42 4.67\n",
    "Pontevedra 1805 191 1398 111 19.16 5.31\n",
    "Salamanca 1796 354 1395 237 20.51 4.89\n",
    "Santa Cruz de Tenerife 1591 348 1338 269 13.52 3.76\n",
    "Segovia 1568 358 1275 255 15.53 4.13\n",
    "Sevilla 1799 395 1498 289 14.43 3.94\n",
    "Soria 1441 389 1143 333 19.25 4.03\n",
    "Tarragona 1570 401 1246 352 17.80 5.74\n",
    "Teruel 1414 323 1166 331 19.99 12.01\n",
    "Toledo 1273 511 1057 486 16.39 4.21\n",
    "València 1508 448 1175 289 18.22 5.81\n",
    "Valladolid 1505 368 1194 312 18.55 3.77\n",
    "Vizcaya 2916 485 2457 440 14.96 3.19\n",
    "Zamora 1355 278 1029 190 19.64 4.76\n",
    "Zaragoza 1637 452 1305 373 17.99 4.27\"\"\""
   ]
  },
  {
   "cell_type": "markdown",
   "metadata": {},
   "source": [
    "Taken from [here](https://cris.maastrichtuniversity.nl/ws/portalfiles/portal/53635161/RM20029.pdf)"
   ]
  },
  {
   "cell_type": "code",
   "execution_count": null,
   "metadata": {},
   "outputs": [],
   "source": [
    "# first_semicol = re.sub(r\"(\\D)\\s(\\d)\", r\"\\1;\\2\", raw_table)\n",
    "first_semicol = re.sub(r\"(\\D+)\\s\", r\"\\1;\", raw_table)"
   ]
  },
  {
   "cell_type": "code",
   "execution_count": null,
   "metadata": {},
   "outputs": [],
   "source": [
    "no_space_table = re.sub(r\"(.)\\s(\\d)\", r\"\\1;\\2\", raw_table)"
   ]
  },
  {
   "cell_type": "code",
   "execution_count": null,
   "metadata": {},
   "outputs": [],
   "source": [
    "df = pd.DataFrame([x.split(';') for x in no_space_table.split('\\n')])"
   ]
  },
  {
   "cell_type": "code",
   "execution_count": null,
   "metadata": {},
   "outputs": [],
   "source": [
    "df.columns = ['provincia', 'a', 'b', 'c', 'd', 'e', 'f']"
   ]
  },
  {
   "cell_type": "code",
   "execution_count": null,
   "metadata": {},
   "outputs": [],
   "source": [
    "df"
   ]
  },
  {
   "cell_type": "code",
   "execution_count": null,
   "metadata": {},
   "outputs": [],
   "source": [
    "prov = df['provincia']"
   ]
  },
  {
   "cell_type": "code",
   "execution_count": null,
   "metadata": {},
   "outputs": [],
   "source": [
    "prov.str.extract?"
   ]
  },
  {
   "cell_type": "code",
   "execution_count": null,
   "metadata": {},
   "outputs": [],
   "source": [
    "df = pd.read_csv('data/test_titanic.csv')"
   ]
  },
  {
   "cell_type": "code",
   "execution_count": null,
   "metadata": {},
   "outputs": [],
   "source": [
    "# df.Name.str.extract(r'')\n",
    "# df.Name.str.extract(r'(),()')\n",
    "# df.Name.str.extract(r'(?P<surname>),(P<name>)')\n",
    "# df.Name.str.extract(r'(?P<surname>.+),(?P<name>.+)')\n",
    "# df.Name.str.extract(r'(?P<surname>.+),(?P<name>.+)')[['name', 'surname']]\n",
    "df_names = df.Name.str.extract(r'(?P<surname>.+), (?P<title>Mr\\.|Mrs\\.|Ms\\.|Master\\.)*(?P<name>.+)')#[['title', 'name', 'surname']]\n"
   ]
  },
  {
   "cell_type": "code",
   "execution_count": null,
   "metadata": {},
   "outputs": [],
   "source": [
    "df_names[df_names.name.str.match(r'.*\\..*')]"
   ]
  },
  {
   "cell_type": "code",
   "execution_count": null,
   "metadata": {},
   "outputs": [],
   "source": [
    "df_names = df.Name.str.extract(r'(?P<surname>.+), (?P<title>Mr\\.|Mrs\\.|Ms\\.|Master\\.|Miss\\.)*(?P<name>.+)')[['title', 'name', 'surname']]\n"
   ]
  },
  {
   "cell_type": "code",
   "execution_count": null,
   "metadata": {},
   "outputs": [],
   "source": [
    "df_names[df_names.name.str.match(r'.*\\..*')]"
   ]
  },
  {
   "cell_type": "code",
   "execution_count": null,
   "metadata": {},
   "outputs": [],
   "source": [
    "df_names = df.Name.str.extract(r'(?P<surname>.+), (?P<title>.+\\.)*(?P<name>.+)')[['title', 'name', 'surname']]"
   ]
  },
  {
   "cell_type": "code",
   "execution_count": null,
   "metadata": {},
   "outputs": [],
   "source": [
    "df_names[df_names.name.str.match(r'.*\\..*')]"
   ]
  },
  {
   "cell_type": "code",
   "execution_count": null,
   "metadata": {},
   "outputs": [],
   "source": [
    "df_names"
   ]
  },
  {
   "cell_type": "code",
   "execution_count": null,
   "metadata": {},
   "outputs": [],
   "source": [
    "df_names.groupby('surname').size().where(lambda x: x>1).dropna()"
   ]
  },
  {
   "cell_type": "markdown",
   "metadata": {},
   "source": [
    "What's the difference between a single-series df and a series"
   ]
  },
  {
   "cell_type": "code",
   "execution_count": null,
   "metadata": {},
   "outputs": [],
   "source": [
    "df_names['n_names'] = df_names.groupby('surname').transform('count')"
   ]
  },
  {
   "cell_type": "code",
   "execution_count": null,
   "metadata": {
    "scrolled": true
   },
   "outputs": [],
   "source": [
    "df_names"
   ]
  },
  {
   "cell_type": "markdown",
   "metadata": {},
   "source": [
    "BTW. Who was [Dona. Fermina Oliva y Ocana](https://es.wikipedia.org/wiki/Fermina_Oliva_y_Oca%C3%B1a)?"
   ]
  },
  {
   "cell_type": "code",
   "execution_count": null,
   "metadata": {},
   "outputs": [],
   "source": [
    "df_names[df_names.n_names>1].sort_values('surname')"
   ]
  },
  {
   "cell_type": "code",
   "execution_count": null,
   "metadata": {},
   "outputs": [],
   "source": []
  }
 ],
 "metadata": {
  "kernelspec": {
   "display_name": "Python 3",
   "language": "python",
   "name": "python3"
  },
  "language_info": {
   "codemirror_mode": {
    "name": "ipython",
    "version": 3
   },
   "file_extension": ".py",
   "mimetype": "text/x-python",
   "name": "python",
   "nbconvert_exporter": "python",
   "pygments_lexer": "ipython3",
   "version": "3.9.0"
  }
 },
 "nbformat": 4,
 "nbformat_minor": 2
}
