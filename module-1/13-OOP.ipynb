{
 "cells": [
  {
   "cell_type": "markdown",
   "metadata": {},
   "source": [
    "# Object Oriented Programming"
   ]
  },
  {
   "cell_type": "markdown",
   "metadata": {},
   "source": [
    "## Programming Paradigms\n",
    "- Declarative (SQL)\n",
    "> What matters is the WHAT, not the HOW\n",
    "\n",
    "- Imperative (Python, Java, C, etc...)\n",
    "> We give the computer instructions, orders, tell it HOW to do something \n",
    "\n",
    "- Functional Programming\n",
    "> Based on reusable blocks of code called functions that operate on data.\n",
    ">\n",
    "> Operations and Data are separate\n",
    "\n",
    "- Object Oriented Programming\n",
    "> Based on objects of different data types with their own methods.\n",
    ">\n",
    "> Operations and Data are encapsulated on the same object."
   ]
  },
  {
   "cell_type": "markdown",
   "metadata": {},
   "source": [
    "### Smal recap - Functions\n",
    "- Reusable block of code\n",
    "- May or may not have parameters\n",
    "- Returns something\n",
    "- \"Executes an operation\"\n",
    "- Is defined with `def` or `lambda`\n",
    "- is called by it's name and parenthesis"
   ]
  },
  {
   "cell_type": "code",
   "execution_count": 14,
   "metadata": {},
   "outputs": [
    {
     "data": {
      "text/plain": [
       "11"
      ]
     },
     "execution_count": 14,
     "metadata": {},
     "output_type": "execute_result"
    }
   ],
   "source": [
    "def add(a,b): # Function Signature\n",
    "    # a and b are the parameters of the add function\n",
    "    return a+b\n",
    "\n",
    "add(5,6) # Call to function\n",
    "# 5 and 6 are the arguments of the function call"
   ]
  },
  {
   "cell_type": "code",
   "execution_count": 15,
   "metadata": {},
   "outputs": [
    {
     "data": {
      "text/plain": [
       "20"
      ]
     },
     "execution_count": 15,
     "metadata": {},
     "output_type": "execute_result"
    }
   ],
   "source": [
    "lst = [2,3,4,5,6]\n",
    "# Call a function with a list object as an argument\n",
    "sum(lst)"
   ]
  },
  {
   "cell_type": "code",
   "execution_count": 19,
   "metadata": {},
   "outputs": [
    {
     "data": {
      "text/plain": [
       "['I', 'r', 'o', 'n', 'h', 'a', 'c', 'k']"
      ]
     },
     "execution_count": 19,
     "metadata": {},
     "output_type": "execute_result"
    }
   ],
   "source": [
    "text = \"I:r:o:n:h:a:c:k\"\n",
    "# Call on a method of `text` with \":\" as argument\n",
    "# A method is a type of function\n",
    "text.split(\":\")"
   ]
  },
  {
   "cell_type": "code",
   "execution_count": 20,
   "metadata": {},
   "outputs": [
    {
     "data": {
      "text/plain": [
       "str"
      ]
     },
     "execution_count": 20,
     "metadata": {},
     "output_type": "execute_result"
    }
   ],
   "source": [
    "type(text)"
   ]
  },
  {
   "cell_type": "markdown",
   "metadata": {},
   "source": [
    "## A method comes pre defined inside an object"
   ]
  },
  {
   "cell_type": "code",
   "execution_count": 28,
   "metadata": {},
   "outputs": [
    {
     "name": "stdout",
     "output_type": "stream",
     "text": [
      "['capitalize', 'casefold', 'center', 'count', 'encode', 'endswith', 'expandtabs', 'find', 'format', 'format_map', 'index', 'isalnum', 'isalpha', 'isascii', 'isdecimal', 'isdigit', 'isidentifier', 'islower', 'isnumeric', 'isprintable', 'isspace', 'istitle', 'isupper', 'join', 'ljust', 'lower', 'lstrip', 'maketrans', 'partition', 'replace', 'rfind', 'rindex', 'rjust', 'rpartition', 'rsplit', 'rstrip', 'split', 'splitlines', 'startswith', 'strip', 'swapcase', 'title', 'translate', 'upper', 'zfill']\n"
     ]
    }
   ],
   "source": [
    "print([att for att in dir(str) if not att.startswith(\"_\")])"
   ]
  },
  {
   "cell_type": "code",
   "execution_count": 30,
   "metadata": {},
   "outputs": [
    {
     "name": "stdout",
     "output_type": "stream",
     "text": [
      "['as_integer_ratio', 'bit_length', 'conjugate', 'denominator', 'from_bytes', 'imag', 'numerator', 'real', 'to_bytes']\n"
     ]
    }
   ],
   "source": [
    "print([att for att in dir(int) if not att.startswith(\"_\")])"
   ]
  },
  {
   "cell_type": "markdown",
   "metadata": {},
   "source": [
    "**str, int, float, list, bool, tuple, dict, set**"
   ]
  },
  {
   "cell_type": "markdown",
   "metadata": {},
   "source": [
    "## A `type` is also called a `class`.\n",
    "\n",
    "A `class` is a blueprint, a type of entity.\n",
    "\n",
    "A particular entity is an `object`"
   ]
  },
  {
   "cell_type": "markdown",
   "metadata": {},
   "source": [
    "**\"hola\" is an OBJECT of the CLASS str**"
   ]
  },
  {
   "cell_type": "code",
   "execution_count": 31,
   "metadata": {},
   "outputs": [],
   "source": [
    "# A mobile Phone\n",
    "mobile = {\n",
    "    \"model\":\"iPhone 12\",\n",
    "    \"manufacturer\":\"Apple\",\n",
    "    \"dimension\":[20,12,2],\n",
    "    \"ram\":8,\n",
    "    \"storage\":512,\n",
    "    \"camera\":{\n",
    "        \"frontal\":{\"resolution\":\"15MP\"},\n",
    "        \"back\":[{\"type\":\"zoom\", \"resolution\":\"25MP\"},\n",
    "                {\"type\":\"macro\", \"resolution\":\"25MP\"}]\n",
    "    },\n",
    "    \"battery\":{\"typo\":\"Lithium\", \"maxCharge\":4500, \"charge\":0.75},\n",
    "    \"apps\":[\n",
    "        {\"name\":\"Whatsapp\",\"version\":\"4.0.8\"},\n",
    "        {\"name\":\"Zoom\",\"version\":\"1.0.1\"}\n",
    "    ]\n",
    "}"
   ]
  },
  {
   "cell_type": "code",
   "execution_count": 32,
   "metadata": {},
   "outputs": [
    {
     "data": {
      "text/plain": [
       "0.75"
      ]
     },
     "execution_count": 32,
     "metadata": {},
     "output_type": "execute_result"
    }
   ],
   "source": [
    "mobile[\"battery\"][\"charge\"]"
   ]
  },
  {
   "cell_type": "code",
   "execution_count": 33,
   "metadata": {},
   "outputs": [],
   "source": [
    "def charge_phone(phone):\n",
    "    phone[\"battery\"][\"charge\"] = 1\n",
    "    return phone"
   ]
  },
  {
   "cell_type": "markdown",
   "metadata": {},
   "source": [
    "## Defining a class\n",
    "We use the keyword `class`\n",
    "\n",
    "`NOTE:` Classes are named with uppercase first letter, functions and objects with lowercase.\n",
    "\n",
    "`RULE:` All methods must receive `self` as the first parameter, but we do not have to pass it as an argument"
   ]
  },
  {
   "cell_type": "code",
   "execution_count": 41,
   "metadata": {},
   "outputs": [],
   "source": [
    "class Mobile:\n",
    "    # Classes have methods\n",
    "    # Methods are functions defined inside the class definition\n",
    "    def method(self):\n",
    "        pass"
   ]
  },
  {
   "cell_type": "markdown",
   "metadata": {},
   "source": [
    "### The constructor\n",
    "There is a special method called\n",
    "\n",
    "**\\_\\_init\\_\\_**\n",
    "\n",
    "This method creates an object of it's class. \n",
    "\n",
    "It is called with the class name as a function.\n",
    "\n",
    "This is where a lot of the `attributes are defined`.\n",
    "\n",
    "`Attributes` are the `data` of the object.\n",
    "\n",
    "Attribute names must begin with `self.`."
   ]
  },
  {
   "cell_type": "code",
   "execution_count": 65,
   "metadata": {},
   "outputs": [],
   "source": [
    "class Mobile:\n",
    "    # Constructor\n",
    "    def __init__(self, model_name, brand):\n",
    "        self.model = model_name\n",
    "        self.manufacturer = brand\n",
    "        self.battery = {\"type\":\"Lithium\", \"maxCharge\":4500, \"charge\":1}\n",
    "        self.apps = []"
   ]
  },
  {
   "cell_type": "markdown",
   "metadata": {},
   "source": [
    "### Creating an object"
   ]
  },
  {
   "cell_type": "code",
   "execution_count": 66,
   "metadata": {},
   "outputs": [
    {
     "ename": "TypeError",
     "evalue": "__init__() missing 2 required positional arguments: 'model_name' and 'brand'",
     "output_type": "error",
     "traceback": [
      "\u001b[0;31m---------------------------------------------------------------------------\u001b[0m",
      "\u001b[0;31mTypeError\u001b[0m                                 Traceback (most recent call last)",
      "\u001b[0;32m<ipython-input-66-deee8195b095>\u001b[0m in \u001b[0;36m<module>\u001b[0;34m\u001b[0m\n\u001b[0;32m----> 1\u001b[0;31m \u001b[0miphone\u001b[0m \u001b[0;34m=\u001b[0m \u001b[0mMobile\u001b[0m\u001b[0;34m(\u001b[0m\u001b[0;34m)\u001b[0m\u001b[0;34m\u001b[0m\u001b[0;34m\u001b[0m\u001b[0m\n\u001b[0m",
      "\u001b[0;31mTypeError\u001b[0m: __init__() missing 2 required positional arguments: 'model_name' and 'brand'"
     ]
    }
   ],
   "source": [
    "# You must always create an object with the same number of arguments\n",
    "# as parameters on the definition of __init__ (self doesn't count)\n",
    "iphone = Mobile()"
   ]
  },
  {
   "cell_type": "code",
   "execution_count": 67,
   "metadata": {},
   "outputs": [],
   "source": [
    "iphone = Mobile(\"Iphone 8\", \"Apple\")"
   ]
  },
  {
   "cell_type": "code",
   "execution_count": 68,
   "metadata": {},
   "outputs": [
    {
     "data": {
      "text/plain": [
       "__main__.Mobile"
      ]
     },
     "execution_count": 68,
     "metadata": {},
     "output_type": "execute_result"
    }
   ],
   "source": [
    "type(iphone)"
   ]
  },
  {
   "cell_type": "code",
   "execution_count": 70,
   "metadata": {},
   "outputs": [
    {
     "name": "stdout",
     "output_type": "stream",
     "text": [
      "['apps', 'battery', 'manufacturer', 'model']\n"
     ]
    }
   ],
   "source": [
    "print([att for att in dir(iphone) if not att.startswith(\"_\")])"
   ]
  },
  {
   "cell_type": "markdown",
   "metadata": {},
   "source": [
    "### Access attributes"
   ]
  },
  {
   "cell_type": "code",
   "execution_count": 53,
   "metadata": {},
   "outputs": [
    {
     "data": {
      "text/plain": [
       "'Iphone 8'"
      ]
     },
     "execution_count": 53,
     "metadata": {},
     "output_type": "execute_result"
    }
   ],
   "source": [
    "iphone.model"
   ]
  },
  {
   "cell_type": "code",
   "execution_count": 55,
   "metadata": {},
   "outputs": [
    {
     "data": {
      "text/plain": [
       "'Apple'"
      ]
     },
     "execution_count": 55,
     "metadata": {},
     "output_type": "execute_result"
    }
   ],
   "source": [
    "iphone.manufacturer"
   ]
  },
  {
   "cell_type": "code",
   "execution_count": 56,
   "metadata": {},
   "outputs": [
    {
     "data": {
      "text/plain": [
       "[]"
      ]
     },
     "execution_count": 56,
     "metadata": {},
     "output_type": "execute_result"
    }
   ],
   "source": [
    "iphone.apps"
   ]
  },
  {
   "cell_type": "code",
   "execution_count": 57,
   "metadata": {},
   "outputs": [
    {
     "data": {
      "text/plain": [
       "{'type': 'Lithium', 'maxCharge': 4500, 'charge': 1}"
      ]
     },
     "execution_count": 57,
     "metadata": {},
     "output_type": "execute_result"
    }
   ],
   "source": [
    "iphone.battery"
   ]
  },
  {
   "cell_type": "code",
   "execution_count": 134,
   "metadata": {},
   "outputs": [],
   "source": [
    "class Mobile:\n",
    "    def __init__(self, model_name, brand):\n",
    "        self.model = model_name\n",
    "        self.manufacturer = brand\n",
    "        self.battery = {\"type\":\"Lithium\", \"maxCharge\":4500, \"charge\":1}\n",
    "        self.apps = []\n",
    "    \n",
    "    # Methods can change attributes\n",
    "    def install_app(self, app):\n",
    "        self.apps.append(app)\n",
    "        self.battery[\"charge\"] -= .1\n",
    "        print(f\"{app['name']} installed successfully!\")\n",
    "        \n",
    "    # Methods can create new attributes\n",
    "    def assign_number(self,number):\n",
    "        self.number = number\n",
    "        print(\"You can call me now.\")\n",
    "    \n",
    "    # Or they can simply do something else\n",
    "    # Receiving or not \"external\" arguments\n",
    "    def easter_egg(self):\n",
    "        print(\"LOL\")"
   ]
  },
  {
   "cell_type": "code",
   "execution_count": 135,
   "metadata": {},
   "outputs": [],
   "source": [
    "galaxy = Mobile(\"Galaxy S20\", \"Samsung\") "
   ]
  },
  {
   "cell_type": "code",
   "execution_count": 136,
   "metadata": {},
   "outputs": [
    {
     "data": {
      "text/plain": [
       "'Galaxy S20'"
      ]
     },
     "execution_count": 136,
     "metadata": {},
     "output_type": "execute_result"
    }
   ],
   "source": [
    "galaxy.model"
   ]
  },
  {
   "cell_type": "code",
   "execution_count": 137,
   "metadata": {},
   "outputs": [
    {
     "data": {
      "text/plain": [
       "[]"
      ]
     },
     "execution_count": 137,
     "metadata": {},
     "output_type": "execute_result"
    }
   ],
   "source": [
    "galaxy.apps"
   ]
  },
  {
   "cell_type": "code",
   "execution_count": 138,
   "metadata": {},
   "outputs": [
    {
     "name": "stdout",
     "output_type": "stream",
     "text": [
      "['apps', 'assign_number', 'battery', 'easter_egg', 'install_app', 'manufacturer', 'model']\n"
     ]
    }
   ],
   "source": [
    "print([att for att in dir(galaxy) if not att.startswith(\"_\")])"
   ]
  },
  {
   "cell_type": "code",
   "execution_count": 139,
   "metadata": {},
   "outputs": [
    {
     "ename": "TypeError",
     "evalue": "install_app() missing 1 required positional argument: 'app'",
     "output_type": "error",
     "traceback": [
      "\u001b[0;31m---------------------------------------------------------------------------\u001b[0m",
      "\u001b[0;31mTypeError\u001b[0m                                 Traceback (most recent call last)",
      "\u001b[0;32m<ipython-input-139-ea7846dd6473>\u001b[0m in \u001b[0;36m<module>\u001b[0;34m\u001b[0m\n\u001b[0;32m----> 1\u001b[0;31m \u001b[0mgalaxy\u001b[0m\u001b[0;34m.\u001b[0m\u001b[0minstall_app\u001b[0m\u001b[0;34m(\u001b[0m\u001b[0;34m)\u001b[0m\u001b[0;34m\u001b[0m\u001b[0;34m\u001b[0m\u001b[0m\n\u001b[0m",
      "\u001b[0;31mTypeError\u001b[0m: install_app() missing 1 required positional argument: 'app'"
     ]
    }
   ],
   "source": [
    "galaxy.install_app()"
   ]
  },
  {
   "cell_type": "code",
   "execution_count": 140,
   "metadata": {
    "scrolled": true
   },
   "outputs": [
    {
     "name": "stdout",
     "output_type": "stream",
     "text": [
      "Whatsapp installed successfully!\n"
     ]
    }
   ],
   "source": [
    "whatsapp = {\"name\":\"Whatsapp\",\"version\":\"3.1.1\"}\n",
    "galaxy.install_app(whatsapp)"
   ]
  },
  {
   "cell_type": "code",
   "execution_count": 141,
   "metadata": {},
   "outputs": [
    {
     "data": {
      "text/plain": [
       "[{'name': 'Whatsapp', 'version': '3.1.1'}]"
      ]
     },
     "execution_count": 141,
     "metadata": {},
     "output_type": "execute_result"
    }
   ],
   "source": [
    "galaxy.apps"
   ]
  },
  {
   "cell_type": "code",
   "execution_count": 142,
   "metadata": {},
   "outputs": [
    {
     "data": {
      "text/plain": [
       "{'type': 'Lithium', 'maxCharge': 4500, 'charge': 0.9}"
      ]
     },
     "execution_count": 142,
     "metadata": {},
     "output_type": "execute_result"
    }
   ],
   "source": [
    "galaxy.battery"
   ]
  },
  {
   "cell_type": "code",
   "execution_count": 143,
   "metadata": {},
   "outputs": [
    {
     "ename": "AttributeError",
     "evalue": "'Mobile' object has no attribute 'number'",
     "output_type": "error",
     "traceback": [
      "\u001b[0;31m---------------------------------------------------------------------------\u001b[0m",
      "\u001b[0;31mAttributeError\u001b[0m                            Traceback (most recent call last)",
      "\u001b[0;32m<ipython-input-143-c71640013d53>\u001b[0m in \u001b[0;36m<module>\u001b[0;34m\u001b[0m\n\u001b[0;32m----> 1\u001b[0;31m \u001b[0mgalaxy\u001b[0m\u001b[0;34m.\u001b[0m\u001b[0mnumber\u001b[0m\u001b[0;34m\u001b[0m\u001b[0;34m\u001b[0m\u001b[0m\n\u001b[0m",
      "\u001b[0;31mAttributeError\u001b[0m: 'Mobile' object has no attribute 'number'"
     ]
    }
   ],
   "source": [
    "galaxy.number"
   ]
  },
  {
   "cell_type": "code",
   "execution_count": 144,
   "metadata": {},
   "outputs": [
    {
     "name": "stdout",
     "output_type": "stream",
     "text": [
      "You can call me now.\n"
     ]
    }
   ],
   "source": [
    "galaxy.assign_number(\"6785554433\")"
   ]
  },
  {
   "cell_type": "code",
   "execution_count": 145,
   "metadata": {},
   "outputs": [
    {
     "name": "stdout",
     "output_type": "stream",
     "text": [
      "['apps', 'assign_number', 'battery', 'easter_egg', 'install_app', 'manufacturer', 'model', 'number']\n"
     ]
    }
   ],
   "source": [
    "print([att for att in dir(galaxy) if not att.startswith(\"_\")])"
   ]
  },
  {
   "cell_type": "code",
   "execution_count": 146,
   "metadata": {},
   "outputs": [
    {
     "data": {
      "text/plain": [
       "'6785554433'"
      ]
     },
     "execution_count": 146,
     "metadata": {},
     "output_type": "execute_result"
    }
   ],
   "source": [
    "galaxy.number"
   ]
  },
  {
   "cell_type": "markdown",
   "metadata": {},
   "source": [
    "## To be continued...."
   ]
  },
  {
   "cell_type": "code",
   "execution_count": 133,
   "metadata": {},
   "outputs": [],
   "source": [
    "class PrettyText:\n",
    "    def __init__(self,text):\n",
    "        self.text=text\n",
    "    # dunder methods\n",
    "    def __str__(self):\n",
    "        return f\"~~{'·'.join([l for l in self.text])}~~\""
   ]
  },
  {
   "cell_type": "code",
   "execution_count": 124,
   "metadata": {},
   "outputs": [],
   "source": [
    "lol = PrettyText(\"Datamad0221\")"
   ]
  },
  {
   "cell_type": "code",
   "execution_count": 125,
   "metadata": {},
   "outputs": [
    {
     "data": {
      "text/plain": [
       "<__main__.PrettyText at 0x11d021a90>"
      ]
     },
     "execution_count": 125,
     "metadata": {},
     "output_type": "execute_result"
    }
   ],
   "source": [
    "lol"
   ]
  },
  {
   "cell_type": "code",
   "execution_count": 126,
   "metadata": {},
   "outputs": [
    {
     "name": "stdout",
     "output_type": "stream",
     "text": [
      "~~D·a·t·a·m·a·d·0·2·2·1~~\n"
     ]
    }
   ],
   "source": [
    "print(lol)"
   ]
  },
  {
   "cell_type": "code",
   "execution_count": null,
   "metadata": {},
   "outputs": [],
   "source": []
  }
 ],
 "metadata": {
  "kernelspec": {
   "display_name": "Python 3",
   "language": "python",
   "name": "python3"
  },
  "language_info": {
   "codemirror_mode": {
    "name": "ipython",
    "version": 3
   },
   "file_extension": ".py",
   "mimetype": "text/x-python",
   "name": "python",
   "nbconvert_exporter": "python",
   "pygments_lexer": "ipython3",
   "version": "3.8.5"
  },
  "toc": {
   "base_numbering": 1,
   "nav_menu": {},
   "number_sections": true,
   "sideBar": true,
   "skip_h1_title": false,
   "title_cell": "Table of Contents",
   "title_sidebar": "Contents",
   "toc_cell": false,
   "toc_position": {},
   "toc_section_display": true,
   "toc_window_display": false
  }
 },
 "nbformat": 4,
 "nbformat_minor": 4
}
