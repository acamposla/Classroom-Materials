{
 "cells": [
  {
   "cell_type": "markdown",
   "metadata": {},
   "source": [
    "# Visualization\n",
    "\n",
    "A picture is worth a thousand words.\n",
    "\n",
    "## Recap"
   ]
  },
  {
   "cell_type": "code",
   "execution_count": 1,
   "metadata": {},
   "outputs": [],
   "source": [
    "import numpy as np\n",
    "import matplotlib.pyplot as plt\n",
    "import seaborn as sns\n",
    "import pandas as pd"
   ]
  },
  {
   "cell_type": "code",
   "execution_count": 2,
   "metadata": {},
   "outputs": [],
   "source": [
    "penguins = sns.load_dataset('penguins')"
   ]
  },
  {
   "cell_type": "markdown",
   "metadata": {},
   "source": [
    "__Ex__: Count how many penguins are per island."
   ]
  },
  {
   "cell_type": "markdown",
   "metadata": {},
   "source": [
    "__Ex__: Count how many penguins are of each species, and separate them by sex."
   ]
  },
  {
   "cell_type": "markdown",
   "metadata": {},
   "source": [
    "__Ex__: Compute a histogram of the penguins' bodymass "
   ]
  },
  {
   "cell_type": "markdown",
   "metadata": {},
   "source": [
    "__Ex__: Plot a histogram of the penguins' body massses separating different islands."
   ]
  },
  {
   "cell_type": "markdown",
   "metadata": {},
   "source": [
    "__Ex__: Compute a scatter plot of the body mass against the flipper lenght, separating by species."
   ]
  },
  {
   "cell_type": "markdown",
   "metadata": {},
   "source": [
    "__Ex__: Do you know a plot where you join scatter plots and histogram plots?"
   ]
  },
  {
   "cell_type": "markdown",
   "metadata": {},
   "source": [
    "__Ex__: Plot a box plot where the penguins' species are on the y-axis and the bill_depth is on the x-axis."
   ]
  },
  {
   "cell_type": "markdown",
   "metadata": {},
   "source": [
    "## Object hierarchy\n",
    "\n",
    "One important big-picture matplotlib concept is its object hierarchy.\n",
    "\n",
    "A `Figure` object is the outermost container for a matplotlib graphic, which can contain multiple Axes objects. **BUT**: Axes = Plot.\n",
    "\n",
    "You can think of the `Figure` object as a box-like container holding one or more Axes=Plot. Below the Axes, in the hierarchy, are smaller objects such as individual lines, legends, and text boxes. Almost every “element” of a chart is its own manipulable Python object, all the way down to the ticks and labels."
   ]
  },
  {
   "cell_type": "markdown",
   "metadata": {},
   "source": [
    "![Matplotlib hierarchy](../data/fig_map.webp)"
   ]
  },
  {
   "cell_type": "markdown",
   "metadata": {},
   "source": [
    "## Subplots by hand"
   ]
  },
  {
   "cell_type": "markdown",
   "metadata": {},
   "source": [
    "Wow! Nice! But, can I be lazy?\n",
    "\n",
    "## The whole grid in one go!"
   ]
  },
  {
   "cell_type": "markdown",
   "metadata": {},
   "source": [
    "## Understanding `plt.subplots()`\n",
    "\n",
    "The prescribed way to create a Figure with a single Axes under the OO approach is (not too intuitively) with plt.subplots(). This is really the only time that the OO approach uses pyplot, to create a Figure and Axes:"
   ]
  },
  {
   "cell_type": "markdown",
   "metadata": {},
   "source": [
    "## Practical example"
   ]
  },
  {
   "cell_type": "code",
   "execution_count": null,
   "metadata": {},
   "outputs": [],
   "source": [
    "# Data\n",
    "\n",
    "# FILL THE _____ WITH THE ANSWER\n",
    "\n",
    "# array of values from 0 to 49\n",
    "años = ______ + 1950\n",
    "# array of random integers from 0 to 10, of size 50\n",
    "deuda = _________ + años - 1950"
   ]
  },
  {
   "cell_type": "code",
   "execution_count": null,
   "metadata": {},
   "outputs": [],
   "source": [
    "# Data\n",
    "\n",
    "# FILL THE _____ WITH THE ANSWER\n",
    "\n",
    "# An array of random integers from 1 to 11, of size 50\n",
    "x = _____\n",
    "\n",
    "# An array of random integers from 1 to 5, of the same size as x\n",
    "y = _____ + x\n",
    "\n",
    "# This is how we join both data\n",
    "data = np.column_stack((x, y))"
   ]
  },
  {
   "cell_type": "markdown",
   "metadata": {},
   "source": [
    "## More complex figures"
   ]
  },
  {
   "cell_type": "markdown",
   "metadata": {},
   "source": [
    "First, and __Ex__:"
   ]
  },
  {
   "cell_type": "code",
   "execution_count": null,
   "metadata": {},
   "outputs": [],
   "source": [
    "# Data\n",
    "\n",
    "# FILL THE _____ WITH THE ANSWER\n",
    "\n",
    "# Array of random numbers between 0 and 1, of size 10\n",
    "x = _____\n",
    "\n",
    "# Array of random numbers between 0 and 1, of size 10\n",
    "y = _____\n",
    "\n",
    "# The square root of x squared plus y squared\n",
    "z = _____"
   ]
  },
  {
   "cell_type": "markdown",
   "metadata": {},
   "source": [
    "Now, we want a figure with 2 rows and 3 columns."
   ]
  },
  {
   "cell_type": "code",
   "execution_count": 102,
   "metadata": {},
   "outputs": [],
   "source": [
    "# Data\n",
    "houses = np.loadtxt('../data/cal_housing.data', delimiter=',')\n",
    "y = houses[:, -1]\n",
    "pop, age = houses[:, [4,7]].T"
   ]
  },
  {
   "cell_type": "code",
   "execution_count": 125,
   "metadata": {},
   "outputs": [],
   "source": [
    "# First, we create this:\n",
    "#\n",
    "##############################\n",
    "#             #              #\n",
    "#             #              #\n",
    "##############################\n",
    "#             #              #\n",
    "#             #              #\n",
    "##############################\n",
    "#             #              #\n",
    "#             #              #\n",
    "##############################\n",
    "\n",
    "\n",
    "# To later transform it in:\n",
    "#\n",
    "##############################\n",
    "#             #              #\n",
    "#             #              #\n",
    "#             #              #\n",
    "#             #              #\n",
    "##############################\n",
    "#             #              #\n",
    "#             #              #\n",
    "##############################"
   ]
  },
  {
   "cell_type": "markdown",
   "metadata": {},
   "source": [
    "## Even more complicated arrangements"
   ]
  },
  {
   "cell_type": "markdown",
   "metadata": {},
   "source": [
    "## How to choose the correct plot\n",
    "\n",
    "Back to your penguins..."
   ]
  },
  {
   "cell_type": "markdown",
   "metadata": {},
   "source": [
    "Could this be improved? Well, a little:"
   ]
  },
  {
   "cell_type": "markdown",
   "metadata": {},
   "source": [
    "__Takeaway exercise__: Could you plot both plots in the same axes to compare them?"
   ]
  },
  {
   "cell_type": "code",
   "execution_count": 1,
   "metadata": {},
   "outputs": [
    {
     "ename": "NameError",
     "evalue": "name 'pd' is not defined",
     "output_type": "error",
     "traceback": [
      "\u001b[0;31m---------------------------------------------------------------------------\u001b[0m",
      "\u001b[0;31mNameError\u001b[0m                                 Traceback (most recent call last)",
      "\u001b[0;32m<ipython-input-1-8283ce8bae7a>\u001b[0m in \u001b[0;36m<module>\u001b[0;34m\u001b[0m\n\u001b[1;32m      1\u001b[0m \u001b[0mdata_url\u001b[0m\u001b[0;34m=\u001b[0m\u001b[0;34m\"https://bit.ly/3aYBbhQ\"\u001b[0m\u001b[0;34m\u001b[0m\u001b[0;34m\u001b[0m\u001b[0m\n\u001b[0;32m----> 2\u001b[0;31m \u001b[0mdataSO\u001b[0m \u001b[0;34m=\u001b[0m \u001b[0mpd\u001b[0m\u001b[0;34m.\u001b[0m\u001b[0mread_csv\u001b[0m\u001b[0;34m(\u001b[0m\u001b[0mdata_url\u001b[0m\u001b[0;34m)\u001b[0m\u001b[0;34m\u001b[0m\u001b[0;34m\u001b[0m\u001b[0m\n\u001b[0m",
      "\u001b[0;31mNameError\u001b[0m: name 'pd' is not defined"
     ]
    }
   ],
   "source": [
    "data_url=\"https://bit.ly/3aYBbhQ\"\n",
    "dataSO = pd.read_csv(data_url)"
   ]
  },
  {
   "cell_type": "markdown",
   "metadata": {},
   "source": [
    "Another example!"
   ]
  },
  {
   "cell_type": "code",
   "execution_count": 60,
   "metadata": {},
   "outputs": [
    {
     "data": {
      "text/html": [
       "<div>\n",
       "<style scoped>\n",
       "    .dataframe tbody tr th:only-of-type {\n",
       "        vertical-align: middle;\n",
       "    }\n",
       "\n",
       "    .dataframe tbody tr th {\n",
       "        vertical-align: top;\n",
       "    }\n",
       "\n",
       "    .dataframe thead th {\n",
       "        text-align: right;\n",
       "    }\n",
       "</style>\n",
       "<table border=\"1\" class=\"dataframe\">\n",
       "  <thead>\n",
       "    <tr style=\"text-align: right;\">\n",
       "      <th></th>\n",
       "      <th>total_bill</th>\n",
       "      <th>tip</th>\n",
       "      <th>sex</th>\n",
       "      <th>smoker</th>\n",
       "      <th>day</th>\n",
       "      <th>time</th>\n",
       "      <th>size</th>\n",
       "    </tr>\n",
       "  </thead>\n",
       "  <tbody>\n",
       "    <tr>\n",
       "      <th>0</th>\n",
       "      <td>16.99</td>\n",
       "      <td>1.01</td>\n",
       "      <td>Female</td>\n",
       "      <td>No</td>\n",
       "      <td>Sun</td>\n",
       "      <td>Dinner</td>\n",
       "      <td>2</td>\n",
       "    </tr>\n",
       "    <tr>\n",
       "      <th>1</th>\n",
       "      <td>10.34</td>\n",
       "      <td>1.66</td>\n",
       "      <td>Male</td>\n",
       "      <td>No</td>\n",
       "      <td>Sun</td>\n",
       "      <td>Dinner</td>\n",
       "      <td>3</td>\n",
       "    </tr>\n",
       "    <tr>\n",
       "      <th>2</th>\n",
       "      <td>21.01</td>\n",
       "      <td>3.50</td>\n",
       "      <td>Male</td>\n",
       "      <td>No</td>\n",
       "      <td>Sun</td>\n",
       "      <td>Dinner</td>\n",
       "      <td>3</td>\n",
       "    </tr>\n",
       "    <tr>\n",
       "      <th>3</th>\n",
       "      <td>23.68</td>\n",
       "      <td>3.31</td>\n",
       "      <td>Male</td>\n",
       "      <td>No</td>\n",
       "      <td>Sun</td>\n",
       "      <td>Dinner</td>\n",
       "      <td>2</td>\n",
       "    </tr>\n",
       "    <tr>\n",
       "      <th>4</th>\n",
       "      <td>24.59</td>\n",
       "      <td>3.61</td>\n",
       "      <td>Female</td>\n",
       "      <td>No</td>\n",
       "      <td>Sun</td>\n",
       "      <td>Dinner</td>\n",
       "      <td>4</td>\n",
       "    </tr>\n",
       "    <tr>\n",
       "      <th>...</th>\n",
       "      <td>...</td>\n",
       "      <td>...</td>\n",
       "      <td>...</td>\n",
       "      <td>...</td>\n",
       "      <td>...</td>\n",
       "      <td>...</td>\n",
       "      <td>...</td>\n",
       "    </tr>\n",
       "    <tr>\n",
       "      <th>239</th>\n",
       "      <td>29.03</td>\n",
       "      <td>5.92</td>\n",
       "      <td>Male</td>\n",
       "      <td>No</td>\n",
       "      <td>Sat</td>\n",
       "      <td>Dinner</td>\n",
       "      <td>3</td>\n",
       "    </tr>\n",
       "    <tr>\n",
       "      <th>240</th>\n",
       "      <td>27.18</td>\n",
       "      <td>2.00</td>\n",
       "      <td>Female</td>\n",
       "      <td>Yes</td>\n",
       "      <td>Sat</td>\n",
       "      <td>Dinner</td>\n",
       "      <td>2</td>\n",
       "    </tr>\n",
       "    <tr>\n",
       "      <th>241</th>\n",
       "      <td>22.67</td>\n",
       "      <td>2.00</td>\n",
       "      <td>Male</td>\n",
       "      <td>Yes</td>\n",
       "      <td>Sat</td>\n",
       "      <td>Dinner</td>\n",
       "      <td>2</td>\n",
       "    </tr>\n",
       "    <tr>\n",
       "      <th>242</th>\n",
       "      <td>17.82</td>\n",
       "      <td>1.75</td>\n",
       "      <td>Male</td>\n",
       "      <td>No</td>\n",
       "      <td>Sat</td>\n",
       "      <td>Dinner</td>\n",
       "      <td>2</td>\n",
       "    </tr>\n",
       "    <tr>\n",
       "      <th>243</th>\n",
       "      <td>18.78</td>\n",
       "      <td>3.00</td>\n",
       "      <td>Female</td>\n",
       "      <td>No</td>\n",
       "      <td>Thur</td>\n",
       "      <td>Dinner</td>\n",
       "      <td>2</td>\n",
       "    </tr>\n",
       "  </tbody>\n",
       "</table>\n",
       "<p>244 rows × 7 columns</p>\n",
       "</div>"
      ],
      "text/plain": [
       "     total_bill   tip     sex smoker   day    time  size\n",
       "0         16.99  1.01  Female     No   Sun  Dinner     2\n",
       "1         10.34  1.66    Male     No   Sun  Dinner     3\n",
       "2         21.01  3.50    Male     No   Sun  Dinner     3\n",
       "3         23.68  3.31    Male     No   Sun  Dinner     2\n",
       "4         24.59  3.61  Female     No   Sun  Dinner     4\n",
       "..          ...   ...     ...    ...   ...     ...   ...\n",
       "239       29.03  5.92    Male     No   Sat  Dinner     3\n",
       "240       27.18  2.00  Female    Yes   Sat  Dinner     2\n",
       "241       22.67  2.00    Male    Yes   Sat  Dinner     2\n",
       "242       17.82  1.75    Male     No   Sat  Dinner     2\n",
       "243       18.78  3.00  Female     No  Thur  Dinner     2\n",
       "\n",
       "[244 rows x 7 columns]"
      ]
     },
     "execution_count": 60,
     "metadata": {},
     "output_type": "execute_result"
    }
   ],
   "source": [
    "tips = sns.load_dataset(\"tips\")"
   ]
  },
  {
   "cell_type": "markdown",
   "metadata": {},
   "source": [
    "Yet another case!\n",
    "\n",
    "You are woking now with neuroscientists! They have a dataset `dots` where they measure how how neurons spike. They measure the firing rate of some neurons in two treatments (called `choices` in the columns)."
   ]
  },
  {
   "cell_type": "code",
   "execution_count": 30,
   "metadata": {},
   "outputs": [
    {
     "data": {
      "text/html": [
       "<div>\n",
       "<style scoped>\n",
       "    .dataframe tbody tr th:only-of-type {\n",
       "        vertical-align: middle;\n",
       "    }\n",
       "\n",
       "    .dataframe tbody tr th {\n",
       "        vertical-align: top;\n",
       "    }\n",
       "\n",
       "    .dataframe thead th {\n",
       "        text-align: right;\n",
       "    }\n",
       "</style>\n",
       "<table border=\"1\" class=\"dataframe\">\n",
       "  <thead>\n",
       "    <tr style=\"text-align: right;\">\n",
       "      <th></th>\n",
       "      <th>align</th>\n",
       "      <th>choice</th>\n",
       "      <th>time</th>\n",
       "      <th>coherence</th>\n",
       "      <th>firing_rate</th>\n",
       "    </tr>\n",
       "  </thead>\n",
       "  <tbody>\n",
       "    <tr>\n",
       "      <th>0</th>\n",
       "      <td>dots</td>\n",
       "      <td>T1</td>\n",
       "      <td>-80</td>\n",
       "      <td>0.0</td>\n",
       "      <td>33.189967</td>\n",
       "    </tr>\n",
       "    <tr>\n",
       "      <th>1</th>\n",
       "      <td>dots</td>\n",
       "      <td>T1</td>\n",
       "      <td>-80</td>\n",
       "      <td>3.2</td>\n",
       "      <td>31.691726</td>\n",
       "    </tr>\n",
       "    <tr>\n",
       "      <th>2</th>\n",
       "      <td>dots</td>\n",
       "      <td>T1</td>\n",
       "      <td>-80</td>\n",
       "      <td>6.4</td>\n",
       "      <td>34.279840</td>\n",
       "    </tr>\n",
       "    <tr>\n",
       "      <th>3</th>\n",
       "      <td>dots</td>\n",
       "      <td>T1</td>\n",
       "      <td>-80</td>\n",
       "      <td>12.8</td>\n",
       "      <td>32.631874</td>\n",
       "    </tr>\n",
       "    <tr>\n",
       "      <th>4</th>\n",
       "      <td>dots</td>\n",
       "      <td>T1</td>\n",
       "      <td>-80</td>\n",
       "      <td>25.6</td>\n",
       "      <td>35.060487</td>\n",
       "    </tr>\n",
       "  </tbody>\n",
       "</table>\n",
       "</div>"
      ],
      "text/plain": [
       "  align choice  time  coherence  firing_rate\n",
       "0  dots     T1   -80        0.0    33.189967\n",
       "1  dots     T1   -80        3.2    31.691726\n",
       "2  dots     T1   -80        6.4    34.279840\n",
       "3  dots     T1   -80       12.8    32.631874\n",
       "4  dots     T1   -80       25.6    35.060487"
      ]
     },
     "execution_count": 30,
     "metadata": {},
     "output_type": "execute_result"
    }
   ],
   "source": [
    "dots = sns.load_dataset(\"dots\")"
   ]
  },
  {
   "cell_type": "markdown",
   "metadata": {},
   "source": [
    "## The importance of visualizing your data or _The Datasaurus dataset_"
   ]
  },
  {
   "cell_type": "code",
   "execution_count": 34,
   "metadata": {},
   "outputs": [],
   "source": [
    "trex = pd.read_csv('../data/The Datasaurus Dozen/DatasaurusDozen.tsv', sep='\\t')"
   ]
  },
  {
   "cell_type": "markdown",
   "metadata": {},
   "source": [
    "# Further reading\n",
    "\n",
    "The [Datasaurus](https://blog.revolutionanalytics.com/2017/05/the-datasaurus-dozen.html) dataset.\n",
    "\n",
    "Books: [Storytelling with data](https://www.storytellingwithdata.com/books).\n",
    "\n",
    "If you don't want to read, there's a talk from the author of those two books [here](https://www.youtube.com/watch?v=8EMW7io4rSI&t=1557s)."
   ]
  },
  {
   "cell_type": "markdown",
   "metadata": {},
   "source": [
    "## Try it on your own!\n",
    "\n",
    "Try to follow the code below to construct a complex figure using just matplotlib. Call the documentation when you don't know what an argument does. It's OK if you didn't know how to draw this figure from scratch (you will be able to do it!), but you need to understand what's happening in the code.\n",
    "\n",
    "If you have invested money on some kind of asset, you might have seen the type of plot this code draws."
   ]
  },
  {
   "cell_type": "code",
   "execution_count": 73,
   "metadata": {},
   "outputs": [
    {
     "data": {
      "text/plain": [
       "<matplotlib.lines.Line2D at 0x127666310>"
      ]
     },
     "execution_count": 73,
     "metadata": {},
     "output_type": "execute_result"
    },
    {
     "data": {
      "image/png": "[encoded data removed]",
      "text/plain": [
       "<Figure size 864x504 with 1 Axes>"
      ]
     },
     "metadata": {
      "needs_background": "light"
     },
     "output_type": "display_data"
    }
   ],
   "source": [
    "# First, we need some data!\n",
    "\n",
    "# The data is from the Chicago Board Options Exchange's CBOE Volatility Index \n",
    "url = 'https://fred.stlouisfed.org/graph/fredgraph.csv?id=VIXCLS'\n",
    "\n",
    "# We are going to use pandas to get the data and create a nice dataframe.\n",
    "#\n",
    "# We set the column 0 as the *index*,\n",
    "# *parse* the dates (i.e., that pandas knows those are dates),\n",
    "# the NA values are *transformed* into points (and later dropped, if any)\n",
    "# and if the data is just one column, pandas *squeezes* it into a Series object\n",
    "vix = pd.read_csv(url, index_col=0, parse_dates=True,\n",
    "                  na_values='.', infer_datetime_format=True,\n",
    "                  squeeze=True).dropna()\n",
    "\n",
    "# The function `rolling`, for each point slices the data into sections of the previous (in this case) 90 days\n",
    "# and then we compute the mean of those values. That's the `ma` variable, and sometimes it's called\n",
    "# moving average\n",
    "ma = vix.rolling('90d').mean()\n",
    "\n",
    "# If we want to segment/cut out data into \"sections\", we can use the function pandas.cut\n",
    "# Asigns a *label* to the values of *ma* that fall into the *bins* that we define:\n",
    "state = pd.cut(ma, bins=[-np.inf, 14, 18, 24, np.inf], labels=range(4))\n",
    "\n",
    "# This is to obtain a colormap to use it later\n",
    "cmap = plt.get_cmap('RdYlGn_r')\n",
    "\n",
    "# Now we want to plot the `ma` variable.\n",
    "# We can use the function .plot directly on ma (because ma is a pandas object)\n",
    "ma.plot(color='black', linewidth=1.5, marker='', figsize=(12, 7), label='VIX 90d MA')\n",
    "\n",
    "# Because we created a figure directly (like calling plt.plot),\n",
    "# we need the *axes* if we want to modify it.\n",
    "# To Get the Current Axes (that ma.plot() references), call plt.gca() function.\n",
    "ax = plt.gca()\n",
    "# It's not a very good practice, it's better to use plt.subplots(),\n",
    "# but some \"old\" code uses it.\n",
    "\n",
    "# Now we can change properties from our axes.\n",
    "ax.set_xlabel('')\n",
    "ax.set_ylabel('90d moving average: CBOE VIX')\n",
    "ax.set_title('Volatility Regime State')\n",
    "ax.grid(False)\n",
    "ax.legend(loc='upper center')\n",
    "ax.set_xlim(xmin=ma.index[0], xmax=ma.index[-1])\n",
    "\n",
    "# Import a module from a package to help us\n",
    "import matplotlib.transforms as mtransforms\n",
    "\n",
    "# Remember how we cut our data into several sections/slices earlier?\n",
    "# We can use it to color certain areas in the plot\n",
    "# (green if the data grows, yellow if stays the same, red if the data decreases)\n",
    "trans = mtransforms.blended_transform_factory(ax.transData, ax.transAxes)\n",
    "for i, color in enumerate(cmap([0.2, 0.4, 0.6, 0.8])):\n",
    "    ax.fill_between(ma.index, 0, 1, where=(state==i),\n",
    "                    facecolor=color, transform=trans)\n",
    "\n",
    "# This just plots a dashed horizontal line that represents the mean value overall\n",
    "ax.axhline(vix.mean(), linestyle='dashed', color='xkcd:dark grey',\n",
    "           alpha=0.6, label='Full-period mean', marker='')"
   ]
  }
 ],
 "metadata": {
  "kernelspec": {
   "display_name": "Python 3",
   "language": "python",
   "name": "python3"
  },
  "language_info": {
   "codemirror_mode": {
    "name": "ipython",
    "version": 3
   },
   "file_extension": ".py",
   "mimetype": "text/x-python",
   "name": "python",
   "nbconvert_exporter": "python",
   "pygments_lexer": "ipython3",
   "version": "3.9.2"
  }
 },
 "nbformat": 4,
 "nbformat_minor": 4
}
