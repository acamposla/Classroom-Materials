{
 "cells": [
  {
   "cell_type": "markdown",
   "metadata": {},
   "source": [
    "# Pandas project extra material"
   ]
  },
  {
   "cell_type": "code",
   "execution_count": 1,
   "metadata": {},
   "outputs": [],
   "source": [
    "import pandas as pd\n",
    "import numpy as np"
   ]
  },
  {
   "cell_type": "code",
   "execution_count": 2,
   "metadata": {},
   "outputs": [],
   "source": [
    "df=pd.read_csv('/Users/adrian/Downloads/attacks.csv')"
   ]
  },
  {
   "cell_type": "code",
   "execution_count": 3,
   "metadata": {},
   "outputs": [
    {
     "data": {
      "text/html": [
       "<div>\n",
       "<style scoped>\n",
       "    .dataframe tbody tr th:only-of-type {\n",
       "        vertical-align: middle;\n",
       "    }\n",
       "\n",
       "    .dataframe tbody tr th {\n",
       "        vertical-align: top;\n",
       "    }\n",
       "\n",
       "    .dataframe thead th {\n",
       "        text-align: right;\n",
       "    }\n",
       "</style>\n",
       "<table border=\"1\" class=\"dataframe\">\n",
       "  <thead>\n",
       "    <tr style=\"text-align: right;\">\n",
       "      <th></th>\n",
       "      <th>Case Number</th>\n",
       "      <th>Age</th>\n",
       "      <th>Age1</th>\n",
       "      <th>Age2</th>\n",
       "    </tr>\n",
       "  </thead>\n",
       "  <tbody>\n",
       "    <tr>\n",
       "      <th>698</th>\n",
       "      <td>2013.03.10.a</td>\n",
       "      <td>28 &amp; 26</td>\n",
       "      <td>28</td>\n",
       "      <td>26</td>\n",
       "    </tr>\n",
       "    <tr>\n",
       "      <th>1506</th>\n",
       "      <td>2006.01.28.R</td>\n",
       "      <td>46 &amp; 34</td>\n",
       "      <td>46</td>\n",
       "      <td>34</td>\n",
       "    </tr>\n",
       "    <tr>\n",
       "      <th>1508</th>\n",
       "      <td>2006.01.23</td>\n",
       "      <td>28, 23 &amp; 30</td>\n",
       "      <td>23</td>\n",
       "      <td>30</td>\n",
       "    </tr>\n",
       "    <tr>\n",
       "      <th>1743</th>\n",
       "      <td>2003.09.14.b</td>\n",
       "      <td>36 &amp; 26</td>\n",
       "      <td>36</td>\n",
       "      <td>26</td>\n",
       "    </tr>\n",
       "    <tr>\n",
       "      <th>2026</th>\n",
       "      <td>2000.08.10</td>\n",
       "      <td>23 &amp; 20</td>\n",
       "      <td>23</td>\n",
       "      <td>20</td>\n",
       "    </tr>\n",
       "    <tr>\n",
       "      <th>2511</th>\n",
       "      <td>1993.01.04</td>\n",
       "      <td>32 &amp; 30</td>\n",
       "      <td>32</td>\n",
       "      <td>30</td>\n",
       "    </tr>\n",
       "    <tr>\n",
       "      <th>3459</th>\n",
       "      <td>1968.08.24</td>\n",
       "      <td>9 &amp; 12</td>\n",
       "      <td>9</td>\n",
       "      <td>12</td>\n",
       "    </tr>\n",
       "    <tr>\n",
       "      <th>3742</th>\n",
       "      <td>1963.08.00</td>\n",
       "      <td>23 &amp; 26</td>\n",
       "      <td>23</td>\n",
       "      <td>26</td>\n",
       "    </tr>\n",
       "    <tr>\n",
       "      <th>3880</th>\n",
       "      <td>1961.09.02.R</td>\n",
       "      <td>33 &amp; 37</td>\n",
       "      <td>33</td>\n",
       "      <td>37</td>\n",
       "    </tr>\n",
       "    <tr>\n",
       "      <th>3998</th>\n",
       "      <td>1960.04.14</td>\n",
       "      <td>21, 34,24 &amp; 35</td>\n",
       "      <td>24</td>\n",
       "      <td>35</td>\n",
       "    </tr>\n",
       "    <tr>\n",
       "      <th>4009</th>\n",
       "      <td>1960.02.29</td>\n",
       "      <td>30 &amp; 32</td>\n",
       "      <td>30</td>\n",
       "      <td>32</td>\n",
       "    </tr>\n",
       "    <tr>\n",
       "      <th>4035</th>\n",
       "      <td>1959.12.28</td>\n",
       "      <td>50 &amp; 30</td>\n",
       "      <td>50</td>\n",
       "      <td>30</td>\n",
       "    </tr>\n",
       "    <tr>\n",
       "      <th>4039</th>\n",
       "      <td>1959.12.11</td>\n",
       "      <td>17 &amp; 35</td>\n",
       "      <td>17</td>\n",
       "      <td>35</td>\n",
       "    </tr>\n",
       "    <tr>\n",
       "      <th>4078</th>\n",
       "      <td>1959.08.02</td>\n",
       "      <td>34 &amp; 19</td>\n",
       "      <td>34</td>\n",
       "      <td>19</td>\n",
       "    </tr>\n",
       "    <tr>\n",
       "      <th>4118</th>\n",
       "      <td>1959.01.02</td>\n",
       "      <td>33 &amp; 26</td>\n",
       "      <td>33</td>\n",
       "      <td>26</td>\n",
       "    </tr>\n",
       "    <tr>\n",
       "      <th>4587</th>\n",
       "      <td>1947.01.14</td>\n",
       "      <td>17 &amp; 16</td>\n",
       "      <td>17</td>\n",
       "      <td>16</td>\n",
       "    </tr>\n",
       "    <tr>\n",
       "      <th>4999</th>\n",
       "      <td>1932.01.06</td>\n",
       "      <td>36 &amp; 23</td>\n",
       "      <td>36</td>\n",
       "      <td>23</td>\n",
       "    </tr>\n",
       "  </tbody>\n",
       "</table>\n",
       "</div>"
      ],
      "text/plain": [
       "       Case Number             Age Age1 Age2\n",
       "698   2013.03.10.a         28 & 26   28   26\n",
       "1506  2006.01.28.R         46 & 34   46   34\n",
       "1508    2006.01.23     28, 23 & 30   23   30\n",
       "1743  2003.09.14.b         36 & 26   36   26\n",
       "2026    2000.08.10         23 & 20   23   20\n",
       "2511    1993.01.04         32 & 30   32   30\n",
       "3459    1968.08.24          9 & 12    9   12\n",
       "3742    1963.08.00         23 & 26   23   26\n",
       "3880  1961.09.02.R         33 & 37   33   37\n",
       "3998    1960.04.14  21, 34,24 & 35   24   35\n",
       "4009    1960.02.29         30 & 32   30   32\n",
       "4035    1959.12.28         50 & 30   50   30\n",
       "4039    1959.12.11         17 & 35   17   35\n",
       "4078    1959.08.02         34 & 19   34   19\n",
       "4118    1959.01.02         33 & 26   33   26\n",
       "4587    1947.01.14         17 & 16   17   16\n",
       "4999    1932.01.06         36 & 23   36   23"
      ]
     },
     "execution_count": 3,
     "metadata": {},
     "output_type": "execute_result"
    }
   ],
   "source": [
    "# df.Age.unique()\n",
    "# df[df.Age.str.contains(r'\\&', na=False)][['Age']]\n",
    "df_ages = pd.concat([df[['Case Number', 'Age']], df.Age.str.extract(r'\\D*(?P<Age1>\\d+)\\s\\&\\s(?P<Age2>\\d+).*')], axis=1)\n",
    "# Incluimos 'Case Number' a modo de referencia\n",
    "# check:\n",
    "df_ages[~df_ages.Age1.isnull()]\n",
    "\n"
   ]
  },
  {
   "cell_type": "code",
   "execution_count": 4,
   "metadata": {
    "scrolled": true
   },
   "outputs": [
    {
     "data": {
      "text/html": [
       "<div>\n",
       "<style scoped>\n",
       "    .dataframe tbody tr th:only-of-type {\n",
       "        vertical-align: middle;\n",
       "    }\n",
       "\n",
       "    .dataframe tbody tr th {\n",
       "        vertical-align: top;\n",
       "    }\n",
       "\n",
       "    .dataframe thead th {\n",
       "        text-align: right;\n",
       "    }\n",
       "</style>\n",
       "<table border=\"1\" class=\"dataframe\">\n",
       "  <thead>\n",
       "    <tr style=\"text-align: right;\">\n",
       "      <th></th>\n",
       "      <th>Case Number</th>\n",
       "      <th>variable</th>\n",
       "      <th>NewAgeLOL</th>\n",
       "    </tr>\n",
       "  </thead>\n",
       "  <tbody>\n",
       "    <tr>\n",
       "      <th>4118</th>\n",
       "      <td>1959.01.02</td>\n",
       "      <td>Age</td>\n",
       "      <td>33 &amp; 26</td>\n",
       "    </tr>\n",
       "    <tr>\n",
       "      <th>29841</th>\n",
       "      <td>1959.01.02</td>\n",
       "      <td>Age1</td>\n",
       "      <td>33</td>\n",
       "    </tr>\n",
       "    <tr>\n",
       "      <th>55564</th>\n",
       "      <td>1959.01.02</td>\n",
       "      <td>Age2</td>\n",
       "      <td>26</td>\n",
       "    </tr>\n",
       "  </tbody>\n",
       "</table>\n",
       "</div>"
      ],
      "text/plain": [
       "      Case Number variable NewAgeLOL\n",
       "4118   1959.01.02      Age   33 & 26\n",
       "29841  1959.01.02     Age1        33\n",
       "55564  1959.01.02     Age2        26"
      ]
     },
     "execution_count": 4,
     "metadata": {},
     "output_type": "execute_result"
    }
   ],
   "source": [
    "# Melt columns Age, Age1 and Age2 into new column NewAgeLOL\n",
    "# New column 'variable' keeps track of where each value comes from (can be renamed with variable_name='something')\n",
    "df_ages_melted = df_ages.melt(id_vars='Case Number', value_vars=['Age', 'Age1', 'Age2'], value_name='NewAgeLOL')\n",
    "# Filter\n",
    "df_ages_melted = df_ages_melted[~df_ages_melted.NewAgeLOL.isnull()]\n",
    "# Check\n",
    "df_ages_melted[df_ages_melted['Case Number']=='1959.01.02']\n",
    "\n"
   ]
  },
  {
   "cell_type": "code",
   "execution_count": 5,
   "metadata": {},
   "outputs": [
    {
     "data": {
      "text/plain": [
       "17"
      ]
     },
     "execution_count": 5,
     "metadata": {},
     "output_type": "execute_result"
    }
   ],
   "source": [
    "# Remove columns with original Age\n",
    "# (we could have done the melt just with Age1 and Age2, but I wanted you to learn how it works)\n",
    "df_ages_melted = df_ages_melted[df_ages_melted.variable!='Age']\n",
    "# Check we have 2 obs per case\n",
    "df_ages_melted.groupby('Case Number').size()\n",
    "# Ok\n",
    "df_ages_melted.groupby('Case Number').size().shape[0]\n",
    "\n"
   ]
  },
  {
   "cell_type": "code",
   "execution_count": 6,
   "metadata": {
    "scrolled": false
   },
   "outputs": [
    {
     "data": {
      "text/plain": [
       "25740"
      ]
     },
     "execution_count": 6,
     "metadata": {},
     "output_type": "execute_result"
    }
   ],
   "source": [
    "# There 34 people grouped in 17 cases\n",
    "# Let's merge!\n",
    "df.shape[0]\n",
    "# 25723\n",
    "df = df.merge(df_ages_melted, on='Case Number', how='left')\n",
    "df.shape[0]\n",
    "# 25740 = 25723 + 17 --> OK!!"
   ]
  },
  {
   "cell_type": "markdown",
   "metadata": {},
   "source": [
    "Finally, you just have to make a new variable Age_final with the values of NewAgeLOL when they're not NA and Age otherwise.\n",
    "\n",
    "And don't forget the rest of substitutions (teenager, young, etc)"
   ]
  }
 ],
 "metadata": {
  "kernelspec": {
   "display_name": "Python 3",
   "language": "python",
   "name": "python3"
  },
  "language_info": {
   "codemirror_mode": {
    "name": "ipython",
    "version": 3
   },
   "file_extension": ".py",
   "mimetype": "text/x-python",
   "name": "python",
   "nbconvert_exporter": "python",
   "pygments_lexer": "ipython3",
   "version": "3.9.0"
  }
 },
 "nbformat": 4,
 "nbformat_minor": 4
}
