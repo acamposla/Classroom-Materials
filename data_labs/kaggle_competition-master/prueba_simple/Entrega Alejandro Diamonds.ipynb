{
 "cells": [
  {
   "cell_type": "code",
   "execution_count": 1,
   "id": "87770be3",
   "metadata": {},
   "outputs": [],
   "source": [
    "import pandas as pd"
   ]
  },
  {
   "cell_type": "code",
   "execution_count": 2,
   "id": "be0f8d69",
   "metadata": {},
   "outputs": [],
   "source": [
    "df = pd.read_csv(\"data/train.csv\")"
   ]
  },
  {
   "cell_type": "markdown",
   "id": "b96d270d",
   "metadata": {},
   "source": [
    "# Exploración de Datos"
   ]
  },
  {
   "cell_type": "code",
   "execution_count": 3,
   "id": "103208e6",
   "metadata": {},
   "outputs": [
    {
     "data": {
      "text/html": [
       "<div>\n",
       "<style scoped>\n",
       "    .dataframe tbody tr th:only-of-type {\n",
       "        vertical-align: middle;\n",
       "    }\n",
       "\n",
       "    .dataframe tbody tr th {\n",
       "        vertical-align: top;\n",
       "    }\n",
       "\n",
       "    .dataframe thead th {\n",
       "        text-align: right;\n",
       "    }\n",
       "</style>\n",
       "<table border=\"1\" class=\"dataframe\">\n",
       "  <thead>\n",
       "    <tr style=\"text-align: right;\">\n",
       "      <th></th>\n",
       "      <th>id</th>\n",
       "      <th>carat</th>\n",
       "      <th>cut</th>\n",
       "      <th>color</th>\n",
       "      <th>clarity</th>\n",
       "      <th>depth</th>\n",
       "      <th>table</th>\n",
       "      <th>x</th>\n",
       "      <th>y</th>\n",
       "      <th>z</th>\n",
       "      <th>price</th>\n",
       "    </tr>\n",
       "  </thead>\n",
       "  <tbody>\n",
       "    <tr>\n",
       "      <th>0</th>\n",
       "      <td>0</td>\n",
       "      <td>0.71</td>\n",
       "      <td>Fair</td>\n",
       "      <td>F</td>\n",
       "      <td>SI1</td>\n",
       "      <td>57.0</td>\n",
       "      <td>68.0</td>\n",
       "      <td>6.05</td>\n",
       "      <td>5.87</td>\n",
       "      <td>3.40</td>\n",
       "      <td>2198</td>\n",
       "    </tr>\n",
       "    <tr>\n",
       "      <th>1</th>\n",
       "      <td>1</td>\n",
       "      <td>0.75</td>\n",
       "      <td>Premium</td>\n",
       "      <td>F</td>\n",
       "      <td>VVS2</td>\n",
       "      <td>62.4</td>\n",
       "      <td>57.0</td>\n",
       "      <td>5.88</td>\n",
       "      <td>5.75</td>\n",
       "      <td>3.63</td>\n",
       "      <td>3822</td>\n",
       "    </tr>\n",
       "    <tr>\n",
       "      <th>2</th>\n",
       "      <td>2</td>\n",
       "      <td>0.70</td>\n",
       "      <td>Good</td>\n",
       "      <td>H</td>\n",
       "      <td>VS2</td>\n",
       "      <td>59.1</td>\n",
       "      <td>65.0</td>\n",
       "      <td>5.75</td>\n",
       "      <td>5.85</td>\n",
       "      <td>3.43</td>\n",
       "      <td>2234</td>\n",
       "    </tr>\n",
       "    <tr>\n",
       "      <th>3</th>\n",
       "      <td>3</td>\n",
       "      <td>1.75</td>\n",
       "      <td>Premium</td>\n",
       "      <td>I</td>\n",
       "      <td>VS1</td>\n",
       "      <td>60.6</td>\n",
       "      <td>60.0</td>\n",
       "      <td>7.80</td>\n",
       "      <td>7.84</td>\n",
       "      <td>4.74</td>\n",
       "      <td>12416</td>\n",
       "    </tr>\n",
       "    <tr>\n",
       "      <th>4</th>\n",
       "      <td>4</td>\n",
       "      <td>1.18</td>\n",
       "      <td>Premium</td>\n",
       "      <td>G</td>\n",
       "      <td>VVS2</td>\n",
       "      <td>59.7</td>\n",
       "      <td>58.0</td>\n",
       "      <td>6.94</td>\n",
       "      <td>6.90</td>\n",
       "      <td>4.13</td>\n",
       "      <td>9537</td>\n",
       "    </tr>\n",
       "  </tbody>\n",
       "</table>\n",
       "</div>"
      ],
      "text/plain": [
       "   id  carat      cut color clarity  depth  table     x     y     z  price\n",
       "0   0   0.71     Fair     F     SI1   57.0   68.0  6.05  5.87  3.40   2198\n",
       "1   1   0.75  Premium     F    VVS2   62.4   57.0  5.88  5.75  3.63   3822\n",
       "2   2   0.70     Good     H     VS2   59.1   65.0  5.75  5.85  3.43   2234\n",
       "3   3   1.75  Premium     I     VS1   60.6   60.0  7.80  7.84  4.74  12416\n",
       "4   4   1.18  Premium     G    VVS2   59.7   58.0  6.94  6.90  4.13   9537"
      ]
     },
     "execution_count": 3,
     "metadata": {},
     "output_type": "execute_result"
    }
   ],
   "source": [
    "df.head()"
   ]
  },
  {
   "cell_type": "code",
   "execution_count": 4,
   "id": "a8d62a52",
   "metadata": {},
   "outputs": [
    {
     "name": "stdout",
     "output_type": "stream",
     "text": [
      "<class 'pandas.core.frame.DataFrame'>\n",
      "RangeIndex: 40455 entries, 0 to 40454\n",
      "Data columns (total 11 columns):\n",
      " #   Column   Non-Null Count  Dtype  \n",
      "---  ------   --------------  -----  \n",
      " 0   id       40455 non-null  int64  \n",
      " 1   carat    40455 non-null  float64\n",
      " 2   cut      40455 non-null  object \n",
      " 3   color    40455 non-null  object \n",
      " 4   clarity  40455 non-null  object \n",
      " 5   depth    40455 non-null  float64\n",
      " 6   table    40455 non-null  float64\n",
      " 7   x        40455 non-null  float64\n",
      " 8   y        40455 non-null  float64\n",
      " 9   z        40455 non-null  float64\n",
      " 10  price    40455 non-null  int64  \n",
      "dtypes: float64(6), int64(2), object(3)\n",
      "memory usage: 3.4+ MB\n"
     ]
    }
   ],
   "source": [
    "df.info()"
   ]
  },
  {
   "cell_type": "code",
   "execution_count": 5,
   "id": "33442940",
   "metadata": {},
   "outputs": [
    {
     "data": {
      "text/html": [
       "<div>\n",
       "<style scoped>\n",
       "    .dataframe tbody tr th:only-of-type {\n",
       "        vertical-align: middle;\n",
       "    }\n",
       "\n",
       "    .dataframe tbody tr th {\n",
       "        vertical-align: top;\n",
       "    }\n",
       "\n",
       "    .dataframe thead th {\n",
       "        text-align: right;\n",
       "    }\n",
       "</style>\n",
       "<table border=\"1\" class=\"dataframe\">\n",
       "  <thead>\n",
       "    <tr style=\"text-align: right;\">\n",
       "      <th></th>\n",
       "      <th>id</th>\n",
       "      <th>carat</th>\n",
       "      <th>depth</th>\n",
       "      <th>table</th>\n",
       "      <th>x</th>\n",
       "      <th>y</th>\n",
       "      <th>z</th>\n",
       "      <th>price</th>\n",
       "    </tr>\n",
       "  </thead>\n",
       "  <tbody>\n",
       "    <tr>\n",
       "      <th>count</th>\n",
       "      <td>40455.000000</td>\n",
       "      <td>40455.000000</td>\n",
       "      <td>40455.000000</td>\n",
       "      <td>40455.000000</td>\n",
       "      <td>40455.000000</td>\n",
       "      <td>40455.000000</td>\n",
       "      <td>40455.000000</td>\n",
       "      <td>40455.000000</td>\n",
       "    </tr>\n",
       "    <tr>\n",
       "      <th>mean</th>\n",
       "      <td>20227.000000</td>\n",
       "      <td>0.797765</td>\n",
       "      <td>61.746387</td>\n",
       "      <td>57.458349</td>\n",
       "      <td>5.732448</td>\n",
       "      <td>5.736642</td>\n",
       "      <td>3.539624</td>\n",
       "      <td>3939.115486</td>\n",
       "    </tr>\n",
       "    <tr>\n",
       "      <th>std</th>\n",
       "      <td>11678.496907</td>\n",
       "      <td>0.471240</td>\n",
       "      <td>1.435767</td>\n",
       "      <td>2.234047</td>\n",
       "      <td>1.116915</td>\n",
       "      <td>1.147165</td>\n",
       "      <td>0.707259</td>\n",
       "      <td>3985.487211</td>\n",
       "    </tr>\n",
       "    <tr>\n",
       "      <th>min</th>\n",
       "      <td>0.000000</td>\n",
       "      <td>0.200000</td>\n",
       "      <td>43.000000</td>\n",
       "      <td>44.000000</td>\n",
       "      <td>0.000000</td>\n",
       "      <td>0.000000</td>\n",
       "      <td>0.000000</td>\n",
       "      <td>326.000000</td>\n",
       "    </tr>\n",
       "    <tr>\n",
       "      <th>25%</th>\n",
       "      <td>10113.500000</td>\n",
       "      <td>0.400000</td>\n",
       "      <td>61.000000</td>\n",
       "      <td>56.000000</td>\n",
       "      <td>4.720000</td>\n",
       "      <td>4.730000</td>\n",
       "      <td>2.910000</td>\n",
       "      <td>956.000000</td>\n",
       "    </tr>\n",
       "    <tr>\n",
       "      <th>50%</th>\n",
       "      <td>20227.000000</td>\n",
       "      <td>0.700000</td>\n",
       "      <td>61.800000</td>\n",
       "      <td>57.000000</td>\n",
       "      <td>5.700000</td>\n",
       "      <td>5.710000</td>\n",
       "      <td>3.530000</td>\n",
       "      <td>2416.000000</td>\n",
       "    </tr>\n",
       "    <tr>\n",
       "      <th>75%</th>\n",
       "      <td>30340.500000</td>\n",
       "      <td>1.040000</td>\n",
       "      <td>62.500000</td>\n",
       "      <td>59.000000</td>\n",
       "      <td>6.540000</td>\n",
       "      <td>6.540000</td>\n",
       "      <td>4.040000</td>\n",
       "      <td>5339.000000</td>\n",
       "    </tr>\n",
       "    <tr>\n",
       "      <th>max</th>\n",
       "      <td>40454.000000</td>\n",
       "      <td>4.500000</td>\n",
       "      <td>79.000000</td>\n",
       "      <td>95.000000</td>\n",
       "      <td>10.230000</td>\n",
       "      <td>58.900000</td>\n",
       "      <td>31.800000</td>\n",
       "      <td>18823.000000</td>\n",
       "    </tr>\n",
       "  </tbody>\n",
       "</table>\n",
       "</div>"
      ],
      "text/plain": [
       "                 id         carat         depth         table             x  \\\n",
       "count  40455.000000  40455.000000  40455.000000  40455.000000  40455.000000   \n",
       "mean   20227.000000      0.797765     61.746387     57.458349      5.732448   \n",
       "std    11678.496907      0.471240      1.435767      2.234047      1.116915   \n",
       "min        0.000000      0.200000     43.000000     44.000000      0.000000   \n",
       "25%    10113.500000      0.400000     61.000000     56.000000      4.720000   \n",
       "50%    20227.000000      0.700000     61.800000     57.000000      5.700000   \n",
       "75%    30340.500000      1.040000     62.500000     59.000000      6.540000   \n",
       "max    40454.000000      4.500000     79.000000     95.000000     10.230000   \n",
       "\n",
       "                  y             z         price  \n",
       "count  40455.000000  40455.000000  40455.000000  \n",
       "mean       5.736642      3.539624   3939.115486  \n",
       "std        1.147165      0.707259   3985.487211  \n",
       "min        0.000000      0.000000    326.000000  \n",
       "25%        4.730000      2.910000    956.000000  \n",
       "50%        5.710000      3.530000   2416.000000  \n",
       "75%        6.540000      4.040000   5339.000000  \n",
       "max       58.900000     31.800000  18823.000000  "
      ]
     },
     "execution_count": 5,
     "metadata": {},
     "output_type": "execute_result"
    }
   ],
   "source": [
    "df.describe()"
   ]
  },
  {
   "cell_type": "code",
   "execution_count": 6,
   "id": "9d4d7e2e",
   "metadata": {},
   "outputs": [
    {
     "data": {
      "text/plain": [
       "id         0\n",
       "carat      0\n",
       "cut        0\n",
       "color      0\n",
       "clarity    0\n",
       "depth      0\n",
       "table      0\n",
       "x          0\n",
       "y          0\n",
       "z          0\n",
       "price      0\n",
       "dtype: int64"
      ]
     },
     "execution_count": 6,
     "metadata": {},
     "output_type": "execute_result"
    }
   ],
   "source": [
    "df.isnull().sum() #tengo 0 valores nules TO wapo"
   ]
  },
  {
   "cell_type": "markdown",
   "id": "c8f12a0f",
   "metadata": {},
   "source": [
    "# Agrupación de Datos"
   ]
  },
  {
   "cell_type": "markdown",
   "id": "56639ca9",
   "metadata": {},
   "source": [
    "Exploro las diferentes columnas categóricas para tratar de agrupar los datos lo máximo posible. "
   ]
  },
  {
   "cell_type": "code",
   "execution_count": 7,
   "id": "3c5af2b8",
   "metadata": {
    "scrolled": true
   },
   "outputs": [
    {
     "data": {
      "text/plain": [
       "Ideal        16172\n",
       "Premium      10245\n",
       "Very Good     9164\n",
       "Good          3660\n",
       "Fair          1214\n",
       "Name: cut, dtype: int64"
      ]
     },
     "execution_count": 7,
     "metadata": {},
     "output_type": "execute_result"
    }
   ],
   "source": [
    "df.cut.value_counts() #En este caso tengo 6 categorias. Razonablemente bien distribuidos"
   ]
  },
  {
   "cell_type": "code",
   "execution_count": 8,
   "id": "aaba05de",
   "metadata": {
    "scrolled": true
   },
   "outputs": [
    {
     "data": {
      "text/plain": [
       "G    8497\n",
       "E    7340\n",
       "F    7171\n",
       "H    6215\n",
       "D    5111\n",
       "I    4012\n",
       "J    2109\n",
       "Name: color, dtype: int64"
      ]
     },
     "execution_count": 8,
     "metadata": {},
     "output_type": "execute_result"
    }
   ],
   "source": [
    "df.color.value_counts() "
   ]
  },
  {
   "cell_type": "code",
   "execution_count": 9,
   "id": "00e7080d",
   "metadata": {
    "scrolled": true
   },
   "outputs": [
    {
     "data": {
      "text/plain": [
       "SI1     9752\n",
       "VS2     9271\n",
       "SI2     6875\n",
       "VS1     6117\n",
       "VVS2    3819\n",
       "VVS1    2746\n",
       "IF      1335\n",
       "I1       540\n",
       "Name: clarity, dtype: int64"
      ]
     },
     "execution_count": 9,
     "metadata": {},
     "output_type": "execute_result"
    }
   ],
   "source": [
    "df.clarity.value_counts() "
   ]
  },
  {
   "cell_type": "code",
   "execution_count": 10,
   "id": "ff9268ed",
   "metadata": {},
   "outputs": [],
   "source": [
    "#pintar las distribuciones aquí"
   ]
  },
  {
   "cell_type": "markdown",
   "id": "7ec475af",
   "metadata": {},
   "source": [
    "# Convierto las categorías en númericas"
   ]
  },
  {
   "cell_type": "code",
   "execution_count": 11,
   "id": "aa28ebfd",
   "metadata": {},
   "outputs": [],
   "source": [
    "#df_data = pd.get_dummies(df) #creo que no se hace con Get Dummies\n",
    "\n",
    "#Qué diferencia hay entre get dummies y Hot encoder???¿?¿¿?\n",
    "\n",
    "#Si tenemos categorías que tienen valor en sí mismas, \n",
    "#como \"bueno, malo, regular\" lo ideal sería no dejar que\n",
    "#LabelEncoder lo haga de forma automática si no aplicarlo nosotras a mano, ya que el valor que ponemos puede influir en el peso que el algoritmo le da a esas variables.\n",
    "\n",
    "#Para evitar esto, \"OneHotEncode\" esa columna. \n",
    "#Lo que hace una codificación en caliente es que toma una columna \n",
    "#que tiene datos categóricos, que ha sido codificada con etiquetas\n",
    "#, y luego divide la columna en múltiples columnas. Los números son reemplazados por \n",
    "#1s y 0s, dependiendo de qué columna tiene qué valor."
   ]
  },
  {
   "cell_type": "code",
   "execution_count": 12,
   "id": "58eda89b",
   "metadata": {},
   "outputs": [],
   "source": [
    "#Voy a hacer el uso de One Hot Encoder. "
   ]
  },
  {
   "cell_type": "code",
   "execution_count": 13,
   "id": "cc81cc89",
   "metadata": {},
   "outputs": [],
   "source": [
    "from sklearn.preprocessing import OneHotEncoder\n",
    "onehotencoder = OneHotEncoder()"
   ]
  },
  {
   "cell_type": "code",
   "execution_count": 14,
   "id": "be5a9ab9",
   "metadata": {},
   "outputs": [
    {
     "data": {
      "text/html": [
       "<div>\n",
       "<style scoped>\n",
       "    .dataframe tbody tr th:only-of-type {\n",
       "        vertical-align: middle;\n",
       "    }\n",
       "\n",
       "    .dataframe tbody tr th {\n",
       "        vertical-align: top;\n",
       "    }\n",
       "\n",
       "    .dataframe thead th {\n",
       "        text-align: right;\n",
       "    }\n",
       "</style>\n",
       "<table border=\"1\" class=\"dataframe\">\n",
       "  <thead>\n",
       "    <tr style=\"text-align: right;\">\n",
       "      <th></th>\n",
       "      <th>id</th>\n",
       "      <th>carat</th>\n",
       "      <th>cut</th>\n",
       "      <th>color</th>\n",
       "      <th>clarity</th>\n",
       "      <th>depth</th>\n",
       "      <th>table</th>\n",
       "      <th>x</th>\n",
       "      <th>y</th>\n",
       "      <th>z</th>\n",
       "      <th>price</th>\n",
       "    </tr>\n",
       "  </thead>\n",
       "  <tbody>\n",
       "    <tr>\n",
       "      <th>0</th>\n",
       "      <td>0</td>\n",
       "      <td>0.71</td>\n",
       "      <td>Fair</td>\n",
       "      <td>F</td>\n",
       "      <td>SI1</td>\n",
       "      <td>57.0</td>\n",
       "      <td>68.0</td>\n",
       "      <td>6.05</td>\n",
       "      <td>5.87</td>\n",
       "      <td>3.40</td>\n",
       "      <td>2198</td>\n",
       "    </tr>\n",
       "    <tr>\n",
       "      <th>1</th>\n",
       "      <td>1</td>\n",
       "      <td>0.75</td>\n",
       "      <td>Premium</td>\n",
       "      <td>F</td>\n",
       "      <td>VVS2</td>\n",
       "      <td>62.4</td>\n",
       "      <td>57.0</td>\n",
       "      <td>5.88</td>\n",
       "      <td>5.75</td>\n",
       "      <td>3.63</td>\n",
       "      <td>3822</td>\n",
       "    </tr>\n",
       "    <tr>\n",
       "      <th>2</th>\n",
       "      <td>2</td>\n",
       "      <td>0.70</td>\n",
       "      <td>Good</td>\n",
       "      <td>H</td>\n",
       "      <td>VS2</td>\n",
       "      <td>59.1</td>\n",
       "      <td>65.0</td>\n",
       "      <td>5.75</td>\n",
       "      <td>5.85</td>\n",
       "      <td>3.43</td>\n",
       "      <td>2234</td>\n",
       "    </tr>\n",
       "    <tr>\n",
       "      <th>3</th>\n",
       "      <td>3</td>\n",
       "      <td>1.75</td>\n",
       "      <td>Premium</td>\n",
       "      <td>I</td>\n",
       "      <td>VS1</td>\n",
       "      <td>60.6</td>\n",
       "      <td>60.0</td>\n",
       "      <td>7.80</td>\n",
       "      <td>7.84</td>\n",
       "      <td>4.74</td>\n",
       "      <td>12416</td>\n",
       "    </tr>\n",
       "    <tr>\n",
       "      <th>4</th>\n",
       "      <td>4</td>\n",
       "      <td>1.18</td>\n",
       "      <td>Premium</td>\n",
       "      <td>G</td>\n",
       "      <td>VVS2</td>\n",
       "      <td>59.7</td>\n",
       "      <td>58.0</td>\n",
       "      <td>6.94</td>\n",
       "      <td>6.90</td>\n",
       "      <td>4.13</td>\n",
       "      <td>9537</td>\n",
       "    </tr>\n",
       "    <tr>\n",
       "      <th>...</th>\n",
       "      <td>...</td>\n",
       "      <td>...</td>\n",
       "      <td>...</td>\n",
       "      <td>...</td>\n",
       "      <td>...</td>\n",
       "      <td>...</td>\n",
       "      <td>...</td>\n",
       "      <td>...</td>\n",
       "      <td>...</td>\n",
       "      <td>...</td>\n",
       "      <td>...</td>\n",
       "    </tr>\n",
       "    <tr>\n",
       "      <th>40450</th>\n",
       "      <td>40450</td>\n",
       "      <td>1.07</td>\n",
       "      <td>Ideal</td>\n",
       "      <td>F</td>\n",
       "      <td>SI1</td>\n",
       "      <td>62.7</td>\n",
       "      <td>56.0</td>\n",
       "      <td>6.47</td>\n",
       "      <td>6.53</td>\n",
       "      <td>4.08</td>\n",
       "      <td>5982</td>\n",
       "    </tr>\n",
       "    <tr>\n",
       "      <th>40451</th>\n",
       "      <td>40451</td>\n",
       "      <td>1.19</td>\n",
       "      <td>Premium</td>\n",
       "      <td>G</td>\n",
       "      <td>SI2</td>\n",
       "      <td>58.9</td>\n",
       "      <td>60.0</td>\n",
       "      <td>7.00</td>\n",
       "      <td>6.92</td>\n",
       "      <td>4.09</td>\n",
       "      <td>4758</td>\n",
       "    </tr>\n",
       "    <tr>\n",
       "      <th>40452</th>\n",
       "      <td>40452</td>\n",
       "      <td>2.04</td>\n",
       "      <td>Premium</td>\n",
       "      <td>F</td>\n",
       "      <td>SI2</td>\n",
       "      <td>60.2</td>\n",
       "      <td>58.0</td>\n",
       "      <td>8.24</td>\n",
       "      <td>8.17</td>\n",
       "      <td>4.94</td>\n",
       "      <td>18231</td>\n",
       "    </tr>\n",
       "    <tr>\n",
       "      <th>40453</th>\n",
       "      <td>40453</td>\n",
       "      <td>0.86</td>\n",
       "      <td>Premium</td>\n",
       "      <td>E</td>\n",
       "      <td>SI1</td>\n",
       "      <td>61.9</td>\n",
       "      <td>61.0</td>\n",
       "      <td>6.07</td>\n",
       "      <td>5.99</td>\n",
       "      <td>3.73</td>\n",
       "      <td>3323</td>\n",
       "    </tr>\n",
       "    <tr>\n",
       "      <th>40454</th>\n",
       "      <td>40454</td>\n",
       "      <td>1.55</td>\n",
       "      <td>Very Good</td>\n",
       "      <td>H</td>\n",
       "      <td>SI1</td>\n",
       "      <td>63.2</td>\n",
       "      <td>57.0</td>\n",
       "      <td>7.35</td>\n",
       "      <td>7.31</td>\n",
       "      <td>4.64</td>\n",
       "      <td>7066</td>\n",
       "    </tr>\n",
       "  </tbody>\n",
       "</table>\n",
       "<p>40455 rows × 11 columns</p>\n",
       "</div>"
      ],
      "text/plain": [
       "          id  carat        cut color clarity  depth  table     x     y     z  \\\n",
       "0          0   0.71       Fair     F     SI1   57.0   68.0  6.05  5.87  3.40   \n",
       "1          1   0.75    Premium     F    VVS2   62.4   57.0  5.88  5.75  3.63   \n",
       "2          2   0.70       Good     H     VS2   59.1   65.0  5.75  5.85  3.43   \n",
       "3          3   1.75    Premium     I     VS1   60.6   60.0  7.80  7.84  4.74   \n",
       "4          4   1.18    Premium     G    VVS2   59.7   58.0  6.94  6.90  4.13   \n",
       "...      ...    ...        ...   ...     ...    ...    ...   ...   ...   ...   \n",
       "40450  40450   1.07      Ideal     F     SI1   62.7   56.0  6.47  6.53  4.08   \n",
       "40451  40451   1.19    Premium     G     SI2   58.9   60.0  7.00  6.92  4.09   \n",
       "40452  40452   2.04    Premium     F     SI2   60.2   58.0  8.24  8.17  4.94   \n",
       "40453  40453   0.86    Premium     E     SI1   61.9   61.0  6.07  5.99  3.73   \n",
       "40454  40454   1.55  Very Good     H     SI1   63.2   57.0  7.35  7.31  4.64   \n",
       "\n",
       "       price  \n",
       "0       2198  \n",
       "1       3822  \n",
       "2       2234  \n",
       "3      12416  \n",
       "4       9537  \n",
       "...      ...  \n",
       "40450   5982  \n",
       "40451   4758  \n",
       "40452  18231  \n",
       "40453   3323  \n",
       "40454   7066  \n",
       "\n",
       "[40455 rows x 11 columns]"
      ]
     },
     "execution_count": 14,
     "metadata": {},
     "output_type": "execute_result"
    }
   ],
   "source": [
    "df"
   ]
  },
  {
   "cell_type": "code",
   "execution_count": 15,
   "id": "70f3737c",
   "metadata": {
    "scrolled": false
   },
   "outputs": [
    {
     "data": {
      "text/plain": [
       "['Color_F', 'Color_H', 'Color_I', 'Color_G', 'Color_J', 'Color_E', 'Color_D']"
      ]
     },
     "execution_count": 15,
     "metadata": {},
     "output_type": "execute_result"
    }
   ],
   "source": [
    "labels = [\"Color_\" + a for a in list(df.color.unique())]\n",
    "#df.cut.unique()\n",
    "#labels = [\"Title_\" + a for a in list(data.Title.unique())]\n",
    "labels"
   ]
  },
  {
   "cell_type": "code",
   "execution_count": 16,
   "id": "924d56d4",
   "metadata": {},
   "outputs": [],
   "source": [
    "COLOR = onehotencoder.fit_transform(df[\"color\"].values.reshape(-1,1)).toarray()"
   ]
  },
  {
   "cell_type": "code",
   "execution_count": 17,
   "id": "7bdd5faf",
   "metadata": {},
   "outputs": [],
   "source": [
    "df[labels] = pd.DataFrame(COLOR,index = df.index)"
   ]
  },
  {
   "cell_type": "code",
   "execution_count": 18,
   "id": "5f50929f",
   "metadata": {},
   "outputs": [
    {
     "data": {
      "text/html": [
       "<div>\n",
       "<style scoped>\n",
       "    .dataframe tbody tr th:only-of-type {\n",
       "        vertical-align: middle;\n",
       "    }\n",
       "\n",
       "    .dataframe tbody tr th {\n",
       "        vertical-align: top;\n",
       "    }\n",
       "\n",
       "    .dataframe thead th {\n",
       "        text-align: right;\n",
       "    }\n",
       "</style>\n",
       "<table border=\"1\" class=\"dataframe\">\n",
       "  <thead>\n",
       "    <tr style=\"text-align: right;\">\n",
       "      <th></th>\n",
       "      <th>id</th>\n",
       "      <th>carat</th>\n",
       "      <th>cut</th>\n",
       "      <th>color</th>\n",
       "      <th>clarity</th>\n",
       "      <th>depth</th>\n",
       "      <th>table</th>\n",
       "      <th>x</th>\n",
       "      <th>y</th>\n",
       "      <th>z</th>\n",
       "      <th>price</th>\n",
       "      <th>Color_F</th>\n",
       "      <th>Color_H</th>\n",
       "      <th>Color_I</th>\n",
       "      <th>Color_G</th>\n",
       "      <th>Color_J</th>\n",
       "      <th>Color_E</th>\n",
       "      <th>Color_D</th>\n",
       "    </tr>\n",
       "  </thead>\n",
       "  <tbody>\n",
       "    <tr>\n",
       "      <th>0</th>\n",
       "      <td>0</td>\n",
       "      <td>0.71</td>\n",
       "      <td>Fair</td>\n",
       "      <td>F</td>\n",
       "      <td>SI1</td>\n",
       "      <td>57.0</td>\n",
       "      <td>68.0</td>\n",
       "      <td>6.05</td>\n",
       "      <td>5.87</td>\n",
       "      <td>3.40</td>\n",
       "      <td>2198</td>\n",
       "      <td>0.0</td>\n",
       "      <td>0.0</td>\n",
       "      <td>1.0</td>\n",
       "      <td>0.0</td>\n",
       "      <td>0.0</td>\n",
       "      <td>0.0</td>\n",
       "      <td>0.0</td>\n",
       "    </tr>\n",
       "    <tr>\n",
       "      <th>1</th>\n",
       "      <td>1</td>\n",
       "      <td>0.75</td>\n",
       "      <td>Premium</td>\n",
       "      <td>F</td>\n",
       "      <td>VVS2</td>\n",
       "      <td>62.4</td>\n",
       "      <td>57.0</td>\n",
       "      <td>5.88</td>\n",
       "      <td>5.75</td>\n",
       "      <td>3.63</td>\n",
       "      <td>3822</td>\n",
       "      <td>0.0</td>\n",
       "      <td>0.0</td>\n",
       "      <td>1.0</td>\n",
       "      <td>0.0</td>\n",
       "      <td>0.0</td>\n",
       "      <td>0.0</td>\n",
       "      <td>0.0</td>\n",
       "    </tr>\n",
       "    <tr>\n",
       "      <th>2</th>\n",
       "      <td>2</td>\n",
       "      <td>0.70</td>\n",
       "      <td>Good</td>\n",
       "      <td>H</td>\n",
       "      <td>VS2</td>\n",
       "      <td>59.1</td>\n",
       "      <td>65.0</td>\n",
       "      <td>5.75</td>\n",
       "      <td>5.85</td>\n",
       "      <td>3.43</td>\n",
       "      <td>2234</td>\n",
       "      <td>0.0</td>\n",
       "      <td>0.0</td>\n",
       "      <td>0.0</td>\n",
       "      <td>0.0</td>\n",
       "      <td>1.0</td>\n",
       "      <td>0.0</td>\n",
       "      <td>0.0</td>\n",
       "    </tr>\n",
       "    <tr>\n",
       "      <th>3</th>\n",
       "      <td>3</td>\n",
       "      <td>1.75</td>\n",
       "      <td>Premium</td>\n",
       "      <td>I</td>\n",
       "      <td>VS1</td>\n",
       "      <td>60.6</td>\n",
       "      <td>60.0</td>\n",
       "      <td>7.80</td>\n",
       "      <td>7.84</td>\n",
       "      <td>4.74</td>\n",
       "      <td>12416</td>\n",
       "      <td>0.0</td>\n",
       "      <td>0.0</td>\n",
       "      <td>0.0</td>\n",
       "      <td>0.0</td>\n",
       "      <td>0.0</td>\n",
       "      <td>1.0</td>\n",
       "      <td>0.0</td>\n",
       "    </tr>\n",
       "    <tr>\n",
       "      <th>4</th>\n",
       "      <td>4</td>\n",
       "      <td>1.18</td>\n",
       "      <td>Premium</td>\n",
       "      <td>G</td>\n",
       "      <td>VVS2</td>\n",
       "      <td>59.7</td>\n",
       "      <td>58.0</td>\n",
       "      <td>6.94</td>\n",
       "      <td>6.90</td>\n",
       "      <td>4.13</td>\n",
       "      <td>9537</td>\n",
       "      <td>0.0</td>\n",
       "      <td>0.0</td>\n",
       "      <td>0.0</td>\n",
       "      <td>1.0</td>\n",
       "      <td>0.0</td>\n",
       "      <td>0.0</td>\n",
       "      <td>0.0</td>\n",
       "    </tr>\n",
       "  </tbody>\n",
       "</table>\n",
       "</div>"
      ],
      "text/plain": [
       "   id  carat      cut color clarity  depth  table     x     y     z  price  \\\n",
       "0   0   0.71     Fair     F     SI1   57.0   68.0  6.05  5.87  3.40   2198   \n",
       "1   1   0.75  Premium     F    VVS2   62.4   57.0  5.88  5.75  3.63   3822   \n",
       "2   2   0.70     Good     H     VS2   59.1   65.0  5.75  5.85  3.43   2234   \n",
       "3   3   1.75  Premium     I     VS1   60.6   60.0  7.80  7.84  4.74  12416   \n",
       "4   4   1.18  Premium     G    VVS2   59.7   58.0  6.94  6.90  4.13   9537   \n",
       "\n",
       "   Color_F  Color_H  Color_I  Color_G  Color_J  Color_E  Color_D  \n",
       "0      0.0      0.0      1.0      0.0      0.0      0.0      0.0  \n",
       "1      0.0      0.0      1.0      0.0      0.0      0.0      0.0  \n",
       "2      0.0      0.0      0.0      0.0      1.0      0.0      0.0  \n",
       "3      0.0      0.0      0.0      0.0      0.0      1.0      0.0  \n",
       "4      0.0      0.0      0.0      1.0      0.0      0.0      0.0  "
      ]
     },
     "execution_count": 18,
     "metadata": {},
     "output_type": "execute_result"
    }
   ],
   "source": [
    "df.head()"
   ]
  },
  {
   "cell_type": "markdown",
   "id": "937804bf",
   "metadata": {},
   "source": [
    "## Estaría bien darle orden gerarquico a CUT"
   ]
  },
  {
   "cell_type": "code",
   "execution_count": 19,
   "id": "5de18948",
   "metadata": {},
   "outputs": [
    {
     "data": {
      "text/plain": [
       "array(['Fair', 'Premium', 'Good', 'Very Good', 'Ideal'], dtype=object)"
      ]
     },
     "execution_count": 19,
     "metadata": {},
     "output_type": "execute_result"
    }
   ],
   "source": [
    "df.cut.unique()"
   ]
  },
  {
   "cell_type": "code",
   "execution_count": 20,
   "id": "301c0d92",
   "metadata": {},
   "outputs": [],
   "source": [
    "dic_para_hot = {\"Fair\": 1,\n",
    "                \"Good\": 2,\n",
    "                \"Very Good\": 3,\n",
    "                \"Premium\":4,\n",
    "                \"Ideal\":6\n",
    "               }"
   ]
  },
  {
   "cell_type": "code",
   "execution_count": 21,
   "id": "07ec7d4f",
   "metadata": {},
   "outputs": [],
   "source": [
    "df.cut = df.cut.map(dic_para_hot)"
   ]
  },
  {
   "cell_type": "code",
   "execution_count": 22,
   "id": "e6ee9f6f",
   "metadata": {
    "scrolled": true
   },
   "outputs": [
    {
     "data": {
      "text/plain": [
       "array(['SI1', 'VVS2', 'VS2', 'VS1', 'VVS1', 'I1', 'SI2', 'IF'],\n",
       "      dtype=object)"
      ]
     },
     "execution_count": 22,
     "metadata": {},
     "output_type": "execute_result"
    }
   ],
   "source": [
    "df.clarity.unique()"
   ]
  },
  {
   "cell_type": "code",
   "execution_count": 23,
   "id": "a0deb893",
   "metadata": {},
   "outputs": [],
   "source": [
    "## Parece que no importa en el precio "
   ]
  },
  {
   "cell_type": "code",
   "execution_count": 24,
   "id": "408e8943",
   "metadata": {
    "scrolled": true
   },
   "outputs": [
    {
     "data": {
      "text/plain": [
       "['Clarity_SI1',\n",
       " 'Clarity_VVS2',\n",
       " 'Clarity_VS2',\n",
       " 'Clarity_VS1',\n",
       " 'Clarity_VVS1',\n",
       " 'Clarity_I1',\n",
       " 'Clarity_SI2',\n",
       " 'Clarity_IF']"
      ]
     },
     "execution_count": 24,
     "metadata": {},
     "output_type": "execute_result"
    }
   ],
   "source": [
    "labels_Clarity = [\"Clarity_\" + a for a in list(df.clarity.unique())]\n",
    "#df.cut.unique()\n",
    "#labels = [\"Title_\" + a for a in list(data.Title.unique())]\n",
    "labels_Clarity"
   ]
  },
  {
   "cell_type": "code",
   "execution_count": 25,
   "id": "6b6e70c3",
   "metadata": {},
   "outputs": [],
   "source": [
    "CLARITY = onehotencoder.fit_transform(df[\"clarity\"].values.reshape(-1,1)).toarray()"
   ]
  },
  {
   "cell_type": "code",
   "execution_count": 26,
   "id": "965bf594",
   "metadata": {},
   "outputs": [],
   "source": [
    "df[labels_Clarity] = pd.DataFrame(CLARITY,index = df.index)"
   ]
  },
  {
   "cell_type": "code",
   "execution_count": null,
   "id": "2c8ae161",
   "metadata": {},
   "outputs": [],
   "source": []
  },
  {
   "cell_type": "markdown",
   "id": "415f27be",
   "metadata": {},
   "source": [
    "Miro si hay algunas variables con alta correlación    "
   ]
  },
  {
   "cell_type": "markdown",
   "id": "121028c7",
   "metadata": {},
   "source": [
    "## Feature Scaling:  Normalización de carat"
   ]
  },
  {
   "cell_type": "code",
   "execution_count": 27,
   "id": "5a59df56",
   "metadata": {},
   "outputs": [],
   "source": [
    "from sklearn.preprocessing import MinMaxScaler"
   ]
  },
  {
   "cell_type": "code",
   "execution_count": 28,
   "id": "8ed2908a",
   "metadata": {},
   "outputs": [],
   "source": [
    "min_max = MinMaxScaler()"
   ]
  },
  {
   "cell_type": "code",
   "execution_count": 29,
   "id": "0b8332b5",
   "metadata": {},
   "outputs": [],
   "source": [
    "df[\"carat\"] = min_max.fit_transform(df[[\"carat\"]])"
   ]
  },
  {
   "cell_type": "code",
   "execution_count": 30,
   "id": "82f4fbb0",
   "metadata": {},
   "outputs": [],
   "source": [
    "dfr = df.drop(['color',\"clarity\"], 1)\n"
   ]
  },
  {
   "cell_type": "code",
   "execution_count": 39,
   "id": "04ffc6fe",
   "metadata": {},
   "outputs": [
    {
     "data": {
      "text/html": [
       "<div>\n",
       "<style scoped>\n",
       "    .dataframe tbody tr th:only-of-type {\n",
       "        vertical-align: middle;\n",
       "    }\n",
       "\n",
       "    .dataframe tbody tr th {\n",
       "        vertical-align: top;\n",
       "    }\n",
       "\n",
       "    .dataframe thead th {\n",
       "        text-align: right;\n",
       "    }\n",
       "</style>\n",
       "<table border=\"1\" class=\"dataframe\">\n",
       "  <thead>\n",
       "    <tr style=\"text-align: right;\">\n",
       "      <th></th>\n",
       "      <th>id</th>\n",
       "      <th>carat</th>\n",
       "      <th>cut</th>\n",
       "      <th>depth</th>\n",
       "      <th>table</th>\n",
       "      <th>x</th>\n",
       "      <th>y</th>\n",
       "      <th>z</th>\n",
       "      <th>price</th>\n",
       "      <th>Color_F</th>\n",
       "      <th>...</th>\n",
       "      <th>Color_E</th>\n",
       "      <th>Color_D</th>\n",
       "      <th>Clarity_SI1</th>\n",
       "      <th>Clarity_VVS2</th>\n",
       "      <th>Clarity_VS2</th>\n",
       "      <th>Clarity_VS1</th>\n",
       "      <th>Clarity_VVS1</th>\n",
       "      <th>Clarity_I1</th>\n",
       "      <th>Clarity_SI2</th>\n",
       "      <th>Clarity_IF</th>\n",
       "    </tr>\n",
       "  </thead>\n",
       "  <tbody>\n",
       "    <tr>\n",
       "      <th>0</th>\n",
       "      <td>0</td>\n",
       "      <td>0.118605</td>\n",
       "      <td>1</td>\n",
       "      <td>57.0</td>\n",
       "      <td>68.0</td>\n",
       "      <td>6.05</td>\n",
       "      <td>5.87</td>\n",
       "      <td>3.4</td>\n",
       "      <td>2198</td>\n",
       "      <td>0.0</td>\n",
       "      <td>...</td>\n",
       "      <td>0.0</td>\n",
       "      <td>0.0</td>\n",
       "      <td>0.0</td>\n",
       "      <td>0.0</td>\n",
       "      <td>1.0</td>\n",
       "      <td>0.0</td>\n",
       "      <td>0.0</td>\n",
       "      <td>0.0</td>\n",
       "      <td>0.0</td>\n",
       "      <td>0.0</td>\n",
       "    </tr>\n",
       "  </tbody>\n",
       "</table>\n",
       "<p>1 rows × 24 columns</p>\n",
       "</div>"
      ],
      "text/plain": [
       "   id     carat  cut  depth  table     x     y    z  price  Color_F  ...  \\\n",
       "0   0  0.118605    1   57.0   68.0  6.05  5.87  3.4   2198      0.0  ...   \n",
       "\n",
       "   Color_E  Color_D  Clarity_SI1  Clarity_VVS2  Clarity_VS2  Clarity_VS1  \\\n",
       "0      0.0      0.0          0.0           0.0          1.0          0.0   \n",
       "\n",
       "   Clarity_VVS1  Clarity_I1  Clarity_SI2  Clarity_IF  \n",
       "0           0.0         0.0          0.0         0.0  \n",
       "\n",
       "[1 rows x 24 columns]"
      ]
     },
     "execution_count": 39,
     "metadata": {},
     "output_type": "execute_result"
    }
   ],
   "source": [
    "dfr.head(1)"
   ]
  },
  {
   "cell_type": "markdown",
   "id": "d2a2e17b",
   "metadata": {},
   "source": [
    "# Preparo el Data Set para hacer Train_Test_Split"
   ]
  },
  {
   "cell_type": "code",
   "execution_count": 40,
   "id": "736ec577",
   "metadata": {},
   "outputs": [],
   "source": [
    "from sklearn.model_selection import train_test_split"
   ]
  },
  {
   "cell_type": "code",
   "execution_count": 41,
   "id": "6e4c1aff",
   "metadata": {},
   "outputs": [
    {
     "data": {
      "text/plain": [
       "Index(['id', 'carat', 'cut', 'depth', 'table', 'x', 'y', 'z', 'price',\n",
       "       'Color_F', 'Color_H', 'Color_I', 'Color_G', 'Color_J', 'Color_E',\n",
       "       'Color_D', 'Clarity_SI1', 'Clarity_VVS2', 'Clarity_VS2', 'Clarity_VS1',\n",
       "       'Clarity_VVS1', 'Clarity_I1', 'Clarity_SI2', 'Clarity_IF'],\n",
       "      dtype='object')"
      ]
     },
     "execution_count": 41,
     "metadata": {},
     "output_type": "execute_result"
    }
   ],
   "source": [
    "dfr.columns"
   ]
  },
  {
   "cell_type": "code",
   "execution_count": null,
   "id": "cfbd7095",
   "metadata": {},
   "outputs": [],
   "source": []
  },
  {
   "cell_type": "code",
   "execution_count": 42,
   "id": "638b24ae",
   "metadata": {},
   "outputs": [],
   "source": [
    "Columnas_X = [a for a in (list(dfr.columns)) if a != \"price\"]\n",
    "\n"
   ]
  },
  {
   "cell_type": "code",
   "execution_count": 43,
   "id": "c985b9c2",
   "metadata": {},
   "outputs": [],
   "source": [
    "X = dfr[Columnas_X]\n"
   ]
  },
  {
   "cell_type": "code",
   "execution_count": 44,
   "id": "53d858b8",
   "metadata": {},
   "outputs": [],
   "source": [
    "y = dfr[\"price\"]"
   ]
  },
  {
   "cell_type": "code",
   "execution_count": 45,
   "id": "7a1eb156",
   "metadata": {},
   "outputs": [],
   "source": [
    "X_train, X_test, y_train, y_test = train_test_split(X,y, test_size = 0.2)"
   ]
  },
  {
   "cell_type": "code",
   "execution_count": 46,
   "id": "21501773",
   "metadata": {},
   "outputs": [],
   "source": [
    "from sklearn.linear_model import Ridge, Lasso\n",
    "from sklearn.linear_model import SGDRegressor\n",
    "from sklearn.neighbors import KNeighborsRegressor\n",
    "from sklearn.ensemble import GradientBoostingRegressor"
   ]
  },
  {
   "cell_type": "code",
   "execution_count": 38,
   "id": "b1547fc0",
   "metadata": {},
   "outputs": [],
   "source": [
    "models = { \"ridge\": Ridge(),\n",
    "          \"lasso\": Lasso(),\n",
    "          \"sgd\": SGDRegressor(),\n",
    "          \"knn\": KNeighborsRegressor(),\n",
    "          \"gradient\": GradientBoostingRegressor()\n",
    "}"
   ]
  },
  {
   "cell_type": "code",
   "execution_count": 47,
   "id": "71bb62cb",
   "metadata": {},
   "outputs": [
    {
     "name": "stdout",
     "output_type": "stream",
     "text": [
      "Entrenando modelo ---> ridge\n",
      "He acabado :)\n",
      "Entrenando modelo ---> lasso\n",
      "He acabado :)\n",
      "Entrenando modelo ---> sgd\n",
      "He acabado :)\n",
      "Entrenando modelo ---> knn\n",
      "He acabado :)\n",
      "Entrenando modelo ---> gradient\n",
      "He acabado :)\n"
     ]
    }
   ],
   "source": [
    "for name, model in models.items():\n",
    "    print(f\"Entrenando modelo ---> {name}\")\n",
    "    model.fit(X_train,y_train)\n",
    "    print(f\"He acabado :)\")"
   ]
  },
  {
   "cell_type": "markdown",
   "id": "26510690",
   "metadata": {},
   "source": [
    "## Métricas"
   ]
  },
  {
   "cell_type": "code",
   "execution_count": 48,
   "id": "e7daad45",
   "metadata": {},
   "outputs": [],
   "source": [
    "from sklearn import metrics\n",
    "import numpy as np"
   ]
  },
  {
   "cell_type": "code",
   "execution_count": 49,
   "id": "6d3318f8",
   "metadata": {},
   "outputs": [
    {
     "name": "stdout",
     "output_type": "stream",
     "text": [
      "--------ridge--------\n",
      "MAE:  758.0929474154306\n",
      "MSE:  1352830.2745230733\n",
      "RMSE:  1163.1123224018709\n",
      "R2:  0.9160335215698556\n",
      "\n",
      "\n",
      "--------lasso--------\n",
      "MAE:  753.0465444955012\n",
      "MSE:  1353461.6659145928\n",
      "RMSE:  1163.383713963107\n",
      "R2:  0.915994332831508\n",
      "\n",
      "\n",
      "--------sgd--------\n",
      "MAE:  5.0673609262131e+16\n",
      "MSE:  3.420517938088339e+33\n",
      "RMSE:  5.848519417842723e+16\n",
      "R2:  -2.1230220159706964e+26\n",
      "\n",
      "\n",
      "--------knn--------\n",
      "MAE:  2731.585687801261\n",
      "MSE:  14507484.775988137\n",
      "RMSE:  3808.869225372294\n",
      "R2:  0.0995600627372859\n",
      "\n",
      "\n",
      "--------gradient--------\n",
      "MAE:  415.0694326249268\n",
      "MSE:  561886.7510017048\n",
      "RMSE:  749.5910558442549\n",
      "R2:  0.9651252247627284\n",
      "\n",
      "\n"
     ]
    }
   ],
   "source": [
    "for name, model in models.items():\n",
    "    y_pred = model.predict(X_test)\n",
    "    print(f\"--------{name}--------\")\n",
    "    print(\"MAE: \", metrics.mean_absolute_error(y_test, y_pred))\n",
    "    print(\"MSE: \", metrics.mean_squared_error(y_test,y_pred))\n",
    "    print(\"RMSE: \", np.sqrt(metrics.mean_squared_error(y_test,y_pred)))\n",
    "    print(\"R2: \", metrics.r2_score(y_test,y_pred))\n",
    "    print(\"\\n\")"
   ]
  },
  {
   "cell_type": "code",
   "execution_count": 55,
   "id": "d440fd79",
   "metadata": {},
   "outputs": [],
   "source": [
    "#to_predict = dfr.drop(\"price\", 1)"
   ]
  },
  {
   "cell_type": "code",
   "execution_count": 56,
   "id": "aef26299",
   "metadata": {
    "scrolled": true
   },
   "outputs": [
    {
     "data": {
      "text/html": [
       "<div>\n",
       "<style scoped>\n",
       "    .dataframe tbody tr th:only-of-type {\n",
       "        vertical-align: middle;\n",
       "    }\n",
       "\n",
       "    .dataframe tbody tr th {\n",
       "        vertical-align: top;\n",
       "    }\n",
       "\n",
       "    .dataframe thead th {\n",
       "        text-align: right;\n",
       "    }\n",
       "</style>\n",
       "<table border=\"1\" class=\"dataframe\">\n",
       "  <thead>\n",
       "    <tr style=\"text-align: right;\">\n",
       "      <th></th>\n",
       "      <th>id</th>\n",
       "      <th>carat</th>\n",
       "      <th>cut</th>\n",
       "      <th>depth</th>\n",
       "      <th>table</th>\n",
       "      <th>x</th>\n",
       "      <th>y</th>\n",
       "      <th>z</th>\n",
       "      <th>Color_F</th>\n",
       "      <th>Color_H</th>\n",
       "      <th>...</th>\n",
       "      <th>Color_E</th>\n",
       "      <th>Color_D</th>\n",
       "      <th>Clarity_SI1</th>\n",
       "      <th>Clarity_VVS2</th>\n",
       "      <th>Clarity_VS2</th>\n",
       "      <th>Clarity_VS1</th>\n",
       "      <th>Clarity_VVS1</th>\n",
       "      <th>Clarity_I1</th>\n",
       "      <th>Clarity_SI2</th>\n",
       "      <th>Clarity_IF</th>\n",
       "    </tr>\n",
       "  </thead>\n",
       "  <tbody>\n",
       "    <tr>\n",
       "      <th>0</th>\n",
       "      <td>0</td>\n",
       "      <td>0.118605</td>\n",
       "      <td>1</td>\n",
       "      <td>57.0</td>\n",
       "      <td>68.0</td>\n",
       "      <td>6.05</td>\n",
       "      <td>5.87</td>\n",
       "      <td>3.40</td>\n",
       "      <td>0.0</td>\n",
       "      <td>0.0</td>\n",
       "      <td>...</td>\n",
       "      <td>0.0</td>\n",
       "      <td>0.0</td>\n",
       "      <td>0.0</td>\n",
       "      <td>0.0</td>\n",
       "      <td>1.0</td>\n",
       "      <td>0.0</td>\n",
       "      <td>0.0</td>\n",
       "      <td>0.0</td>\n",
       "      <td>0.0</td>\n",
       "      <td>0.0</td>\n",
       "    </tr>\n",
       "    <tr>\n",
       "      <th>1</th>\n",
       "      <td>1</td>\n",
       "      <td>0.127907</td>\n",
       "      <td>4</td>\n",
       "      <td>62.4</td>\n",
       "      <td>57.0</td>\n",
       "      <td>5.88</td>\n",
       "      <td>5.75</td>\n",
       "      <td>3.63</td>\n",
       "      <td>0.0</td>\n",
       "      <td>0.0</td>\n",
       "      <td>...</td>\n",
       "      <td>0.0</td>\n",
       "      <td>0.0</td>\n",
       "      <td>0.0</td>\n",
       "      <td>0.0</td>\n",
       "      <td>0.0</td>\n",
       "      <td>0.0</td>\n",
       "      <td>0.0</td>\n",
       "      <td>0.0</td>\n",
       "      <td>0.0</td>\n",
       "      <td>1.0</td>\n",
       "    </tr>\n",
       "    <tr>\n",
       "      <th>2</th>\n",
       "      <td>2</td>\n",
       "      <td>0.116279</td>\n",
       "      <td>2</td>\n",
       "      <td>59.1</td>\n",
       "      <td>65.0</td>\n",
       "      <td>5.75</td>\n",
       "      <td>5.85</td>\n",
       "      <td>3.43</td>\n",
       "      <td>0.0</td>\n",
       "      <td>0.0</td>\n",
       "      <td>...</td>\n",
       "      <td>0.0</td>\n",
       "      <td>0.0</td>\n",
       "      <td>0.0</td>\n",
       "      <td>0.0</td>\n",
       "      <td>0.0</td>\n",
       "      <td>0.0</td>\n",
       "      <td>0.0</td>\n",
       "      <td>1.0</td>\n",
       "      <td>0.0</td>\n",
       "      <td>0.0</td>\n",
       "    </tr>\n",
       "    <tr>\n",
       "      <th>3</th>\n",
       "      <td>3</td>\n",
       "      <td>0.360465</td>\n",
       "      <td>4</td>\n",
       "      <td>60.6</td>\n",
       "      <td>60.0</td>\n",
       "      <td>7.80</td>\n",
       "      <td>7.84</td>\n",
       "      <td>4.74</td>\n",
       "      <td>0.0</td>\n",
       "      <td>0.0</td>\n",
       "      <td>...</td>\n",
       "      <td>1.0</td>\n",
       "      <td>0.0</td>\n",
       "      <td>0.0</td>\n",
       "      <td>0.0</td>\n",
       "      <td>0.0</td>\n",
       "      <td>0.0</td>\n",
       "      <td>1.0</td>\n",
       "      <td>0.0</td>\n",
       "      <td>0.0</td>\n",
       "      <td>0.0</td>\n",
       "    </tr>\n",
       "    <tr>\n",
       "      <th>4</th>\n",
       "      <td>4</td>\n",
       "      <td>0.227907</td>\n",
       "      <td>4</td>\n",
       "      <td>59.7</td>\n",
       "      <td>58.0</td>\n",
       "      <td>6.94</td>\n",
       "      <td>6.90</td>\n",
       "      <td>4.13</td>\n",
       "      <td>0.0</td>\n",
       "      <td>0.0</td>\n",
       "      <td>...</td>\n",
       "      <td>0.0</td>\n",
       "      <td>0.0</td>\n",
       "      <td>0.0</td>\n",
       "      <td>0.0</td>\n",
       "      <td>0.0</td>\n",
       "      <td>0.0</td>\n",
       "      <td>0.0</td>\n",
       "      <td>0.0</td>\n",
       "      <td>0.0</td>\n",
       "      <td>1.0</td>\n",
       "    </tr>\n",
       "    <tr>\n",
       "      <th>...</th>\n",
       "      <td>...</td>\n",
       "      <td>...</td>\n",
       "      <td>...</td>\n",
       "      <td>...</td>\n",
       "      <td>...</td>\n",
       "      <td>...</td>\n",
       "      <td>...</td>\n",
       "      <td>...</td>\n",
       "      <td>...</td>\n",
       "      <td>...</td>\n",
       "      <td>...</td>\n",
       "      <td>...</td>\n",
       "      <td>...</td>\n",
       "      <td>...</td>\n",
       "      <td>...</td>\n",
       "      <td>...</td>\n",
       "      <td>...</td>\n",
       "      <td>...</td>\n",
       "      <td>...</td>\n",
       "      <td>...</td>\n",
       "      <td>...</td>\n",
       "    </tr>\n",
       "    <tr>\n",
       "      <th>40450</th>\n",
       "      <td>40450</td>\n",
       "      <td>0.202326</td>\n",
       "      <td>6</td>\n",
       "      <td>62.7</td>\n",
       "      <td>56.0</td>\n",
       "      <td>6.47</td>\n",
       "      <td>6.53</td>\n",
       "      <td>4.08</td>\n",
       "      <td>0.0</td>\n",
       "      <td>0.0</td>\n",
       "      <td>...</td>\n",
       "      <td>0.0</td>\n",
       "      <td>0.0</td>\n",
       "      <td>0.0</td>\n",
       "      <td>0.0</td>\n",
       "      <td>1.0</td>\n",
       "      <td>0.0</td>\n",
       "      <td>0.0</td>\n",
       "      <td>0.0</td>\n",
       "      <td>0.0</td>\n",
       "      <td>0.0</td>\n",
       "    </tr>\n",
       "    <tr>\n",
       "      <th>40451</th>\n",
       "      <td>40451</td>\n",
       "      <td>0.230233</td>\n",
       "      <td>4</td>\n",
       "      <td>58.9</td>\n",
       "      <td>60.0</td>\n",
       "      <td>7.00</td>\n",
       "      <td>6.92</td>\n",
       "      <td>4.09</td>\n",
       "      <td>0.0</td>\n",
       "      <td>0.0</td>\n",
       "      <td>...</td>\n",
       "      <td>0.0</td>\n",
       "      <td>0.0</td>\n",
       "      <td>0.0</td>\n",
       "      <td>0.0</td>\n",
       "      <td>0.0</td>\n",
       "      <td>1.0</td>\n",
       "      <td>0.0</td>\n",
       "      <td>0.0</td>\n",
       "      <td>0.0</td>\n",
       "      <td>0.0</td>\n",
       "    </tr>\n",
       "    <tr>\n",
       "      <th>40452</th>\n",
       "      <td>40452</td>\n",
       "      <td>0.427907</td>\n",
       "      <td>4</td>\n",
       "      <td>60.2</td>\n",
       "      <td>58.0</td>\n",
       "      <td>8.24</td>\n",
       "      <td>8.17</td>\n",
       "      <td>4.94</td>\n",
       "      <td>0.0</td>\n",
       "      <td>0.0</td>\n",
       "      <td>...</td>\n",
       "      <td>0.0</td>\n",
       "      <td>0.0</td>\n",
       "      <td>0.0</td>\n",
       "      <td>0.0</td>\n",
       "      <td>0.0</td>\n",
       "      <td>1.0</td>\n",
       "      <td>0.0</td>\n",
       "      <td>0.0</td>\n",
       "      <td>0.0</td>\n",
       "      <td>0.0</td>\n",
       "    </tr>\n",
       "    <tr>\n",
       "      <th>40453</th>\n",
       "      <td>40453</td>\n",
       "      <td>0.153488</td>\n",
       "      <td>4</td>\n",
       "      <td>61.9</td>\n",
       "      <td>61.0</td>\n",
       "      <td>6.07</td>\n",
       "      <td>5.99</td>\n",
       "      <td>3.73</td>\n",
       "      <td>0.0</td>\n",
       "      <td>1.0</td>\n",
       "      <td>...</td>\n",
       "      <td>0.0</td>\n",
       "      <td>0.0</td>\n",
       "      <td>0.0</td>\n",
       "      <td>0.0</td>\n",
       "      <td>1.0</td>\n",
       "      <td>0.0</td>\n",
       "      <td>0.0</td>\n",
       "      <td>0.0</td>\n",
       "      <td>0.0</td>\n",
       "      <td>0.0</td>\n",
       "    </tr>\n",
       "    <tr>\n",
       "      <th>40454</th>\n",
       "      <td>40454</td>\n",
       "      <td>0.313953</td>\n",
       "      <td>3</td>\n",
       "      <td>63.2</td>\n",
       "      <td>57.0</td>\n",
       "      <td>7.35</td>\n",
       "      <td>7.31</td>\n",
       "      <td>4.64</td>\n",
       "      <td>0.0</td>\n",
       "      <td>0.0</td>\n",
       "      <td>...</td>\n",
       "      <td>0.0</td>\n",
       "      <td>0.0</td>\n",
       "      <td>0.0</td>\n",
       "      <td>0.0</td>\n",
       "      <td>1.0</td>\n",
       "      <td>0.0</td>\n",
       "      <td>0.0</td>\n",
       "      <td>0.0</td>\n",
       "      <td>0.0</td>\n",
       "      <td>0.0</td>\n",
       "    </tr>\n",
       "  </tbody>\n",
       "</table>\n",
       "<p>40455 rows × 23 columns</p>\n",
       "</div>"
      ],
      "text/plain": [
       "          id     carat  cut  depth  table     x     y     z  Color_F  Color_H  \\\n",
       "0          0  0.118605    1   57.0   68.0  6.05  5.87  3.40      0.0      0.0   \n",
       "1          1  0.127907    4   62.4   57.0  5.88  5.75  3.63      0.0      0.0   \n",
       "2          2  0.116279    2   59.1   65.0  5.75  5.85  3.43      0.0      0.0   \n",
       "3          3  0.360465    4   60.6   60.0  7.80  7.84  4.74      0.0      0.0   \n",
       "4          4  0.227907    4   59.7   58.0  6.94  6.90  4.13      0.0      0.0   \n",
       "...      ...       ...  ...    ...    ...   ...   ...   ...      ...      ...   \n",
       "40450  40450  0.202326    6   62.7   56.0  6.47  6.53  4.08      0.0      0.0   \n",
       "40451  40451  0.230233    4   58.9   60.0  7.00  6.92  4.09      0.0      0.0   \n",
       "40452  40452  0.427907    4   60.2   58.0  8.24  8.17  4.94      0.0      0.0   \n",
       "40453  40453  0.153488    4   61.9   61.0  6.07  5.99  3.73      0.0      1.0   \n",
       "40454  40454  0.313953    3   63.2   57.0  7.35  7.31  4.64      0.0      0.0   \n",
       "\n",
       "       ...  Color_E  Color_D  Clarity_SI1  Clarity_VVS2  Clarity_VS2  \\\n",
       "0      ...      0.0      0.0          0.0           0.0          1.0   \n",
       "1      ...      0.0      0.0          0.0           0.0          0.0   \n",
       "2      ...      0.0      0.0          0.0           0.0          0.0   \n",
       "3      ...      1.0      0.0          0.0           0.0          0.0   \n",
       "4      ...      0.0      0.0          0.0           0.0          0.0   \n",
       "...    ...      ...      ...          ...           ...          ...   \n",
       "40450  ...      0.0      0.0          0.0           0.0          1.0   \n",
       "40451  ...      0.0      0.0          0.0           0.0          0.0   \n",
       "40452  ...      0.0      0.0          0.0           0.0          0.0   \n",
       "40453  ...      0.0      0.0          0.0           0.0          1.0   \n",
       "40454  ...      0.0      0.0          0.0           0.0          1.0   \n",
       "\n",
       "       Clarity_VS1  Clarity_VVS1  Clarity_I1  Clarity_SI2  Clarity_IF  \n",
       "0              0.0           0.0         0.0          0.0         0.0  \n",
       "1              0.0           0.0         0.0          0.0         1.0  \n",
       "2              0.0           0.0         1.0          0.0         0.0  \n",
       "3              0.0           1.0         0.0          0.0         0.0  \n",
       "4              0.0           0.0         0.0          0.0         1.0  \n",
       "...            ...           ...         ...          ...         ...  \n",
       "40450          0.0           0.0         0.0          0.0         0.0  \n",
       "40451          1.0           0.0         0.0          0.0         0.0  \n",
       "40452          1.0           0.0         0.0          0.0         0.0  \n",
       "40453          0.0           0.0         0.0          0.0         0.0  \n",
       "40454          0.0           0.0         0.0          0.0         0.0  \n",
       "\n",
       "[40455 rows x 23 columns]"
      ]
     },
     "execution_count": 56,
     "metadata": {},
     "output_type": "execute_result"
    }
   ],
   "source": [
    "#to_predict"
   ]
  },
  {
   "cell_type": "code",
   "execution_count": 58,
   "id": "b8d804d6",
   "metadata": {},
   "outputs": [],
   "source": [
    "#y_pred = GradientBoostingRegressor().predict(to_predict)"
   ]
  },
  {
   "cell_type": "code",
   "execution_count": null,
   "id": "a8872611",
   "metadata": {},
   "outputs": [],
   "source": []
  }
 ],
 "metadata": {
  "kernelspec": {
   "display_name": "Python 3",
   "language": "python",
   "name": "python3"
  },
  "language_info": {
   "codemirror_mode": {
    "name": "ipython",
    "version": 3
   },
   "file_extension": ".py",
   "mimetype": "text/x-python",
   "name": "python",
   "nbconvert_exporter": "python",
   "pygments_lexer": "ipython3",
   "version": "3.8.5"
  }
 },
 "nbformat": 4,
 "nbformat_minor": 5
}
