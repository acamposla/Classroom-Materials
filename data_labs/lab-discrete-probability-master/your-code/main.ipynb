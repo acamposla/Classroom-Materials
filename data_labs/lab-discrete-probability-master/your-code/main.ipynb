{
 "cells": [
  {
   "cell_type": "markdown",
   "metadata": {},
   "source": [
    "# Before your start:\n",
    "\n",
    "    Read the README.md file\n",
    "    Comment as much as you can and use the resources (README.md file)\n",
    "    Happy learning!\n",
    "\n",
    "*Notes:* \n",
    "\n",
    "- Solve the questions with python.\n",
    "\n",
    "- Round the final answer to three decimal places."
   ]
  },
  {
   "cell_type": "markdown",
   "metadata": {},
   "source": [
    "## Bernoulli's Distribution\n",
    "\n",
    "In a basket containing 100 fruits, there are 60 apples and 40 oranges. \n",
    "\n",
    "A fruit is picked randomly from the basket. \n",
    "\n",
    "1. **What is the probability that the fruit is apple?**\n",
    "1. **What is the probability that it is an orange?**"
   ]
  },
  {
   "cell_type": "code",
   "execution_count": 16,
   "metadata": {},
   "outputs": [],
   "source": [
    "\"\"\"\n",
    "\n",
    "Calculate:\n",
    "p = probability that the fruit is an apple \n",
    "q = probability that the fruit is an orange\n",
    "\"\"\"\n",
    "\n",
    "# your code here\n",
    "\n",
    "b = 100\n",
    "a = 60\n",
    "o = 40\n",
    "\n",
    "p_a= a/b\n",
    "\n",
    "p_o = o/b\n"
   ]
  },
  {
   "cell_type": "markdown",
   "metadata": {},
   "source": [
    "Now we take a random sample of 20 fruits from the basket. After each fruit is taken, a new fruit of the same type is replaced in the basket. Therefore, every time we are taking 1 fruit from 100 fruits. \n",
    "\n",
    "1. **What is the probability that the first 5 fruits are all apples?**\n",
    "\n",
    "1. **What is the probability that the first 5 fruits are all apples and the next 15 fruits are all oranges?**\n",
    "\n",
    "You can include the `p` and `q` probabilities you previous calculated in your solution."
   ]
  },
  {
   "cell_type": "code",
   "execution_count": 17,
   "metadata": {},
   "outputs": [
    {
     "data": {
      "text/plain": [
       "8.349416423424006e-08"
      ]
     },
     "execution_count": 17,
     "metadata": {},
     "output_type": "execute_result"
    }
   ],
   "source": [
    "# your code here\n",
    "\n",
    "p_a5 = p_a ** 5\n",
    "p_a5 #What is the probability that the first 5 fruits are all apples?\n",
    "\n",
    "#What is the probability that the first 5 fruits are all apples and the next 15 fruits are all oranges?\n",
    "\n",
    "p_a5_p_o15 = p_a5 * (p_o ** 15)\n",
    "p_a5_p_o15 \n",
    "#¿Por qué me sale este numero de 8.... tendría que dar 0.0000\n"
   ]
  },
  {
   "cell_type": "markdown",
   "metadata": {},
   "source": [
    "# Binomial Distribution\n",
    "\n",
    "Similar to the above problem, this time again we randomly sample 20 fruits.\n",
    "\n",
    "**What is the probability that this time the sample contains 5 apples and 15 oranges?**\n",
    "\n",
    "Please note that this time the order of the fruits being picked does not matter."
   ]
  },
  {
   "cell_type": "code",
   "execution_count": 25,
   "metadata": {},
   "outputs": [
    {
     "data": {
      "text/plain": [
       "8.349416423424006e-08"
      ]
     },
     "execution_count": 25,
     "metadata": {},
     "output_type": "execute_result"
    }
   ],
   "source": [
    "#probability that this time the sample contains 5  apples\n",
    "import matplotlib.pyplot as plt\n",
    "import seaborn as sns\n",
    "from scipy.stats import binom\n",
    "b = 100\n",
    "a = 60\n",
    "p_a = 60/100\n",
    "n = 5\n",
    "\n",
    "my_binomial = binom(n, p_a)\n",
    "sample = my_binomial.rvs(size=20)\n",
    "\n",
    "p_a_5 = p_a **5\n",
    "\n",
    "#probability that this time the sample contains 15 oranges\n",
    "\n",
    "b = 100\n",
    "o = 40\n",
    "p_o = 40/100\n",
    "n = 15\n",
    "\n",
    "p_o_15 = p_o ** 15\n",
    "\n",
    "#multiplico las dos probabilidades anteriores\n",
    "\n",
    "p_a_5_p_o_15 = p_a_5 * p_o_15\n",
    "\n",
    "p_a_5_p_o_15\n",
    "\n",
    "#algo estoy haciendo mal, me sale igual que el anterior"
   ]
  },
  {
   "cell_type": "markdown",
   "metadata": {},
   "source": [
    "In the lesson we also discussed CDF (cumulative distribution function). In the context of the above problem, **what is the probability that less than 5 fruits picked are apples?**\n",
    "\n",
    "Write the formula and calculate the probability below."
   ]
  },
  {
   "cell_type": "code",
   "execution_count": 26,
   "metadata": {},
   "outputs": [
    {
     "data": {
      "text/plain": [
       "1.0"
      ]
     },
     "execution_count": 26,
     "metadata": {},
     "output_type": "execute_result"
    }
   ],
   "source": [
    "# your code here\n",
    "my_binomial.cdf(5)\n",
    "\n",
    "#100%?"
   ]
  },
  {
   "cell_type": "markdown",
   "metadata": {},
   "source": [
    "**Plot the PDF (probability distributiom function) for the above binomial distribution.**\n",
    "\n",
    "*Hint: The range of x in a binomial distribution is from `0` to `n`.*"
   ]
  },
  {
   "cell_type": "code",
   "execution_count": 27,
   "metadata": {},
   "outputs": [
    {
     "data": {
      "text/plain": [
       "<AxesSubplot:ylabel='count'>"
      ]
     },
     "execution_count": 27,
     "metadata": {},
     "output_type": "execute_result"
    },
    {
     "data": {
      "image/png": "[encoded data removed]",
      "text/plain": [
       "<Figure size 432x288 with 1 Axes>"
      ]
     },
     "metadata": {
      "needs_background": "light"
     },
     "output_type": "display_data"
    }
   ],
   "source": [
    "# your code here\n",
    "# Please label the axes and give a title to the plot \n",
    "\n",
    "sns.countplot(x = sample)"
   ]
  },
  {
   "cell_type": "markdown",
   "metadata": {},
   "source": [
    "## Poisson Distribution\n",
    "\n",
    "In this challenge you are required to use the Math library in python to solve the problems.\n",
    "\n",
    "In the UEFA champions league tournament, the average number of goals scored in a match is 2.3. \n",
    "\n",
    "**What is the probability that the number of goals scored in a match is 5?**\n",
    "\n",
    "*Hint: Use the exp() in the math library*\n",
    "\n",
    "And to calculate the factorial, you can use the following code:\n",
    "\n",
    "```python\n",
    "import math\n",
    "math.factorial(n) # n is the number you want to find the factorial of\n",
    "```"
   ]
  },
  {
   "cell_type": "code",
   "execution_count": 38,
   "metadata": {},
   "outputs": [
    {
     "name": "stdout",
     "output_type": "stream",
     "text": [
      "<scipy.stats._distn_infrastructure.rv_frozen object at 0x7f85b0ab8850>\n",
      "[2 2 1 4 3 3 3 3 1 0 2 2 1 1 1 2 1 2 4 3 4 4 1 1 2 1 2 1 5 4 3 1 2 2 0 2 4\n",
      " 2 1 1 2 2 2 2 0 1 2 3 3 3 5 1 1 4 1 3 3 1 5 2 1 3 0 4 1 1 1 2 4 4 2 5 0 1\n",
      " 1 4 2 4 2 3 2 1 1 3 2 2 2 2 2 6 3 4 3 4 2 2 2 1 3 0 4 2 1 2 2 2 3 6 1 1 3\n",
      " 4 3 0 0 3 3 3 4 4 2 2 1 3 3 1 3 2 1 5 0 1 0 3 5 2 1 1 2 2 4 1 2 7 3 1 1 8\n",
      " 0 2 3 1 3 3 3 1 2 1 1 2 3 4 1 6 0 1 4 3 4 2 2 3 2 3 4 2 0 1 3 1 5 3 0 3 3\n",
      " 4 2 2 0 1 1 1 3 2 7 2 3 2 2 0 2 1 2 2 0 2 2 4 4 3 3 2 2 4 2 1 3 2 3 2 1 4\n",
      " 3 1 0 0 1 1 5 4 1 1 2 2 1 0 3 5 3 3 2 1 3 1 2 3 3 3 0 3 7 1 1 1 4 5 4 3 3\n",
      " 2 3 3 3 5 4 2 3 0 2 1 2 3 3 2 2 3 3 3 1 2 4 2 4 1 2 1 2 1 2 1 3 4 2 2 1 1\n",
      " 3 4 4 2]\n"
     ]
    },
    {
     "data": {
      "text/plain": [
       "0.5960388259320681"
      ]
     },
     "execution_count": 38,
     "metadata": {},
     "output_type": "execute_result"
    }
   ],
   "source": [
    "# your code here \n",
    "import math\n",
    "from scipy.stats import poisson\n",
    "\n",
    "a = 2.3\n",
    "#probability that the number of goals scored in a match is 5?\n",
    "my_poisson = poisson(mu= 2.3)\n",
    "my_sampled_values = my_poisson.rvs(size=300)\n",
    "print(my_poisson)\n",
    "print(my_sampled_values)\n",
    "\n",
    "max_value = my_sampled_values.max()\n",
    "min_value = my_sampled_values.min()\n",
    "min_value, max_value\n",
    "\n",
    "my_poisson.cdf(2.3)"
   ]
  },
  {
   "cell_type": "markdown",
   "metadata": {},
   "source": [
    "**Draw a poisson probability distribution plot for the number of goals to be between 0 to 10.**"
   ]
  },
  {
   "cell_type": "code",
   "execution_count": 42,
   "metadata": {},
   "outputs": [
    {
     "data": {
      "image/png": "[encoded data removed]",
      "text/plain": [
       "<Figure size 432x288 with 1 Axes>"
      ]
     },
     "metadata": {
      "needs_background": "light"
     },
     "output_type": "display_data"
    }
   ],
   "source": [
    "# your code here\n",
    "# Please label the axes and give a title to the plot \n",
    "import numpy as np\n",
    "x = np.arange(0,10)\n",
    "fig, ax = plt.subplots(1, 1)\n",
    "ax.plot(x, my_poisson.pmf(x), 'bo')\n",
    "ax.vlines(x, 0, my_poisson.pmf(x), colors='b', lw=5, alpha=0.5)\n",
    "plt.xlabel('goals')\n",
    "plt.ylabel('frequency')\n",
    "plt.show()"
   ]
  },
  {
   "cell_type": "code",
   "execution_count": null,
   "metadata": {},
   "outputs": [],
   "source": []
  }
 ],
 "metadata": {
  "kernelspec": {
   "display_name": "Python 3",
   "language": "python",
   "name": "python3"
  },
  "language_info": {
   "codemirror_mode": {
    "name": "ipython",
    "version": 3
   },
   "file_extension": ".py",
   "mimetype": "text/x-python",
   "name": "python",
   "nbconvert_exporter": "python",
   "pygments_lexer": "ipython3",
   "version": "3.8.5"
  }
 },
 "nbformat": 4,
 "nbformat_minor": 2
}
