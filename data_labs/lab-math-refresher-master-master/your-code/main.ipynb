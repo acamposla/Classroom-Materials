{
 "cells": [
  {
   "cell_type": "code",
   "execution_count": 2,
   "metadata": {},
   "outputs": [],
   "source": [
    "#imports\n",
    "import matplotlib.pyplot as plt\n",
    "import numpy as np"
   ]
  },
  {
   "cell_type": "markdown",
   "metadata": {},
   "source": [
    "### 1. Euclidean plane"
   ]
  },
  {
   "cell_type": "markdown",
   "metadata": {},
   "source": [
    "Consider this 3 points on 2D space:  \n",
    "$A=(4, 5)$  \n",
    "$B=(-2, -4)$  \n",
    "$C=(8, -1)$  "
   ]
  },
  {
   "cell_type": "markdown",
   "metadata": {},
   "source": [
    "#### 1.1. Plot them using `matplotlib`  "
   ]
  },
  {
   "cell_type": "code",
   "execution_count": 3,
   "metadata": {
    "scrolled": true
   },
   "outputs": [
    {
     "data": {
      "text/plain": [
       "<matplotlib.collections.PathCollection at 0x7faca138a760>"
      ]
     },
     "execution_count": 3,
     "metadata": {},
     "output_type": "execute_result"
    },
    {
     "data": {
      "image/png": "[encoded data removed]",
      "text/plain": [
       "<Figure size 432x288 with 1 Axes>"
      ]
     },
     "metadata": {
      "needs_background": "light"
     },
     "output_type": "display_data"
    }
   ],
   "source": [
    "𝐴 = (4,5) \n",
    "𝐵 = (-2, -4) \n",
    "𝐶 = (8,-1)\n",
    "\n",
    "fig, ax = plt.subplots()\n",
    "ax.scatter([4, -2, 8], [5, -4, -1])\n",
    "\n",
    "#ax.plot(B[0], B[1])\n",
    "\n",
    "\n"
   ]
  },
  {
   "cell_type": "code",
   "execution_count": null,
   "metadata": {
    "scrolled": true
   },
   "outputs": [],
   "source": []
  },
  {
   "cell_type": "markdown",
   "metadata": {},
   "source": [
    "#### 1.2. Which distance is longer, $AC, AB, \\text{or} BC$? Write a function that calculates distance between two points."
   ]
  },
  {
   "cell_type": "code",
   "execution_count": 4,
   "metadata": {},
   "outputs": [],
   "source": [
    "#AC\n",
    "#AB\n",
    "#BC\n",
    "\n",
    "def distance_two_points(A, B):\n",
    "    x = (B[0] - A[0])**2 + (B[1] - B[1])**2\n",
    "    return x\n",
    "a = distance_two_points(A, C)\n",
    "b = distance_two_points(A, B)\n",
    "c = distance_two_points(B, C)\n",
    "\n"
   ]
  },
  {
   "cell_type": "markdown",
   "metadata": {},
   "source": [
    "#### 1.3. What is the perimeter of triangle $ABC$?"
   ]
  },
  {
   "cell_type": "code",
   "execution_count": 5,
   "metadata": {},
   "outputs": [
    {
     "data": {
      "text/plain": [
       "152"
      ]
     },
     "execution_count": 5,
     "metadata": {},
     "output_type": "execute_result"
    }
   ],
   "source": [
    "P = a + b + c\n",
    "P"
   ]
  },
  {
   "cell_type": "markdown",
   "metadata": {},
   "source": [
    "### 2. Linear functions"
   ]
  },
  {
   "cell_type": "markdown",
   "metadata": {},
   "source": [
    "Consider the following straight lines on 2D space:  \n",
    "$y_1=2x-3$  \n",
    "$y_2=-3x+12$  "
   ]
  },
  {
   "cell_type": "markdown",
   "metadata": {},
   "source": [
    "#### 2.1. Plot them"
   ]
  },
  {
   "cell_type": "code",
   "execution_count": 6,
   "metadata": {},
   "outputs": [
    {
     "data": {
      "image/png": "[encoded data removed]",
      "text/plain": [
       "<Figure size 432x288 with 1 Axes>"
      ]
     },
     "metadata": {
      "needs_background": "light"
     },
     "output_type": "display_data"
    }
   ],
   "source": [
    "x = np.linspace(-2, 5, 100)\n",
    "y_1 = (2 * x) - 3\n",
    "y_2= (-3*x) +12\n",
    "\n",
    "\n",
    "plt.plot(x, y_1, label = \"line 1\")\n",
    "plt.plot(x, y_2, label = \"line 2\")\n",
    "plt.legend()\n",
    "plt.show()\n"
   ]
  },
  {
   "cell_type": "markdown",
   "metadata": {},
   "source": [
    "#### 2.2. What are the respective slopes"
   ]
  },
  {
   "cell_type": "code",
   "execution_count": 7,
   "metadata": {},
   "outputs": [],
   "source": [
    "y_1 = - 3\n",
    "y_2= +12"
   ]
  },
  {
   "cell_type": "markdown",
   "metadata": {},
   "source": [
    "#### 2.3. Give 3 points through which $y_1$ goes through"
   ]
  },
  {
   "cell_type": "code",
   "execution_count": 8,
   "metadata": {},
   "outputs": [
    {
     "name": "stdout",
     "output_type": "stream",
     "text": [
      "0.75, 0\n",
      "0, -3\n"
     ]
    }
   ],
   "source": [
    "x = 0\n",
    "\n",
    "y_1 = (2 * x) - 3\n",
    "y_1\n",
    "y = 0\n",
    "x = 3/4\n",
    "\n",
    "print(\"0.75, 0\")\n",
    "print(\"0, -3\")\n"
   ]
  },
  {
   "cell_type": "markdown",
   "metadata": {},
   "source": [
    "#### 2.4. Where do they intersect?"
   ]
  },
  {
   "cell_type": "code",
   "execution_count": 9,
   "metadata": {},
   "outputs": [
    {
     "name": "stdout",
     "output_type": "stream",
     "text": [
      "(3.0, 3.0)\n"
     ]
    }
   ],
   "source": [
    "import shapely\n",
    "from shapely.geometry import LineString, Point\n",
    "\n",
    "# endpoints line 1\n",
    "A = (0, -3)\n",
    "B = (5, 7)\n",
    "\n",
    "#endpoint line 2\n",
    "\n",
    "C = (0, 12)\n",
    "D = (5, -3)\n",
    "\n",
    "\n",
    "line1 = LineString([A, B])\n",
    "line2 = LineString([C, D])\n",
    "int_pt = line1.intersection(line2)\n",
    "point_of_intersection = int_pt.x, int_pt.y\n",
    "\n",
    "print(point_of_intersection)\n"
   ]
  },
  {
   "cell_type": "markdown",
   "metadata": {},
   "source": [
    "#### 2.5. BONUS "
   ]
  },
  {
   "cell_type": "markdown",
   "metadata": {},
   "source": [
    "My yearly salary has increased **linearly** with my age:  \n",
    "When I was 21 years old, I did 10000\\\\$ / year    \n",
    "Today I am 39 years old, I am doing 33400\\\\$ / year  \n",
    "How much will I do when I get 50 years old?"
   ]
  },
  {
   "cell_type": "code",
   "execution_count": 26,
   "metadata": {},
   "outputs": [
    {
     "name": "stdout",
     "output_type": "stream",
     "text": [
      "38700\n"
     ]
    },
    {
     "data": {
      "text/plain": [
       "[<matplotlib.lines.Line2D at 0x7fac90706c40>]"
      ]
     },
     "execution_count": 26,
     "metadata": {},
     "output_type": "execute_result"
    },
    {
     "data": {
      "image/png": "[encoded data removed]",
      "text/plain": [
       "<Figure size 432x288 with 1 Axes>"
      ]
     },
     "metadata": {
      "needs_background": "light"
     },
     "output_type": "display_data"
    }
   ],
   "source": [
    "#10000 = 0 \n",
    "#33400 = 18\n",
    "x = 50 -  21\n",
    "\n",
    "\n",
    "r = 1000 + (1300*x)\n",
    "print(r)\n",
    "\n",
    "\n",
    "A = (21 , 10000)\n",
    "B = (39 , 33400)\n",
    "c = (50 , 38700)\n",
    "\n",
    "\n",
    "#fig, ax = plt.subplots()\n",
    "#ax.([4, -2, 8], [5, -4, -1])\n"
   ]
  },
  {
   "cell_type": "markdown",
   "metadata": {},
   "source": [
    "### 3. Polynomials"
   ]
  },
  {
   "cell_type": "markdown",
   "metadata": {},
   "source": [
    "Consider these different degree polynomials:  \n",
    "$y_2=x^2-3x-10$  \n",
    "$y_3=x^3-2x^2+5x+1$  \n",
    "$y_4=x^4-x^3+x^2-x+1$  "
   ]
  },
  {
   "cell_type": "code",
   "execution_count": null,
   "metadata": {},
   "outputs": [],
   "source": []
  },
  {
   "cell_type": "markdown",
   "metadata": {},
   "source": [
    "#### 3.1. Plot them"
   ]
  },
  {
   "cell_type": "code",
   "execution_count": 10,
   "metadata": {},
   "outputs": [
    {
     "data": {
      "image/png": "[encoded data removed]",
      "text/plain": [
       "<Figure size 432x288 with 1 Axes>"
      ]
     },
     "metadata": {
      "needs_background": "light"
     },
     "output_type": "display_data"
    }
   ],
   "source": [
    "x = np.linspace(-50, 50, 100)\n",
    "y2 = (x**2) - (3*x) - (10)\n",
    "y3= (x**3) -(2*x**2) + (5*x) +1\n",
    "y4 = (x**4) - (x**3) + (x**2) - x +1\n",
    "\n",
    "plt.plot(x, y2, label = \"y2\")\n",
    "plt.plot(x, y3, label = \"y3\")\n",
    "plt.plot(x, y4, label = \"y4\")\n",
    "plt.legend()\n",
    "plt.show()"
   ]
  },
  {
   "cell_type": "markdown",
   "metadata": {},
   "source": [
    "#### 3.2. Which one takes a bigger value on $x=0$? On $x=2$? On $x=100$?"
   ]
  },
  {
   "cell_type": "code",
   "execution_count": 11,
   "metadata": {},
   "outputs": [
    {
     "name": "stdout",
     "output_type": "stream",
     "text": [
      "y3\n",
      "y3\n",
      "y4\n"
     ]
    }
   ],
   "source": [
    "\n",
    "def bigger_value (x):\n",
    "    y2 = (x**2) - (3*x) -10\n",
    "    y3= (x**3) -(2*x**2) + (5*x) +1\n",
    "    y4 = (x**4) - (x**3) + (x**2) - x +1\n",
    "    values = {\"y2\": y2, \"y3\":y3 , \"y4\":y4}\n",
    "    return max(values, key=values.get)\n",
    "    \n",
    "print (bigger_value (2))\n",
    "print (bigger_value (0))\n",
    "print (bigger_value (100))\n",
    "\n",
    "\n",
    "\n",
    "\n",
    "\n"
   ]
  },
  {
   "cell_type": "markdown",
   "metadata": {},
   "source": [
    "#### 3.3. Who is the vertex of parabola $y_2$?"
   ]
  },
  {
   "cell_type": "code",
   "execution_count": 12,
   "metadata": {
    "scrolled": true
   },
   "outputs": [
    {
     "name": "stdout",
     "output_type": "stream",
     "text": [
      "-1.0\n",
      "[2640.         2536.97990001 2436.00040812 2337.06152433 2240.16324865\n",
      " 2145.30558106 2052.48852158 1961.7120702  1872.97622692 1786.28099174\n",
      " 1701.62636466 1619.01234568 1538.4389348  1459.90613203 1383.41393735\n",
      " 1308.96235078 1236.55137231 1166.18100194 1097.85123967 1031.5620855\n",
      "  967.31353943  905.10560147  844.9382716   786.81154984  730.72543618\n",
      "  676.67993062  624.67503316  574.7107438   526.78706254  480.90398939\n",
      "  437.06152433  395.25966738  355.49841853  317.77777778  282.09774513\n",
      "  248.45832058  216.85950413  187.30129579  159.78369554  134.3067034\n",
      "  110.87031936   89.47454341   70.11937557   52.80481584   37.5308642\n",
      "   24.29752066   13.10478523    3.95265789   -3.15886134   -8.22977247\n",
      "  -11.2600755   -12.24977043  -11.19885726   -8.10733599   -2.97520661\n",
      "    4.19753086   13.41087644   24.66483012   37.9593919    53.29456178\n",
      "   70.67033976   90.08672584  111.54372003  135.04132231  160.5795327\n",
      "  188.15835119  217.77777778  249.43781247  283.13845526  318.87970615\n",
      "  356.66156515  396.48403224  438.34710744  482.25079074  528.19508213\n",
      "  576.17998163  626.20548924  678.27160494  732.37832874  788.52566065\n",
      "  846.71360065  906.94214876  969.21130497 1033.52106928 1099.87144169\n",
      " 1168.2624222  1238.69401082 1311.16620753 1385.67901235 1462.23242526\n",
      " 1540.82644628 1621.4610754  1704.13631262 1788.85215794 1875.60861137\n",
      " 1964.40567289 2055.24334252 2148.12162024 2243.04050607 2340.        ]\n"
     ]
    }
   ],
   "source": [
    "y2 = (x**2) - (3*x) - 10\n",
    "a = 1\n",
    "b = 2\n",
    "\n",
    "A = -b/(2*a)\n",
    "print(A)\n",
    "x = A\n",
    "print(y2)\n",
    "V = (x, y2)"
   ]
  },
  {
   "cell_type": "markdown",
   "metadata": {},
   "source": [
    "#### 3.4. Where does $y_2$ intersect X axis? And Y axis?"
   ]
  },
  {
   "cell_type": "code",
   "execution_count": 13,
   "metadata": {},
   "outputs": [
    {
     "name": "stdout",
     "output_type": "stream",
     "text": [
      "-1.0\n"
     ]
    }
   ],
   "source": [
    "\n",
    "y2 = 0\n",
    "y2 = (x**2) - (3*x) - 10\n",
    "print(x)\n",
    "\n",
    "# endpoints line 1\n",
    "A = (0, -10)\n",
    "B = (-1, 0)\n",
    "\n",
    "\n",
    "\n"
   ]
  },
  {
   "cell_type": "markdown",
   "metadata": {},
   "source": [
    "#### 3.5. As x gets very big, what happens to $y$ go in each case?"
   ]
  },
  {
   "cell_type": "code",
   "execution_count": 14,
   "metadata": {},
   "outputs": [
    {
     "data": {
      "text/plain": [
       "'y increase exponentially so dispersion becomes bigger'"
      ]
     },
     "execution_count": 14,
     "metadata": {},
     "output_type": "execute_result"
    }
   ],
   "source": [
    "\"y increase exponentially so dispersion becomes bigger\""
   ]
  },
  {
   "cell_type": "markdown",
   "metadata": {},
   "source": [
    "#### 3.6. As x gets very small (big negative), what happens to $y$ go in each case?"
   ]
  },
  {
   "cell_type": "code",
   "execution_count": 15,
   "metadata": {},
   "outputs": [
    {
     "data": {
      "text/plain": [
       "'y decrease exponentially so dispersion becomes smaller'"
      ]
     },
     "execution_count": 15,
     "metadata": {},
     "output_type": "execute_result"
    }
   ],
   "source": [
    "\"y decrease exponentially so dispersion becomes smaller\""
   ]
  },
  {
   "cell_type": "markdown",
   "metadata": {},
   "source": [
    "### 4. Exponential"
   ]
  },
  {
   "cell_type": "markdown",
   "metadata": {},
   "source": [
    "#### 4.1. Print number $e$ rounded to 3 decimal figures"
   ]
  },
  {
   "cell_type": "code",
   "execution_count": 16,
   "metadata": {},
   "outputs": [],
   "source": [
    "e = 2.718"
   ]
  },
  {
   "cell_type": "markdown",
   "metadata": {},
   "source": [
    "#### 4.2. Compute $e$ to the powers 0, 1, 2, 3, 10"
   ]
  },
  {
   "cell_type": "code",
   "execution_count": 17,
   "metadata": {},
   "outputs": [],
   "source": [
    "l =  [0, 1, 2, 3, 10]\n",
    "e = 2.718\n",
    "l2 = []\n",
    "\n",
    "l2.append([e**n for n in l])\n",
    "\n",
    "\n"
   ]
  },
  {
   "cell_type": "markdown",
   "metadata": {},
   "source": [
    "#### 4.3. Compute $e$ to the powers 0, -1, -2, -3, -10"
   ]
  },
  {
   "cell_type": "code",
   "execution_count": 18,
   "metadata": {},
   "outputs": [
    {
     "data": {
      "text/plain": [
       "[[1.0, 2.718, 7.387524, 20.079290231999998, 22003.639649915618]]"
      ]
     },
     "execution_count": 18,
     "metadata": {},
     "output_type": "execute_result"
    }
   ],
   "source": [
    "l3 =  [0, -1, -2, -3, -10]\n",
    "e = 2.718\n",
    "l4 = []\n",
    "\n",
    "l4.append([e**n for n in l])\n",
    "l4\n"
   ]
  },
  {
   "cell_type": "markdown",
   "metadata": {},
   "source": [
    "#### 4.4. Plot functions $e^x$, $e^{2x}$, $e^{-x}$"
   ]
  },
  {
   "cell_type": "markdown",
   "metadata": {},
   "source": [
    "Note: choose an appropiate x-range to visualize them all toguether"
   ]
  },
  {
   "cell_type": "code",
   "execution_count": 19,
   "metadata": {},
   "outputs": [
    {
     "data": {
      "text/plain": [
       "<matplotlib.legend.Legend at 0x7fac80131190>"
      ]
     },
     "execution_count": 19,
     "metadata": {},
     "output_type": "execute_result"
    },
    {
     "data": {
      "image/png": "[encoded data removed]",
      "text/plain": [
       "<Figure size 432x288 with 1 Axes>"
      ]
     },
     "metadata": {
      "needs_background": "light"
     },
     "output_type": "display_data"
    }
   ],
   "source": [
    "x = np.linspace(-2,2,100)\n",
    "y = np.exp(x)\n",
    "y2 = np.exp(2*x)\n",
    "y3 = np.exp(-x)\n",
    "\n",
    "fig = plt.figure()\n",
    "ax = fig.add_subplot(1, 1, 1)\n",
    "ax.spines['left'].set_position('center')\n",
    "ax.spines['bottom'].set_position('zero')\n",
    "ax.spines['right'].set_color('none')\n",
    "ax.spines['top'].set_color('none')\n",
    "ax.xaxis.set_ticks_position('bottom')\n",
    "ax.yaxis.set_ticks_position('left')\n",
    "\n",
    "plt.plot(x,y, 'y', label='y=e^x')\n",
    "plt.plot(x,y2, 'y', label='y=e^2x')\n",
    "plt.plot(x,y3, 'y', label='y=e^-x')\n",
    "\n",
    "plt.legend(loc='upper left')"
   ]
  },
  {
   "cell_type": "markdown",
   "metadata": {},
   "source": [
    "### 5. Sum notation"
   ]
  },
  {
   "cell_type": "markdown",
   "metadata": {},
   "source": [
    "Find the following:"
   ]
  },
  {
   "cell_type": "markdown",
   "metadata": {},
   "source": [
    "$$\\sum_{n=4}^7 n$$"
   ]
  },
  {
   "cell_type": "code",
   "execution_count": 29,
   "metadata": {},
   "outputs": [
    {
     "name": "stdout",
     "output_type": "stream",
     "text": [
      "8\n",
      "10\n",
      "12\n",
      "14\n",
      "16\n",
      "18\n",
      "20\n"
     ]
    }
   ],
   "source": [
    "n = 7 + 4\n",
    "for i in range(4, n):\n",
    "    i += i\n",
    "    print(i)"
   ]
  },
  {
   "cell_type": "markdown",
   "metadata": {},
   "source": [
    "$$\\sum_{n=-2}^3 (n + 1)$$"
   ]
  },
  {
   "cell_type": "code",
   "execution_count": null,
   "metadata": {},
   "outputs": [],
   "source": []
  },
  {
   "cell_type": "markdown",
   "metadata": {},
   "source": [
    "$$\\sum_{n=-2}^3 (n^2 - 2)$$"
   ]
  },
  {
   "cell_type": "code",
   "execution_count": null,
   "metadata": {},
   "outputs": [],
   "source": []
  },
  {
   "cell_type": "markdown",
   "metadata": {},
   "source": [
    "$$\\sum_{n=0}^4 (10^n - 1)$$"
   ]
  },
  {
   "cell_type": "code",
   "execution_count": null,
   "metadata": {},
   "outputs": [],
   "source": []
  },
  {
   "cell_type": "markdown",
   "metadata": {},
   "source": [
    "### 6. Combinatorics"
   ]
  },
  {
   "cell_type": "markdown",
   "metadata": {},
   "source": [
    "#### 6.1. Ten people go to a party. How many handshakes happen?"
   ]
  },
  {
   "cell_type": "code",
   "execution_count": 22,
   "metadata": {},
   "outputs": [
    {
     "name": "stdout",
     "output_type": "stream",
     "text": [
      "45\n"
     ]
    }
   ],
   "source": [
    "import itertools\n",
    "val = list(range(1, 11))\n",
    "perm_set = itertools.combinations(val, 2)\n",
    "counter = 0\n",
    "for i in perm_set:\n",
    "    counter += 1\n",
    "print(counter)"
   ]
  },
  {
   "cell_type": "markdown",
   "metadata": {},
   "source": [
    "#### 6.2. My family is composed of 11 members. By christmas, one buys food, one cooks and one cleans. How many possible arrangements of buyer-cooker-cleaner are there?"
   ]
  },
  {
   "cell_type": "code",
   "execution_count": 23,
   "metadata": {},
   "outputs": [
    {
     "name": "stdout",
     "output_type": "stream",
     "text": [
      "120\n"
     ]
    }
   ],
   "source": [
    "import itertools\n",
    "val = list(range(1, 11))\n",
    "perm_set = itertools.combinations(val, 3)\n",
    "counter = 0\n",
    "for i in perm_set:\n",
    "    counter += 1\n",
    "print(counter)"
   ]
  },
  {
   "cell_type": "markdown",
   "metadata": {},
   "source": [
    "### BONUS"
   ]
  },
  {
   "cell_type": "markdown",
   "metadata": {},
   "source": [
    "11 and 13 are twin primes, since:\n",
    " - they are both primes  \n",
    " - their distance is 2\n",
    " \n",
    "Find all pairs of twin primes below 1000"
   ]
  },
  {
   "cell_type": "code",
   "execution_count": null,
   "metadata": {},
   "outputs": [],
   "source": []
  }
 ],
 "metadata": {
  "kernelspec": {
   "display_name": "Python 3",
   "language": "python",
   "name": "python3"
  },
  "language_info": {
   "codemirror_mode": {
    "name": "ipython",
    "version": 3
   },
   "file_extension": ".py",
   "mimetype": "text/x-python",
   "name": "python",
   "nbconvert_exporter": "python",
   "pygments_lexer": "ipython3",
   "version": "3.8.5"
  },
  "toc": {
   "base_numbering": 1,
   "nav_menu": {},
   "number_sections": true,
   "sideBar": true,
   "skip_h1_title": false,
   "title_cell": "Table of Contents",
   "title_sidebar": "Contents",
   "toc_cell": false,
   "toc_position": {},
   "toc_section_display": true,
   "toc_window_display": false
  },
  "varInspector": {
   "cols": {
    "lenName": 16,
    "lenType": 16,
    "lenVar": 40
   },
   "kernels_config": {
    "python": {
     "delete_cmd_postfix": "",
     "delete_cmd_prefix": "del ",
     "library": "var_list.py",
     "varRefreshCmd": "print(var_dic_list())"
    },
    "r": {
     "delete_cmd_postfix": ") ",
     "delete_cmd_prefix": "rm(",
     "library": "var_list.r",
     "varRefreshCmd": "cat(var_dic_list()) "
    }
   },
   "types_to_exclude": [
    "module",
    "function",
    "builtin_function_or_method",
    "instance",
    "_Feature"
   ],
   "window_display": false
  }
 },
 "nbformat": 4,
 "nbformat_minor": 4
}
