{
 "cells": [
  {
   "cell_type": "markdown",
   "metadata": {},
   "source": [
    "# Web Scraping Lab\n",
    "\n",
    "You will find in this notebook some scrapy exercises to practise your scraping skills.\n",
    "\n",
    "**Tips:**\n",
    "\n",
    "- Check the response status code for each request to ensure you have obtained the intended contennt.\n",
    "- Print the response text in each request to understand the kind of info you are getting and its format.\n",
    "- Check for patterns in the response text to extract the data/info requested in each question.\n",
    "- Visit each url and take a look at its source through Chrome DevTools. You'll need to identify the html tags, special class names etc. used for the html content you are expected to extract."
   ]
  },
  {
   "cell_type": "markdown",
   "metadata": {},
   "source": [
    "- [Requests library](http://docs.python-requests.org/en/master/#the-user-guide) documentation \n",
    "- [Beautiful Soup Doc](https://www.crummy.com/software/BeautifulSoup/bs4/doc/)\n",
    "- [Urllib](https://docs.python.org/3/library/urllib.html#module-urllib)\n",
    "- [re lib](https://docs.python.org/3/library/re.html)\n",
    "- [lxml lib](https://lxml.de/)\n",
    "- [Scrapy](https://scrapy.org/)\n",
    "- [List of HTTP status codes](https://en.wikipedia.org/wiki/List_of_HTTP_status_codes)\n",
    "- [HTML basics](http://www.simplehtmlguide.com/cheatsheet.php)\n",
    "- [CSS basics](https://www.cssbasics.com/#page_start)"
   ]
  },
  {
   "cell_type": "markdown",
   "metadata": {},
   "source": [
    "#### Below are the libraries and modules you may need. `requests`,  `BeautifulSoup` and `pandas` are imported for you. If you prefer to use additional libraries feel free to uncomment them."
   ]
  },
  {
   "cell_type": "code",
   "execution_count": 2,
   "metadata": {},
   "outputs": [],
   "source": [
    "import requests\n",
    "from bs4 import BeautifulSoup\n",
    "import pandas as pd\n",
    "# from pprint import pprint\n",
    "# from lxml import html\n",
    "# from lxml.html import fromstring\n",
    "# import urllib.request\n",
    "from urllib.request import urlopen\n",
    "# import random\n",
    "import re\n",
    "# import scrapy"
   ]
  },
  {
   "cell_type": "markdown",
   "metadata": {},
   "source": [
    "#### Download, parse (using BeautifulSoup), and print the content from the Trending Developers page from GitHub:"
   ]
  },
  {
   "cell_type": "code",
   "execution_count": 3,
   "metadata": {
    "scrolled": true
   },
   "outputs": [
    {
     "data": {
      "text/plain": [
       "[<meta charset=\"utf-8\"/>,\n",
       " <link href=\"https://github.githubassets.com\" rel=\"dns-prefetch\"/>,\n",
       " <link href=\"https://avatars.githubusercontent.com\" rel=\"dns-prefetch\"/>,\n",
       " <link href=\"https://github-cloud.s3.amazonaws.com\" rel=\"dns-prefetch\"/>,\n",
       " <link href=\"https://user-images.githubusercontent.com/\" rel=\"dns-prefetch\"/>,\n",
       " <link crossorigin=\"anonymous\" href=\"https://github.githubassets.com/assets/frameworks-c9ce663206664650f5ac9c95fc41dffc.css\" integrity=\"sha512-yc5mMgZmRlD1rJyV/EHf/MfNeCJ2RkdFppk+SeAA4x6u4D819L6Qc/X5fYYzbVIJjjMaED0QoYgOS0LUx3XXCA==\" media=\"all\" rel=\"stylesheet\">\n",
       " <link crossorigin=\"anonymous\" href=\"https://github.githubassets.com/assets/behaviors-efbb025cd5ec1558bf77e195e039132a.css\" integrity=\"sha512-77sCXNXsFVi/d+GV4DkTKtEthsHB0aFlzCmKNN8WqKwtwdlBkpbEfaFeCpAmxQaaQQ7ov/itwvQKCHiriLyjNg==\" media=\"all\" rel=\"stylesheet\">\n",
       " <link crossorigin=\"anonymous\" href=\"https://github.githubassets.com/assets/site-b41724b471dae6d0e4ec79930a08d9d3.css\" integrity=\"sha512-tBcktHHa5tDk7HmTCgjZ0xO5PbyKvfPK4cQpOtr5yLml7uJwscowxz/aEoA3WN7FHi8WIvcqFTmgltMEhFa6xQ==\" media=\"all\" rel=\"stylesheet\">\n",
       " <link crossorigin=\"anonymous\" href=\"https://github.githubassets.com/assets/explore-4d76a3912c1a15dfd150feb7eb22a94e.css\" integrity=\"sha512-TXajkSwaFd/RUP636yKpTp17tZmOCLI4Ji6AzwnP+jEoT/ZG0eBQmyGnW4mFBqGO4oeONAXFrPCw9J8DYrELiw==\" media=\"all\" rel=\"stylesheet\">\n",
       " <script crossorigin=\"anonymous\" defer=\"defer\" integrity=\"sha512-CzeY4A6TiG4fGZSWZU8FxmzFFmcQFoPpArF0hkH0/J/S7UL4eed/LKEXMQXfTwiG5yEJBI+9BdKG8KQJNbhcIQ==\" src=\"https://github.githubassets.com/assets/environment-0b3798e0.js\" type=\"application/javascript\"></script>\n",
       " <script crossorigin=\"anonymous\" defer=\"defer\" integrity=\"sha512-hj4gBCzfBV2jwA/7yKXddRVpCFofKW+wQVTp2TGzxjcPDvfVMXOnYo+yUjupKswUmrxEZps+xX+JM+xzO4RYaA==\" src=\"https://github.githubassets.com/assets/chunk-frameworks-863e2004.js\" type=\"application/javascript\"></script>\n",
       " <script crossorigin=\"anonymous\" defer=\"defer\" integrity=\"sha512-rAayX+tAGbFvAwJW7fDoX+NNhMtMEh/AERlttmVRsk3Vk4kl27vs8D6s8IEJs7dMixb+J1VNqDLcAjlssMguJw==\" src=\"https://github.githubassets.com/assets/chunk-vendor-ac06b25f.js\" type=\"application/javascript\"></script>\n",
       " <script crossorigin=\"anonymous\" defer=\"defer\" integrity=\"sha512-qPi5hh9n372trWzRp2OnsYbbL/ioCFrAcf8Udxayqw6iqHKrO4BJHGJPD2TMGE5qMJcu7craDDSucWJvCz6Ydw==\" src=\"https://github.githubassets.com/assets/behaviors-a8f8b986.js\" type=\"application/javascript\"></script>\n",
       " <script crossorigin=\"anonymous\" data-module-id=\"./chunk-animate-on-scroll.js\" data-src=\"https://github.githubassets.com/assets/chunk-animate-on-scroll-56e3ffd8.js\" defer=\"defer\" integrity=\"sha512-VuP/2HeHlwuxYb9sV0y9/hgN869dWIQDX2WZrvh4VAQjo6tb7PXzbBz0nOYROez0xFLxRc/u6sVU6fuYgcpN8w==\" type=\"application/javascript\"></script>\n",
       " <script crossorigin=\"anonymous\" data-module-id=\"./chunk-codemirror.js\" data-src=\"https://github.githubassets.com/assets/chunk-codemirror-72ddd088.js\" defer=\"defer\" integrity=\"sha512-ct3QiK2mvpg7zor9R2psdWnNMM2K32RU4RGRB/7yA5FyZ8H4iY6SNynXc7UaJqzBx6NaReg3GsWJPwW3kgAAig==\" type=\"application/javascript\"></script>\n",
       " <script crossorigin=\"anonymous\" data-module-id=\"./chunk-color-modes.js\" data-src=\"https://github.githubassets.com/assets/chunk-color-modes-f54b89ff.js\" defer=\"defer\" integrity=\"sha512-9UuJ//O9hwCOI7MwzyVAJXn1D9B0WaQFktu5Qzw+7mg18URfaXXS7LsQVNirCGlgrmKe20UCtbj/4aGmw9Wk7g==\" type=\"application/javascript\"></script>\n",
       " <script crossorigin=\"anonymous\" data-module-id=\"./chunk-contributions-spider-graph.js\" data-src=\"https://github.githubassets.com/assets/chunk-contributions-spider-graph-ce46194a.js\" defer=\"defer\" integrity=\"sha512-zkYZSjUFqSifB+Lt76jclFMrfqpcPqevT801RZcoBNCZHRTBKcFrW9OyJoPOzKFv+fZVDRnqdqGsuIv5KOIgZg==\" type=\"application/javascript\"></script>\n",
       " <script crossorigin=\"anonymous\" data-module-id=\"./chunk-drag-drop.js\" data-src=\"https://github.githubassets.com/assets/chunk-drag-drop-ea3fe848.js\" defer=\"defer\" integrity=\"sha512-6j/oSF+kbW+yetNPvI684VzAu9pzug6Vj2h+3u1LdCuRhR4jnuiHZfeQKls3nxcT/S3H+oIt7FtigE/aeoj+gg==\" type=\"application/javascript\"></script>\n",
       " <script crossorigin=\"anonymous\" data-module-id=\"./chunk-edit-hook-secret-element.js\" data-src=\"https://github.githubassets.com/assets/chunk-edit-hook-secret-element-55249df9.js\" defer=\"defer\" integrity=\"sha512-VSSd+Yzi2iMS+pibY6hD/WdypxAEdob5F2RMKxuKcAHS2EpFYJPeTXoVxt0NXg03tfj2dka2mEtHS+vjpYSaDw==\" type=\"application/javascript\"></script>\n",
       " <script crossorigin=\"anonymous\" data-module-id=\"./chunk-edit.js\" data-src=\"https://github.githubassets.com/assets/chunk-edit-37ece2a8.js\" defer=\"defer\" integrity=\"sha512-N+ziqJjVMfWiqeVHdayDHpNRlG5HsF+cgV+pFnMDoTJuvBzgw+ndsepe4NcKAxIS3WMvzMaQcYmd2vrIaoAJVg==\" type=\"application/javascript\"></script>\n",
       " <script crossorigin=\"anonymous\" data-module-id=\"./chunk-emoji-picker-element.js\" data-src=\"https://github.githubassets.com/assets/chunk-emoji-picker-element-6a2a8c20.js\" defer=\"defer\" integrity=\"sha512-aiqMIGGZGo8AQMjcoImKPMTsZVVRl6htCSY7BpRmpGPG/AF+Wq+P/Oj/dthWQOIk9cCNMPEas7O2zAR6oqn0tA==\" type=\"application/javascript\"></script>\n",
       " <script crossorigin=\"anonymous\" data-module-id=\"./chunk-filter-input.js\" data-src=\"https://github.githubassets.com/assets/chunk-filter-input-7a3093f6.js\" defer=\"defer\" integrity=\"sha512-ejCT9r9E93nir+wK3PibZdMK0J3VXEkbwlgdnOnaUNoiJDI60BMtFt1QwjMU/rLXcjnH0xvgVFINGBFkzvTmRw==\" type=\"application/javascript\"></script>\n",
       " <script crossorigin=\"anonymous\" data-module-id=\"./chunk-insights-graph.js\" data-src=\"https://github.githubassets.com/assets/chunk-insights-graph-675c1cc8.js\" defer=\"defer\" integrity=\"sha512-Z1wcyOFQHzyMSPqp5DLKrobr3DN2Q6Dz31cfPtw4b2vPs9PX0PrxyDXHpTbIlcZ9qT1M1BNAypHKKw8Lp6Yx/Q==\" type=\"application/javascript\"></script>\n",
       " <script crossorigin=\"anonymous\" data-module-id=\"./chunk-invitations.js\" data-src=\"https://github.githubassets.com/assets/chunk-invitations-e22448f7.js\" defer=\"defer\" integrity=\"sha512-4iRI95LO0kKcZLWUoOzqI6w8IVGppDVluR4dL7yyz8zgBu/7JAib0MkRN5LUVxXv0KIT6mQ2m5jbKa1NeZoD5A==\" type=\"application/javascript\"></script>\n",
       " <script crossorigin=\"anonymous\" data-module-id=\"./chunk-jump-to.js\" data-src=\"https://github.githubassets.com/assets/chunk-jump-to-4b91483a.js\" defer=\"defer\" integrity=\"sha512-S5FIOkadGN34UNgwHnVlWaGU6QTjnXIgIhNC1KiRoPIJ1lr3bm+RyU+ar06Dijh10mCX7Gi2+B2oMe8XYJpcHg==\" type=\"application/javascript\"></script>\n",
       " <script crossorigin=\"anonymous\" data-module-id=\"./chunk-launch-code-element.js\" data-src=\"https://github.githubassets.com/assets/chunk-launch-code-element-d034991e.js\" defer=\"defer\" integrity=\"sha512-0DSZHh/iD27pAOXl4AWcxPqgRsJAVr1M8SnaN4gKYH2ZplPywvL5oalqN4Qj03FsB5Ll0pytD5kiTMibgGq0BA==\" type=\"application/javascript\"></script>\n",
       " <script crossorigin=\"anonymous\" data-module-id=\"./chunk-notification-list-focus.js\" data-src=\"https://github.githubassets.com/assets/chunk-notification-list-focus-2e8d23d6.js\" defer=\"defer\" integrity=\"sha512-Lo0j1owPfYM0txt85KwGzF1PQJLvLFGbRJoASd5ZKMQAV9ZSDg5bVm5UWBAz7glGzw1pkiUD2bCMs2wqyf+CEA==\" type=\"application/javascript\"></script>\n",
       " <script crossorigin=\"anonymous\" data-module-id=\"./chunk-profile-pins-element.js\" data-src=\"https://github.githubassets.com/assets/chunk-profile-pins-element-99ad0e3b.js\" defer=\"defer\" integrity=\"sha512-ma0OOy3nj0c1cqBx0BkcmIFsLqcSZ+MIukQxyEFM/OWTzZpG+QMgOoWPAHZz43M6fyjAUG1jH6c/6LPiiKPCyw==\" type=\"application/javascript\"></script>\n",
       " <script crossorigin=\"anonymous\" data-module-id=\"./chunk-readme-toc-element.js\" data-src=\"https://github.githubassets.com/assets/chunk-readme-toc-element-fe43cbcd.js\" defer=\"defer\" integrity=\"sha512-/kPLzWIe41nxla5A+wcKKPIw4xiAsuITdjbXGVCycmUYnADfCids8FdV+TCA68gr4jAhKIws7flLpL12MoouBA==\" type=\"application/javascript\"></script>\n",
       " <script crossorigin=\"anonymous\" data-module-id=\"./chunk-ref-selector.js\" data-src=\"https://github.githubassets.com/assets/chunk-ref-selector-17413603.js\" defer=\"defer\" integrity=\"sha512-F0E2A5YYSz+7eA/RyQ/vYtJzeK2sjNyyneVBqru/CPoRXGBiAcJ2tpN2MWLxkNCqirt88h/BMCAF/7YTZ2qZJA==\" type=\"application/javascript\"></script>\n",
       " <script crossorigin=\"anonymous\" data-module-id=\"./chunk-responsive-underlinenav.js\" data-src=\"https://github.githubassets.com/assets/chunk-responsive-underlinenav-6628bda1.js\" defer=\"defer\" integrity=\"sha512-Zii9oRdZ6q2QDNjL5A+me7jwJjMLvs1NiQNHmajUZnn4t9shcBDb4F8l/PQZW26eYfe5065oM7lIOSmbMinA7Q==\" type=\"application/javascript\"></script>\n",
       " <script crossorigin=\"anonymous\" data-module-id=\"./chunk-runner-groups.js\" data-src=\"https://github.githubassets.com/assets/chunk-runner-groups-f56357b4.js\" defer=\"defer\" integrity=\"sha512-9WNXtB07IyWypiPmkuucspwog4mme9q5GKGMSgd7FI0DPimmg/pEw+aaAofFV1vuWMt9I8H5QpsVtlbHGg1YBA==\" type=\"application/javascript\"></script>\n",
       " <script crossorigin=\"anonymous\" data-module-id=\"./chunk-sortable-behavior.js\" data-src=\"https://github.githubassets.com/assets/chunk-sortable-behavior-7c8abd32.js\" defer=\"defer\" integrity=\"sha512-fIq9Mn7jY/bHQXnsmh+VejpDnaO+d/FDxsp+4CuZtdNLrLuO+dQCjh+m6Yd8GCYD2Cy6DWbCEyM+mH2dkB2H9A==\" type=\"application/javascript\"></script>\n",
       " <script crossorigin=\"anonymous\" data-module-id=\"./chunk-toast.js\" data-src=\"https://github.githubassets.com/assets/chunk-toast-58af155f.js\" defer=\"defer\" integrity=\"sha512-WK8VXw3lfUQ/VRW0zlgKPhcMUqH0uTnB/KzePUPdZhCm/HpxfXXHKTGvj5C0Oex7+zbIM2ECzULbtTCT4ug3yg==\" type=\"application/javascript\"></script>\n",
       " <script crossorigin=\"anonymous\" data-module-id=\"./chunk-tweetsodium.js\" data-src=\"https://github.githubassets.com/assets/chunk-tweetsodium-be01c912.js\" defer=\"defer\" integrity=\"sha512-vgHJEmEJxNmHucGbVY8bEUoOYo5/ZwpQ69rU8Dld89daWJ54uad9lNptxq32F8pnbHhdngw9lohNEbMbjmj5AQ==\" type=\"application/javascript\"></script>\n",
       " <script crossorigin=\"anonymous\" data-module-id=\"./chunk-user-status-submit.js\" data-src=\"https://github.githubassets.com/assets/chunk-user-status-submit-6be3ebf6.js\" defer=\"defer\" integrity=\"sha512-a+Pr9qPUoA3j8O0EiWfWwxWH4ZiB1fweLkYrjYlvyy/SeJbcjR1B4UyYjypFb9kvoy7I2bwXU9ctjZInmlyBXg==\" type=\"application/javascript\"></script>\n",
       " <meta content=\"width=device-width\" name=\"viewport\"/>\n",
       " <title>Trending  developers on GitHub today · GitHub</title>\n",
       " <meta content=\"GitHub is where people build software. More than 65 million people use GitHub to discover, fork, and contribute to over 200 million projects.\" name=\"description\"/>\n",
       " <link href=\"/opensearch.xml\" rel=\"search\" title=\"GitHub\" type=\"application/opensearchdescription+xml\"/>\n",
       " <link href=\"https://github.com/fluidicon.png\" rel=\"fluid-icon\" title=\"GitHub\"/>\n",
       " <meta content=\"1401488693436528\" property=\"fb:app_id\"/>\n",
       " <meta content=\"app-id=1477376905\" name=\"apple-itunes-app\">\n",
       " <meta content=\"https://github.com\" property=\"og:url\"/>\n",
       " <meta content=\"GitHub\" property=\"og:site_name\"/>\n",
       " <meta content=\"Build software better, together\" property=\"og:title\"/>\n",
       " <meta content=\"GitHub is where people build software. More than 65 million people use GitHub to discover, fork, and contribute to over 200 million projects.\" property=\"og:description\"/>\n",
       " <meta content=\"https://github.githubassets.com/images/modules/open_graph/github-logo.png\" property=\"og:image\"/>\n",
       " <meta content=\"image/png\" property=\"og:image:type\"/>\n",
       " <meta content=\"1200\" property=\"og:image:width\"/>\n",
       " <meta content=\"1200\" property=\"og:image:height\"/>\n",
       " <meta content=\"https://github.githubassets.com/images/modules/open_graph/github-mark.png\" property=\"og:image\"/>\n",
       " <meta content=\"image/png\" property=\"og:image:type\"/>\n",
       " <meta content=\"1200\" property=\"og:image:width\"/>\n",
       " <meta content=\"620\" property=\"og:image:height\"/>\n",
       " <meta content=\"https://github.githubassets.com/images/modules/open_graph/github-octocat.png\" property=\"og:image\"/>\n",
       " <meta content=\"image/png\" property=\"og:image:type\"/>\n",
       " <meta content=\"1200\" property=\"og:image:width\"/>\n",
       " <meta content=\"620\" property=\"og:image:height\"/>\n",
       " <meta content=\"github\" property=\"twitter:site\"/>\n",
       " <meta content=\"13334762\" property=\"twitter:site:id\"/>\n",
       " <meta content=\"github\" property=\"twitter:creator\"/>\n",
       " <meta content=\"13334762\" property=\"twitter:creator:id\"/>\n",
       " <meta content=\"summary_large_image\" property=\"twitter:card\"/>\n",
       " <meta content=\"GitHub\" property=\"twitter:title\"/>\n",
       " <meta content=\"GitHub is where people build software. More than 65 million people use GitHub to discover, fork, and contribute to over 200 million projects.\" property=\"twitter:description\"/>\n",
       " <meta content=\"https://github.githubassets.com/images/modules/open_graph/github-logo.png\" property=\"twitter:image:src\"/>\n",
       " <meta content=\"1200\" property=\"twitter:image:width\"/>\n",
       " <meta content=\"1200\" property=\"twitter:image:height\"/>\n",
       " <link href=\"https://github.githubassets.com/\" rel=\"assets\"/>\n",
       " <meta content=\"C4FE:1406:A05F65F:A5F12B6:60ADFA49\" data-pjax-transient=\"true\" name=\"request-id\"><meta content=\"f97708f6cbbcf80117a79a4aff4427543afa525185dbb5cb31ee871fdea3e154\" data-pjax-transient=\"true\" name=\"html-safe-nonce\"><meta content=\"eyJyZWZlcnJlciI6IiIsInJlcXVlc3RfaWQiOiJDNEZFOjE0MDY6QTA1RjY1RjpBNUYxMkI2OjYwQURGQTQ5IiwidmlzaXRvcl9pZCI6IjQxODczNDUwMDM1NTEyNTkyMTAiLCJyZWdpb25fZWRnZSI6ImZyYSIsInJlZ2lvbl9yZW5kZXIiOiJmcmEifQ==\" data-pjax-transient=\"true\" name=\"visitor-payload\"><meta content=\"17a8c1c78d682142120a82a8bbfec7d56f64a1b631bf5570bfbea0f9549e9de7\" data-pjax-transient=\"true\" name=\"visitor-hmac\">\n",
       " <meta content=\"\" data-pjax-transient=\"true\" name=\"github-keyboard-shortcuts\">\n",
       " <meta data-pjax-transient=\"\" name=\"selected-link\" value=\"trending_developers\"/>\n",
       " <meta content=\"c1kuD-K2HIVF635lypcsWPoD4kilo5-jA_wBFyT4uMY\" name=\"google-site-verification\"/>\n",
       " <meta content=\"KT5gs8h0wvaagLKAVWq8bbeNwnZZK1r1XQysX3xurLU\" name=\"google-site-verification\"/>\n",
       " <meta content=\"ZzhVyEFwb7w3e0-uOTltm8Jsck2F5StVihD0exw2fsA\" name=\"google-site-verification\"/>\n",
       " <meta content=\"GXs5KoUUkNCoaAZn7wPN-t01Pywp9M3sEjnt_3_ZWPc\" name=\"google-site-verification\"/>\n",
       " <meta content=\"collector.githubapp.com\" name=\"octolytics-host\"><meta content=\"github\" name=\"octolytics-app-id\"><meta content=\"https://collector.githubapp.com/github-external/browser_event\" name=\"octolytics-event-url\">\n",
       " <meta content=\"github.com\" name=\"hostname\"/>\n",
       " <meta content=\"\" name=\"user-login\"/>\n",
       " <meta content=\"github.com\" name=\"expected-hostname\"/>\n",
       " <meta content=\"MARKETPLACE_PENDING_INSTALLATIONS,AUTOCOMPLETE_EMOJIS_IN_MARKDOWN_EDITOR,ACTIONS_CONCURRENCY_UI\" name=\"enabled-features\"/>\n",
       " <meta content=\"c992fb5cbc2947fec3cf24721d7a9bda34336c5618eebcc1b8aed2bdc7368513\" http-equiv=\"x-pjax-version\"/>\n",
       " <link data-pjax-transient=\"\" href=\"https://github.com/trending/developers\" rel=\"canonical\"/>\n",
       " <meta content=\"https://api.github.com/_private/browser/stats\" name=\"browser-stats-url\"/>\n",
       " <meta content=\"https://api.github.com/_private/browser/errors\" name=\"browser-errors-url\"/>\n",
       " <meta content=\"https://api.github.com/_private/browser/optimizely_client/errors\" name=\"browser-optimizely-client-errors-url\"/>\n",
       " <link color=\"#000000\" href=\"https://github.githubassets.com/pinned-octocat.svg\" rel=\"mask-icon\"/>\n",
       " <link class=\"js-site-favicon\" href=\"https://github.githubassets.com/favicons/favicon.png\" rel=\"alternate icon\" type=\"image/png\"/>\n",
       " <link class=\"js-site-favicon\" href=\"https://github.githubassets.com/favicons/favicon.svg\" rel=\"icon\" type=\"image/svg+xml\"/>\n",
       " <meta content=\"#1e2327\" name=\"theme-color\"/>\n",
       " <meta content=\"light dark\" name=\"color-scheme\">\n",
       " <link crossorigin=\"use-credentials\" href=\"/manifest.json\" rel=\"manifest\"/>\n",
       " <meta content=\"ko\" name=\"enabled-homepage-translation-languages\"/>\n",
       " </meta></meta></meta></meta></meta></meta></meta></meta></meta></meta></link></link></link></link>,\n",
       " <link crossorigin=\"anonymous\" href=\"https://github.githubassets.com/assets/behaviors-efbb025cd5ec1558bf77e195e039132a.css\" integrity=\"sha512-77sCXNXsFVi/d+GV4DkTKtEthsHB0aFlzCmKNN8WqKwtwdlBkpbEfaFeCpAmxQaaQQ7ov/itwvQKCHiriLyjNg==\" media=\"all\" rel=\"stylesheet\">\n",
       " <link crossorigin=\"anonymous\" href=\"https://github.githubassets.com/assets/site-b41724b471dae6d0e4ec79930a08d9d3.css\" integrity=\"sha512-tBcktHHa5tDk7HmTCgjZ0xO5PbyKvfPK4cQpOtr5yLml7uJwscowxz/aEoA3WN7FHi8WIvcqFTmgltMEhFa6xQ==\" media=\"all\" rel=\"stylesheet\">\n",
       " <link crossorigin=\"anonymous\" href=\"https://github.githubassets.com/assets/explore-4d76a3912c1a15dfd150feb7eb22a94e.css\" integrity=\"sha512-TXajkSwaFd/RUP636yKpTp17tZmOCLI4Ji6AzwnP+jEoT/ZG0eBQmyGnW4mFBqGO4oeONAXFrPCw9J8DYrELiw==\" media=\"all\" rel=\"stylesheet\">\n",
       " <script crossorigin=\"anonymous\" defer=\"defer\" integrity=\"sha512-CzeY4A6TiG4fGZSWZU8FxmzFFmcQFoPpArF0hkH0/J/S7UL4eed/LKEXMQXfTwiG5yEJBI+9BdKG8KQJNbhcIQ==\" src=\"https://github.githubassets.com/assets/environment-0b3798e0.js\" type=\"application/javascript\"></script>\n",
       " <script crossorigin=\"anonymous\" defer=\"defer\" integrity=\"sha512-hj4gBCzfBV2jwA/7yKXddRVpCFofKW+wQVTp2TGzxjcPDvfVMXOnYo+yUjupKswUmrxEZps+xX+JM+xzO4RYaA==\" src=\"https://github.githubassets.com/assets/chunk-frameworks-863e2004.js\" type=\"application/javascript\"></script>\n",
       " <script crossorigin=\"anonymous\" defer=\"defer\" integrity=\"sha512-rAayX+tAGbFvAwJW7fDoX+NNhMtMEh/AERlttmVRsk3Vk4kl27vs8D6s8IEJs7dMixb+J1VNqDLcAjlssMguJw==\" src=\"https://github.githubassets.com/assets/chunk-vendor-ac06b25f.js\" type=\"application/javascript\"></script>\n",
       " <script crossorigin=\"anonymous\" defer=\"defer\" integrity=\"sha512-qPi5hh9n372trWzRp2OnsYbbL/ioCFrAcf8Udxayqw6iqHKrO4BJHGJPD2TMGE5qMJcu7craDDSucWJvCz6Ydw==\" src=\"https://github.githubassets.com/assets/behaviors-a8f8b986.js\" type=\"application/javascript\"></script>\n",
       " <script crossorigin=\"anonymous\" data-module-id=\"./chunk-animate-on-scroll.js\" data-src=\"https://github.githubassets.com/assets/chunk-animate-on-scroll-56e3ffd8.js\" defer=\"defer\" integrity=\"sha512-VuP/2HeHlwuxYb9sV0y9/hgN869dWIQDX2WZrvh4VAQjo6tb7PXzbBz0nOYROez0xFLxRc/u6sVU6fuYgcpN8w==\" type=\"application/javascript\"></script>\n",
       " <script crossorigin=\"anonymous\" data-module-id=\"./chunk-codemirror.js\" data-src=\"https://github.githubassets.com/assets/chunk-codemirror-72ddd088.js\" defer=\"defer\" integrity=\"sha512-ct3QiK2mvpg7zor9R2psdWnNMM2K32RU4RGRB/7yA5FyZ8H4iY6SNynXc7UaJqzBx6NaReg3GsWJPwW3kgAAig==\" type=\"application/javascript\"></script>\n",
       " <script crossorigin=\"anonymous\" data-module-id=\"./chunk-color-modes.js\" data-src=\"https://github.githubassets.com/assets/chunk-color-modes-f54b89ff.js\" defer=\"defer\" integrity=\"sha512-9UuJ//O9hwCOI7MwzyVAJXn1D9B0WaQFktu5Qzw+7mg18URfaXXS7LsQVNirCGlgrmKe20UCtbj/4aGmw9Wk7g==\" type=\"application/javascript\"></script>\n",
       " <script crossorigin=\"anonymous\" data-module-id=\"./chunk-contributions-spider-graph.js\" data-src=\"https://github.githubassets.com/assets/chunk-contributions-spider-graph-ce46194a.js\" defer=\"defer\" integrity=\"sha512-zkYZSjUFqSifB+Lt76jclFMrfqpcPqevT801RZcoBNCZHRTBKcFrW9OyJoPOzKFv+fZVDRnqdqGsuIv5KOIgZg==\" type=\"application/javascript\"></script>\n",
       " <script crossorigin=\"anonymous\" data-module-id=\"./chunk-drag-drop.js\" data-src=\"https://github.githubassets.com/assets/chunk-drag-drop-ea3fe848.js\" defer=\"defer\" integrity=\"sha512-6j/oSF+kbW+yetNPvI684VzAu9pzug6Vj2h+3u1LdCuRhR4jnuiHZfeQKls3nxcT/S3H+oIt7FtigE/aeoj+gg==\" type=\"application/javascript\"></script>\n",
       " <script crossorigin=\"anonymous\" data-module-id=\"./chunk-edit-hook-secret-element.js\" data-src=\"https://github.githubassets.com/assets/chunk-edit-hook-secret-element-55249df9.js\" defer=\"defer\" integrity=\"sha512-VSSd+Yzi2iMS+pibY6hD/WdypxAEdob5F2RMKxuKcAHS2EpFYJPeTXoVxt0NXg03tfj2dka2mEtHS+vjpYSaDw==\" type=\"application/javascript\"></script>\n",
       " <script crossorigin=\"anonymous\" data-module-id=\"./chunk-edit.js\" data-src=\"https://github.githubassets.com/assets/chunk-edit-37ece2a8.js\" defer=\"defer\" integrity=\"sha512-N+ziqJjVMfWiqeVHdayDHpNRlG5HsF+cgV+pFnMDoTJuvBzgw+ndsepe4NcKAxIS3WMvzMaQcYmd2vrIaoAJVg==\" type=\"application/javascript\"></script>\n",
       " <script crossorigin=\"anonymous\" data-module-id=\"./chunk-emoji-picker-element.js\" data-src=\"https://github.githubassets.com/assets/chunk-emoji-picker-element-6a2a8c20.js\" defer=\"defer\" integrity=\"sha512-aiqMIGGZGo8AQMjcoImKPMTsZVVRl6htCSY7BpRmpGPG/AF+Wq+P/Oj/dthWQOIk9cCNMPEas7O2zAR6oqn0tA==\" type=\"application/javascript\"></script>\n",
       " <script crossorigin=\"anonymous\" data-module-id=\"./chunk-filter-input.js\" data-src=\"https://github.githubassets.com/assets/chunk-filter-input-7a3093f6.js\" defer=\"defer\" integrity=\"sha512-ejCT9r9E93nir+wK3PibZdMK0J3VXEkbwlgdnOnaUNoiJDI60BMtFt1QwjMU/rLXcjnH0xvgVFINGBFkzvTmRw==\" type=\"application/javascript\"></script>\n",
       " <script crossorigin=\"anonymous\" data-module-id=\"./chunk-insights-graph.js\" data-src=\"https://github.githubassets.com/assets/chunk-insights-graph-675c1cc8.js\" defer=\"defer\" integrity=\"sha512-Z1wcyOFQHzyMSPqp5DLKrobr3DN2Q6Dz31cfPtw4b2vPs9PX0PrxyDXHpTbIlcZ9qT1M1BNAypHKKw8Lp6Yx/Q==\" type=\"application/javascript\"></script>\n",
       " <script crossorigin=\"anonymous\" data-module-id=\"./chunk-invitations.js\" data-src=\"https://github.githubassets.com/assets/chunk-invitations-e22448f7.js\" defer=\"defer\" integrity=\"sha512-4iRI95LO0kKcZLWUoOzqI6w8IVGppDVluR4dL7yyz8zgBu/7JAib0MkRN5LUVxXv0KIT6mQ2m5jbKa1NeZoD5A==\" type=\"application/javascript\"></script>\n",
       " <script crossorigin=\"anonymous\" data-module-id=\"./chunk-jump-to.js\" data-src=\"https://github.githubassets.com/assets/chunk-jump-to-4b91483a.js\" defer=\"defer\" integrity=\"sha512-S5FIOkadGN34UNgwHnVlWaGU6QTjnXIgIhNC1KiRoPIJ1lr3bm+RyU+ar06Dijh10mCX7Gi2+B2oMe8XYJpcHg==\" type=\"application/javascript\"></script>\n",
       " <script crossorigin=\"anonymous\" data-module-id=\"./chunk-launch-code-element.js\" data-src=\"https://github.githubassets.com/assets/chunk-launch-code-element-d034991e.js\" defer=\"defer\" integrity=\"sha512-0DSZHh/iD27pAOXl4AWcxPqgRsJAVr1M8SnaN4gKYH2ZplPywvL5oalqN4Qj03FsB5Ll0pytD5kiTMibgGq0BA==\" type=\"application/javascript\"></script>\n",
       " <script crossorigin=\"anonymous\" data-module-id=\"./chunk-notification-list-focus.js\" data-src=\"https://github.githubassets.com/assets/chunk-notification-list-focus-2e8d23d6.js\" defer=\"defer\" integrity=\"sha512-Lo0j1owPfYM0txt85KwGzF1PQJLvLFGbRJoASd5ZKMQAV9ZSDg5bVm5UWBAz7glGzw1pkiUD2bCMs2wqyf+CEA==\" type=\"application/javascript\"></script>\n",
       " <script crossorigin=\"anonymous\" data-module-id=\"./chunk-profile-pins-element.js\" data-src=\"https://github.githubassets.com/assets/chunk-profile-pins-element-99ad0e3b.js\" defer=\"defer\" integrity=\"sha512-ma0OOy3nj0c1cqBx0BkcmIFsLqcSZ+MIukQxyEFM/OWTzZpG+QMgOoWPAHZz43M6fyjAUG1jH6c/6LPiiKPCyw==\" type=\"application/javascript\"></script>\n",
       " <script crossorigin=\"anonymous\" data-module-id=\"./chunk-readme-toc-element.js\" data-src=\"https://github.githubassets.com/assets/chunk-readme-toc-element-fe43cbcd.js\" defer=\"defer\" integrity=\"sha512-/kPLzWIe41nxla5A+wcKKPIw4xiAsuITdjbXGVCycmUYnADfCids8FdV+TCA68gr4jAhKIws7flLpL12MoouBA==\" type=\"application/javascript\"></script>\n",
       " <script crossorigin=\"anonymous\" data-module-id=\"./chunk-ref-selector.js\" data-src=\"https://github.githubassets.com/assets/chunk-ref-selector-17413603.js\" defer=\"defer\" integrity=\"sha512-F0E2A5YYSz+7eA/RyQ/vYtJzeK2sjNyyneVBqru/CPoRXGBiAcJ2tpN2MWLxkNCqirt88h/BMCAF/7YTZ2qZJA==\" type=\"application/javascript\"></script>\n",
       " <script crossorigin=\"anonymous\" data-module-id=\"./chunk-responsive-underlinenav.js\" data-src=\"https://github.githubassets.com/assets/chunk-responsive-underlinenav-6628bda1.js\" defer=\"defer\" integrity=\"sha512-Zii9oRdZ6q2QDNjL5A+me7jwJjMLvs1NiQNHmajUZnn4t9shcBDb4F8l/PQZW26eYfe5065oM7lIOSmbMinA7Q==\" type=\"application/javascript\"></script>\n",
       " <script crossorigin=\"anonymous\" data-module-id=\"./chunk-runner-groups.js\" data-src=\"https://github.githubassets.com/assets/chunk-runner-groups-f56357b4.js\" defer=\"defer\" integrity=\"sha512-9WNXtB07IyWypiPmkuucspwog4mme9q5GKGMSgd7FI0DPimmg/pEw+aaAofFV1vuWMt9I8H5QpsVtlbHGg1YBA==\" type=\"application/javascript\"></script>\n",
       " <script crossorigin=\"anonymous\" data-module-id=\"./chunk-sortable-behavior.js\" data-src=\"https://github.githubassets.com/assets/chunk-sortable-behavior-7c8abd32.js\" defer=\"defer\" integrity=\"sha512-fIq9Mn7jY/bHQXnsmh+VejpDnaO+d/FDxsp+4CuZtdNLrLuO+dQCjh+m6Yd8GCYD2Cy6DWbCEyM+mH2dkB2H9A==\" type=\"application/javascript\"></script>\n",
       " <script crossorigin=\"anonymous\" data-module-id=\"./chunk-toast.js\" data-src=\"https://github.githubassets.com/assets/chunk-toast-58af155f.js\" defer=\"defer\" integrity=\"sha512-WK8VXw3lfUQ/VRW0zlgKPhcMUqH0uTnB/KzePUPdZhCm/HpxfXXHKTGvj5C0Oex7+zbIM2ECzULbtTCT4ug3yg==\" type=\"application/javascript\"></script>\n",
       " <script crossorigin=\"anonymous\" data-module-id=\"./chunk-tweetsodium.js\" data-src=\"https://github.githubassets.com/assets/chunk-tweetsodium-be01c912.js\" defer=\"defer\" integrity=\"sha512-vgHJEmEJxNmHucGbVY8bEUoOYo5/ZwpQ69rU8Dld89daWJ54uad9lNptxq32F8pnbHhdngw9lohNEbMbjmj5AQ==\" type=\"application/javascript\"></script>\n",
       " <script crossorigin=\"anonymous\" data-module-id=\"./chunk-user-status-submit.js\" data-src=\"https://github.githubassets.com/assets/chunk-user-status-submit-6be3ebf6.js\" defer=\"defer\" integrity=\"sha512-a+Pr9qPUoA3j8O0EiWfWwxWH4ZiB1fweLkYrjYlvyy/SeJbcjR1B4UyYjypFb9kvoy7I2bwXU9ctjZInmlyBXg==\" type=\"application/javascript\"></script>\n",
       " <meta content=\"width=device-width\" name=\"viewport\"/>\n",
       " <title>Trending  developers on GitHub today · GitHub</title>\n",
       " <meta content=\"GitHub is where people build software. More than 65 million people use GitHub to discover, fork, and contribute to over 200 million projects.\" name=\"description\"/>\n",
       " <link href=\"/opensearch.xml\" rel=\"search\" title=\"GitHub\" type=\"application/opensearchdescription+xml\"/>\n",
       " <link href=\"https://github.com/fluidicon.png\" rel=\"fluid-icon\" title=\"GitHub\"/>\n",
       " <meta content=\"1401488693436528\" property=\"fb:app_id\"/>\n",
       " <meta content=\"app-id=1477376905\" name=\"apple-itunes-app\">\n",
       " <meta content=\"https://github.com\" property=\"og:url\"/>\n",
       " <meta content=\"GitHub\" property=\"og:site_name\"/>\n",
       " <meta content=\"Build software better, together\" property=\"og:title\"/>\n",
       " <meta content=\"GitHub is where people build software. More than 65 million people use GitHub to discover, fork, and contribute to over 200 million projects.\" property=\"og:description\"/>\n",
       " <meta content=\"https://github.githubassets.com/images/modules/open_graph/github-logo.png\" property=\"og:image\"/>\n",
       " <meta content=\"image/png\" property=\"og:image:type\"/>\n",
       " <meta content=\"1200\" property=\"og:image:width\"/>\n",
       " <meta content=\"1200\" property=\"og:image:height\"/>\n",
       " <meta content=\"https://github.githubassets.com/images/modules/open_graph/github-mark.png\" property=\"og:image\"/>\n",
       " <meta content=\"image/png\" property=\"og:image:type\"/>\n",
       " <meta content=\"1200\" property=\"og:image:width\"/>\n",
       " <meta content=\"620\" property=\"og:image:height\"/>\n",
       " <meta content=\"https://github.githubassets.com/images/modules/open_graph/github-octocat.png\" property=\"og:image\"/>\n",
       " <meta content=\"image/png\" property=\"og:image:type\"/>\n",
       " <meta content=\"1200\" property=\"og:image:width\"/>\n",
       " <meta content=\"620\" property=\"og:image:height\"/>\n",
       " <meta content=\"github\" property=\"twitter:site\"/>\n",
       " <meta content=\"13334762\" property=\"twitter:site:id\"/>\n",
       " <meta content=\"github\" property=\"twitter:creator\"/>\n",
       " <meta content=\"13334762\" property=\"twitter:creator:id\"/>\n",
       " <meta content=\"summary_large_image\" property=\"twitter:card\"/>\n",
       " <meta content=\"GitHub\" property=\"twitter:title\"/>\n",
       " <meta content=\"GitHub is where people build software. More than 65 million people use GitHub to discover, fork, and contribute to over 200 million projects.\" property=\"twitter:description\"/>\n",
       " <meta content=\"https://github.githubassets.com/images/modules/open_graph/github-logo.png\" property=\"twitter:image:src\"/>\n",
       " <meta content=\"1200\" property=\"twitter:image:width\"/>\n",
       " <meta content=\"1200\" property=\"twitter:image:height\"/>\n",
       " <link href=\"https://github.githubassets.com/\" rel=\"assets\"/>\n",
       " <meta content=\"C4FE:1406:A05F65F:A5F12B6:60ADFA49\" data-pjax-transient=\"true\" name=\"request-id\"><meta content=\"f97708f6cbbcf80117a79a4aff4427543afa525185dbb5cb31ee871fdea3e154\" data-pjax-transient=\"true\" name=\"html-safe-nonce\"><meta content=\"eyJyZWZlcnJlciI6IiIsInJlcXVlc3RfaWQiOiJDNEZFOjE0MDY6QTA1RjY1RjpBNUYxMkI2OjYwQURGQTQ5IiwidmlzaXRvcl9pZCI6IjQxODczNDUwMDM1NTEyNTkyMTAiLCJyZWdpb25fZWRnZSI6ImZyYSIsInJlZ2lvbl9yZW5kZXIiOiJmcmEifQ==\" data-pjax-transient=\"true\" name=\"visitor-payload\"><meta content=\"17a8c1c78d682142120a82a8bbfec7d56f64a1b631bf5570bfbea0f9549e9de7\" data-pjax-transient=\"true\" name=\"visitor-hmac\">\n",
       " <meta content=\"\" data-pjax-transient=\"true\" name=\"github-keyboard-shortcuts\">\n",
       " <meta data-pjax-transient=\"\" name=\"selected-link\" value=\"trending_developers\"/>\n",
       " <meta content=\"c1kuD-K2HIVF635lypcsWPoD4kilo5-jA_wBFyT4uMY\" name=\"google-site-verification\"/>\n",
       " <meta content=\"KT5gs8h0wvaagLKAVWq8bbeNwnZZK1r1XQysX3xurLU\" name=\"google-site-verification\"/>\n",
       " <meta content=\"ZzhVyEFwb7w3e0-uOTltm8Jsck2F5StVihD0exw2fsA\" name=\"google-site-verification\"/>\n",
       " <meta content=\"GXs5KoUUkNCoaAZn7wPN-t01Pywp9M3sEjnt_3_ZWPc\" name=\"google-site-verification\"/>\n",
       " <meta content=\"collector.githubapp.com\" name=\"octolytics-host\"><meta content=\"github\" name=\"octolytics-app-id\"><meta content=\"https://collector.githubapp.com/github-external/browser_event\" name=\"octolytics-event-url\">\n",
       " <meta content=\"github.com\" name=\"hostname\"/>\n",
       " <meta content=\"\" name=\"user-login\"/>\n",
       " <meta content=\"github.com\" name=\"expected-hostname\"/>\n",
       " <meta content=\"MARKETPLACE_PENDING_INSTALLATIONS,AUTOCOMPLETE_EMOJIS_IN_MARKDOWN_EDITOR,ACTIONS_CONCURRENCY_UI\" name=\"enabled-features\"/>\n",
       " <meta content=\"c992fb5cbc2947fec3cf24721d7a9bda34336c5618eebcc1b8aed2bdc7368513\" http-equiv=\"x-pjax-version\"/>\n",
       " <link data-pjax-transient=\"\" href=\"https://github.com/trending/developers\" rel=\"canonical\"/>\n",
       " <meta content=\"https://api.github.com/_private/browser/stats\" name=\"browser-stats-url\"/>\n",
       " <meta content=\"https://api.github.com/_private/browser/errors\" name=\"browser-errors-url\"/>\n",
       " <meta content=\"https://api.github.com/_private/browser/optimizely_client/errors\" name=\"browser-optimizely-client-errors-url\"/>\n",
       " <link color=\"#000000\" href=\"https://github.githubassets.com/pinned-octocat.svg\" rel=\"mask-icon\"/>\n",
       " <link class=\"js-site-favicon\" href=\"https://github.githubassets.com/favicons/favicon.png\" rel=\"alternate icon\" type=\"image/png\"/>\n",
       " <link class=\"js-site-favicon\" href=\"https://github.githubassets.com/favicons/favicon.svg\" rel=\"icon\" type=\"image/svg+xml\"/>\n",
       " <meta content=\"#1e2327\" name=\"theme-color\"/>\n",
       " <meta content=\"light dark\" name=\"color-scheme\">\n",
       " <link crossorigin=\"use-credentials\" href=\"/manifest.json\" rel=\"manifest\"/>\n",
       " <meta content=\"ko\" name=\"enabled-homepage-translation-languages\"/>\n",
       " </meta></meta></meta></meta></meta></meta></meta></meta></meta></meta></link></link></link>,\n",
       " <link crossorigin=\"anonymous\" href=\"https://github.githubassets.com/assets/site-b41724b471dae6d0e4ec79930a08d9d3.css\" integrity=\"sha512-tBcktHHa5tDk7HmTCgjZ0xO5PbyKvfPK4cQpOtr5yLml7uJwscowxz/aEoA3WN7FHi8WIvcqFTmgltMEhFa6xQ==\" media=\"all\" rel=\"stylesheet\">\n",
       " <link crossorigin=\"anonymous\" href=\"https://github.githubassets.com/assets/explore-4d76a3912c1a15dfd150feb7eb22a94e.css\" integrity=\"sha512-TXajkSwaFd/RUP636yKpTp17tZmOCLI4Ji6AzwnP+jEoT/ZG0eBQmyGnW4mFBqGO4oeONAXFrPCw9J8DYrELiw==\" media=\"all\" rel=\"stylesheet\">\n",
       " <script crossorigin=\"anonymous\" defer=\"defer\" integrity=\"sha512-CzeY4A6TiG4fGZSWZU8FxmzFFmcQFoPpArF0hkH0/J/S7UL4eed/LKEXMQXfTwiG5yEJBI+9BdKG8KQJNbhcIQ==\" src=\"https://github.githubassets.com/assets/environment-0b3798e0.js\" type=\"application/javascript\"></script>\n",
       " <script crossorigin=\"anonymous\" defer=\"defer\" integrity=\"sha512-hj4gBCzfBV2jwA/7yKXddRVpCFofKW+wQVTp2TGzxjcPDvfVMXOnYo+yUjupKswUmrxEZps+xX+JM+xzO4RYaA==\" src=\"https://github.githubassets.com/assets/chunk-frameworks-863e2004.js\" type=\"application/javascript\"></script>\n",
       " <script crossorigin=\"anonymous\" defer=\"defer\" integrity=\"sha512-rAayX+tAGbFvAwJW7fDoX+NNhMtMEh/AERlttmVRsk3Vk4kl27vs8D6s8IEJs7dMixb+J1VNqDLcAjlssMguJw==\" src=\"https://github.githubassets.com/assets/chunk-vendor-ac06b25f.js\" type=\"application/javascript\"></script>\n",
       " <script crossorigin=\"anonymous\" defer=\"defer\" integrity=\"sha512-qPi5hh9n372trWzRp2OnsYbbL/ioCFrAcf8Udxayqw6iqHKrO4BJHGJPD2TMGE5qMJcu7craDDSucWJvCz6Ydw==\" src=\"https://github.githubassets.com/assets/behaviors-a8f8b986.js\" type=\"application/javascript\"></script>\n",
       " <script crossorigin=\"anonymous\" data-module-id=\"./chunk-animate-on-scroll.js\" data-src=\"https://github.githubassets.com/assets/chunk-animate-on-scroll-56e3ffd8.js\" defer=\"defer\" integrity=\"sha512-VuP/2HeHlwuxYb9sV0y9/hgN869dWIQDX2WZrvh4VAQjo6tb7PXzbBz0nOYROez0xFLxRc/u6sVU6fuYgcpN8w==\" type=\"application/javascript\"></script>\n",
       " <script crossorigin=\"anonymous\" data-module-id=\"./chunk-codemirror.js\" data-src=\"https://github.githubassets.com/assets/chunk-codemirror-72ddd088.js\" defer=\"defer\" integrity=\"sha512-ct3QiK2mvpg7zor9R2psdWnNMM2K32RU4RGRB/7yA5FyZ8H4iY6SNynXc7UaJqzBx6NaReg3GsWJPwW3kgAAig==\" type=\"application/javascript\"></script>\n",
       " <script crossorigin=\"anonymous\" data-module-id=\"./chunk-color-modes.js\" data-src=\"https://github.githubassets.com/assets/chunk-color-modes-f54b89ff.js\" defer=\"defer\" integrity=\"sha512-9UuJ//O9hwCOI7MwzyVAJXn1D9B0WaQFktu5Qzw+7mg18URfaXXS7LsQVNirCGlgrmKe20UCtbj/4aGmw9Wk7g==\" type=\"application/javascript\"></script>\n",
       " <script crossorigin=\"anonymous\" data-module-id=\"./chunk-contributions-spider-graph.js\" data-src=\"https://github.githubassets.com/assets/chunk-contributions-spider-graph-ce46194a.js\" defer=\"defer\" integrity=\"sha512-zkYZSjUFqSifB+Lt76jclFMrfqpcPqevT801RZcoBNCZHRTBKcFrW9OyJoPOzKFv+fZVDRnqdqGsuIv5KOIgZg==\" type=\"application/javascript\"></script>\n",
       " <script crossorigin=\"anonymous\" data-module-id=\"./chunk-drag-drop.js\" data-src=\"https://github.githubassets.com/assets/chunk-drag-drop-ea3fe848.js\" defer=\"defer\" integrity=\"sha512-6j/oSF+kbW+yetNPvI684VzAu9pzug6Vj2h+3u1LdCuRhR4jnuiHZfeQKls3nxcT/S3H+oIt7FtigE/aeoj+gg==\" type=\"application/javascript\"></script>\n",
       " <script crossorigin=\"anonymous\" data-module-id=\"./chunk-edit-hook-secret-element.js\" data-src=\"https://github.githubassets.com/assets/chunk-edit-hook-secret-element-55249df9.js\" defer=\"defer\" integrity=\"sha512-VSSd+Yzi2iMS+pibY6hD/WdypxAEdob5F2RMKxuKcAHS2EpFYJPeTXoVxt0NXg03tfj2dka2mEtHS+vjpYSaDw==\" type=\"application/javascript\"></script>\n",
       " <script crossorigin=\"anonymous\" data-module-id=\"./chunk-edit.js\" data-src=\"https://github.githubassets.com/assets/chunk-edit-37ece2a8.js\" defer=\"defer\" integrity=\"sha512-N+ziqJjVMfWiqeVHdayDHpNRlG5HsF+cgV+pFnMDoTJuvBzgw+ndsepe4NcKAxIS3WMvzMaQcYmd2vrIaoAJVg==\" type=\"application/javascript\"></script>\n",
       " <script crossorigin=\"anonymous\" data-module-id=\"./chunk-emoji-picker-element.js\" data-src=\"https://github.githubassets.com/assets/chunk-emoji-picker-element-6a2a8c20.js\" defer=\"defer\" integrity=\"sha512-aiqMIGGZGo8AQMjcoImKPMTsZVVRl6htCSY7BpRmpGPG/AF+Wq+P/Oj/dthWQOIk9cCNMPEas7O2zAR6oqn0tA==\" type=\"application/javascript\"></script>\n",
       " <script crossorigin=\"anonymous\" data-module-id=\"./chunk-filter-input.js\" data-src=\"https://github.githubassets.com/assets/chunk-filter-input-7a3093f6.js\" defer=\"defer\" integrity=\"sha512-ejCT9r9E93nir+wK3PibZdMK0J3VXEkbwlgdnOnaUNoiJDI60BMtFt1QwjMU/rLXcjnH0xvgVFINGBFkzvTmRw==\" type=\"application/javascript\"></script>\n",
       " <script crossorigin=\"anonymous\" data-module-id=\"./chunk-insights-graph.js\" data-src=\"https://github.githubassets.com/assets/chunk-insights-graph-675c1cc8.js\" defer=\"defer\" integrity=\"sha512-Z1wcyOFQHzyMSPqp5DLKrobr3DN2Q6Dz31cfPtw4b2vPs9PX0PrxyDXHpTbIlcZ9qT1M1BNAypHKKw8Lp6Yx/Q==\" type=\"application/javascript\"></script>\n",
       " <script crossorigin=\"anonymous\" data-module-id=\"./chunk-invitations.js\" data-src=\"https://github.githubassets.com/assets/chunk-invitations-e22448f7.js\" defer=\"defer\" integrity=\"sha512-4iRI95LO0kKcZLWUoOzqI6w8IVGppDVluR4dL7yyz8zgBu/7JAib0MkRN5LUVxXv0KIT6mQ2m5jbKa1NeZoD5A==\" type=\"application/javascript\"></script>\n",
       " <script crossorigin=\"anonymous\" data-module-id=\"./chunk-jump-to.js\" data-src=\"https://github.githubassets.com/assets/chunk-jump-to-4b91483a.js\" defer=\"defer\" integrity=\"sha512-S5FIOkadGN34UNgwHnVlWaGU6QTjnXIgIhNC1KiRoPIJ1lr3bm+RyU+ar06Dijh10mCX7Gi2+B2oMe8XYJpcHg==\" type=\"application/javascript\"></script>\n",
       " <script crossorigin=\"anonymous\" data-module-id=\"./chunk-launch-code-element.js\" data-src=\"https://github.githubassets.com/assets/chunk-launch-code-element-d034991e.js\" defer=\"defer\" integrity=\"sha512-0DSZHh/iD27pAOXl4AWcxPqgRsJAVr1M8SnaN4gKYH2ZplPywvL5oalqN4Qj03FsB5Ll0pytD5kiTMibgGq0BA==\" type=\"application/javascript\"></script>\n",
       " <script crossorigin=\"anonymous\" data-module-id=\"./chunk-notification-list-focus.js\" data-src=\"https://github.githubassets.com/assets/chunk-notification-list-focus-2e8d23d6.js\" defer=\"defer\" integrity=\"sha512-Lo0j1owPfYM0txt85KwGzF1PQJLvLFGbRJoASd5ZKMQAV9ZSDg5bVm5UWBAz7glGzw1pkiUD2bCMs2wqyf+CEA==\" type=\"application/javascript\"></script>\n",
       " <script crossorigin=\"anonymous\" data-module-id=\"./chunk-profile-pins-element.js\" data-src=\"https://github.githubassets.com/assets/chunk-profile-pins-element-99ad0e3b.js\" defer=\"defer\" integrity=\"sha512-ma0OOy3nj0c1cqBx0BkcmIFsLqcSZ+MIukQxyEFM/OWTzZpG+QMgOoWPAHZz43M6fyjAUG1jH6c/6LPiiKPCyw==\" type=\"application/javascript\"></script>\n",
       " <script crossorigin=\"anonymous\" data-module-id=\"./chunk-readme-toc-element.js\" data-src=\"https://github.githubassets.com/assets/chunk-readme-toc-element-fe43cbcd.js\" defer=\"defer\" integrity=\"sha512-/kPLzWIe41nxla5A+wcKKPIw4xiAsuITdjbXGVCycmUYnADfCids8FdV+TCA68gr4jAhKIws7flLpL12MoouBA==\" type=\"application/javascript\"></script>\n",
       " <script crossorigin=\"anonymous\" data-module-id=\"./chunk-ref-selector.js\" data-src=\"https://github.githubassets.com/assets/chunk-ref-selector-17413603.js\" defer=\"defer\" integrity=\"sha512-F0E2A5YYSz+7eA/RyQ/vYtJzeK2sjNyyneVBqru/CPoRXGBiAcJ2tpN2MWLxkNCqirt88h/BMCAF/7YTZ2qZJA==\" type=\"application/javascript\"></script>\n",
       " <script crossorigin=\"anonymous\" data-module-id=\"./chunk-responsive-underlinenav.js\" data-src=\"https://github.githubassets.com/assets/chunk-responsive-underlinenav-6628bda1.js\" defer=\"defer\" integrity=\"sha512-Zii9oRdZ6q2QDNjL5A+me7jwJjMLvs1NiQNHmajUZnn4t9shcBDb4F8l/PQZW26eYfe5065oM7lIOSmbMinA7Q==\" type=\"application/javascript\"></script>\n",
       " <script crossorigin=\"anonymous\" data-module-id=\"./chunk-runner-groups.js\" data-src=\"https://github.githubassets.com/assets/chunk-runner-groups-f56357b4.js\" defer=\"defer\" integrity=\"sha512-9WNXtB07IyWypiPmkuucspwog4mme9q5GKGMSgd7FI0DPimmg/pEw+aaAofFV1vuWMt9I8H5QpsVtlbHGg1YBA==\" type=\"application/javascript\"></script>\n",
       " <script crossorigin=\"anonymous\" data-module-id=\"./chunk-sortable-behavior.js\" data-src=\"https://github.githubassets.com/assets/chunk-sortable-behavior-7c8abd32.js\" defer=\"defer\" integrity=\"sha512-fIq9Mn7jY/bHQXnsmh+VejpDnaO+d/FDxsp+4CuZtdNLrLuO+dQCjh+m6Yd8GCYD2Cy6DWbCEyM+mH2dkB2H9A==\" type=\"application/javascript\"></script>\n",
       " <script crossorigin=\"anonymous\" data-module-id=\"./chunk-toast.js\" data-src=\"https://github.githubassets.com/assets/chunk-toast-58af155f.js\" defer=\"defer\" integrity=\"sha512-WK8VXw3lfUQ/VRW0zlgKPhcMUqH0uTnB/KzePUPdZhCm/HpxfXXHKTGvj5C0Oex7+zbIM2ECzULbtTCT4ug3yg==\" type=\"application/javascript\"></script>\n",
       " <script crossorigin=\"anonymous\" data-module-id=\"./chunk-tweetsodium.js\" data-src=\"https://github.githubassets.com/assets/chunk-tweetsodium-be01c912.js\" defer=\"defer\" integrity=\"sha512-vgHJEmEJxNmHucGbVY8bEUoOYo5/ZwpQ69rU8Dld89daWJ54uad9lNptxq32F8pnbHhdngw9lohNEbMbjmj5AQ==\" type=\"application/javascript\"></script>\n",
       " <script crossorigin=\"anonymous\" data-module-id=\"./chunk-user-status-submit.js\" data-src=\"https://github.githubassets.com/assets/chunk-user-status-submit-6be3ebf6.js\" defer=\"defer\" integrity=\"sha512-a+Pr9qPUoA3j8O0EiWfWwxWH4ZiB1fweLkYrjYlvyy/SeJbcjR1B4UyYjypFb9kvoy7I2bwXU9ctjZInmlyBXg==\" type=\"application/javascript\"></script>\n",
       " <meta content=\"width=device-width\" name=\"viewport\"/>\n",
       " <title>Trending  developers on GitHub today · GitHub</title>\n",
       " <meta content=\"GitHub is where people build software. More than 65 million people use GitHub to discover, fork, and contribute to over 200 million projects.\" name=\"description\"/>\n",
       " <link href=\"/opensearch.xml\" rel=\"search\" title=\"GitHub\" type=\"application/opensearchdescription+xml\"/>\n",
       " <link href=\"https://github.com/fluidicon.png\" rel=\"fluid-icon\" title=\"GitHub\"/>\n",
       " <meta content=\"1401488693436528\" property=\"fb:app_id\"/>\n",
       " <meta content=\"app-id=1477376905\" name=\"apple-itunes-app\">\n",
       " <meta content=\"https://github.com\" property=\"og:url\"/>\n",
       " <meta content=\"GitHub\" property=\"og:site_name\"/>\n",
       " <meta content=\"Build software better, together\" property=\"og:title\"/>\n",
       " <meta content=\"GitHub is where people build software. More than 65 million people use GitHub to discover, fork, and contribute to over 200 million projects.\" property=\"og:description\"/>\n",
       " <meta content=\"https://github.githubassets.com/images/modules/open_graph/github-logo.png\" property=\"og:image\"/>\n",
       " <meta content=\"image/png\" property=\"og:image:type\"/>\n",
       " <meta content=\"1200\" property=\"og:image:width\"/>\n",
       " <meta content=\"1200\" property=\"og:image:height\"/>\n",
       " <meta content=\"https://github.githubassets.com/images/modules/open_graph/github-mark.png\" property=\"og:image\"/>\n",
       " <meta content=\"image/png\" property=\"og:image:type\"/>\n",
       " <meta content=\"1200\" property=\"og:image:width\"/>\n",
       " <meta content=\"620\" property=\"og:image:height\"/>\n",
       " <meta content=\"https://github.githubassets.com/images/modules/open_graph/github-octocat.png\" property=\"og:image\"/>\n",
       " <meta content=\"image/png\" property=\"og:image:type\"/>\n",
       " <meta content=\"1200\" property=\"og:image:width\"/>\n",
       " <meta content=\"620\" property=\"og:image:height\"/>\n",
       " <meta content=\"github\" property=\"twitter:site\"/>\n",
       " <meta content=\"13334762\" property=\"twitter:site:id\"/>\n",
       " <meta content=\"github\" property=\"twitter:creator\"/>\n",
       " <meta content=\"13334762\" property=\"twitter:creator:id\"/>\n",
       " <meta content=\"summary_large_image\" property=\"twitter:card\"/>\n",
       " <meta content=\"GitHub\" property=\"twitter:title\"/>\n",
       " <meta content=\"GitHub is where people build software. More than 65 million people use GitHub to discover, fork, and contribute to over 200 million projects.\" property=\"twitter:description\"/>\n",
       " <meta content=\"https://github.githubassets.com/images/modules/open_graph/github-logo.png\" property=\"twitter:image:src\"/>\n",
       " <meta content=\"1200\" property=\"twitter:image:width\"/>\n",
       " <meta content=\"1200\" property=\"twitter:image:height\"/>\n",
       " <link href=\"https://github.githubassets.com/\" rel=\"assets\"/>\n",
       " <meta content=\"C4FE:1406:A05F65F:A5F12B6:60ADFA49\" data-pjax-transient=\"true\" name=\"request-id\"><meta content=\"f97708f6cbbcf80117a79a4aff4427543afa525185dbb5cb31ee871fdea3e154\" data-pjax-transient=\"true\" name=\"html-safe-nonce\"><meta content=\"eyJyZWZlcnJlciI6IiIsInJlcXVlc3RfaWQiOiJDNEZFOjE0MDY6QTA1RjY1RjpBNUYxMkI2OjYwQURGQTQ5IiwidmlzaXRvcl9pZCI6IjQxODczNDUwMDM1NTEyNTkyMTAiLCJyZWdpb25fZWRnZSI6ImZyYSIsInJlZ2lvbl9yZW5kZXIiOiJmcmEifQ==\" data-pjax-transient=\"true\" name=\"visitor-payload\"><meta content=\"17a8c1c78d682142120a82a8bbfec7d56f64a1b631bf5570bfbea0f9549e9de7\" data-pjax-transient=\"true\" name=\"visitor-hmac\">\n",
       " <meta content=\"\" data-pjax-transient=\"true\" name=\"github-keyboard-shortcuts\">\n",
       " <meta data-pjax-transient=\"\" name=\"selected-link\" value=\"trending_developers\"/>\n",
       " <meta content=\"c1kuD-K2HIVF635lypcsWPoD4kilo5-jA_wBFyT4uMY\" name=\"google-site-verification\"/>\n",
       " <meta content=\"KT5gs8h0wvaagLKAVWq8bbeNwnZZK1r1XQysX3xurLU\" name=\"google-site-verification\"/>\n",
       " <meta content=\"ZzhVyEFwb7w3e0-uOTltm8Jsck2F5StVihD0exw2fsA\" name=\"google-site-verification\"/>\n",
       " <meta content=\"GXs5KoUUkNCoaAZn7wPN-t01Pywp9M3sEjnt_3_ZWPc\" name=\"google-site-verification\"/>\n",
       " <meta content=\"collector.githubapp.com\" name=\"octolytics-host\"><meta content=\"github\" name=\"octolytics-app-id\"><meta content=\"https://collector.githubapp.com/github-external/browser_event\" name=\"octolytics-event-url\">\n",
       " <meta content=\"github.com\" name=\"hostname\"/>\n",
       " <meta content=\"\" name=\"user-login\"/>\n",
       " <meta content=\"github.com\" name=\"expected-hostname\"/>\n",
       " <meta content=\"MARKETPLACE_PENDING_INSTALLATIONS,AUTOCOMPLETE_EMOJIS_IN_MARKDOWN_EDITOR,ACTIONS_CONCURRENCY_UI\" name=\"enabled-features\"/>\n",
       " <meta content=\"c992fb5cbc2947fec3cf24721d7a9bda34336c5618eebcc1b8aed2bdc7368513\" http-equiv=\"x-pjax-version\"/>\n",
       " <link data-pjax-transient=\"\" href=\"https://github.com/trending/developers\" rel=\"canonical\"/>\n",
       " <meta content=\"https://api.github.com/_private/browser/stats\" name=\"browser-stats-url\"/>\n",
       " <meta content=\"https://api.github.com/_private/browser/errors\" name=\"browser-errors-url\"/>\n",
       " <meta content=\"https://api.github.com/_private/browser/optimizely_client/errors\" name=\"browser-optimizely-client-errors-url\"/>\n",
       " <link color=\"#000000\" href=\"https://github.githubassets.com/pinned-octocat.svg\" rel=\"mask-icon\"/>\n",
       " <link class=\"js-site-favicon\" href=\"https://github.githubassets.com/favicons/favicon.png\" rel=\"alternate icon\" type=\"image/png\"/>\n",
       " <link class=\"js-site-favicon\" href=\"https://github.githubassets.com/favicons/favicon.svg\" rel=\"icon\" type=\"image/svg+xml\"/>\n",
       " <meta content=\"#1e2327\" name=\"theme-color\"/>\n",
       " <meta content=\"light dark\" name=\"color-scheme\">\n",
       " <link crossorigin=\"use-credentials\" href=\"/manifest.json\" rel=\"manifest\"/>\n",
       " <meta content=\"ko\" name=\"enabled-homepage-translation-languages\"/>\n",
       " </meta></meta></meta></meta></meta></meta></meta></meta></meta></meta></link></link>,\n",
       " <link crossorigin=\"anonymous\" href=\"https://github.githubassets.com/assets/explore-4d76a3912c1a15dfd150feb7eb22a94e.css\" integrity=\"sha512-TXajkSwaFd/RUP636yKpTp17tZmOCLI4Ji6AzwnP+jEoT/ZG0eBQmyGnW4mFBqGO4oeONAXFrPCw9J8DYrELiw==\" media=\"all\" rel=\"stylesheet\">\n",
       " <script crossorigin=\"anonymous\" defer=\"defer\" integrity=\"sha512-CzeY4A6TiG4fGZSWZU8FxmzFFmcQFoPpArF0hkH0/J/S7UL4eed/LKEXMQXfTwiG5yEJBI+9BdKG8KQJNbhcIQ==\" src=\"https://github.githubassets.com/assets/environment-0b3798e0.js\" type=\"application/javascript\"></script>\n",
       " <script crossorigin=\"anonymous\" defer=\"defer\" integrity=\"sha512-hj4gBCzfBV2jwA/7yKXddRVpCFofKW+wQVTp2TGzxjcPDvfVMXOnYo+yUjupKswUmrxEZps+xX+JM+xzO4RYaA==\" src=\"https://github.githubassets.com/assets/chunk-frameworks-863e2004.js\" type=\"application/javascript\"></script>\n",
       " <script crossorigin=\"anonymous\" defer=\"defer\" integrity=\"sha512-rAayX+tAGbFvAwJW7fDoX+NNhMtMEh/AERlttmVRsk3Vk4kl27vs8D6s8IEJs7dMixb+J1VNqDLcAjlssMguJw==\" src=\"https://github.githubassets.com/assets/chunk-vendor-ac06b25f.js\" type=\"application/javascript\"></script>\n",
       " <script crossorigin=\"anonymous\" defer=\"defer\" integrity=\"sha512-qPi5hh9n372trWzRp2OnsYbbL/ioCFrAcf8Udxayqw6iqHKrO4BJHGJPD2TMGE5qMJcu7craDDSucWJvCz6Ydw==\" src=\"https://github.githubassets.com/assets/behaviors-a8f8b986.js\" type=\"application/javascript\"></script>\n",
       " <script crossorigin=\"anonymous\" data-module-id=\"./chunk-animate-on-scroll.js\" data-src=\"https://github.githubassets.com/assets/chunk-animate-on-scroll-56e3ffd8.js\" defer=\"defer\" integrity=\"sha512-VuP/2HeHlwuxYb9sV0y9/hgN869dWIQDX2WZrvh4VAQjo6tb7PXzbBz0nOYROez0xFLxRc/u6sVU6fuYgcpN8w==\" type=\"application/javascript\"></script>\n",
       " <script crossorigin=\"anonymous\" data-module-id=\"./chunk-codemirror.js\" data-src=\"https://github.githubassets.com/assets/chunk-codemirror-72ddd088.js\" defer=\"defer\" integrity=\"sha512-ct3QiK2mvpg7zor9R2psdWnNMM2K32RU4RGRB/7yA5FyZ8H4iY6SNynXc7UaJqzBx6NaReg3GsWJPwW3kgAAig==\" type=\"application/javascript\"></script>\n",
       " <script crossorigin=\"anonymous\" data-module-id=\"./chunk-color-modes.js\" data-src=\"https://github.githubassets.com/assets/chunk-color-modes-f54b89ff.js\" defer=\"defer\" integrity=\"sha512-9UuJ//O9hwCOI7MwzyVAJXn1D9B0WaQFktu5Qzw+7mg18URfaXXS7LsQVNirCGlgrmKe20UCtbj/4aGmw9Wk7g==\" type=\"application/javascript\"></script>\n",
       " <script crossorigin=\"anonymous\" data-module-id=\"./chunk-contributions-spider-graph.js\" data-src=\"https://github.githubassets.com/assets/chunk-contributions-spider-graph-ce46194a.js\" defer=\"defer\" integrity=\"sha512-zkYZSjUFqSifB+Lt76jclFMrfqpcPqevT801RZcoBNCZHRTBKcFrW9OyJoPOzKFv+fZVDRnqdqGsuIv5KOIgZg==\" type=\"application/javascript\"></script>\n",
       " <script crossorigin=\"anonymous\" data-module-id=\"./chunk-drag-drop.js\" data-src=\"https://github.githubassets.com/assets/chunk-drag-drop-ea3fe848.js\" defer=\"defer\" integrity=\"sha512-6j/oSF+kbW+yetNPvI684VzAu9pzug6Vj2h+3u1LdCuRhR4jnuiHZfeQKls3nxcT/S3H+oIt7FtigE/aeoj+gg==\" type=\"application/javascript\"></script>\n",
       " <script crossorigin=\"anonymous\" data-module-id=\"./chunk-edit-hook-secret-element.js\" data-src=\"https://github.githubassets.com/assets/chunk-edit-hook-secret-element-55249df9.js\" defer=\"defer\" integrity=\"sha512-VSSd+Yzi2iMS+pibY6hD/WdypxAEdob5F2RMKxuKcAHS2EpFYJPeTXoVxt0NXg03tfj2dka2mEtHS+vjpYSaDw==\" type=\"application/javascript\"></script>\n",
       " <script crossorigin=\"anonymous\" data-module-id=\"./chunk-edit.js\" data-src=\"https://github.githubassets.com/assets/chunk-edit-37ece2a8.js\" defer=\"defer\" integrity=\"sha512-N+ziqJjVMfWiqeVHdayDHpNRlG5HsF+cgV+pFnMDoTJuvBzgw+ndsepe4NcKAxIS3WMvzMaQcYmd2vrIaoAJVg==\" type=\"application/javascript\"></script>\n",
       " <script crossorigin=\"anonymous\" data-module-id=\"./chunk-emoji-picker-element.js\" data-src=\"https://github.githubassets.com/assets/chunk-emoji-picker-element-6a2a8c20.js\" defer=\"defer\" integrity=\"sha512-aiqMIGGZGo8AQMjcoImKPMTsZVVRl6htCSY7BpRmpGPG/AF+Wq+P/Oj/dthWQOIk9cCNMPEas7O2zAR6oqn0tA==\" type=\"application/javascript\"></script>\n",
       " <script crossorigin=\"anonymous\" data-module-id=\"./chunk-filter-input.js\" data-src=\"https://github.githubassets.com/assets/chunk-filter-input-7a3093f6.js\" defer=\"defer\" integrity=\"sha512-ejCT9r9E93nir+wK3PibZdMK0J3VXEkbwlgdnOnaUNoiJDI60BMtFt1QwjMU/rLXcjnH0xvgVFINGBFkzvTmRw==\" type=\"application/javascript\"></script>\n",
       " <script crossorigin=\"anonymous\" data-module-id=\"./chunk-insights-graph.js\" data-src=\"https://github.githubassets.com/assets/chunk-insights-graph-675c1cc8.js\" defer=\"defer\" integrity=\"sha512-Z1wcyOFQHzyMSPqp5DLKrobr3DN2Q6Dz31cfPtw4b2vPs9PX0PrxyDXHpTbIlcZ9qT1M1BNAypHKKw8Lp6Yx/Q==\" type=\"application/javascript\"></script>\n",
       " <script crossorigin=\"anonymous\" data-module-id=\"./chunk-invitations.js\" data-src=\"https://github.githubassets.com/assets/chunk-invitations-e22448f7.js\" defer=\"defer\" integrity=\"sha512-4iRI95LO0kKcZLWUoOzqI6w8IVGppDVluR4dL7yyz8zgBu/7JAib0MkRN5LUVxXv0KIT6mQ2m5jbKa1NeZoD5A==\" type=\"application/javascript\"></script>\n",
       " <script crossorigin=\"anonymous\" data-module-id=\"./chunk-jump-to.js\" data-src=\"https://github.githubassets.com/assets/chunk-jump-to-4b91483a.js\" defer=\"defer\" integrity=\"sha512-S5FIOkadGN34UNgwHnVlWaGU6QTjnXIgIhNC1KiRoPIJ1lr3bm+RyU+ar06Dijh10mCX7Gi2+B2oMe8XYJpcHg==\" type=\"application/javascript\"></script>\n",
       " <script crossorigin=\"anonymous\" data-module-id=\"./chunk-launch-code-element.js\" data-src=\"https://github.githubassets.com/assets/chunk-launch-code-element-d034991e.js\" defer=\"defer\" integrity=\"sha512-0DSZHh/iD27pAOXl4AWcxPqgRsJAVr1M8SnaN4gKYH2ZplPywvL5oalqN4Qj03FsB5Ll0pytD5kiTMibgGq0BA==\" type=\"application/javascript\"></script>\n",
       " <script crossorigin=\"anonymous\" data-module-id=\"./chunk-notification-list-focus.js\" data-src=\"https://github.githubassets.com/assets/chunk-notification-list-focus-2e8d23d6.js\" defer=\"defer\" integrity=\"sha512-Lo0j1owPfYM0txt85KwGzF1PQJLvLFGbRJoASd5ZKMQAV9ZSDg5bVm5UWBAz7glGzw1pkiUD2bCMs2wqyf+CEA==\" type=\"application/javascript\"></script>\n",
       " <script crossorigin=\"anonymous\" data-module-id=\"./chunk-profile-pins-element.js\" data-src=\"https://github.githubassets.com/assets/chunk-profile-pins-element-99ad0e3b.js\" defer=\"defer\" integrity=\"sha512-ma0OOy3nj0c1cqBx0BkcmIFsLqcSZ+MIukQxyEFM/OWTzZpG+QMgOoWPAHZz43M6fyjAUG1jH6c/6LPiiKPCyw==\" type=\"application/javascript\"></script>\n",
       " <script crossorigin=\"anonymous\" data-module-id=\"./chunk-readme-toc-element.js\" data-src=\"https://github.githubassets.com/assets/chunk-readme-toc-element-fe43cbcd.js\" defer=\"defer\" integrity=\"sha512-/kPLzWIe41nxla5A+wcKKPIw4xiAsuITdjbXGVCycmUYnADfCids8FdV+TCA68gr4jAhKIws7flLpL12MoouBA==\" type=\"application/javascript\"></script>\n",
       " <script crossorigin=\"anonymous\" data-module-id=\"./chunk-ref-selector.js\" data-src=\"https://github.githubassets.com/assets/chunk-ref-selector-17413603.js\" defer=\"defer\" integrity=\"sha512-F0E2A5YYSz+7eA/RyQ/vYtJzeK2sjNyyneVBqru/CPoRXGBiAcJ2tpN2MWLxkNCqirt88h/BMCAF/7YTZ2qZJA==\" type=\"application/javascript\"></script>\n",
       " <script crossorigin=\"anonymous\" data-module-id=\"./chunk-responsive-underlinenav.js\" data-src=\"https://github.githubassets.com/assets/chunk-responsive-underlinenav-6628bda1.js\" defer=\"defer\" integrity=\"sha512-Zii9oRdZ6q2QDNjL5A+me7jwJjMLvs1NiQNHmajUZnn4t9shcBDb4F8l/PQZW26eYfe5065oM7lIOSmbMinA7Q==\" type=\"application/javascript\"></script>\n",
       " <script crossorigin=\"anonymous\" data-module-id=\"./chunk-runner-groups.js\" data-src=\"https://github.githubassets.com/assets/chunk-runner-groups-f56357b4.js\" defer=\"defer\" integrity=\"sha512-9WNXtB07IyWypiPmkuucspwog4mme9q5GKGMSgd7FI0DPimmg/pEw+aaAofFV1vuWMt9I8H5QpsVtlbHGg1YBA==\" type=\"application/javascript\"></script>\n",
       " <script crossorigin=\"anonymous\" data-module-id=\"./chunk-sortable-behavior.js\" data-src=\"https://github.githubassets.com/assets/chunk-sortable-behavior-7c8abd32.js\" defer=\"defer\" integrity=\"sha512-fIq9Mn7jY/bHQXnsmh+VejpDnaO+d/FDxsp+4CuZtdNLrLuO+dQCjh+m6Yd8GCYD2Cy6DWbCEyM+mH2dkB2H9A==\" type=\"application/javascript\"></script>\n",
       " <script crossorigin=\"anonymous\" data-module-id=\"./chunk-toast.js\" data-src=\"https://github.githubassets.com/assets/chunk-toast-58af155f.js\" defer=\"defer\" integrity=\"sha512-WK8VXw3lfUQ/VRW0zlgKPhcMUqH0uTnB/KzePUPdZhCm/HpxfXXHKTGvj5C0Oex7+zbIM2ECzULbtTCT4ug3yg==\" type=\"application/javascript\"></script>\n",
       " <script crossorigin=\"anonymous\" data-module-id=\"./chunk-tweetsodium.js\" data-src=\"https://github.githubassets.com/assets/chunk-tweetsodium-be01c912.js\" defer=\"defer\" integrity=\"sha512-vgHJEmEJxNmHucGbVY8bEUoOYo5/ZwpQ69rU8Dld89daWJ54uad9lNptxq32F8pnbHhdngw9lohNEbMbjmj5AQ==\" type=\"application/javascript\"></script>\n",
       " <script crossorigin=\"anonymous\" data-module-id=\"./chunk-user-status-submit.js\" data-src=\"https://github.githubassets.com/assets/chunk-user-status-submit-6be3ebf6.js\" defer=\"defer\" integrity=\"sha512-a+Pr9qPUoA3j8O0EiWfWwxWH4ZiB1fweLkYrjYlvyy/SeJbcjR1B4UyYjypFb9kvoy7I2bwXU9ctjZInmlyBXg==\" type=\"application/javascript\"></script>\n",
       " <meta content=\"width=device-width\" name=\"viewport\"/>\n",
       " <title>Trending  developers on GitHub today · GitHub</title>\n",
       " <meta content=\"GitHub is where people build software. More than 65 million people use GitHub to discover, fork, and contribute to over 200 million projects.\" name=\"description\"/>\n",
       " <link href=\"/opensearch.xml\" rel=\"search\" title=\"GitHub\" type=\"application/opensearchdescription+xml\"/>\n",
       " <link href=\"https://github.com/fluidicon.png\" rel=\"fluid-icon\" title=\"GitHub\"/>\n",
       " <meta content=\"1401488693436528\" property=\"fb:app_id\"/>\n",
       " <meta content=\"app-id=1477376905\" name=\"apple-itunes-app\">\n",
       " <meta content=\"https://github.com\" property=\"og:url\"/>\n",
       " <meta content=\"GitHub\" property=\"og:site_name\"/>\n",
       " <meta content=\"Build software better, together\" property=\"og:title\"/>\n",
       " <meta content=\"GitHub is where people build software. More than 65 million people use GitHub to discover, fork, and contribute to over 200 million projects.\" property=\"og:description\"/>\n",
       " <meta content=\"https://github.githubassets.com/images/modules/open_graph/github-logo.png\" property=\"og:image\"/>\n",
       " <meta content=\"image/png\" property=\"og:image:type\"/>\n",
       " <meta content=\"1200\" property=\"og:image:width\"/>\n",
       " <meta content=\"1200\" property=\"og:image:height\"/>\n",
       " <meta content=\"https://github.githubassets.com/images/modules/open_graph/github-mark.png\" property=\"og:image\"/>\n",
       " <meta content=\"image/png\" property=\"og:image:type\"/>\n",
       " <meta content=\"1200\" property=\"og:image:width\"/>\n",
       " <meta content=\"620\" property=\"og:image:height\"/>\n",
       " <meta content=\"https://github.githubassets.com/images/modules/open_graph/github-octocat.png\" property=\"og:image\"/>\n",
       " <meta content=\"image/png\" property=\"og:image:type\"/>\n",
       " <meta content=\"1200\" property=\"og:image:width\"/>\n",
       " <meta content=\"620\" property=\"og:image:height\"/>\n",
       " <meta content=\"github\" property=\"twitter:site\"/>\n",
       " <meta content=\"13334762\" property=\"twitter:site:id\"/>\n",
       " <meta content=\"github\" property=\"twitter:creator\"/>\n",
       " <meta content=\"13334762\" property=\"twitter:creator:id\"/>\n",
       " <meta content=\"summary_large_image\" property=\"twitter:card\"/>\n",
       " <meta content=\"GitHub\" property=\"twitter:title\"/>\n",
       " <meta content=\"GitHub is where people build software. More than 65 million people use GitHub to discover, fork, and contribute to over 200 million projects.\" property=\"twitter:description\"/>\n",
       " <meta content=\"https://github.githubassets.com/images/modules/open_graph/github-logo.png\" property=\"twitter:image:src\"/>\n",
       " <meta content=\"1200\" property=\"twitter:image:width\"/>\n",
       " <meta content=\"1200\" property=\"twitter:image:height\"/>\n",
       " <link href=\"https://github.githubassets.com/\" rel=\"assets\"/>\n",
       " <meta content=\"C4FE:1406:A05F65F:A5F12B6:60ADFA49\" data-pjax-transient=\"true\" name=\"request-id\"><meta content=\"f97708f6cbbcf80117a79a4aff4427543afa525185dbb5cb31ee871fdea3e154\" data-pjax-transient=\"true\" name=\"html-safe-nonce\"><meta content=\"eyJyZWZlcnJlciI6IiIsInJlcXVlc3RfaWQiOiJDNEZFOjE0MDY6QTA1RjY1RjpBNUYxMkI2OjYwQURGQTQ5IiwidmlzaXRvcl9pZCI6IjQxODczNDUwMDM1NTEyNTkyMTAiLCJyZWdpb25fZWRnZSI6ImZyYSIsInJlZ2lvbl9yZW5kZXIiOiJmcmEifQ==\" data-pjax-transient=\"true\" name=\"visitor-payload\"><meta content=\"17a8c1c78d682142120a82a8bbfec7d56f64a1b631bf5570bfbea0f9549e9de7\" data-pjax-transient=\"true\" name=\"visitor-hmac\">\n",
       " <meta content=\"\" data-pjax-transient=\"true\" name=\"github-keyboard-shortcuts\">\n",
       " <meta data-pjax-transient=\"\" name=\"selected-link\" value=\"trending_developers\"/>\n",
       " <meta content=\"c1kuD-K2HIVF635lypcsWPoD4kilo5-jA_wBFyT4uMY\" name=\"google-site-verification\"/>\n",
       " <meta content=\"KT5gs8h0wvaagLKAVWq8bbeNwnZZK1r1XQysX3xurLU\" name=\"google-site-verification\"/>\n",
       " <meta content=\"ZzhVyEFwb7w3e0-uOTltm8Jsck2F5StVihD0exw2fsA\" name=\"google-site-verification\"/>\n",
       " <meta content=\"GXs5KoUUkNCoaAZn7wPN-t01Pywp9M3sEjnt_3_ZWPc\" name=\"google-site-verification\"/>\n",
       " <meta content=\"collector.githubapp.com\" name=\"octolytics-host\"><meta content=\"github\" name=\"octolytics-app-id\"><meta content=\"https://collector.githubapp.com/github-external/browser_event\" name=\"octolytics-event-url\">\n",
       " <meta content=\"github.com\" name=\"hostname\"/>\n",
       " <meta content=\"\" name=\"user-login\"/>\n",
       " <meta content=\"github.com\" name=\"expected-hostname\"/>\n",
       " <meta content=\"MARKETPLACE_PENDING_INSTALLATIONS,AUTOCOMPLETE_EMOJIS_IN_MARKDOWN_EDITOR,ACTIONS_CONCURRENCY_UI\" name=\"enabled-features\"/>\n",
       " <meta content=\"c992fb5cbc2947fec3cf24721d7a9bda34336c5618eebcc1b8aed2bdc7368513\" http-equiv=\"x-pjax-version\"/>\n",
       " <link data-pjax-transient=\"\" href=\"https://github.com/trending/developers\" rel=\"canonical\"/>\n",
       " <meta content=\"https://api.github.com/_private/browser/stats\" name=\"browser-stats-url\"/>\n",
       " <meta content=\"https://api.github.com/_private/browser/errors\" name=\"browser-errors-url\"/>\n",
       " <meta content=\"https://api.github.com/_private/browser/optimizely_client/errors\" name=\"browser-optimizely-client-errors-url\"/>\n",
       " <link color=\"#000000\" href=\"https://github.githubassets.com/pinned-octocat.svg\" rel=\"mask-icon\"/>\n",
       " <link class=\"js-site-favicon\" href=\"https://github.githubassets.com/favicons/favicon.png\" rel=\"alternate icon\" type=\"image/png\"/>\n",
       " <link class=\"js-site-favicon\" href=\"https://github.githubassets.com/favicons/favicon.svg\" rel=\"icon\" type=\"image/svg+xml\"/>\n",
       " <meta content=\"#1e2327\" name=\"theme-color\"/>\n",
       " <meta content=\"light dark\" name=\"color-scheme\">\n",
       " <link crossorigin=\"use-credentials\" href=\"/manifest.json\" rel=\"manifest\"/>\n",
       " <meta content=\"ko\" name=\"enabled-homepage-translation-languages\"/>\n",
       " </meta></meta></meta></meta></meta></meta></meta></meta></meta></meta></link>,\n",
       " <script crossorigin=\"anonymous\" defer=\"defer\" integrity=\"sha512-CzeY4A6TiG4fGZSWZU8FxmzFFmcQFoPpArF0hkH0/J/S7UL4eed/LKEXMQXfTwiG5yEJBI+9BdKG8KQJNbhcIQ==\" src=\"https://github.githubassets.com/assets/environment-0b3798e0.js\" type=\"application/javascript\"></script>,\n",
       " <script crossorigin=\"anonymous\" defer=\"defer\" integrity=\"sha512-hj4gBCzfBV2jwA/7yKXddRVpCFofKW+wQVTp2TGzxjcPDvfVMXOnYo+yUjupKswUmrxEZps+xX+JM+xzO4RYaA==\" src=\"https://github.githubassets.com/assets/chunk-frameworks-863e2004.js\" type=\"application/javascript\"></script>,\n",
       " <script crossorigin=\"anonymous\" defer=\"defer\" integrity=\"sha512-rAayX+tAGbFvAwJW7fDoX+NNhMtMEh/AERlttmVRsk3Vk4kl27vs8D6s8IEJs7dMixb+J1VNqDLcAjlssMguJw==\" src=\"https://github.githubassets.com/assets/chunk-vendor-ac06b25f.js\" type=\"application/javascript\"></script>,\n",
       " <script crossorigin=\"anonymous\" defer=\"defer\" integrity=\"sha512-qPi5hh9n372trWzRp2OnsYbbL/ioCFrAcf8Udxayqw6iqHKrO4BJHGJPD2TMGE5qMJcu7craDDSucWJvCz6Ydw==\" src=\"https://github.githubassets.com/assets/behaviors-a8f8b986.js\" type=\"application/javascript\"></script>,\n",
       " <script crossorigin=\"anonymous\" data-module-id=\"./chunk-animate-on-scroll.js\" data-src=\"https://github.githubassets.com/assets/chunk-animate-on-scroll-56e3ffd8.js\" defer=\"defer\" integrity=\"sha512-VuP/2HeHlwuxYb9sV0y9/hgN869dWIQDX2WZrvh4VAQjo6tb7PXzbBz0nOYROez0xFLxRc/u6sVU6fuYgcpN8w==\" type=\"application/javascript\"></script>,\n",
       " <script crossorigin=\"anonymous\" data-module-id=\"./chunk-codemirror.js\" data-src=\"https://github.githubassets.com/assets/chunk-codemirror-72ddd088.js\" defer=\"defer\" integrity=\"sha512-ct3QiK2mvpg7zor9R2psdWnNMM2K32RU4RGRB/7yA5FyZ8H4iY6SNynXc7UaJqzBx6NaReg3GsWJPwW3kgAAig==\" type=\"application/javascript\"></script>,\n",
       " <script crossorigin=\"anonymous\" data-module-id=\"./chunk-color-modes.js\" data-src=\"https://github.githubassets.com/assets/chunk-color-modes-f54b89ff.js\" defer=\"defer\" integrity=\"sha512-9UuJ//O9hwCOI7MwzyVAJXn1D9B0WaQFktu5Qzw+7mg18URfaXXS7LsQVNirCGlgrmKe20UCtbj/4aGmw9Wk7g==\" type=\"application/javascript\"></script>,\n",
       " <script crossorigin=\"anonymous\" data-module-id=\"./chunk-contributions-spider-graph.js\" data-src=\"https://github.githubassets.com/assets/chunk-contributions-spider-graph-ce46194a.js\" defer=\"defer\" integrity=\"sha512-zkYZSjUFqSifB+Lt76jclFMrfqpcPqevT801RZcoBNCZHRTBKcFrW9OyJoPOzKFv+fZVDRnqdqGsuIv5KOIgZg==\" type=\"application/javascript\"></script>,\n",
       " <script crossorigin=\"anonymous\" data-module-id=\"./chunk-drag-drop.js\" data-src=\"https://github.githubassets.com/assets/chunk-drag-drop-ea3fe848.js\" defer=\"defer\" integrity=\"sha512-6j/oSF+kbW+yetNPvI684VzAu9pzug6Vj2h+3u1LdCuRhR4jnuiHZfeQKls3nxcT/S3H+oIt7FtigE/aeoj+gg==\" type=\"application/javascript\"></script>,\n",
       " <script crossorigin=\"anonymous\" data-module-id=\"./chunk-edit-hook-secret-element.js\" data-src=\"https://github.githubassets.com/assets/chunk-edit-hook-secret-element-55249df9.js\" defer=\"defer\" integrity=\"sha512-VSSd+Yzi2iMS+pibY6hD/WdypxAEdob5F2RMKxuKcAHS2EpFYJPeTXoVxt0NXg03tfj2dka2mEtHS+vjpYSaDw==\" type=\"application/javascript\"></script>,\n",
       " <script crossorigin=\"anonymous\" data-module-id=\"./chunk-edit.js\" data-src=\"https://github.githubassets.com/assets/chunk-edit-37ece2a8.js\" defer=\"defer\" integrity=\"sha512-N+ziqJjVMfWiqeVHdayDHpNRlG5HsF+cgV+pFnMDoTJuvBzgw+ndsepe4NcKAxIS3WMvzMaQcYmd2vrIaoAJVg==\" type=\"application/javascript\"></script>,\n",
       " <script crossorigin=\"anonymous\" data-module-id=\"./chunk-emoji-picker-element.js\" data-src=\"https://github.githubassets.com/assets/chunk-emoji-picker-element-6a2a8c20.js\" defer=\"defer\" integrity=\"sha512-aiqMIGGZGo8AQMjcoImKPMTsZVVRl6htCSY7BpRmpGPG/AF+Wq+P/Oj/dthWQOIk9cCNMPEas7O2zAR6oqn0tA==\" type=\"application/javascript\"></script>,\n",
       " <script crossorigin=\"anonymous\" data-module-id=\"./chunk-filter-input.js\" data-src=\"https://github.githubassets.com/assets/chunk-filter-input-7a3093f6.js\" defer=\"defer\" integrity=\"sha512-ejCT9r9E93nir+wK3PibZdMK0J3VXEkbwlgdnOnaUNoiJDI60BMtFt1QwjMU/rLXcjnH0xvgVFINGBFkzvTmRw==\" type=\"application/javascript\"></script>,\n",
       " <script crossorigin=\"anonymous\" data-module-id=\"./chunk-insights-graph.js\" data-src=\"https://github.githubassets.com/assets/chunk-insights-graph-675c1cc8.js\" defer=\"defer\" integrity=\"sha512-Z1wcyOFQHzyMSPqp5DLKrobr3DN2Q6Dz31cfPtw4b2vPs9PX0PrxyDXHpTbIlcZ9qT1M1BNAypHKKw8Lp6Yx/Q==\" type=\"application/javascript\"></script>,\n",
       " <script crossorigin=\"anonymous\" data-module-id=\"./chunk-invitations.js\" data-src=\"https://github.githubassets.com/assets/chunk-invitations-e22448f7.js\" defer=\"defer\" integrity=\"sha512-4iRI95LO0kKcZLWUoOzqI6w8IVGppDVluR4dL7yyz8zgBu/7JAib0MkRN5LUVxXv0KIT6mQ2m5jbKa1NeZoD5A==\" type=\"application/javascript\"></script>,\n",
       " <script crossorigin=\"anonymous\" data-module-id=\"./chunk-jump-to.js\" data-src=\"https://github.githubassets.com/assets/chunk-jump-to-4b91483a.js\" defer=\"defer\" integrity=\"sha512-S5FIOkadGN34UNgwHnVlWaGU6QTjnXIgIhNC1KiRoPIJ1lr3bm+RyU+ar06Dijh10mCX7Gi2+B2oMe8XYJpcHg==\" type=\"application/javascript\"></script>,\n",
       " <script crossorigin=\"anonymous\" data-module-id=\"./chunk-launch-code-element.js\" data-src=\"https://github.githubassets.com/assets/chunk-launch-code-element-d034991e.js\" defer=\"defer\" integrity=\"sha512-0DSZHh/iD27pAOXl4AWcxPqgRsJAVr1M8SnaN4gKYH2ZplPywvL5oalqN4Qj03FsB5Ll0pytD5kiTMibgGq0BA==\" type=\"application/javascript\"></script>,\n",
       " <script crossorigin=\"anonymous\" data-module-id=\"./chunk-notification-list-focus.js\" data-src=\"https://github.githubassets.com/assets/chunk-notification-list-focus-2e8d23d6.js\" defer=\"defer\" integrity=\"sha512-Lo0j1owPfYM0txt85KwGzF1PQJLvLFGbRJoASd5ZKMQAV9ZSDg5bVm5UWBAz7glGzw1pkiUD2bCMs2wqyf+CEA==\" type=\"application/javascript\"></script>,\n",
       " <script crossorigin=\"anonymous\" data-module-id=\"./chunk-profile-pins-element.js\" data-src=\"https://github.githubassets.com/assets/chunk-profile-pins-element-99ad0e3b.js\" defer=\"defer\" integrity=\"sha512-ma0OOy3nj0c1cqBx0BkcmIFsLqcSZ+MIukQxyEFM/OWTzZpG+QMgOoWPAHZz43M6fyjAUG1jH6c/6LPiiKPCyw==\" type=\"application/javascript\"></script>,\n",
       " <script crossorigin=\"anonymous\" data-module-id=\"./chunk-readme-toc-element.js\" data-src=\"https://github.githubassets.com/assets/chunk-readme-toc-element-fe43cbcd.js\" defer=\"defer\" integrity=\"sha512-/kPLzWIe41nxla5A+wcKKPIw4xiAsuITdjbXGVCycmUYnADfCids8FdV+TCA68gr4jAhKIws7flLpL12MoouBA==\" type=\"application/javascript\"></script>,\n",
       " <script crossorigin=\"anonymous\" data-module-id=\"./chunk-ref-selector.js\" data-src=\"https://github.githubassets.com/assets/chunk-ref-selector-17413603.js\" defer=\"defer\" integrity=\"sha512-F0E2A5YYSz+7eA/RyQ/vYtJzeK2sjNyyneVBqru/CPoRXGBiAcJ2tpN2MWLxkNCqirt88h/BMCAF/7YTZ2qZJA==\" type=\"application/javascript\"></script>,\n",
       " <script crossorigin=\"anonymous\" data-module-id=\"./chunk-responsive-underlinenav.js\" data-src=\"https://github.githubassets.com/assets/chunk-responsive-underlinenav-6628bda1.js\" defer=\"defer\" integrity=\"sha512-Zii9oRdZ6q2QDNjL5A+me7jwJjMLvs1NiQNHmajUZnn4t9shcBDb4F8l/PQZW26eYfe5065oM7lIOSmbMinA7Q==\" type=\"application/javascript\"></script>,\n",
       " <script crossorigin=\"anonymous\" data-module-id=\"./chunk-runner-groups.js\" data-src=\"https://github.githubassets.com/assets/chunk-runner-groups-f56357b4.js\" defer=\"defer\" integrity=\"sha512-9WNXtB07IyWypiPmkuucspwog4mme9q5GKGMSgd7FI0DPimmg/pEw+aaAofFV1vuWMt9I8H5QpsVtlbHGg1YBA==\" type=\"application/javascript\"></script>,\n",
       " <script crossorigin=\"anonymous\" data-module-id=\"./chunk-sortable-behavior.js\" data-src=\"https://github.githubassets.com/assets/chunk-sortable-behavior-7c8abd32.js\" defer=\"defer\" integrity=\"sha512-fIq9Mn7jY/bHQXnsmh+VejpDnaO+d/FDxsp+4CuZtdNLrLuO+dQCjh+m6Yd8GCYD2Cy6DWbCEyM+mH2dkB2H9A==\" type=\"application/javascript\"></script>,\n",
       " <script crossorigin=\"anonymous\" data-module-id=\"./chunk-toast.js\" data-src=\"https://github.githubassets.com/assets/chunk-toast-58af155f.js\" defer=\"defer\" integrity=\"sha512-WK8VXw3lfUQ/VRW0zlgKPhcMUqH0uTnB/KzePUPdZhCm/HpxfXXHKTGvj5C0Oex7+zbIM2ECzULbtTCT4ug3yg==\" type=\"application/javascript\"></script>,\n",
       " <script crossorigin=\"anonymous\" data-module-id=\"./chunk-tweetsodium.js\" data-src=\"https://github.githubassets.com/assets/chunk-tweetsodium-be01c912.js\" defer=\"defer\" integrity=\"sha512-vgHJEmEJxNmHucGbVY8bEUoOYo5/ZwpQ69rU8Dld89daWJ54uad9lNptxq32F8pnbHhdngw9lohNEbMbjmj5AQ==\" type=\"application/javascript\"></script>,\n",
       " <script crossorigin=\"anonymous\" data-module-id=\"./chunk-user-status-submit.js\" data-src=\"https://github.githubassets.com/assets/chunk-user-status-submit-6be3ebf6.js\" defer=\"defer\" integrity=\"sha512-a+Pr9qPUoA3j8O0EiWfWwxWH4ZiB1fweLkYrjYlvyy/SeJbcjR1B4UyYjypFb9kvoy7I2bwXU9ctjZInmlyBXg==\" type=\"application/javascript\"></script>,\n",
       " <meta content=\"width=device-width\" name=\"viewport\"/>,\n",
       " <title>Trending  developers on GitHub today · GitHub</title>,\n",
       " <meta content=\"GitHub is where people build software. More than 65 million people use GitHub to discover, fork, and contribute to over 200 million projects.\" name=\"description\"/>,\n",
       " <link href=\"/opensearch.xml\" rel=\"search\" title=\"GitHub\" type=\"application/opensearchdescription+xml\"/>,\n",
       " <link href=\"https://github.com/fluidicon.png\" rel=\"fluid-icon\" title=\"GitHub\"/>,\n",
       " <meta content=\"1401488693436528\" property=\"fb:app_id\"/>,\n",
       " <meta content=\"app-id=1477376905\" name=\"apple-itunes-app\">\n",
       " <meta content=\"https://github.com\" property=\"og:url\"/>\n",
       " <meta content=\"GitHub\" property=\"og:site_name\"/>\n",
       " <meta content=\"Build software better, together\" property=\"og:title\"/>\n",
       " <meta content=\"GitHub is where people build software. More than 65 million people use GitHub to discover, fork, and contribute to over 200 million projects.\" property=\"og:description\"/>\n",
       " <meta content=\"https://github.githubassets.com/images/modules/open_graph/github-logo.png\" property=\"og:image\"/>\n",
       " <meta content=\"image/png\" property=\"og:image:type\"/>\n",
       " <meta content=\"1200\" property=\"og:image:width\"/>\n",
       " <meta content=\"1200\" property=\"og:image:height\"/>\n",
       " <meta content=\"https://github.githubassets.com/images/modules/open_graph/github-mark.png\" property=\"og:image\"/>\n",
       " <meta content=\"image/png\" property=\"og:image:type\"/>\n",
       " <meta content=\"1200\" property=\"og:image:width\"/>\n",
       " <meta content=\"620\" property=\"og:image:height\"/>\n",
       " <meta content=\"https://github.githubassets.com/images/modules/open_graph/github-octocat.png\" property=\"og:image\"/>\n",
       " <meta content=\"image/png\" property=\"og:image:type\"/>\n",
       " <meta content=\"1200\" property=\"og:image:width\"/>\n",
       " <meta content=\"620\" property=\"og:image:height\"/>\n",
       " <meta content=\"github\" property=\"twitter:site\"/>\n",
       " <meta content=\"13334762\" property=\"twitter:site:id\"/>\n",
       " <meta content=\"github\" property=\"twitter:creator\"/>\n",
       " <meta content=\"13334762\" property=\"twitter:creator:id\"/>\n",
       " <meta content=\"summary_large_image\" property=\"twitter:card\"/>\n",
       " <meta content=\"GitHub\" property=\"twitter:title\"/>\n",
       " <meta content=\"GitHub is where people build software. More than 65 million people use GitHub to discover, fork, and contribute to over 200 million projects.\" property=\"twitter:description\"/>\n",
       " <meta content=\"https://github.githubassets.com/images/modules/open_graph/github-logo.png\" property=\"twitter:image:src\"/>\n",
       " <meta content=\"1200\" property=\"twitter:image:width\"/>\n",
       " <meta content=\"1200\" property=\"twitter:image:height\"/>\n",
       " <link href=\"https://github.githubassets.com/\" rel=\"assets\"/>\n",
       " <meta content=\"C4FE:1406:A05F65F:A5F12B6:60ADFA49\" data-pjax-transient=\"true\" name=\"request-id\"><meta content=\"f97708f6cbbcf80117a79a4aff4427543afa525185dbb5cb31ee871fdea3e154\" data-pjax-transient=\"true\" name=\"html-safe-nonce\"><meta content=\"eyJyZWZlcnJlciI6IiIsInJlcXVlc3RfaWQiOiJDNEZFOjE0MDY6QTA1RjY1RjpBNUYxMkI2OjYwQURGQTQ5IiwidmlzaXRvcl9pZCI6IjQxODczNDUwMDM1NTEyNTkyMTAiLCJyZWdpb25fZWRnZSI6ImZyYSIsInJlZ2lvbl9yZW5kZXIiOiJmcmEifQ==\" data-pjax-transient=\"true\" name=\"visitor-payload\"><meta content=\"17a8c1c78d682142120a82a8bbfec7d56f64a1b631bf5570bfbea0f9549e9de7\" data-pjax-transient=\"true\" name=\"visitor-hmac\">\n",
       " <meta content=\"\" data-pjax-transient=\"true\" name=\"github-keyboard-shortcuts\">\n",
       " <meta data-pjax-transient=\"\" name=\"selected-link\" value=\"trending_developers\"/>\n",
       " <meta content=\"c1kuD-K2HIVF635lypcsWPoD4kilo5-jA_wBFyT4uMY\" name=\"google-site-verification\"/>\n",
       " <meta content=\"KT5gs8h0wvaagLKAVWq8bbeNwnZZK1r1XQysX3xurLU\" name=\"google-site-verification\"/>\n",
       " <meta content=\"ZzhVyEFwb7w3e0-uOTltm8Jsck2F5StVihD0exw2fsA\" name=\"google-site-verification\"/>\n",
       " <meta content=\"GXs5KoUUkNCoaAZn7wPN-t01Pywp9M3sEjnt_3_ZWPc\" name=\"google-site-verification\"/>\n",
       " <meta content=\"collector.githubapp.com\" name=\"octolytics-host\"><meta content=\"github\" name=\"octolytics-app-id\"><meta content=\"https://collector.githubapp.com/github-external/browser_event\" name=\"octolytics-event-url\">\n",
       " <meta content=\"github.com\" name=\"hostname\"/>\n",
       " <meta content=\"\" name=\"user-login\"/>\n",
       " <meta content=\"github.com\" name=\"expected-hostname\"/>\n",
       " <meta content=\"MARKETPLACE_PENDING_INSTALLATIONS,AUTOCOMPLETE_EMOJIS_IN_MARKDOWN_EDITOR,ACTIONS_CONCURRENCY_UI\" name=\"enabled-features\"/>\n",
       " <meta content=\"c992fb5cbc2947fec3cf24721d7a9bda34336c5618eebcc1b8aed2bdc7368513\" http-equiv=\"x-pjax-version\"/>\n",
       " <link data-pjax-transient=\"\" href=\"https://github.com/trending/developers\" rel=\"canonical\"/>\n",
       " <meta content=\"https://api.github.com/_private/browser/stats\" name=\"browser-stats-url\"/>\n",
       " <meta content=\"https://api.github.com/_private/browser/errors\" name=\"browser-errors-url\"/>\n",
       " <meta content=\"https://api.github.com/_private/browser/optimizely_client/errors\" name=\"browser-optimizely-client-errors-url\"/>\n",
       " <link color=\"#000000\" href=\"https://github.githubassets.com/pinned-octocat.svg\" rel=\"mask-icon\"/>\n",
       " <link class=\"js-site-favicon\" href=\"https://github.githubassets.com/favicons/favicon.png\" rel=\"alternate icon\" type=\"image/png\"/>\n",
       " <link class=\"js-site-favicon\" href=\"https://github.githubassets.com/favicons/favicon.svg\" rel=\"icon\" type=\"image/svg+xml\"/>\n",
       " <meta content=\"#1e2327\" name=\"theme-color\"/>\n",
       " <meta content=\"light dark\" name=\"color-scheme\">\n",
       " <link crossorigin=\"use-credentials\" href=\"/manifest.json\" rel=\"manifest\"/>\n",
       " <meta content=\"ko\" name=\"enabled-homepage-translation-languages\"/>\n",
       " </meta></meta></meta></meta></meta></meta></meta></meta></meta></meta>,\n",
       " <meta content=\"https://github.com\" property=\"og:url\"/>,\n",
       " <meta content=\"GitHub\" property=\"og:site_name\"/>,\n",
       " <meta content=\"Build software better, together\" property=\"og:title\"/>,\n",
       " <meta content=\"GitHub is where people build software. More than 65 million people use GitHub to discover, fork, and contribute to over 200 million projects.\" property=\"og:description\"/>,\n",
       " <meta content=\"https://github.githubassets.com/images/modules/open_graph/github-logo.png\" property=\"og:image\"/>,\n",
       " <meta content=\"image/png\" property=\"og:image:type\"/>,\n",
       " <meta content=\"1200\" property=\"og:image:width\"/>,\n",
       " <meta content=\"1200\" property=\"og:image:height\"/>,\n",
       " <meta content=\"https://github.githubassets.com/images/modules/open_graph/github-mark.png\" property=\"og:image\"/>,\n",
       " <meta content=\"image/png\" property=\"og:image:type\"/>,\n",
       " <meta content=\"1200\" property=\"og:image:width\"/>,\n",
       " <meta content=\"620\" property=\"og:image:height\"/>,\n",
       " <meta content=\"https://github.githubassets.com/images/modules/open_graph/github-octocat.png\" property=\"og:image\"/>,\n",
       " <meta content=\"image/png\" property=\"og:image:type\"/>,\n",
       " <meta content=\"1200\" property=\"og:image:width\"/>,\n",
       " <meta content=\"620\" property=\"og:image:height\"/>,\n",
       " <meta content=\"github\" property=\"twitter:site\"/>,\n",
       " <meta content=\"13334762\" property=\"twitter:site:id\"/>,\n",
       " <meta content=\"github\" property=\"twitter:creator\"/>,\n",
       " <meta content=\"13334762\" property=\"twitter:creator:id\"/>,\n",
       " <meta content=\"summary_large_image\" property=\"twitter:card\"/>,\n",
       " <meta content=\"GitHub\" property=\"twitter:title\"/>,\n",
       " <meta content=\"GitHub is where people build software. More than 65 million people use GitHub to discover, fork, and contribute to over 200 million projects.\" property=\"twitter:description\"/>,\n",
       " <meta content=\"https://github.githubassets.com/images/modules/open_graph/github-logo.png\" property=\"twitter:image:src\"/>,\n",
       " <meta content=\"1200\" property=\"twitter:image:width\"/>,\n",
       " <meta content=\"1200\" property=\"twitter:image:height\"/>,\n",
       " <link href=\"https://github.githubassets.com/\" rel=\"assets\"/>,\n",
       " <meta content=\"C4FE:1406:A05F65F:A5F12B6:60ADFA49\" data-pjax-transient=\"true\" name=\"request-id\"><meta content=\"f97708f6cbbcf80117a79a4aff4427543afa525185dbb5cb31ee871fdea3e154\" data-pjax-transient=\"true\" name=\"html-safe-nonce\"><meta content=\"eyJyZWZlcnJlciI6IiIsInJlcXVlc3RfaWQiOiJDNEZFOjE0MDY6QTA1RjY1RjpBNUYxMkI2OjYwQURGQTQ5IiwidmlzaXRvcl9pZCI6IjQxODczNDUwMDM1NTEyNTkyMTAiLCJyZWdpb25fZWRnZSI6ImZyYSIsInJlZ2lvbl9yZW5kZXIiOiJmcmEifQ==\" data-pjax-transient=\"true\" name=\"visitor-payload\"><meta content=\"17a8c1c78d682142120a82a8bbfec7d56f64a1b631bf5570bfbea0f9549e9de7\" data-pjax-transient=\"true\" name=\"visitor-hmac\">\n",
       " <meta content=\"\" data-pjax-transient=\"true\" name=\"github-keyboard-shortcuts\">\n",
       " <meta data-pjax-transient=\"\" name=\"selected-link\" value=\"trending_developers\"/>\n",
       " <meta content=\"c1kuD-K2HIVF635lypcsWPoD4kilo5-jA_wBFyT4uMY\" name=\"google-site-verification\"/>\n",
       " <meta content=\"KT5gs8h0wvaagLKAVWq8bbeNwnZZK1r1XQysX3xurLU\" name=\"google-site-verification\"/>\n",
       " <meta content=\"ZzhVyEFwb7w3e0-uOTltm8Jsck2F5StVihD0exw2fsA\" name=\"google-site-verification\"/>\n",
       " <meta content=\"GXs5KoUUkNCoaAZn7wPN-t01Pywp9M3sEjnt_3_ZWPc\" name=\"google-site-verification\"/>\n",
       " <meta content=\"collector.githubapp.com\" name=\"octolytics-host\"><meta content=\"github\" name=\"octolytics-app-id\"><meta content=\"https://collector.githubapp.com/github-external/browser_event\" name=\"octolytics-event-url\">\n",
       " <meta content=\"github.com\" name=\"hostname\"/>\n",
       " <meta content=\"\" name=\"user-login\"/>\n",
       " <meta content=\"github.com\" name=\"expected-hostname\"/>\n",
       " <meta content=\"MARKETPLACE_PENDING_INSTALLATIONS,AUTOCOMPLETE_EMOJIS_IN_MARKDOWN_EDITOR,ACTIONS_CONCURRENCY_UI\" name=\"enabled-features\"/>\n",
       " <meta content=\"c992fb5cbc2947fec3cf24721d7a9bda34336c5618eebcc1b8aed2bdc7368513\" http-equiv=\"x-pjax-version\"/>\n",
       " <link data-pjax-transient=\"\" href=\"https://github.com/trending/developers\" rel=\"canonical\"/>\n",
       " <meta content=\"https://api.github.com/_private/browser/stats\" name=\"browser-stats-url\"/>\n",
       " <meta content=\"https://api.github.com/_private/browser/errors\" name=\"browser-errors-url\"/>\n",
       " <meta content=\"https://api.github.com/_private/browser/optimizely_client/errors\" name=\"browser-optimizely-client-errors-url\"/>\n",
       " <link color=\"#000000\" href=\"https://github.githubassets.com/pinned-octocat.svg\" rel=\"mask-icon\"/>\n",
       " <link class=\"js-site-favicon\" href=\"https://github.githubassets.com/favicons/favicon.png\" rel=\"alternate icon\" type=\"image/png\"/>\n",
       " <link class=\"js-site-favicon\" href=\"https://github.githubassets.com/favicons/favicon.svg\" rel=\"icon\" type=\"image/svg+xml\"/>\n",
       " <meta content=\"#1e2327\" name=\"theme-color\"/>\n",
       " <meta content=\"light dark\" name=\"color-scheme\">\n",
       " <link crossorigin=\"use-credentials\" href=\"/manifest.json\" rel=\"manifest\"/>\n",
       " <meta content=\"ko\" name=\"enabled-homepage-translation-languages\"/>\n",
       " </meta></meta></meta></meta></meta></meta></meta></meta></meta>,\n",
       " <meta content=\"f97708f6cbbcf80117a79a4aff4427543afa525185dbb5cb31ee871fdea3e154\" data-pjax-transient=\"true\" name=\"html-safe-nonce\"><meta content=\"eyJyZWZlcnJlciI6IiIsInJlcXVlc3RfaWQiOiJDNEZFOjE0MDY6QTA1RjY1RjpBNUYxMkI2OjYwQURGQTQ5IiwidmlzaXRvcl9pZCI6IjQxODczNDUwMDM1NTEyNTkyMTAiLCJyZWdpb25fZWRnZSI6ImZyYSIsInJlZ2lvbl9yZW5kZXIiOiJmcmEifQ==\" data-pjax-transient=\"true\" name=\"visitor-payload\"><meta content=\"17a8c1c78d682142120a82a8bbfec7d56f64a1b631bf5570bfbea0f9549e9de7\" data-pjax-transient=\"true\" name=\"visitor-hmac\">\n",
       " <meta content=\"\" data-pjax-transient=\"true\" name=\"github-keyboard-shortcuts\">\n",
       " <meta data-pjax-transient=\"\" name=\"selected-link\" value=\"trending_developers\"/>\n",
       " <meta content=\"c1kuD-K2HIVF635lypcsWPoD4kilo5-jA_wBFyT4uMY\" name=\"google-site-verification\"/>\n",
       " <meta content=\"KT5gs8h0wvaagLKAVWq8bbeNwnZZK1r1XQysX3xurLU\" name=\"google-site-verification\"/>\n",
       " <meta content=\"ZzhVyEFwb7w3e0-uOTltm8Jsck2F5StVihD0exw2fsA\" name=\"google-site-verification\"/>\n",
       " <meta content=\"GXs5KoUUkNCoaAZn7wPN-t01Pywp9M3sEjnt_3_ZWPc\" name=\"google-site-verification\"/>\n",
       " <meta content=\"collector.githubapp.com\" name=\"octolytics-host\"><meta content=\"github\" name=\"octolytics-app-id\"><meta content=\"https://collector.githubapp.com/github-external/browser_event\" name=\"octolytics-event-url\">\n",
       " <meta content=\"github.com\" name=\"hostname\"/>\n",
       " <meta content=\"\" name=\"user-login\"/>\n",
       " <meta content=\"github.com\" name=\"expected-hostname\"/>\n",
       " <meta content=\"MARKETPLACE_PENDING_INSTALLATIONS,AUTOCOMPLETE_EMOJIS_IN_MARKDOWN_EDITOR,ACTIONS_CONCURRENCY_UI\" name=\"enabled-features\"/>\n",
       " <meta content=\"c992fb5cbc2947fec3cf24721d7a9bda34336c5618eebcc1b8aed2bdc7368513\" http-equiv=\"x-pjax-version\"/>\n",
       " <link data-pjax-transient=\"\" href=\"https://github.com/trending/developers\" rel=\"canonical\"/>\n",
       " <meta content=\"https://api.github.com/_private/browser/stats\" name=\"browser-stats-url\"/>\n",
       " <meta content=\"https://api.github.com/_private/browser/errors\" name=\"browser-errors-url\"/>\n",
       " <meta content=\"https://api.github.com/_private/browser/optimizely_client/errors\" name=\"browser-optimizely-client-errors-url\"/>\n",
       " <link color=\"#000000\" href=\"https://github.githubassets.com/pinned-octocat.svg\" rel=\"mask-icon\"/>\n",
       " <link class=\"js-site-favicon\" href=\"https://github.githubassets.com/favicons/favicon.png\" rel=\"alternate icon\" type=\"image/png\"/>\n",
       " <link class=\"js-site-favicon\" href=\"https://github.githubassets.com/favicons/favicon.svg\" rel=\"icon\" type=\"image/svg+xml\"/>\n",
       " <meta content=\"#1e2327\" name=\"theme-color\"/>\n",
       " <meta content=\"light dark\" name=\"color-scheme\">\n",
       " <link crossorigin=\"use-credentials\" href=\"/manifest.json\" rel=\"manifest\"/>\n",
       " <meta content=\"ko\" name=\"enabled-homepage-translation-languages\"/>\n",
       " </meta></meta></meta></meta></meta></meta></meta></meta>,\n",
       " <meta content=\"eyJyZWZlcnJlciI6IiIsInJlcXVlc3RfaWQiOiJDNEZFOjE0MDY6QTA1RjY1RjpBNUYxMkI2OjYwQURGQTQ5IiwidmlzaXRvcl9pZCI6IjQxODczNDUwMDM1NTEyNTkyMTAiLCJyZWdpb25fZWRnZSI6ImZyYSIsInJlZ2lvbl9yZW5kZXIiOiJmcmEifQ==\" data-pjax-transient=\"true\" name=\"visitor-payload\"><meta content=\"17a8c1c78d682142120a82a8bbfec7d56f64a1b631bf5570bfbea0f9549e9de7\" data-pjax-transient=\"true\" name=\"visitor-hmac\">\n",
       " <meta content=\"\" data-pjax-transient=\"true\" name=\"github-keyboard-shortcuts\">\n",
       " <meta data-pjax-transient=\"\" name=\"selected-link\" value=\"trending_developers\"/>\n",
       " <meta content=\"c1kuD-K2HIVF635lypcsWPoD4kilo5-jA_wBFyT4uMY\" name=\"google-site-verification\"/>\n",
       " <meta content=\"KT5gs8h0wvaagLKAVWq8bbeNwnZZK1r1XQysX3xurLU\" name=\"google-site-verification\"/>\n",
       " <meta content=\"ZzhVyEFwb7w3e0-uOTltm8Jsck2F5StVihD0exw2fsA\" name=\"google-site-verification\"/>\n",
       " <meta content=\"GXs5KoUUkNCoaAZn7wPN-t01Pywp9M3sEjnt_3_ZWPc\" name=\"google-site-verification\"/>\n",
       " <meta content=\"collector.githubapp.com\" name=\"octolytics-host\"><meta content=\"github\" name=\"octolytics-app-id\"><meta content=\"https://collector.githubapp.com/github-external/browser_event\" name=\"octolytics-event-url\">\n",
       " <meta content=\"github.com\" name=\"hostname\"/>\n",
       " <meta content=\"\" name=\"user-login\"/>\n",
       " <meta content=\"github.com\" name=\"expected-hostname\"/>\n",
       " <meta content=\"MARKETPLACE_PENDING_INSTALLATIONS,AUTOCOMPLETE_EMOJIS_IN_MARKDOWN_EDITOR,ACTIONS_CONCURRENCY_UI\" name=\"enabled-features\"/>\n",
       " <meta content=\"c992fb5cbc2947fec3cf24721d7a9bda34336c5618eebcc1b8aed2bdc7368513\" http-equiv=\"x-pjax-version\"/>\n",
       " <link data-pjax-transient=\"\" href=\"https://github.com/trending/developers\" rel=\"canonical\"/>\n",
       " <meta content=\"https://api.github.com/_private/browser/stats\" name=\"browser-stats-url\"/>\n",
       " <meta content=\"https://api.github.com/_private/browser/errors\" name=\"browser-errors-url\"/>\n",
       " <meta content=\"https://api.github.com/_private/browser/optimizely_client/errors\" name=\"browser-optimizely-client-errors-url\"/>\n",
       " <link color=\"#000000\" href=\"https://github.githubassets.com/pinned-octocat.svg\" rel=\"mask-icon\"/>\n",
       " <link class=\"js-site-favicon\" href=\"https://github.githubassets.com/favicons/favicon.png\" rel=\"alternate icon\" type=\"image/png\"/>\n",
       " <link class=\"js-site-favicon\" href=\"https://github.githubassets.com/favicons/favicon.svg\" rel=\"icon\" type=\"image/svg+xml\"/>\n",
       " <meta content=\"#1e2327\" name=\"theme-color\"/>\n",
       " <meta content=\"light dark\" name=\"color-scheme\">\n",
       " <link crossorigin=\"use-credentials\" href=\"/manifest.json\" rel=\"manifest\"/>\n",
       " <meta content=\"ko\" name=\"enabled-homepage-translation-languages\"/>\n",
       " </meta></meta></meta></meta></meta></meta></meta>,\n",
       " <meta content=\"17a8c1c78d682142120a82a8bbfec7d56f64a1b631bf5570bfbea0f9549e9de7\" data-pjax-transient=\"true\" name=\"visitor-hmac\">\n",
       " <meta content=\"\" data-pjax-transient=\"true\" name=\"github-keyboard-shortcuts\">\n",
       " <meta data-pjax-transient=\"\" name=\"selected-link\" value=\"trending_developers\"/>\n",
       " <meta content=\"c1kuD-K2HIVF635lypcsWPoD4kilo5-jA_wBFyT4uMY\" name=\"google-site-verification\"/>\n",
       " <meta content=\"KT5gs8h0wvaagLKAVWq8bbeNwnZZK1r1XQysX3xurLU\" name=\"google-site-verification\"/>\n",
       " <meta content=\"ZzhVyEFwb7w3e0-uOTltm8Jsck2F5StVihD0exw2fsA\" name=\"google-site-verification\"/>\n",
       " <meta content=\"GXs5KoUUkNCoaAZn7wPN-t01Pywp9M3sEjnt_3_ZWPc\" name=\"google-site-verification\"/>\n",
       " <meta content=\"collector.githubapp.com\" name=\"octolytics-host\"><meta content=\"github\" name=\"octolytics-app-id\"><meta content=\"https://collector.githubapp.com/github-external/browser_event\" name=\"octolytics-event-url\">\n",
       " <meta content=\"github.com\" name=\"hostname\"/>\n",
       " <meta content=\"\" name=\"user-login\"/>\n",
       " <meta content=\"github.com\" name=\"expected-hostname\"/>\n",
       " <meta content=\"MARKETPLACE_PENDING_INSTALLATIONS,AUTOCOMPLETE_EMOJIS_IN_MARKDOWN_EDITOR,ACTIONS_CONCURRENCY_UI\" name=\"enabled-features\"/>\n",
       " <meta content=\"c992fb5cbc2947fec3cf24721d7a9bda34336c5618eebcc1b8aed2bdc7368513\" http-equiv=\"x-pjax-version\"/>\n",
       " <link data-pjax-transient=\"\" href=\"https://github.com/trending/developers\" rel=\"canonical\"/>\n",
       " <meta content=\"https://api.github.com/_private/browser/stats\" name=\"browser-stats-url\"/>\n",
       " <meta content=\"https://api.github.com/_private/browser/errors\" name=\"browser-errors-url\"/>\n",
       " <meta content=\"https://api.github.com/_private/browser/optimizely_client/errors\" name=\"browser-optimizely-client-errors-url\"/>\n",
       " <link color=\"#000000\" href=\"https://github.githubassets.com/pinned-octocat.svg\" rel=\"mask-icon\"/>\n",
       " <link class=\"js-site-favicon\" href=\"https://github.githubassets.com/favicons/favicon.png\" rel=\"alternate icon\" type=\"image/png\"/>\n",
       " <link class=\"js-site-favicon\" href=\"https://github.githubassets.com/favicons/favicon.svg\" rel=\"icon\" type=\"image/svg+xml\"/>\n",
       " <meta content=\"#1e2327\" name=\"theme-color\"/>\n",
       " <meta content=\"light dark\" name=\"color-scheme\">\n",
       " <link crossorigin=\"use-credentials\" href=\"/manifest.json\" rel=\"manifest\"/>\n",
       " <meta content=\"ko\" name=\"enabled-homepage-translation-languages\"/>\n",
       " </meta></meta></meta></meta></meta></meta>,\n",
       " <meta content=\"\" data-pjax-transient=\"true\" name=\"github-keyboard-shortcuts\">\n",
       " <meta data-pjax-transient=\"\" name=\"selected-link\" value=\"trending_developers\"/>\n",
       " <meta content=\"c1kuD-K2HIVF635lypcsWPoD4kilo5-jA_wBFyT4uMY\" name=\"google-site-verification\"/>\n",
       " <meta content=\"KT5gs8h0wvaagLKAVWq8bbeNwnZZK1r1XQysX3xurLU\" name=\"google-site-verification\"/>\n",
       " <meta content=\"ZzhVyEFwb7w3e0-uOTltm8Jsck2F5StVihD0exw2fsA\" name=\"google-site-verification\"/>\n",
       " <meta content=\"GXs5KoUUkNCoaAZn7wPN-t01Pywp9M3sEjnt_3_ZWPc\" name=\"google-site-verification\"/>\n",
       " <meta content=\"collector.githubapp.com\" name=\"octolytics-host\"><meta content=\"github\" name=\"octolytics-app-id\"><meta content=\"https://collector.githubapp.com/github-external/browser_event\" name=\"octolytics-event-url\">\n",
       " <meta content=\"github.com\" name=\"hostname\"/>\n",
       " <meta content=\"\" name=\"user-login\"/>\n",
       " <meta content=\"github.com\" name=\"expected-hostname\"/>\n",
       " <meta content=\"MARKETPLACE_PENDING_INSTALLATIONS,AUTOCOMPLETE_EMOJIS_IN_MARKDOWN_EDITOR,ACTIONS_CONCURRENCY_UI\" name=\"enabled-features\"/>\n",
       " <meta content=\"c992fb5cbc2947fec3cf24721d7a9bda34336c5618eebcc1b8aed2bdc7368513\" http-equiv=\"x-pjax-version\"/>\n",
       " <link data-pjax-transient=\"\" href=\"https://github.com/trending/developers\" rel=\"canonical\"/>\n",
       " <meta content=\"https://api.github.com/_private/browser/stats\" name=\"browser-stats-url\"/>\n",
       " <meta content=\"https://api.github.com/_private/browser/errors\" name=\"browser-errors-url\"/>\n",
       " <meta content=\"https://api.github.com/_private/browser/optimizely_client/errors\" name=\"browser-optimizely-client-errors-url\"/>\n",
       " <link color=\"#000000\" href=\"https://github.githubassets.com/pinned-octocat.svg\" rel=\"mask-icon\"/>\n",
       " <link class=\"js-site-favicon\" href=\"https://github.githubassets.com/favicons/favicon.png\" rel=\"alternate icon\" type=\"image/png\"/>\n",
       " <link class=\"js-site-favicon\" href=\"https://github.githubassets.com/favicons/favicon.svg\" rel=\"icon\" type=\"image/svg+xml\"/>\n",
       " <meta content=\"#1e2327\" name=\"theme-color\"/>\n",
       " <meta content=\"light dark\" name=\"color-scheme\">\n",
       " <link crossorigin=\"use-credentials\" href=\"/manifest.json\" rel=\"manifest\"/>\n",
       " <meta content=\"ko\" name=\"enabled-homepage-translation-languages\"/>\n",
       " </meta></meta></meta></meta></meta>,\n",
       " <meta data-pjax-transient=\"\" name=\"selected-link\" value=\"trending_developers\"/>,\n",
       " <meta content=\"c1kuD-K2HIVF635lypcsWPoD4kilo5-jA_wBFyT4uMY\" name=\"google-site-verification\"/>,\n",
       " <meta content=\"KT5gs8h0wvaagLKAVWq8bbeNwnZZK1r1XQysX3xurLU\" name=\"google-site-verification\"/>,\n",
       " <meta content=\"ZzhVyEFwb7w3e0-uOTltm8Jsck2F5StVihD0exw2fsA\" name=\"google-site-verification\"/>,\n",
       " <meta content=\"GXs5KoUUkNCoaAZn7wPN-t01Pywp9M3sEjnt_3_ZWPc\" name=\"google-site-verification\"/>,\n",
       " <meta content=\"collector.githubapp.com\" name=\"octolytics-host\"><meta content=\"github\" name=\"octolytics-app-id\"><meta content=\"https://collector.githubapp.com/github-external/browser_event\" name=\"octolytics-event-url\">\n",
       " <meta content=\"github.com\" name=\"hostname\"/>\n",
       " <meta content=\"\" name=\"user-login\"/>\n",
       " <meta content=\"github.com\" name=\"expected-hostname\"/>\n",
       " <meta content=\"MARKETPLACE_PENDING_INSTALLATIONS,AUTOCOMPLETE_EMOJIS_IN_MARKDOWN_EDITOR,ACTIONS_CONCURRENCY_UI\" name=\"enabled-features\"/>\n",
       " <meta content=\"c992fb5cbc2947fec3cf24721d7a9bda34336c5618eebcc1b8aed2bdc7368513\" http-equiv=\"x-pjax-version\"/>\n",
       " <link data-pjax-transient=\"\" href=\"https://github.com/trending/developers\" rel=\"canonical\"/>\n",
       " <meta content=\"https://api.github.com/_private/browser/stats\" name=\"browser-stats-url\"/>\n",
       " <meta content=\"https://api.github.com/_private/browser/errors\" name=\"browser-errors-url\"/>\n",
       " <meta content=\"https://api.github.com/_private/browser/optimizely_client/errors\" name=\"browser-optimizely-client-errors-url\"/>\n",
       " <link color=\"#000000\" href=\"https://github.githubassets.com/pinned-octocat.svg\" rel=\"mask-icon\"/>\n",
       " <link class=\"js-site-favicon\" href=\"https://github.githubassets.com/favicons/favicon.png\" rel=\"alternate icon\" type=\"image/png\"/>\n",
       " <link class=\"js-site-favicon\" href=\"https://github.githubassets.com/favicons/favicon.svg\" rel=\"icon\" type=\"image/svg+xml\"/>\n",
       " <meta content=\"#1e2327\" name=\"theme-color\"/>\n",
       " <meta content=\"light dark\" name=\"color-scheme\">\n",
       " <link crossorigin=\"use-credentials\" href=\"/manifest.json\" rel=\"manifest\"/>\n",
       " <meta content=\"ko\" name=\"enabled-homepage-translation-languages\"/>\n",
       " </meta></meta></meta></meta>,\n",
       " <meta content=\"github\" name=\"octolytics-app-id\"><meta content=\"https://collector.githubapp.com/github-external/browser_event\" name=\"octolytics-event-url\">\n",
       " <meta content=\"github.com\" name=\"hostname\"/>\n",
       " <meta content=\"\" name=\"user-login\"/>\n",
       " <meta content=\"github.com\" name=\"expected-hostname\"/>\n",
       " <meta content=\"MARKETPLACE_PENDING_INSTALLATIONS,AUTOCOMPLETE_EMOJIS_IN_MARKDOWN_EDITOR,ACTIONS_CONCURRENCY_UI\" name=\"enabled-features\"/>\n",
       " <meta content=\"c992fb5cbc2947fec3cf24721d7a9bda34336c5618eebcc1b8aed2bdc7368513\" http-equiv=\"x-pjax-version\"/>\n",
       " <link data-pjax-transient=\"\" href=\"https://github.com/trending/developers\" rel=\"canonical\"/>\n",
       " <meta content=\"https://api.github.com/_private/browser/stats\" name=\"browser-stats-url\"/>\n",
       " <meta content=\"https://api.github.com/_private/browser/errors\" name=\"browser-errors-url\"/>\n",
       " <meta content=\"https://api.github.com/_private/browser/optimizely_client/errors\" name=\"browser-optimizely-client-errors-url\"/>\n",
       " <link color=\"#000000\" href=\"https://github.githubassets.com/pinned-octocat.svg\" rel=\"mask-icon\"/>\n",
       " <link class=\"js-site-favicon\" href=\"https://github.githubassets.com/favicons/favicon.png\" rel=\"alternate icon\" type=\"image/png\"/>\n",
       " <link class=\"js-site-favicon\" href=\"https://github.githubassets.com/favicons/favicon.svg\" rel=\"icon\" type=\"image/svg+xml\"/>\n",
       " <meta content=\"#1e2327\" name=\"theme-color\"/>\n",
       " <meta content=\"light dark\" name=\"color-scheme\">\n",
       " <link crossorigin=\"use-credentials\" href=\"/manifest.json\" rel=\"manifest\"/>\n",
       " <meta content=\"ko\" name=\"enabled-homepage-translation-languages\"/>\n",
       " </meta></meta></meta>,\n",
       " <meta content=\"https://collector.githubapp.com/github-external/browser_event\" name=\"octolytics-event-url\">\n",
       " <meta content=\"github.com\" name=\"hostname\"/>\n",
       " <meta content=\"\" name=\"user-login\"/>\n",
       " <meta content=\"github.com\" name=\"expected-hostname\"/>\n",
       " <meta content=\"MARKETPLACE_PENDING_INSTALLATIONS,AUTOCOMPLETE_EMOJIS_IN_MARKDOWN_EDITOR,ACTIONS_CONCURRENCY_UI\" name=\"enabled-features\"/>\n",
       " <meta content=\"c992fb5cbc2947fec3cf24721d7a9bda34336c5618eebcc1b8aed2bdc7368513\" http-equiv=\"x-pjax-version\"/>\n",
       " <link data-pjax-transient=\"\" href=\"https://github.com/trending/developers\" rel=\"canonical\"/>\n",
       " <meta content=\"https://api.github.com/_private/browser/stats\" name=\"browser-stats-url\"/>\n",
       " <meta content=\"https://api.github.com/_private/browser/errors\" name=\"browser-errors-url\"/>\n",
       " <meta content=\"https://api.github.com/_private/browser/optimizely_client/errors\" name=\"browser-optimizely-client-errors-url\"/>\n",
       " <link color=\"#000000\" href=\"https://github.githubassets.com/pinned-octocat.svg\" rel=\"mask-icon\"/>\n",
       " <link class=\"js-site-favicon\" href=\"https://github.githubassets.com/favicons/favicon.png\" rel=\"alternate icon\" type=\"image/png\"/>\n",
       " <link class=\"js-site-favicon\" href=\"https://github.githubassets.com/favicons/favicon.svg\" rel=\"icon\" type=\"image/svg+xml\"/>\n",
       " <meta content=\"#1e2327\" name=\"theme-color\"/>\n",
       " <meta content=\"light dark\" name=\"color-scheme\">\n",
       " <link crossorigin=\"use-credentials\" href=\"/manifest.json\" rel=\"manifest\"/>\n",
       " <meta content=\"ko\" name=\"enabled-homepage-translation-languages\"/>\n",
       " </meta></meta>,\n",
       " <meta content=\"github.com\" name=\"hostname\"/>,\n",
       " <meta content=\"\" name=\"user-login\"/>,\n",
       " <meta content=\"github.com\" name=\"expected-hostname\"/>,\n",
       " <meta content=\"MARKETPLACE_PENDING_INSTALLATIONS,AUTOCOMPLETE_EMOJIS_IN_MARKDOWN_EDITOR,ACTIONS_CONCURRENCY_UI\" name=\"enabled-features\"/>,\n",
       " <meta content=\"c992fb5cbc2947fec3cf24721d7a9bda34336c5618eebcc1b8aed2bdc7368513\" http-equiv=\"x-pjax-version\"/>,\n",
       " <link data-pjax-transient=\"\" href=\"https://github.com/trending/developers\" rel=\"canonical\"/>,\n",
       " <meta content=\"https://api.github.com/_private/browser/stats\" name=\"browser-stats-url\"/>,\n",
       " <meta content=\"https://api.github.com/_private/browser/errors\" name=\"browser-errors-url\"/>,\n",
       " <meta content=\"https://api.github.com/_private/browser/optimizely_client/errors\" name=\"browser-optimizely-client-errors-url\"/>,\n",
       " <link color=\"#000000\" href=\"https://github.githubassets.com/pinned-octocat.svg\" rel=\"mask-icon\"/>,\n",
       " <link class=\"js-site-favicon\" href=\"https://github.githubassets.com/favicons/favicon.png\" rel=\"alternate icon\" type=\"image/png\"/>,\n",
       " <link class=\"js-site-favicon\" href=\"https://github.githubassets.com/favicons/favicon.svg\" rel=\"icon\" type=\"image/svg+xml\"/>,\n",
       " <meta content=\"#1e2327\" name=\"theme-color\"/>,\n",
       " <meta content=\"light dark\" name=\"color-scheme\">\n",
       " <link crossorigin=\"use-credentials\" href=\"/manifest.json\" rel=\"manifest\"/>\n",
       " <meta content=\"ko\" name=\"enabled-homepage-translation-languages\"/>\n",
       " </meta>,\n",
       " <link crossorigin=\"use-credentials\" href=\"/manifest.json\" rel=\"manifest\"/>,\n",
       " <meta content=\"ko\" name=\"enabled-homepage-translation-languages\"/>]"
      ]
     },
     "execution_count": 3,
     "metadata": {},
     "output_type": "execute_result"
    }
   ],
   "source": [
    "# This is the url you will scrape in this exercise\n",
    "url = 'https://github.com/trending/developers'\n",
    "html = requests.get(url)\n",
    "soup = BeautifulSoup(html.content, \"html.parser\")\n",
    "soup.head()"
   ]
  },
  {
   "cell_type": "code",
   "execution_count": 4,
   "metadata": {},
   "outputs": [
    {
     "data": {
      "text/plain": [
       "<div class=\"col-md-6\">\n",
       "<h1 class=\"h3 lh-condensed\">\n",
       "<a data-hydro-click='{\"event_type\":\"explore.click\",\"payload\":{\"click_context\":\"TRENDING_DEVELOPERS_PAGE\",\"click_target\":\"OWNER\",\"click_visual_representation\":\"TRENDING_DEVELOPER\",\"actor_id\":null,\"record_id\":661450,\"originating_url\":\"https://github.com/trending/developers\",\"user_id\":null}}' data-hydro-click-hmac=\"e1d8cec536f9b82d0028bb84c708121d62a6a56819ee2b0771d0e95c0b7e1f4e\" data-view-component=\"true\" href=\"/arvidn\">\n",
       "            Arvid Norberg\n",
       "</a> </h1>\n",
       "<p class=\"f4 text-normal mb-1\">\n",
       "<a class=\"Link--secondary\" data-hydro-click='{\"event_type\":\"explore.click\",\"payload\":{\"click_context\":\"TRENDING_DEVELOPERS_PAGE\",\"click_target\":\"OWNER\",\"click_visual_representation\":\"TRENDING_DEVELOPER\",\"actor_id\":null,\"record_id\":661450,\"originating_url\":\"https://github.com/trending/developers\",\"user_id\":null}}' data-hydro-click-hmac=\"e1d8cec536f9b82d0028bb84c708121d62a6a56819ee2b0771d0e95c0b7e1f4e\" data-view-component=\"true\" href=\"/arvidn\">\n",
       "              arvidn\n",
       "</a> </p>\n",
       "</div>"
      ]
     },
     "execution_count": 4,
     "metadata": {},
     "output_type": "execute_result"
    }
   ],
   "source": [
    "name = soup.select(\".col-md-6\")\n",
    "name[0]"
   ]
  },
  {
   "cell_type": "code",
   "execution_count": 13,
   "metadata": {},
   "outputs": [
    {
     "data": {
      "text/plain": [
       "'Arvid Norberg (arvidn)'"
      ]
     },
     "execution_count": 13,
     "metadata": {},
     "output_type": "execute_result"
    }
   ],
   "source": [
    "tags = soup.find_all(\"div\", {\"class\":\"col-md-6\"})\n",
    "tags\n",
    "\n",
    "#tag.getText() for tag in tags \n",
    "    \n",
    "    \n",
    "\n",
    "\n",
    "#lista_palabras = [tag.getText().strip(\"\\n\") for tag in tags]\n",
    "#lista_palabras\n",
    "\n",
    "\n",
    "tags[0].text.strip(\"\\n\").strip().strip(\"\\n\")\n",
    "tags[0].select(\"a\")[0].text.strip()+ \" \" + \"(\"+name[0].select(\"a\")[1].text.strip()+\")\""
   ]
  },
  {
   "cell_type": "markdown",
   "metadata": {},
   "source": [
    "#### Display the names of the trending developers retrieved in the previous step.\n",
    "\n",
    "Your output should be a Python list of developer names. Each name should not contain any html tag.\n",
    "\n",
    "**Instructions:**\n",
    "\n",
    "1. Find out the html tag and class names used for the developer names. You can achieve this using Chrome DevTools.\n",
    "\n",
    "1. Use BeautifulSoup to extract all the html elements that contain the developer names.\n",
    "\n",
    "1. Use string manipulation techniques to replace whitespaces and linebreaks (i.e. `\\n`) in the *text* of each html element. Use a list to store the clean names.\n",
    "\n",
    "1. Print the list of names.\n",
    "\n",
    "Your output should look like below:\n",
    "\n",
    "```\n",
    "['trimstray (@trimstray)',\n",
    " 'joewalnes (JoeWalnes)',\n",
    " 'charlax (Charles-AxelDein)',\n",
    " 'ForrestKnight (ForrestKnight)',\n",
    " 'revery-ui (revery-ui)',\n",
    " 'alibaba (Alibaba)',\n",
    " 'Microsoft (Microsoft)',\n",
    " 'github (GitHub)',\n",
    " 'facebook (Facebook)',\n",
    " 'boazsegev (Bo)',\n",
    " 'google (Google)',\n",
    " 'cloudfetch',\n",
    " 'sindresorhus (SindreSorhus)',\n",
    " 'tensorflow',\n",
    " 'apache (TheApacheSoftwareFoundation)',\n",
    " 'DevonCrawford (DevonCrawford)',\n",
    " 'ARMmbed (ArmMbed)',\n",
    " 'vuejs (vuejs)',\n",
    " 'fastai (fast.ai)',\n",
    " 'QiShaoXuan (Qi)',\n",
    " 'joelparkerhenderson (JoelParkerHenderson)',\n",
    " 'torvalds (LinusTorvalds)',\n",
    " 'CyC2018',\n",
    " 'komeiji-satori (神楽坂覚々)',\n",
    " 'script-8']\n",
    " ```"
   ]
  },
  {
   "cell_type": "code",
   "execution_count": null,
   "metadata": {
    "scrolled": false
   },
   "outputs": [],
   "source": []
  },
  {
   "cell_type": "code",
   "execution_count": 17,
   "metadata": {
    "scrolled": true
   },
   "outputs": [
    {
     "data": {
      "text/plain": [
       "[]"
      ]
     },
     "execution_count": 17,
     "metadata": {},
     "output_type": "execute_result"
    }
   ],
   "source": []
  },
  {
   "cell_type": "markdown",
   "metadata": {},
   "source": [
    "#### Display the trending Python repositories in GitHub\n",
    "\n",
    "The steps to solve this problem is similar to the previous one except that you need to find out the repository names instead of developer names."
   ]
  },
  {
   "cell_type": "code",
   "execution_count": null,
   "metadata": {},
   "outputs": [],
   "source": [
    "# This is the url you will scrape in this exercise\n",
    "url = 'https://github.com/trending/python?since=daily'\n",
    "html = requests.get(url)\n",
    "soup = BeautifulSoup(html.content, \"html.parser\")"
   ]
  },
  {
   "cell_type": "code",
   "execution_count": 19,
   "metadata": {},
   "outputs": [
    {
     "data": {
      "text/plain": [
       "'Dane Mackier'"
      ]
     },
     "execution_count": 19,
     "metadata": {},
     "output_type": "execute_result"
    }
   ],
   "source": [
    "#your code\n",
    "trending = soup.find_all(\"h1\", {\"h3 lh-condensed\"})\n",
    "\n",
    "\n",
    "trending[1].get_text().strip(\"\\n\").strip()\n",
    "\n",
    "\n"
   ]
  },
  {
   "cell_type": "code",
   "execution_count": null,
   "metadata": {},
   "outputs": [],
   "source": []
  },
  {
   "cell_type": "markdown",
   "metadata": {},
   "source": [
    "#### Display all the image links from Walt Disney wikipedia page"
   ]
  },
  {
   "cell_type": "code",
   "execution_count": null,
   "metadata": {},
   "outputs": [],
   "source": [
    "# This is the url you will scrape in this exercise\n",
    "url = 'https://en.wikipedia.org/wiki/Walt_Disney'"
   ]
  },
  {
   "cell_type": "code",
   "execution_count": null,
   "metadata": {},
   "outputs": [],
   "source": [
    "#your code\n"
   ]
  },
  {
   "cell_type": "code",
   "execution_count": null,
   "metadata": {},
   "outputs": [],
   "source": []
  },
  {
   "cell_type": "markdown",
   "metadata": {},
   "source": [
    "#### Retrieve an arbitary Wikipedia page of \"Python\" and create a list of links on that page"
   ]
  },
  {
   "cell_type": "code",
   "execution_count": 21,
   "metadata": {},
   "outputs": [],
   "source": [
    "# This is the url you will scrape in this exercise\n",
    "url ='https://en.wikipedia.org/wiki/Python' \n",
    "html = requests.get(url)\n",
    "soup = BeautifulSoup(html.content, \"html.parser\")"
   ]
  },
  {
   "cell_type": "code",
   "execution_count": 54,
   "metadata": {},
   "outputs": [],
   "source": [
    "#your code\n",
    "link = soup.find_all(\"a\")"
   ]
  },
  {
   "cell_type": "code",
   "execution_count": 60,
   "metadata": {},
   "outputs": [
    {
     "data": {
      "text/plain": [
       "<a class=\"mw-jump-link\" href=\"#mw-head\">Jump to navigation</a>"
      ]
     },
     "execution_count": 60,
     "metadata": {},
     "output_type": "execute_result"
    }
   ],
   "source": [
    "link[1]"
   ]
  },
  {
   "cell_type": "markdown",
   "metadata": {},
   "source": [
    "#### Number of Titles that have changed in the United States Code since its last release point "
   ]
  },
  {
   "cell_type": "code",
   "execution_count": 72,
   "metadata": {},
   "outputs": [],
   "source": [
    "# This is the url you will scrape in this exercise\n",
    "url = 'http://uscode.house.gov/download/download.shtml'"
   ]
  },
  {
   "cell_type": "code",
   "execution_count": 73,
   "metadata": {},
   "outputs": [],
   "source": [
    "#your code\n",
    "url ='http://uscode.house.gov/download/download.shtml' \n",
    "html = requests.get(url)\n",
    "soup = BeautifulSoup(html.content, \"html.parser\")"
   ]
  },
  {
   "cell_type": "code",
   "execution_count": 74,
   "metadata": {},
   "outputs": [],
   "source": [
    "titles = soup.find_all(\"div\", {\"class\": \"usctitle\"})"
   ]
  },
  {
   "cell_type": "code",
   "execution_count": 90,
   "metadata": {},
   "outputs": [
    {
     "data": {
      "text/plain": [
       "['Title 1 - General Provisions ٭',\n",
       " 'Title 2 - The Congress',\n",
       " 'Title 3 - The President ٭',\n",
       " 'Title 4 - Flag and Seal, Seat of Government, and the States ٭',\n",
       " 'Title 5 - Government Organization and Employees ٭',\n",
       " 'Title 6 - Domestic Security',\n",
       " 'Title 7 - Agriculture',\n",
       " 'Title 8 - Aliens and Nationality',\n",
       " 'Title 9 - Arbitration ٭',\n",
       " 'Title 11 - Bankruptcy ٭',\n",
       " 'Title 12 - Banks and Banking',\n",
       " 'Title 13 - Census ٭',\n",
       " 'Title 14 - Coast Guard ٭',\n",
       " 'Title 15 - Commerce and Trade',\n",
       " 'Title 16 - Conservation',\n",
       " 'Title 17 - Copyrights ٭',\n",
       " 'Title 18 - Crimes and Criminal Procedure ٭',\n",
       " 'Title 19 - Customs Duties',\n",
       " 'Title 20 - Education',\n",
       " 'Title 21 - Food and Drugs',\n",
       " 'Title 22 - Foreign Relations and Intercourse',\n",
       " 'Title 23 - Highways ٭',\n",
       " 'Title 24 - Hospitals and Asylums',\n",
       " 'Title 25 - Indians',\n",
       " 'Title 26 - Internal Revenue Code',\n",
       " 'Title 27 - Intoxicating Liquors',\n",
       " 'Title 28 - Judiciary and Judicial Procedure ٭',\n",
       " 'Title 29 - Labor',\n",
       " 'Title 30 - Mineral Lands and Mining',\n",
       " 'Title 31 - Money and Finance ٭',\n",
       " 'Title 32 - National Guard ٭',\n",
       " 'Title 33 - Navigation and Navigable Waters',\n",
       " 'Title 34 - Crime Control and Law Enforcement',\n",
       " 'Title 35 - Patents ٭',\n",
       " 'Title 36 - Patriotic and National Observances, Ceremonies, and Organizations ٭',\n",
       " 'Title 37 - Pay and Allowances of the Uniformed Services ٭',\n",
       " \"Title 38 - Veterans' Benefits ٭\",\n",
       " 'Title 39 - Postal Service ٭',\n",
       " 'Title 40 - Public Buildings, Property, and Works ٭',\n",
       " 'Title 41 - Public Contracts ٭',\n",
       " 'Title 42 - The Public Health and Welfare',\n",
       " 'Title 43 - Public Lands',\n",
       " 'Title 44 - Public Printing and Documents ٭',\n",
       " 'Title 45 - Railroads',\n",
       " 'Title 46 - Shipping ٭',\n",
       " 'Title 47 - Telecommunications',\n",
       " 'Title 48 - Territories and Insular Possessions',\n",
       " 'Title 49 - Transportation ٭',\n",
       " 'Title 50 - War and National Defense',\n",
       " 'Title 51 - National and Commercial Space Programs ٭',\n",
       " 'Title 52 - Voting and Elections',\n",
       " 'Title 53 [Reserved]',\n",
       " 'Title 54 - National Park Service and Related Programs ٭']"
      ]
     },
     "execution_count": 90,
     "metadata": {},
     "output_type": "execute_result"
    }
   ],
   "source": [
    "titles_list = [t.getText().strip() for t in titles[2:]]\n",
    "new_list = []\n",
    "for l in titles_list:\n",
    "    if l.find(\"*\"):\n",
    "        new_list.append(l)\n",
    "    else:\n",
    "        continue\n",
    "        \n",
    "new_list "
   ]
  },
  {
   "cell_type": "markdown",
   "metadata": {},
   "source": [
    "####  20 latest earthquakes info (date, time, latitude, longitude and region name) by the EMSC as a pandas dataframe"
   ]
  },
  {
   "cell_type": "code",
   "execution_count": null,
   "metadata": {},
   "outputs": [],
   "source": [
    "# This is the url you will scrape in this exercise\n",
    "url = 'https://www.emsc-csem.org/Earthquake/'"
   ]
  },
  {
   "cell_type": "code",
   "execution_count": 91,
   "metadata": {},
   "outputs": [],
   "source": [
    "#your code\n",
    "url ='https://www.emsc-csem.org/Earthquake/'\n",
    "html = requests.get(url)\n",
    "soup = BeautifulSoup(html.content, \"html.parser\")"
   ]
  },
  {
   "cell_type": "code",
   "execution_count": 106,
   "metadata": {},
   "outputs": [
    {
     "data": {
      "text/plain": [
       "'earthquake2021-05-26\\xa0\\xa0\\xa016:13:28.004min ago11.38\\xa0N\\xa0\\xa087.07\\xa0W\\xa0\\xa010 M3.0\\xa0NEAR COAST OF NICARAGUA2021-05-26 16:15'"
      ]
     },
     "execution_count": 106,
     "metadata": {},
     "output_type": "execute_result"
    }
   ],
   "source": [
    "table = soup.find_all(\"tbody\")\n",
    "#table[\"tr\"]\n",
    "table1 = table[0].find_all(\"tr\")\n",
    "table1[0].get_text()"
   ]
  },
  {
   "cell_type": "code",
   "execution_count": null,
   "metadata": {},
   "outputs": [],
   "source": []
  },
  {
   "cell_type": "code",
   "execution_count": null,
   "metadata": {},
   "outputs": [],
   "source": []
  },
  {
   "cell_type": "code",
   "execution_count": 85,
   "metadata": {},
   "outputs": [
    {
     "name": "stdout",
     "output_type": "stream",
     "text": [
      "11\n"
     ]
    }
   ],
   "source": [
    "test_string = \"Hello from AskPython\"\n",
    "print(test_string.find('AskPython'))"
   ]
  },
  {
   "cell_type": "markdown",
   "metadata": {},
   "source": [
    "#### Display the date, days, title, city, country of next 25 hackathon events as a Pandas dataframe table"
   ]
  },
  {
   "cell_type": "code",
   "execution_count": null,
   "metadata": {},
   "outputs": [],
   "source": [
    "# This is the url you will scrape in this exercise\n",
    "url ='https://hackevents.co/hackathons'\n",
    "url_hack = 'https://hackevents.co/search/anything/anywhere/anytime' "
   ]
  },
  {
   "cell_type": "code",
   "execution_count": null,
   "metadata": {},
   "outputs": [],
   "source": [
    "#your code\n"
   ]
  },
  {
   "cell_type": "code",
   "execution_count": null,
   "metadata": {},
   "outputs": [],
   "source": []
  },
  {
   "cell_type": "markdown",
   "metadata": {},
   "source": [
    "#### List all language names and number of related articles in the order they appear in wikipedia.org"
   ]
  },
  {
   "cell_type": "code",
   "execution_count": null,
   "metadata": {},
   "outputs": [],
   "source": [
    "# This is the url you will scrape in this exercise\n",
    "url = 'https://www.wikipedia.org/'"
   ]
  },
  {
   "cell_type": "code",
   "execution_count": null,
   "metadata": {},
   "outputs": [],
   "source": [
    "#your code\n"
   ]
  },
  {
   "cell_type": "code",
   "execution_count": null,
   "metadata": {},
   "outputs": [],
   "source": []
  },
  {
   "cell_type": "markdown",
   "metadata": {},
   "source": [
    "#### A list with the different kind of datasets available in data.gov.uk "
   ]
  },
  {
   "cell_type": "code",
   "execution_count": null,
   "metadata": {},
   "outputs": [],
   "source": [
    "# This is the url you will scrape in this exercise\n",
    "url = 'https://data.gov.uk/'"
   ]
  },
  {
   "cell_type": "code",
   "execution_count": null,
   "metadata": {},
   "outputs": [],
   "source": [
    "#your code \n"
   ]
  },
  {
   "cell_type": "code",
   "execution_count": null,
   "metadata": {},
   "outputs": [],
   "source": []
  },
  {
   "cell_type": "markdown",
   "metadata": {},
   "source": [
    "#### Top 10 languages by number of native speakers stored in a Pandas Dataframe"
   ]
  },
  {
   "cell_type": "code",
   "execution_count": null,
   "metadata": {},
   "outputs": [],
   "source": [
    "# This is the url you will scrape in this exercise\n",
    "url = 'https://en.wikipedia.org/wiki/List_of_languages_by_number_of_native_speakers'"
   ]
  },
  {
   "cell_type": "code",
   "execution_count": null,
   "metadata": {},
   "outputs": [],
   "source": [
    "#your code\n"
   ]
  },
  {
   "cell_type": "code",
   "execution_count": null,
   "metadata": {},
   "outputs": [],
   "source": []
  },
  {
   "cell_type": "markdown",
   "metadata": {},
   "source": [
    "### BONUS QUESTIONS"
   ]
  },
  {
   "cell_type": "markdown",
   "metadata": {},
   "source": [
    "#### IMDB's Top 250 data (movie name, Initial release, director name and stars) as a pandas dataframe"
   ]
  },
  {
   "cell_type": "code",
   "execution_count": null,
   "metadata": {},
   "outputs": [],
   "source": [
    "# This is the url you will scrape in this exercise \n",
    "url = 'https://www.imdb.com/chart/top'"
   ]
  },
  {
   "cell_type": "code",
   "execution_count": null,
   "metadata": {},
   "outputs": [],
   "source": [
    "# your code\n"
   ]
  },
  {
   "cell_type": "code",
   "execution_count": null,
   "metadata": {},
   "outputs": [],
   "source": []
  },
  {
   "cell_type": "code",
   "execution_count": null,
   "metadata": {},
   "outputs": [],
   "source": []
  }
 ],
 "metadata": {
  "kernelspec": {
   "display_name": "Python 3",
   "language": "python",
   "name": "python3"
  },
  "language_info": {
   "codemirror_mode": {
    "name": "ipython",
    "version": 3
   },
   "file_extension": ".py",
   "mimetype": "text/x-python",
   "name": "python",
   "nbconvert_exporter": "python",
   "pygments_lexer": "ipython3",
   "version": "3.8.5"
  },
  "toc": {
   "base_numbering": 1,
   "nav_menu": {},
   "number_sections": false,
   "sideBar": true,
   "skip_h1_title": false,
   "title_cell": "Table of Contents",
   "title_sidebar": "Contents",
   "toc_cell": false,
   "toc_position": {
    "height": "calc(100% - 180px)",
    "left": "10px",
    "top": "150px",
    "width": "288px"
   },
   "toc_section_display": true,
   "toc_window_display": false
  }
 },
 "nbformat": 4,
 "nbformat_minor": 2
}
